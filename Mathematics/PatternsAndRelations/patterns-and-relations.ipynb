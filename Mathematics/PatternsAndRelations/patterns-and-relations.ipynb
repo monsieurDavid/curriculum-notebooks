{
 "cells": [
  {
   "cell_type": "code",
   "execution_count": 1,
   "metadata": {},
   "outputs": [
    {
     "data": {
      "text/html": [
       "<script>\n",
       "code_show=true; \n",
       "function code_toggle() {\n",
       " if (code_show){\n",
       " $('div.input').hide();\n",
       " } else {\n",
       " $('div.input').show();\n",
       " }\n",
       " code_show = !code_show\n",
       "} \n",
       "$( document ).ready(code_toggle);\n",
       "</script>\n",
       "The raw code for this IPython notebook is by default hidden for easier reading.\n",
       "To toggle on/off the raw code, click <a href=\"javascript:code_toggle()\">here</a>."
      ],
      "text/plain": [
       "<IPython.core.display.HTML object>"
      ]
     },
     "execution_count": 1,
     "metadata": {},
     "output_type": "execute_result"
    }
   ],
   "source": [
    "from IPython.display import HTML\n",
    "\n",
    "HTML('''<script>\n",
    "code_show=true; \n",
    "function code_toggle() {\n",
    " if (code_show){\n",
    " $('div.input').hide();\n",
    " } else {\n",
    " $('div.input').show();\n",
    " }\n",
    " code_show = !code_show\n",
    "} \n",
    "$( document ).ready(code_toggle);\n",
    "</script>\n",
    "The raw code for this IPython notebook is by default hidden for easier reading.\n",
    "To toggle on/off the raw code, click <a href=\"javascript:code_toggle()\">here</a>.''')\n"
   ]
  },
  {
   "cell_type": "code",
   "execution_count": 2,
   "metadata": {},
   "outputs": [],
   "source": [
    "# Modules\n",
    "\n",
    "import string\n",
    "import numpy as np\n",
    "import pandas as pd\n",
    "import qgrid as q\n",
    "import matplotlib.pyplot as plt\n",
    "\n",
    "# Widgets & Display modules, etc..\n",
    "\n",
    "from ipywidgets import widgets as w\n",
    "from ipywidgets import Button, Layout, widgets\n",
    "from IPython.display import display, Javascript, Markdown\n",
    "\n",
    "# grid features for interactive grids \n",
    "\n",
    "grid_features = { 'fullWidthRows': True,\n",
    "                  'syncColumnCellResize': True,\n",
    "                  'forceFitColumns': True,\n",
    "                  'rowHeight': 40,\n",
    "                  'enableColumnReorder': True,\n",
    "                  'enableTextSelectionOnCells': True,\n",
    "                  'editable': True,\n",
    "                  'filterable': False,\n",
    "                  'sortable': False,\n",
    "                  'highlightSelectedRow': True}"
   ]
  },
  {
   "cell_type": "markdown",
   "metadata": {},
   "source": [
    "\n",
    "<img src=\"./images/callysto_notebook-banner_top.png\" width=\"2000px\"/> "
   ]
  },
  {
   "cell_type": "code",
   "execution_count": 3,
   "metadata": {},
   "outputs": [
    {
     "data": {
      "text/markdown": [
       "For instructors:"
      ],
      "text/plain": [
       "<IPython.core.display.Markdown object>"
      ]
     },
     "metadata": {},
     "output_type": "display_data"
    }
   ],
   "source": [
    "from ipywidgets import Button , Layout , interact,widgets\n",
    "from IPython.display import Javascript, display\n",
    "\n",
    "# Function: executes previous cell on button widget click event and hides achievement indicators message\n",
    "\n",
    "def run_current(ev):\n",
    "    \n",
    "    display(Javascript('IPython.notebook.execute_cell_range(IPython.notebook.get_selected_index()+0,IPython.notebook.get_selected_index()+1)'))    \n",
    "    \n",
    "# Counter for toggling achievement indicator on/off\n",
    "\n",
    "button_ctr = 0\n",
    "\n",
    "# Achievement Indicators\n",
    "\n",
    "line_1 = \"#### Achievement Indicators\"\n",
    "line_2 = \"**General Outcome: **\"\n",
    "line_3 = \"* Create a table of values from a linear relation, graph the table of values, and analyze the graph to draw conclusions and solve problems\"\n",
    "\n",
    "# Use to print lines, then save in lines_list\n",
    "\n",
    "def print_lines(n):\n",
    "    \n",
    "    lines_str = \"\"\n",
    "    \n",
    "    for i in range(1,n+1):\n",
    "        lines_str = lines_str + \"line_\"+str(i)+\",\"\n",
    "        \n",
    "    lines_str = lines_str[:-1]\n",
    "\n",
    "    print(lines_str)\n",
    "    \n",
    "lines_list = [line_1,line_2,line_3]\n",
    "    \n",
    "# Show/Hide buttons\n",
    "\n",
    "ai_button_show = widgets.Button(button_style='info',description=\"Show Achievement Indicators\", layout=Layout(width='25%', height='30px') )\n",
    "ai_button_hide = widgets.Button(button_style='info',description=\"Hide Achievement Indicators\", layout=Layout(width='25%', height='30px') )\n",
    "\n",
    "display(Markdown(\"For instructors:\"))"
   ]
  },
  {
   "cell_type": "code",
   "execution_count": 41,
   "metadata": {},
   "outputs": [
    {
     "data": {
      "application/javascript": [
       "IPython.notebook.execute_cell_range(IPython.notebook.get_selected_index()+0,IPython.notebook.get_selected_index()+1)"
      ],
      "text/plain": [
       "<IPython.core.display.Javascript object>"
      ]
     },
     "metadata": {},
     "output_type": "display_data"
    },
    {
     "data": {
      "text/markdown": [
       "#### Achievement Indicators"
      ],
      "text/plain": [
       "<IPython.core.display.Markdown object>"
      ]
     },
     "metadata": {},
     "output_type": "display_data"
    },
    {
     "data": {
      "text/markdown": [
       "**General Outcome: **"
      ],
      "text/plain": [
       "<IPython.core.display.Markdown object>"
      ]
     },
     "metadata": {},
     "output_type": "display_data"
    },
    {
     "data": {
      "text/markdown": [
       "* Create a table of values from a linear relation, graph the table of values, and analyze the graph to draw conclusions and solve problems"
      ],
      "text/plain": [
       "<IPython.core.display.Markdown object>"
      ]
     },
     "metadata": {},
     "output_type": "display_data"
    },
    {
     "data": {
      "application/vnd.jupyter.widget-view+json": {
       "model_id": "e1b3c526e0be47bb94b96b5a158a8505",
       "version_major": 2,
       "version_minor": 0
      },
      "text/html": [
       "<p>Failed to display Jupyter Widget of type <code>Button</code>.</p>\n",
       "<p>\n",
       "  If you're reading this message in the Jupyter Notebook or JupyterLab Notebook, it may mean\n",
       "  that the widgets JavaScript is still loading. If this message persists, it\n",
       "  likely means that the widgets JavaScript library is either not installed or\n",
       "  not enabled. See the <a href=\"https://ipywidgets.readthedocs.io/en/stable/user_install.html\">Jupyter\n",
       "  Widgets Documentation</a> for setup instructions.\n",
       "</p>\n",
       "<p>\n",
       "  If you're reading this message in another frontend (for example, a static\n",
       "  rendering on GitHub or <a href=\"https://nbviewer.jupyter.org/\">NBViewer</a>),\n",
       "  it may mean that your frontend doesn't currently support widgets.\n",
       "</p>\n"
      ],
      "text/plain": [
       "Button(button_style='info', description='Hide Achievement Indicators', layout=Layout(height='30px', width='25%'), style=ButtonStyle())"
      ]
     },
     "metadata": {},
     "output_type": "display_data"
    }
   ],
   "source": [
    "button_ctr += 1\n",
    "\n",
    "if(button_ctr % 2 == 0):\n",
    "\n",
    "    for line in lines_list:\n",
    "        display(Markdown(line))\n",
    "    \n",
    "    display(ai_button_hide)\n",
    "    ai_button_hide.on_click( run_current )\n",
    "    \n",
    "else:\n",
    "\n",
    "    display(ai_button_show)\n",
    "    ai_button_show.on_click( run_current )"
   ]
  },
  {
   "cell_type": "code",
   "execution_count": 5,
   "metadata": {},
   "outputs": [],
   "source": [
    "# Import libraires\n",
    "import matplotlib.pyplot as plt\n",
    "import pandas as pd\n",
    "import numpy as np\n",
    "import operator\n",
    "import qgrid as q\n",
    "from ipywidgets import widgets\n",
    "from ipywidgets import Button, Layout,interact_manual,interact\n",
    "from IPython.display import display, Javascript, Markdown\n",
    "import numpy as np\n",
    "from mpl_toolkits.mplot3d import Axes3D\n",
    "from ipywidgets import widgets as w\n",
    "from ipywidgets import Button, Layout\n",
    "from IPython.display import display, Javascript, Markdown"
   ]
  },
  {
   "cell_type": "markdown",
   "metadata": {},
   "source": [
    "<h1 align='center'>Patterns & Relations</h1>\n",
    "\n",
    "<h4 align = 'center'> $\\mid$ Grade 7 $\\mid$ Math $\\mid$</h4>\n",
    "\n",
    "<h2 align='center'>Introduction</h2>\n",
    "\n",
    "In this notebook we will learn what an ordered pair is and how we can use a table of values to represent them. We will work with simple linear equations (relations) and tabulate values for them. \n",
    "\n",
    "We will also learn what a plane and coordinate plane are and explore the relationship between an equation and a coordinate plane is. \n",
    "\n",
    "We will then have an opportunity to practice the concepts we learned via a set of exercises that will help us build and plot a few points for a given linear relation. \n",
    "\n",
    "This notebook is one in a series of notebooks that explore the use patterns to describe the world and to solve problems. Please refer to notebook CC-63 for specific outcome 1. "
   ]
  },
  {
   "cell_type": "markdown",
   "metadata": {},
   "source": [
    "We begin with a few definitions. \n",
    "\n",
    "<div class=\"alert alert-warning\">\n",
    "<font color=\"black\"><b>Definition.</b> An **ordered pair** $(n_1,n_2)$ is a pair of numbers where *order* matters. \n",
    "  </font>\n",
    "</div>\n",
    "\n",
    "For example, the pair $(1,2)$ is different from the pair $(2,1)$.\n",
    "\n",
    "<div class=\"alert alert-warning\">\n",
    "<font color=\"black\"><b>Definition.</b> An **equation** (also referred to as a **relation**) is an expression  asserting that two quantities are equal.\n",
    "  </font>\n",
    "</div>\n",
    "\n",
    "For example, \n",
    "\n",
    "$y = x + 2$ \n",
    "\n",
    "$y = 3x$\n",
    "\n",
    "$y = 2$\n",
    "\n",
    "are all equations.\n",
    "\n",
    "<div class=\"alert alert-warning\">\n",
    "<font color=\"black\"><b>Definition.</b> An **linear equation** (or **linear relation**) is an equation of the form $$y = ax + b$$, where $a,b$ are fixed values. \n",
    "  </font>\n",
    "</div>\n",
    "\n",
    "For example,\n",
    "\n",
    "| a | b|Linear Relation   |\n",
    "|---|--|-----------|\n",
    "|1|2|$$y = x + 2$$|\n",
    "| 3 |1|$$y = 3x + 1$$|\n",
    "|5|0|$$y = 5x$$  |\n",
    "|0|0|$$y = 0$$|\n",
    "\n",
    "<div class=\"alert alert-warning\">\n",
    "<font color=\"black\"><b>Definition.</b> A **table of values** is a set of ordered pairs usually resulting from substituting numbers into an equation.   </font>\n",
    "</div>\n",
    "\n",
    "For example, if we consider the equation \n",
    "\n",
    "$$y = x + 1$$\n",
    "\n",
    "and the values $x = 1,2,3$, the table of values corresponds to\n",
    "\n",
    "| Value for x | Value for y|Ordered Pair (x,y)|\n",
    "|---|--|-----|\n",
    "|1|2|(1,2)|\n",
    "|2|3|(2,3)|\n",
    "|3|4|(3,4)|\n",
    "\n",
    "Let us illustrate this with an example you can interact with.\n"
   ]
  },
  {
   "cell_type": "markdown",
   "metadata": {},
   "source": [
    "<h2 align='center'>Interactive Example: Generating a table of values from a linear relation</h2>\n",
    "\n",
    "Let us take the relation\n",
    "\n",
    "$$y = x + 3$$\n",
    "\n",
    "and suppose that $x$ is an integer. We can then obtain different values for $y$, depending on the value of $x$. \n",
    "\n",
    "Then, if we consider the following values for x:\n",
    "\n",
    "|         |  |  |  |\n",
    "|---------|--|--|--|\n",
    "| x = ||0|1|2|3|4|5|\n",
    "\n",
    "We can substitute each in the equation to obtain a new value of y. \n",
    "\n",
    "**Activity**\n",
    "\n",
    "Let us try all entries to illustrate. Using the widget below change the value of $x$. What is the value for $y$ as $x$ changes?\n"
   ]
  },
  {
   "cell_type": "code",
   "execution_count": 6,
   "metadata": {
    "scrolled": false
   },
   "outputs": [
    {
     "data": {
      "application/vnd.jupyter.widget-view+json": {
       "model_id": "0b2a6fe261d04d318037fbf64184aa32",
       "version_major": 2,
       "version_minor": 0
      },
      "text/html": [
       "<p>Failed to display Jupyter Widget of type <code>interactive</code>.</p>\n",
       "<p>\n",
       "  If you're reading this message in the Jupyter Notebook or JupyterLab Notebook, it may mean\n",
       "  that the widgets JavaScript is still loading. If this message persists, it\n",
       "  likely means that the widgets JavaScript library is either not installed or\n",
       "  not enabled. See the <a href=\"https://ipywidgets.readthedocs.io/en/stable/user_install.html\">Jupyter\n",
       "  Widgets Documentation</a> for setup instructions.\n",
       "</p>\n",
       "<p>\n",
       "  If you're reading this message in another frontend (for example, a static\n",
       "  rendering on GitHub or <a href=\"https://nbviewer.jupyter.org/\">NBViewer</a>),\n",
       "  it may mean that your frontend doesn't currently support widgets.\n",
       "</p>\n"
      ],
      "text/plain": [
       "interactive(children=(IntSlider(value=0, continuous_update=False, description='Value for x', max=5, style=SliderStyle(description_width='initial')), Output()), _dom_classes=('widget-interact',))"
      ]
     },
     "metadata": {},
     "output_type": "display_data"
    }
   ],
   "source": [
    "\n",
    "%matplotlib inline\n",
    "style = {'description_width': 'initial'}\n",
    "@interact(x_value=widgets.IntSlider(value=0,\n",
    "            min=0,\n",
    "            max=5,\n",
    "            step=1,\n",
    "            description='Value for x',\n",
    "            disabled=False,\n",
    "            continuous_update=False,\n",
    "            orientation='horizontal',\n",
    "            readout=True,\n",
    "            readout_format='d',\n",
    "            style =style\n",
    "))\n",
    "\n",
    "def plug_and_play(x_value):\n",
    "    fig = plt.figure(figsize=(16,5))\n",
    "\n",
    "    ax1 = fig.add_subplot(1, 3, 1)\n",
    "    ax2 = fig.add_subplot(1, 3, 2)\n",
    "    ax3 = fig.add_subplot(1, 3, 3)\n",
    "\n",
    "    ax1.text(0.4,0.5,\"x = \" + str(x_value),fontsize=30)\n",
    "    ax2.text(0.34,0.7,\"y = x + 3\",fontsize=30)\n",
    "    ax2.text(0.34,0.5,\"y =\" + str(x_value) + \" + 3\",fontsize=30)\n",
    "    ax2.text(0.34,0.3,\"y =\" + str(x_value + 3),fontsize=30)\n",
    "    ax3.text(0.4,0.5,\"(\" + str(x_value) + \",\" + str(x_value + 3) + \")\",fontsize=30)\n",
    "    ax1.set_title(\"Value for x\",fontsize=30)\n",
    "    ax2.set_title(\"Value for y\",fontsize=30)\n",
    "    ax3.set_title(\"Ordered Pair\",fontsize=30)\n",
    "    ax1.set_xticklabels([]),ax1.set_yticklabels([])\n",
    "    ax2.set_xticklabels([]),ax2.set_yticklabels([])\n",
    "    ax3.set_xticklabels([]),ax3.set_yticklabels([])\n",
    "    ax1.axis(\"Off\"),ax2.axis(\"Off\"),ax3.axis(\"Off\")\n",
    "    plt.show()\n"
   ]
  },
  {
   "cell_type": "markdown",
   "metadata": {},
   "source": [
    "**Question**\n",
    "\n",
    "Knowing that the linear relation is $y = x + 3$, what is the value for y, when $x = 2$? Use the widget above to help you find the answer."
   ]
  },
  {
   "cell_type": "code",
   "execution_count": 7,
   "metadata": {},
   "outputs": [
    {
     "data": {
      "application/vnd.jupyter.widget-view+json": {
       "model_id": "1649503d9f124770a86469aab1419b46",
       "version_major": 2,
       "version_minor": 0
      },
      "text/html": [
       "<p>Failed to display Jupyter Widget of type <code>interactive</code>.</p>\n",
       "<p>\n",
       "  If you're reading this message in the Jupyter Notebook or JupyterLab Notebook, it may mean\n",
       "  that the widgets JavaScript is still loading. If this message persists, it\n",
       "  likely means that the widgets JavaScript library is either not installed or\n",
       "  not enabled. See the <a href=\"https://ipywidgets.readthedocs.io/en/stable/user_install.html\">Jupyter\n",
       "  Widgets Documentation</a> for setup instructions.\n",
       "</p>\n",
       "<p>\n",
       "  If you're reading this message in another frontend (for example, a static\n",
       "  rendering on GitHub or <a href=\"https://nbviewer.jupyter.org/\">NBViewer</a>),\n",
       "  it may mean that your frontend doesn't currently support widgets.\n",
       "</p>\n"
      ],
      "text/plain": [
       "interactive(children=(Select(description='y value', options=('Select option', '2', '10', '3', '5'), style=DescriptionStyle(description_width='initial'), value='Select option'), Output()), _dom_classes=('widget-interact',))"
      ]
     },
     "metadata": {},
     "output_type": "display_data"
    }
   ],
   "source": [
    "s = {'description_width': 'initial'}        \n",
    "\n",
    "from ipywidgets import interact_manual\n",
    "def question_q(answer):\n",
    "    if answer==\"Select option\":\n",
    "        print(\"Click on the correct value for y.\")\n",
    "    \n",
    "    elif answer==\"5\":\n",
    "        ret=\"Correct!\"\n",
    "        return ret\n",
    "    elif answer != \"5\" or answer != \"Select Option\":\n",
    "        ret = \"Not quite.Recall y = x + 3. We know x = 2. What does 2 + 3 equal to?\"\n",
    "        return ret\n",
    "answer_q = interact(question_q,answer=widgets.Select(\n",
    "                    options=[\"Select option\",\"2\",\\\n",
    "                            \"10\",\"3\",\\\n",
    "                             \"5\"],\n",
    "                    value='Select option',\n",
    "                    description=\"y value\",\n",
    "                    disabled=False,\n",
    "                    style=s\n",
    "))"
   ]
  },
  {
   "cell_type": "markdown",
   "metadata": {},
   "source": [
    "**Question**\n",
    "\n",
    "Using the correct answer above, what is the corresponding ordered pair? Recall that an ordered pair is of the form $(x,y)$."
   ]
  },
  {
   "cell_type": "code",
   "execution_count": 8,
   "metadata": {},
   "outputs": [
    {
     "data": {
      "application/vnd.jupyter.widget-view+json": {
       "model_id": "8089ed9306fb490cacd1a9dc0f8962c9",
       "version_major": 2,
       "version_minor": 0
      },
      "text/html": [
       "<p>Failed to display Jupyter Widget of type <code>interactive</code>.</p>\n",
       "<p>\n",
       "  If you're reading this message in the Jupyter Notebook or JupyterLab Notebook, it may mean\n",
       "  that the widgets JavaScript is still loading. If this message persists, it\n",
       "  likely means that the widgets JavaScript library is either not installed or\n",
       "  not enabled. See the <a href=\"https://ipywidgets.readthedocs.io/en/stable/user_install.html\">Jupyter\n",
       "  Widgets Documentation</a> for setup instructions.\n",
       "</p>\n",
       "<p>\n",
       "  If you're reading this message in another frontend (for example, a static\n",
       "  rendering on GitHub or <a href=\"https://nbviewer.jupyter.org/\">NBViewer</a>),\n",
       "  it may mean that your frontend doesn't currently support widgets.\n",
       "</p>\n"
      ],
      "text/plain": [
       "interactive(children=(Select(description='Ordered pair (x,y)', options=('Select option', '(2,5)', '(2,1)', '(5,2)', '(5,3)'), style=DescriptionStyle(description_width='initial'), value='Select option'), Output()), _dom_classes=('widget-interact',))"
      ]
     },
     "metadata": {},
     "output_type": "display_data"
    }
   ],
   "source": [
    "s = {'description_width': 'initial'}        \n",
    "\n",
    "from ipywidgets import interact_manual\n",
    "def question_q(answer):\n",
    "    if answer==\"Select option\":\n",
    "        print(\"Click on the correct ordered pair (x,y).\")\n",
    "    \n",
    "    elif answer==\"(2,5)\":\n",
    "        ret=\"Correct!\"\n",
    "        return ret\n",
    "    elif answer != \"(2,5)\" or answer != \"Select Option\":\n",
    "        ret = \"Not quite.Recall x = 2, y = 5. The correct ordered pair is of the form (x,y).\"\n",
    "        return ret\n",
    "answer_q = interact(question_q,answer=widgets.Select(\n",
    "                    options=[\"Select option\",\"(2,5)\",\\\n",
    "                            \"(2,1)\",\"(5,2)\",\\\n",
    "                             \"(5,3)\"],\n",
    "                    value='Select option',\n",
    "                    description=\"Ordered pair (x,y)\",\n",
    "                    disabled=False,\n",
    "                    style=s\n",
    "))"
   ]
  },
  {
   "cell_type": "markdown",
   "metadata": {},
   "source": [
    "Memorizing all different values for $x$ and $y$ is unnecessary. \n",
    "\n",
    "We can organize the $x,y$ values along with the corresponding pairs $(x,y)$ in a table as follows."
   ]
  },
  {
   "cell_type": "code",
   "execution_count": 9,
   "metadata": {},
   "outputs": [
    {
     "data": {
      "application/vnd.jupyter.widget-view+json": {
       "model_id": "3128e0b3430a47359f1e1b8c691a9134",
       "version_major": 2,
       "version_minor": 0
      },
      "text/html": [
       "<p>Failed to display Jupyter Widget of type <code>QgridWidget</code>.</p>\n",
       "<p>\n",
       "  If you're reading this message in the Jupyter Notebook or JupyterLab Notebook, it may mean\n",
       "  that the widgets JavaScript is still loading. If this message persists, it\n",
       "  likely means that the widgets JavaScript library is either not installed or\n",
       "  not enabled. See the <a href=\"https://ipywidgets.readthedocs.io/en/stable/user_install.html\">Jupyter\n",
       "  Widgets Documentation</a> for setup instructions.\n",
       "</p>\n",
       "<p>\n",
       "  If you're reading this message in another frontend (for example, a static\n",
       "  rendering on GitHub or <a href=\"https://nbviewer.jupyter.org/\">NBViewer</a>),\n",
       "  it may mean that your frontend doesn't currently support widgets.\n",
       "</p>\n"
      ],
      "text/plain": [
       "QgridWidget(grid_options={'fullWidthRows': False, 'syncColumnCellResize': True, 'forceFitColumns': True, 'defaultColumnWidth': 150, 'rowHeight': 40, 'enableColumnReorder': True, 'enableTextSelectionOnCells': True, 'editable': False, 'autoEdit': False, 'explicitInitialization': True, 'maxVisibleRows': 15, 'minVisibleRows': 8, 'sortable': False, 'filterable': False, 'highlightSelectedCell': False, 'highlightSelectedRow': True}, precision=5)"
      ]
     },
     "metadata": {},
     "output_type": "display_data"
    }
   ],
   "source": [
    "### Create dataframe\n",
    "\n",
    "#df_num_rows = int(dropdown_widget.value)\n",
    "\n",
    "grid_features = { 'fullWidthRows': False,\n",
    "                  'syncColumnCellResize': True,\n",
    "                  'forceFitColumns': True,\n",
    "                  'rowHeight': 40,\n",
    "                  'enableColumnReorder': True,\n",
    "                  'enableTextSelectionOnCells': True,\n",
    "                  'editable': False,\n",
    "                  'filterable': False,\n",
    "                  'sortable': False,\n",
    "                  'highlightSelectedRow': True}\n",
    "\n",
    "\n",
    "# Set up data input for dataframe\n",
    "\n",
    "x_values = np.array([0,1,2,3,4])\n",
    "y_values = x_values + 3\n",
    "ordered = [(x_values[i],y_values[i]) for i in range(len(x_values))]\n",
    "y_equals = [\"y = \" + str(x_values[i]) + \"+3\" for i in range(len(x_values))]\n",
    "\n",
    "\n",
    "df_num_rows = len(x_values)\n",
    "empty_list = [ '' for i in range(df_num_rows) ] \n",
    "category_list = [ i+1 for i in range(df_num_rows) ] \n",
    "\n",
    "\n",
    "df_dict = {'Entry Number':category_list,\\\n",
    "           'Values for x': empty_list, 'y = x + 3':empty_list,'Values for y': empty_list,\\\n",
    "          'Ordered pairs': empty_list}\n",
    "feature_list = ['Entry Number','Values for x','y = x + 3','Values for y','Ordered pairs']\n",
    "student_df = pd.DataFrame(data = df_dict,columns=feature_list)\n",
    "\n",
    "student_df.set_index('Entry Number',inplace=True)\n",
    "student_df[\"Values for y\"] = y_values\n",
    "student_df[\"Values for x\"] = x_values\n",
    "student_df[\"y = x + 3\"] = y_equals\n",
    "student_df[\"Ordered pairs\"] = ordered\n",
    "\n",
    "# Set up & display as Qgrid\n",
    "q_student_df = q.show_grid( student_df , grid_options = grid_features )\n",
    "display(q_student_df)\n"
   ]
  },
  {
   "cell_type": "markdown",
   "metadata": {},
   "source": [
    "Once we compute a few ordered pairs, we can represent them visually. We define the following two concepts. \n",
    "\n",
    "\n",
    "<div class=\"alert alert-warning\">\n",
    "<font color=\"black\"><b>Definition.</b> A **plane** is a flat surface that extends infinitely in all directions.\n",
    "  </font>\n",
    "</div>"
   ]
  },
  {
   "cell_type": "code",
   "execution_count": 10,
   "metadata": {},
   "outputs": [
    {
     "data": {
      "image/png": "[encoded data removed]",
      "text/plain": [
       "<matplotlib.figure.Figure at 0x7f5980825e80>"
      ]
     },
     "metadata": {},
     "output_type": "display_data"
    }
   ],
   "source": [
    "\n",
    "\n",
    "\n",
    "point  = np.array([1, 1, 1])\n",
    "normal = np.array([0, 0, 1])\n",
    "\n",
    "# a plane is a*x+b*y+c*z+d=0\n",
    "# [a,b,c] is the normal. Thus, we have to calculate\n",
    "# d and we're set\n",
    "d = -point.dot(normal)\n",
    "\n",
    "# create x,y\n",
    "xx, yy = np.meshgrid(range(10), range(10))\n",
    "\n",
    "# calculate corresponding z\n",
    "z = (-normal[0] * xx - normal[1] * yy - d) * 1. /normal[2]\n",
    "\n",
    "# plot the surface\n",
    "plt3d = plt.figure(figsize=(15,10)).gca(projection='3d')\n",
    "\n",
    "\n",
    "plt3d.plot_surface(xx, yy, z,color=\"#518900\",edgecolor=\"white\")\n",
    "plt3d.grid(False)\n",
    "plt3d.axis(\"Off\")\n",
    "plt.show()"
   ]
  },
  {
   "cell_type": "markdown",
   "metadata": {},
   "source": [
    "<div class=\"alert alert-warning\">\n",
    "<font color=\"black\"><b>Definition.</b> A **coordinate plane** is a plane formed by a horizontal number line (the x-axis) and a vertical number line (the y-axis) that intersect at a point called the origin.\n",
    "  </font>\n",
    "</div>\n",
    "\n",
    "We can plot points on the coordinate plane. We use ordered pairs to encode information on where points are located. \n",
    "\n",
    "Recall that an ordered pair is of the form $(x,y)$. The first entry on the pair denotes how far from the origin along the x-axis the point is, the second entry denotes how far from the origin along the y-axis the point is. \n",
    "\n",
    "Let's see a simple example for the ordered pair $(1,4)$.\n"
   ]
  },
  {
   "cell_type": "code",
   "execution_count": 11,
   "metadata": {},
   "outputs": [
    {
     "data": {
      "image/png": "[encoded data removed]",
      "text/plain": [
       "<matplotlib.figure.Figure at 0x7f598084dcc0>"
      ]
     },
     "metadata": {},
     "output_type": "display_data"
    }
   ],
   "source": [
    "fig = plt.figure(figsize=(16,5))\n",
    "ax1 = fig.add_subplot(1, 3, 1)\n",
    "ax2 = fig.add_subplot(1, 3, 2)\n",
    "ax3 = fig.add_subplot(1, 3, 3)\n",
    "ax2.set_xticks(np.arange(-5,6)),ax2.set_yticks(np.arange(-5,6))\n",
    "ax2.set_xlim(0,5)\n",
    "ax2.set_ylim(0,5)\n",
    "ax1.axis(\"Off\"),ax2.axis(\"On\"),ax3.axis(\"Off\")\n",
    "ax2.axhline(y=0, color='blue')\n",
    "ax2.axvline(x=0, color='blue')\n",
    "ax2.text(5.1,0.1,\"x-axis\",fontsize=20)\n",
    "ax2.text(0.1,5.1,\"y-axis\",fontsize=20)\n",
    "ax2.grid(True)\n",
    "x_value,y_value = 1,4\n",
    "x_or,y_or = 0,0\n",
    "ax2.scatter(x_value,y_value,color=\"black\",s=120)\n",
    "ax2.scatter(x_or,y_or,color=\"black\",s=220)\n",
    "ax2.text(x_value + 0.1,y_value + 0.5,\"(\" +str(x_value) + \",\" + str(y_value)  +  \")\")\n",
    "ax2.text(x_or + 0.1,y_or + 0.3,\"origin\")\n",
    "    \n",
    "ax2.plot([-5,x_value], [y_value,y_value], color='green', marker='o', linestyle='dashed',\n",
    "        linewidth=2, markersize=2)\n",
    "ax2.plot([x_value,x_value], [-5,y_value], color='green', marker='o', linestyle='dashed',\n",
    "        linewidth=2, markersize=2)\n",
    "plt.show()"
   ]
  },
  {
   "cell_type": "markdown",
   "metadata": {},
   "source": [
    "Notice why the order matters. Indeed, if we consider the pair $(4,1)$ we see that it is different. "
   ]
  },
  {
   "cell_type": "code",
   "execution_count": 12,
   "metadata": {},
   "outputs": [
    {
     "data": {
      "image/png": "[encoded data removed]",
      "text/plain": [
       "<matplotlib.figure.Figure at 0x7f597a2dfa90>"
      ]
     },
     "metadata": {},
     "output_type": "display_data"
    }
   ],
   "source": [
    "fig = plt.figure(figsize=(16,5))\n",
    "ax1 = fig.add_subplot(1, 3, 1)\n",
    "ax2 = fig.add_subplot(1, 3, 2)\n",
    "ax3 = fig.add_subplot(1, 3, 3)\n",
    "ax2.set_xticks(np.arange(-5,6)),ax2.set_yticks(np.arange(-5,6))\n",
    "ax2.set_xlim(0,5)\n",
    "ax2.set_ylim(0,5)\n",
    "ax1.axis(\"Off\"),ax2.axis(\"On\"),ax3.axis(\"Off\")\n",
    "ax2.axhline(y=0, color='blue')\n",
    "ax2.axvline(x=0, color='blue')\n",
    "ax2.text(5.1,0.1,\"x-axis\",fontsize=20)\n",
    "ax2.text(0.1,5.1,\"y-axis\",fontsize=20)\n",
    "ax2.grid(True)\n",
    "x_value,y_value = 4,1\n",
    "x_or,y_or = 0,0\n",
    "ax2.scatter(x_value,y_value,color=\"black\",s=120)\n",
    "ax2.scatter(x_or,y_or,color=\"black\",s=220)\n",
    "ax2.text(x_value + 0.1,y_value + 0.5,\"(\" +str(x_value) + \",\" + str(y_value)  +  \")\")\n",
    "ax2.text(x_or + 0.1,y_or + 0.3,\"origin\")\n",
    "    \n",
    "ax2.plot([-5,x_value], [y_value,y_value], color='green', marker='o', linestyle='dashed',\n",
    "        linewidth=2, markersize=2)\n",
    "ax2.plot([x_value,x_value], [-5,y_value], color='green', marker='o', linestyle='dashed',\n",
    "        linewidth=2, markersize=2)\n",
    "plt.show()"
   ]
  },
  {
   "cell_type": "markdown",
   "metadata": {},
   "source": [
    "Let us take the table we computed previously for the relation\n",
    "\n",
    "$$y = x  +3$$\n",
    "\n",
    "along with the ordered pairs we computed. \n",
    "\n",
    "We can then represent the ordered pairs in the coordinate plane. \n",
    "\n",
    "**Activity**\n",
    "\n",
    "Use the widget below to see the relationship between the different ordered pairs and the points on the coordinate plane. "
   ]
  },
  {
   "cell_type": "code",
   "execution_count": 13,
   "metadata": {},
   "outputs": [],
   "source": [
    "%matplotlib inline"
   ]
  },
  {
   "cell_type": "code",
   "execution_count": 14,
   "metadata": {},
   "outputs": [
    {
     "data": {
      "application/vnd.jupyter.widget-view+json": {
       "model_id": "bc3a40cbeb8149e59d95bb4fc081a48b",
       "version_major": 2,
       "version_minor": 0
      },
      "text/html": [
       "<p>Failed to display Jupyter Widget of type <code>interactive</code>.</p>\n",
       "<p>\n",
       "  If you're reading this message in the Jupyter Notebook or JupyterLab Notebook, it may mean\n",
       "  that the widgets JavaScript is still loading. If this message persists, it\n",
       "  likely means that the widgets JavaScript library is either not installed or\n",
       "  not enabled. See the <a href=\"https://ipywidgets.readthedocs.io/en/stable/user_install.html\">Jupyter\n",
       "  Widgets Documentation</a> for setup instructions.\n",
       "</p>\n",
       "<p>\n",
       "  If you're reading this message in another frontend (for example, a static\n",
       "  rendering on GitHub or <a href=\"https://nbviewer.jupyter.org/\">NBViewer</a>),\n",
       "  it may mean that your frontend doesn't currently support widgets.\n",
       "</p>\n"
      ],
      "text/plain": [
       "interactive(children=(IntSlider(value=0, continuous_update=False, description='Value for x', max=5, style=SliderStyle(description_width='initial')), Output()), _dom_classes=('widget-interact',))"
      ]
     },
     "metadata": {},
     "output_type": "display_data"
    }
   ],
   "source": [
    "@interact(x_value=widgets.IntSlider(value=0,\n",
    "            min=0,\n",
    "            max=5,\n",
    "            step=1,\n",
    "            description='Value for x',\n",
    "            disabled=False,\n",
    "            continuous_update=False,\n",
    "            orientation='horizontal',\n",
    "            readout=True,\n",
    "            readout_format='d',\n",
    "            style =style\n",
    "))\n",
    "\n",
    "\n",
    "def show_points(x_value):\n",
    "    x_values = np.array([0,1,2,3,4,5])\n",
    "    y_values = x_values + 3\n",
    "\n",
    "    fig = plt.figure()\n",
    "    plt.subplots_adjust(left=14, bottom=0.2, right=16, top=1.5,\n",
    "                wspace=0.1, hspace=0.2)\n",
    "    ax1 = fig.add_subplot(1, 2, 1)\n",
    "\n",
    "\n",
    "    ax1.text(0.1,0.8,\"x = \" + str(x_value),fontsize=20)\n",
    "    ax1.text(0.1,0.6,\"y = \" + str(x_value) +\"+ 3 = \"  + str(x_value + 3),fontsize=20)\n",
    "    ax1.text(0.1,0.4,\"Ordered pair (\" + str(x_value) +\",\"  + str(x_value + 3) + \")\",fontsize=20)\n",
    "    ax1.set_title(\"Values for x and y\", fontsize=25)\n",
    "    ax2 = fig.add_subplot(1, 2, 2)\n",
    "    ax2.set_xticks(np.arange(-6,11)),ax2.set_yticks(np.arange(-6,11))\n",
    "    ax2.set_xlim(0,6)\n",
    "    ax2.set_ylim(0,9)\n",
    "    ax1.axis(\"Off\"),ax2.axis(\"On\")\n",
    "    ax2.axhline(y=0, color='blue')\n",
    "    ax2.axvline(x=0, color='blue')\n",
    "    ax2.text(6.5,0.2,\"x-axis\",fontsize=20)\n",
    "    ax2.text(0.5,9.5,\"y-axis\",fontsize=20)\n",
    "    ax2.grid(True)\n",
    "# for i in range(len(x_values)):                                       \n",
    "#     ax2.text(x_values[i] - 0.5,y_values[i]-0.7,\"(\" + str(x_values[i]) + \",\" + str(y_values[i]) + \")\") \n",
    "    points = ax2.scatter(x_values,y_values,color=\"black\",s=60)\n",
    "    ax2.scatter(x_value,x_value + 3,color=\"red\",s=120)\n",
    "    #datacursor(points)\n",
    "\n",
    "    plt.show()\n"
   ]
  },
  {
   "cell_type": "markdown",
   "metadata": {},
   "source": [
    "### <h4>Conclusion</h4>\n",
    "\n",
    "From this graph we conclude that the relation between $x$ and $y$ is linear. This makes sense given the equation is of the form \n",
    "\n",
    "$$y = ax + b$$\n",
    "\n",
    "where $a,b$ are integers and in this particular case, $a = 1, b =3$. \n",
    "\n",
    "Points which are of interest are the intersection between $y$ and the x-axis as well as $x$ and the $y$ axis. The former happens exactly when $y = 0$ while the latter occurs when $x=0$.\n",
    "\n",
    "We observe that $y$ does not intersect the x axis for positive values of $x$. We also observe that $x$ intersects the y-axis when $x=0$. Such intersection can be observed in the ordered pair $(0,3)$."
   ]
  },
  {
   "cell_type": "code",
   "execution_count": 15,
   "metadata": {},
   "outputs": [],
   "source": [
    "# Create button and dropdown widget\n",
    "def rerun_cell( b ):\n",
    "    \n",
    "    display(Javascript('IPython.notebook.execute_cell_range(IPython.notebook.get_selected_index()+1,IPython.notebook.get_selected_index()+2)'))   \n",
    "style = {'description_width': 'initial'}\n",
    "\n",
    "number_of_cat = 13\n",
    "dropdown_options = [ str(i+1) for i in range(number_of_cat) ] \n",
    "dropdown_widget = widgets.Dropdown( options = dropdown_options , value = '3' , description = 'Number of entries' , disabled=False,style=style )\n",
    "\n",
    "categories_button = widgets.Button(button_style='info',description=\"Enter\", layout=Layout(width='15%', height='30px'))\n",
    "\n",
    "# Display widgets\n",
    "\n",
    "#display(dropdown_widget)\n",
    "#display(categories_button)\n",
    "\n",
    "#categories_button.on_click( rerun_cell ) "
   ]
  },
  {
   "cell_type": "markdown",
   "metadata": {},
   "source": [
    "<h2 align='center'>Practice Area</h2>\n",
    "\n",
    "<h4>Exercise</h4>\n",
    "\n",
    "We will repeat a similar exercise as above, only this time, we will use a different linear relation. \n",
    "\n",
    "$$y = 2x +4$$\n",
    "\n",
    "Let us begin by building a simple table. \n",
    "\n",
    "Answer the questions below to complete a similar table. \n",
    "\n",
    "### Question 1\n",
    "\n",
    "Knowing that $y = 2x + 4$, what is the value of $y$ when $x = 3$? In other words, what does $2(3) + 4$ equal to?"
   ]
  },
  {
   "cell_type": "code",
   "execution_count": 16,
   "metadata": {},
   "outputs": [
    {
     "data": {
      "application/vnd.jupyter.widget-view+json": {
       "model_id": "e1bc21eb23a14dc89d9ed8acf3c7f2cb",
       "version_major": 2,
       "version_minor": 0
      },
      "text/html": [
       "<p>Failed to display Jupyter Widget of type <code>interactive</code>.</p>\n",
       "<p>\n",
       "  If you're reading this message in the Jupyter Notebook or JupyterLab Notebook, it may mean\n",
       "  that the widgets JavaScript is still loading. If this message persists, it\n",
       "  likely means that the widgets JavaScript library is either not installed or\n",
       "  not enabled. See the <a href=\"https://ipywidgets.readthedocs.io/en/stable/user_install.html\">Jupyter\n",
       "  Widgets Documentation</a> for setup instructions.\n",
       "</p>\n",
       "<p>\n",
       "  If you're reading this message in another frontend (for example, a static\n",
       "  rendering on GitHub or <a href=\"https://nbviewer.jupyter.org/\">NBViewer</a>),\n",
       "  it may mean that your frontend doesn't currently support widgets.\n",
       "</p>\n"
      ],
      "text/plain": [
       "interactive(children=(Select(description='y value', options=('Select option', '1', '10', '3', '0'), style=DescriptionStyle(description_width='initial'), value='Select option'), Output()), _dom_classes=('widget-interact',))"
      ]
     },
     "metadata": {},
     "output_type": "display_data"
    }
   ],
   "source": [
    "s = {'description_width': 'initial'}        \n",
    "\n",
    "from ipywidgets import interact_manual\n",
    "def question_q(answer):\n",
    "    if answer==\"Select option\":\n",
    "        print(\"Click on the correct value of y.\")\n",
    "    \n",
    "    elif answer==\"10\":\n",
    "        ret=\"Correct!\"\n",
    "        return ret\n",
    "    elif answer != \"10\" or answer != \"Select Option\":\n",
    "        ret = \"You are close to the answer but need to improve your result.Recall 2(3) = 6. What does 6 + 4 equal to?\"\n",
    "        return ret\n",
    "answer_q = interact(question_q,answer=widgets.Select(\n",
    "                    options=[\"Select option\",\"1\",\\\n",
    "                            \"10\",\"3\",\\\n",
    "                             \"0\"],\n",
    "                    value='Select option',\n",
    "                    description=\"y value\",\n",
    "                    disabled=False,\n",
    "                    style=s\n",
    "))"
   ]
  },
  {
   "cell_type": "markdown",
   "metadata": {},
   "source": [
    "### Question 2\n",
    "\n",
    "Knowing that $y = 2x + 4$, what is the value of $y$ when $x=0$?"
   ]
  },
  {
   "cell_type": "code",
   "execution_count": 17,
   "metadata": {},
   "outputs": [
    {
     "data": {
      "application/vnd.jupyter.widget-view+json": {
       "model_id": "bee4327f52a147fc9a1c13e3702334ea",
       "version_major": 2,
       "version_minor": 0
      },
      "text/html": [
       "<p>Failed to display Jupyter Widget of type <code>interactive</code>.</p>\n",
       "<p>\n",
       "  If you're reading this message in the Jupyter Notebook or JupyterLab Notebook, it may mean\n",
       "  that the widgets JavaScript is still loading. If this message persists, it\n",
       "  likely means that the widgets JavaScript library is either not installed or\n",
       "  not enabled. See the <a href=\"https://ipywidgets.readthedocs.io/en/stable/user_install.html\">Jupyter\n",
       "  Widgets Documentation</a> for setup instructions.\n",
       "</p>\n",
       "<p>\n",
       "  If you're reading this message in another frontend (for example, a static\n",
       "  rendering on GitHub or <a href=\"https://nbviewer.jupyter.org/\">NBViewer</a>),\n",
       "  it may mean that your frontend doesn't currently support widgets.\n",
       "</p>\n"
      ],
      "text/plain": [
       "interactive(children=(Select(description='y value', options=('Select option', '-1', '10', '4', '0'), style=DescriptionStyle(description_width='initial'), value='Select option'), Output()), _dom_classes=('widget-interact',))"
      ]
     },
     "metadata": {},
     "output_type": "display_data"
    }
   ],
   "source": [
    "s = {'description_width': 'initial'}        \n",
    "\n",
    "from ipywidgets import interact_manual\n",
    "def question_p(answer):\n",
    "    if answer==\"Select option\":\n",
    "        print(\"Click on the correct value of y.\")\n",
    "    \n",
    "    elif answer==\"4\":\n",
    "        ret=\"Correct!\"\n",
    "        return ret\n",
    "    elif answer != \"4\" or answer != \"Select Option\":\n",
    "        ret = \"You are close to the answer but need to improve your result.Recall y = x + 4. What does 0 + 4 equal to?\"\n",
    "        return ret\n",
    "answer_p = interact(question_p,answer=widgets.Select(\n",
    "                    options=[\"Select option\",\"-1\",\\\n",
    "                            \"10\",\"4\",\\\n",
    "                             \"0\"],\n",
    "                    value='Select option',\n",
    "                    description=\"y value\",\n",
    "                    disabled=False,\n",
    "                    style=s\n",
    "))"
   ]
  },
  {
   "cell_type": "markdown",
   "metadata": {},
   "source": [
    "### Question 3\n",
    "\n",
    "What is the ordered pair obtained when $x = 2$? "
   ]
  },
  {
   "cell_type": "code",
   "execution_count": 18,
   "metadata": {},
   "outputs": [
    {
     "data": {
      "application/vnd.jupyter.widget-view+json": {
       "model_id": "2fe7454075ce4e589ac15639aef036a3",
       "version_major": 2,
       "version_minor": 0
      },
      "text/html": [
       "<p>Failed to display Jupyter Widget of type <code>interactive</code>.</p>\n",
       "<p>\n",
       "  If you're reading this message in the Jupyter Notebook or JupyterLab Notebook, it may mean\n",
       "  that the widgets JavaScript is still loading. If this message persists, it\n",
       "  likely means that the widgets JavaScript library is either not installed or\n",
       "  not enabled. See the <a href=\"https://ipywidgets.readthedocs.io/en/stable/user_install.html\">Jupyter\n",
       "  Widgets Documentation</a> for setup instructions.\n",
       "</p>\n",
       "<p>\n",
       "  If you're reading this message in another frontend (for example, a static\n",
       "  rendering on GitHub or <a href=\"https://nbviewer.jupyter.org/\">NBViewer</a>),\n",
       "  it may mean that your frontend doesn't currently support widgets.\n",
       "</p>\n"
      ],
      "text/plain": [
       "interactive(children=(Select(description='Ordered pair (x,y)', options=('Select option', '(2,6)', '(2,8)', '(8,2)', '(2,-2)'), style=DescriptionStyle(description_width='initial'), value='Select option'), Output()), _dom_classes=('widget-interact',))"
      ]
     },
     "metadata": {},
     "output_type": "display_data"
    }
   ],
   "source": [
    "s = {'description_width': 'initial'}        \n",
    "\n",
    "from ipywidgets import interact_manual\n",
    "def question_s(answer):\n",
    "    if answer==\"Select option\":\n",
    "        print(\"Click on the correct ordered pair (x,y)\")\n",
    "    \n",
    "    elif answer==\"(2,8)\":\n",
    "        ret=\"Correct!\"\n",
    "        return ret\n",
    "    elif answer != \"(2,8)\" or answer != \"Select Option\":\n",
    "        ret = \"You are close to the answer but need to improve your result.We know y = 8 and x = 2. We also know an ordered pair is of the form (x,y).\"\n",
    "        return ret\n",
    "answer_s = interact(question_s,answer=widgets.Select(\n",
    "                    options=[\"Select option\",\"(2,6)\",\\\n",
    "                            \"(2,8)\",\"(8,2)\",\\\n",
    "                             \"(2,-2)\"],\n",
    "                    value='Select option',\n",
    "                    description=\"Ordered pair (x,y)\",\n",
    "                    disabled=False,\n",
    "                    style=s\n",
    "))"
   ]
  },
  {
   "cell_type": "code",
   "execution_count": 19,
   "metadata": {
    "scrolled": false
   },
   "outputs": [],
   "source": [
    "def math_function(relation,x_val):\n",
    "\n",
    "    y_val = relation[\"+\"](relation[\"Coef1\"]*x_val,relation[\"Coef2\"])\n",
    "\n",
    "    return y_val\n",
    "\n",
    "\n",
    "def table_of_values_quad(range_val,relation):\n",
    "\n",
    "    empty_list = [ '' for i in range(range_val + 1) ] \n",
    "    category_list = [ i+1 for i in range(range_val + 1) ] \n",
    "\n",
    "# Set up data input for dataframe\n",
    "\n",
    "    df_dict = {'Entry Number':category_list,\\\n",
    "           'Values for x': empty_list, \\\n",
    "               'y ='+ str(relation['Coef1']) + \"x + \" \\\n",
    "               + str(relation['Coef2']):empty_list,\\\n",
    "               'Values for y': empty_list,\\\n",
    "          'Ordered pairs': empty_list}\n",
    "    \n",
    "    \n",
    "    feature_list = ['Entry Number','Values for x',\\\n",
    "                    'y ='+ str(relation['Coef1']) \\\n",
    "                    + \"x + \" + str(relation['Coef2']),\\\n",
    "    'Values for y','Ordered pairs']\n",
    "    \n",
    "    student_df = pd.DataFrame(data = df_dict,columns=feature_list)\n",
    "\n",
    "    student_df.set_index('Entry Number',inplace=True)\n",
    "\n",
    "    \n",
    "    x_values = np.array(np.arange(range_val+1))\n",
    "    y_values = math_function(relation,x_values)\n",
    "    ordered = [(x_values[i],y_values[i]) for i in range(range_val+1)]\n",
    "    \n",
    "    \n",
    "    y_equals = [\"y = \" + str(relation['Coef1']) +\"(\" + str(x_values[i])  + \")\" \\\n",
    "                + \"+\" + str(relation['Coef2'])  \n",
    "                 for i in range(len(x_values))]\n",
    "\n",
    "    student_df[\"Values for y\"] = y_values\n",
    "    student_df[\"Values for x\"] = x_values\n",
    "    student_df['y ='+ str(relation['Coef1']) + \\\n",
    "               \"x + \" + str(relation['Coef2'])] = y_equals\n",
    "    student_df[\"Ordered pairs\"] = ordered\n",
    "\n",
    "    q_student_df = q.show_grid( student_df , grid_options = grid_features )\n",
    "    display(q_student_df)"
   ]
  },
  {
   "cell_type": "code",
   "execution_count": 20,
   "metadata": {},
   "outputs": [],
   "source": [
    "\n",
    "\n",
    "def generate_tab(value):\n",
    "    if value==True:\n",
    "        if \"Correct!\" in str(answer_p.widget.children)\\\n",
    "        and \"Correct!\" in str(answer_q.widget.children)\\\n",
    "        and \"Correct!\" in str(answer_s.widget.children):\n",
    "            relation_ar = {\"Coef1\":2,\"Coef2\":4,\"+\": operator.add}\n",
    "            table_of_values_quad(4,relation_ar)\n",
    "        else:\n",
    "            print(\"At least one of your answers is not correct. Compare your answers with the table.\")\n",
    "            relation_ar = {\"Coef1\":2,\"Coef2\":4,\"+\": operator.add}\n",
    "            table_of_values_quad(4,relation_ar)\n",
    "\n",
    "    "
   ]
  },
  {
   "cell_type": "code",
   "execution_count": 21,
   "metadata": {},
   "outputs": [
    {
     "data": {
      "application/vnd.jupyter.widget-view+json": {
       "model_id": "7a2a4dd3dbb1410dafb4346ea7fc2d81",
       "version_major": 2,
       "version_minor": 0
      },
      "text/html": [
       "<p>Failed to display Jupyter Widget of type <code>interactive</code>.</p>\n",
       "<p>\n",
       "  If you're reading this message in the Jupyter Notebook or JupyterLab Notebook, it may mean\n",
       "  that the widgets JavaScript is still loading. If this message persists, it\n",
       "  likely means that the widgets JavaScript library is either not installed or\n",
       "  not enabled. See the <a href=\"https://ipywidgets.readthedocs.io/en/stable/user_install.html\">Jupyter\n",
       "  Widgets Documentation</a> for setup instructions.\n",
       "</p>\n",
       "<p>\n",
       "  If you're reading this message in another frontend (for example, a static\n",
       "  rendering on GitHub or <a href=\"https://nbviewer.jupyter.org/\">NBViewer</a>),\n",
       "  it may mean that your frontend doesn't currently support widgets.\n",
       "</p>\n"
      ],
      "text/plain": [
       "interactive(children=(ToggleButton(value=False, button_style='info', description='Generate Table', icon='check', tooltip='Description'), Output()), _dom_classes=('widget-interact',))"
      ]
     },
     "metadata": {},
     "output_type": "display_data"
    }
   ],
   "source": [
    "interact(generate_tab,value = widgets.ToggleButton(\n",
    "        value=False,\n",
    "        description='Generate Table',\n",
    "        disabled=False,\n",
    "        button_style='info', # 'success', 'info', 'warning', 'danger' or ''\n",
    "        tooltip='Description',\n",
    "        icon='check'\n",
    "    ));"
   ]
  },
  {
   "cell_type": "markdown",
   "metadata": {},
   "source": [
    "### Question 4\n",
    "\n",
    "Using the information on the table and the widget below, identify and select what ordered pairs belong to the relation\n",
    "\n",
    "$$y = 2x + 4$$\n",
    "\n",
    "Select one of the four following options. The correct answer will plot all points, the incorrect answer will print a message. "
   ]
  },
  {
   "cell_type": "code",
   "execution_count": 22,
   "metadata": {},
   "outputs": [
    {
     "data": {
      "application/vnd.jupyter.widget-view+json": {
       "model_id": "f360a972cb894ef28e41ea5fee4430e6",
       "version_major": 2,
       "version_minor": 0
      },
      "text/html": [
       "<p>Failed to display Jupyter Widget of type <code>interactive</code>.</p>\n",
       "<p>\n",
       "  If you're reading this message in the Jupyter Notebook or JupyterLab Notebook, it may mean\n",
       "  that the widgets JavaScript is still loading. If this message persists, it\n",
       "  likely means that the widgets JavaScript library is either not installed or\n",
       "  not enabled. See the <a href=\"https://ipywidgets.readthedocs.io/en/stable/user_install.html\">Jupyter\n",
       "  Widgets Documentation</a> for setup instructions.\n",
       "</p>\n",
       "<p>\n",
       "  If you're reading this message in another frontend (for example, a static\n",
       "  rendering on GitHub or <a href=\"https://nbviewer.jupyter.org/\">NBViewer</a>),\n",
       "  it may mean that your frontend doesn't currently support widgets.\n",
       "</p>\n"
      ],
      "text/plain": [
       "interactive(children=(RadioButtons(description='Ordered Pairs:', options=('(3,11),(5,11),(2,8)', '(0,0),(1,2),(2,2)', '(3,10),(5,14),(0,4)', '(10,10),(10,8),(1,6)'), style=DescriptionStyle(description_width='initial'), value='(3,11),(5,11),(2,8)'), Output()), _dom_classes=('widget-interact',))"
      ]
     },
     "metadata": {},
     "output_type": "display_data"
    }
   ],
   "source": [
    "def plot_answer(relation):\n",
    "    x_values = np.array([0,1,2,3,4])\n",
    "    y_values = relation[\"Coef1\"]*x_values + relation[\"Coef2\"]\n",
    "\n",
    "    fig = plt.figure()\n",
    "    plt.subplots_adjust(left=14, bottom=0.2, right=16, top=1.5,\n",
    "                wspace=0.1, hspace=0.2)\n",
    "    ax2 = fig.add_subplot(1, 1, 1)\n",
    "\n",
    "    ax2.set_xticks(np.arange(-6,11))\n",
    "    ax2.set_yticks(np.arange(-6,relation[\"Coef1\"]*x_values[-1] + relation[\"Coef2\"]+2))\n",
    "    ax2.set_xlim(0,5)\n",
    "    ax2.set_ylim(0,relation[\"Coef1\"]*x_values[-1] + relation[\"Coef2\"]+1)\n",
    "    ax2.text(x_values[-1] + 1,0.001,\"x-axis\",fontsize=20)\n",
    "    ax2.text(0.1,y_values[-1] + 1,\"y-axis\",fontsize=20)\n",
    "    ax2.grid(True)\n",
    "# for i in range(len(x_values)):                                       \n",
    "#     ax2.text(x_values[i] - 0.5,y_values[i]-0.7,\"(\" + str(x_values[i]) + \",\" + str(y_values[i]) + \")\") \n",
    "    points = ax2.scatter(x_values,y_values,color=\"black\",s=60)\n",
    "    #ax2.scatter(x_value,x_value + 3,color=\"red\",s=120)\n",
    "    #datacursor(points)\n",
    "\n",
    "    plt.show()\n",
    "def choose_points(value):\n",
    "    if value==\"(3,10),(5,14),(0,4)\":\n",
    "        print(\"Correct!\")\n",
    "        rel = {\"Coef1\":2,\"Coef2\":4,\"+\": operator.add}\n",
    "        plot_answer(rel)\n",
    "    else:\n",
    "        print(\"Those do not look like the ordered pairs in our table. Try again.\")\n",
    "\n",
    "interact(choose_points,\n",
    "    value = widgets.RadioButtons(\n",
    "    options=[\n",
    "             \"(3,11),(5,11),(2,8)\",\\\n",
    "            \"(0,0),(1,2),(2,2)\",\\\n",
    "            \"(3,10),(5,14),(0,4)\",\\\n",
    "            \"(10,10),(10,8),(1,6)\"],\n",
    "#     value='pineapple',\n",
    "    description='Ordered Pairs:',\n",
    "    disabled=False,\n",
    "        style = style\n",
    "));"
   ]
  },
  {
   "cell_type": "markdown",
   "metadata": {},
   "source": [
    "### Question 5: Conclusions\n",
    "\n",
    "What can you conclude from the table above? Use the following statements to guide your answer and add any other observations you make. \n",
    "\n",
    "| Statement |\n",
    "|-----------|\n",
    "|The relation between $x$ and $y$ is linear|\n",
    "|There is an intersection between the y-axis and $x$ at the ordered pair ... |\n",
    "|There is an intersection between the x-axis and $y$ at the ordered pair ... |\n"
   ]
  },
  {
   "cell_type": "code",
   "execution_count": 23,
   "metadata": {},
   "outputs": [
    {
     "data": {
      "application/vnd.jupyter.widget-view+json": {
       "model_id": "7b51f932d01b4283b296ef1437c4c07e",
       "version_major": 2,
       "version_minor": 0
      },
      "text/html": [
       "<p>Failed to display Jupyter Widget of type <code>Textarea</code>.</p>\n",
       "<p>\n",
       "  If you're reading this message in the Jupyter Notebook or JupyterLab Notebook, it may mean\n",
       "  that the widgets JavaScript is still loading. If this message persists, it\n",
       "  likely means that the widgets JavaScript library is either not installed or\n",
       "  not enabled. See the <a href=\"https://ipywidgets.readthedocs.io/en/stable/user_install.html\">Jupyter\n",
       "  Widgets Documentation</a> for setup instructions.\n",
       "</p>\n",
       "<p>\n",
       "  If you're reading this message in another frontend (for example, a static\n",
       "  rendering on GitHub or <a href=\"https://nbviewer.jupyter.org/\">NBViewer</a>),\n",
       "  it may mean that your frontend doesn't currently support widgets.\n",
       "</p>\n"
      ],
      "text/plain": [
       "Textarea(value='', layout=Layout(height='75px', width='100%'), placeholder='Write your answer here. Press Record Answer when you finish.')"
      ]
     },
     "metadata": {},
     "output_type": "display_data"
    },
    {
     "data": {
      "application/vnd.jupyter.widget-view+json": {
       "model_id": "04dd47cad93545c68394f4597b7711b2",
       "version_major": 2,
       "version_minor": 0
      },
      "text/html": [
       "<p>Failed to display Jupyter Widget of type <code>Button</code>.</p>\n",
       "<p>\n",
       "  If you're reading this message in the Jupyter Notebook or JupyterLab Notebook, it may mean\n",
       "  that the widgets JavaScript is still loading. If this message persists, it\n",
       "  likely means that the widgets JavaScript library is either not installed or\n",
       "  not enabled. See the <a href=\"https://ipywidgets.readthedocs.io/en/stable/user_install.html\">Jupyter\n",
       "  Widgets Documentation</a> for setup instructions.\n",
       "</p>\n",
       "<p>\n",
       "  If you're reading this message in another frontend (for example, a static\n",
       "  rendering on GitHub or <a href=\"https://nbviewer.jupyter.org/\">NBViewer</a>),\n",
       "  it may mean that your frontend doesn't currently support widgets.\n",
       "</p>\n"
      ],
      "text/plain": [
       "Button(button_style='info', description='Record Answer', layout=Layout(height='30px', width='15%'), style=ButtonStyle())"
      ]
     },
     "metadata": {},
     "output_type": "display_data"
    }
   ],
   "source": [
    "\n",
    "emma1_text = widgets.Textarea( value='', placeholder='Write your answer here. Press Record Answer when you finish.', description='', disabled=False , layout=Layout(width='100%', height='75px') )\n",
    "emma1_button = widgets.Button(button_style='info',description=\"Record Answer\", layout=Layout(width='15%', height='30px'))\n",
    "\n",
    "display(emma1_text)\n",
    "display(emma1_button)\n",
    "\n",
    "emma1_button.on_click( rerun_cell ) "
   ]
  },
  {
   "cell_type": "code",
   "execution_count": 24,
   "metadata": {},
   "outputs": [],
   "source": [
    "emma1_input = emma1_text.value\n",
    "\n",
    "if(emma1_input != ''):\n",
    "    \n",
    "    emma1_text.close()\n",
    "    emma1_button.close()\n",
    "    display(Markdown(\"### Your answer for Question 6: Conclusions\"))\n",
    "    display(Markdown(emma1_input))"
   ]
  },
  {
   "cell_type": "markdown",
   "metadata": {},
   "source": [
    "<h2 align='center'>Experiment</h2>\n",
    "\n",
    "In this section you will have an opportunity to explore linear relations parameterized by you, to create their respective tables of values and to plot the ordered pairs. In the end, use what you learned in this notebook to make observations about your findings.\n",
    "\n",
    "Recall that a linear equation is of the form\n",
    "\n",
    "$$y = ax + b$$\n",
    "\n",
    "Use the widget below to choose new values for $a,b$. "
   ]
  },
  {
   "cell_type": "code",
   "execution_count": 25,
   "metadata": {},
   "outputs": [
    {
     "data": {
      "application/vnd.jupyter.widget-view+json": {
       "model_id": "058408b9ce044d45855d3d373655a851",
       "version_major": 2,
       "version_minor": 0
      },
      "text/html": [
       "<p>Failed to display Jupyter Widget of type <code>interactive</code>.</p>\n",
       "<p>\n",
       "  If you're reading this message in the Jupyter Notebook or JupyterLab Notebook, it may mean\n",
       "  that the widgets JavaScript is still loading. If this message persists, it\n",
       "  likely means that the widgets JavaScript library is either not installed or\n",
       "  not enabled. See the <a href=\"https://ipywidgets.readthedocs.io/en/stable/user_install.html\">Jupyter\n",
       "  Widgets Documentation</a> for setup instructions.\n",
       "</p>\n",
       "<p>\n",
       "  If you're reading this message in another frontend (for example, a static\n",
       "  rendering on GitHub or <a href=\"https://nbviewer.jupyter.org/\">NBViewer</a>),\n",
       "  it may mean that your frontend doesn't currently support widgets.\n",
       "</p>\n"
      ],
      "text/plain": [
       "interactive(children=(IntSlider(value=0, continuous_update=False, description='Value for a', max=15, style=SliderStyle(description_width='initial')), IntSlider(value=0, continuous_update=False, description='Value for b', max=15, style=SliderStyle(description_width='initial')), Output()), _dom_classes=('widget-interact',))"
      ]
     },
     "metadata": {},
     "output_type": "display_data"
    }
   ],
   "source": [
    "def choose(a,b):\n",
    "    print(\"Equation: \" +  str(a) + \"x + \" + str(b))\n",
    "    return [a,b]\n",
    "\n",
    "coeff = interact(choose,a=widgets.IntSlider(value=0,\n",
    "            min=0,\n",
    "            max=15,\n",
    "            step=1,\n",
    "            description='Value for a',\n",
    "            disabled=False,\n",
    "            continuous_update=False,\n",
    "            orientation='horizontal',\n",
    "            readout=True,\n",
    "            readout_format='d',\n",
    "            style =style)\n",
    ",b=widgets.IntSlider(value=0,\n",
    "            min=0,\n",
    "            max=15,\n",
    "            step=1,\n",
    "            description='Value for b',\n",
    "            disabled=False,\n",
    "            continuous_update=False,\n",
    "            orientation='horizontal',\n",
    "            readout=True,\n",
    "            readout_format='d',\n",
    "            style =style));"
   ]
  },
  {
   "cell_type": "code",
   "execution_count": 26,
   "metadata": {},
   "outputs": [
    {
     "data": {
      "application/vnd.jupyter.widget-view+json": {
       "model_id": "8bb7a448bb294f4ab65357e4e75d2915",
       "version_major": 2,
       "version_minor": 0
      },
      "text/html": [
       "<p>Failed to display Jupyter Widget of type <code>Button</code>.</p>\n",
       "<p>\n",
       "  If you're reading this message in the Jupyter Notebook or JupyterLab Notebook, it may mean\n",
       "  that the widgets JavaScript is still loading. If this message persists, it\n",
       "  likely means that the widgets JavaScript library is either not installed or\n",
       "  not enabled. See the <a href=\"https://ipywidgets.readthedocs.io/en/stable/user_install.html\">Jupyter\n",
       "  Widgets Documentation</a> for setup instructions.\n",
       "</p>\n",
       "<p>\n",
       "  If you're reading this message in another frontend (for example, a static\n",
       "  rendering on GitHub or <a href=\"https://nbviewer.jupyter.org/\">NBViewer</a>),\n",
       "  it may mean that your frontend doesn't currently support widgets.\n",
       "</p>\n"
      ],
      "text/plain": [
       "Button(button_style='info', description='Generate Table of Values and Plot', layout=Layout(height='30px', width='25%'), style=ButtonStyle())"
      ]
     },
     "metadata": {},
     "output_type": "display_data"
    }
   ],
   "source": [
    "\n",
    "\n",
    "def rerun_cell( b ):\n",
    "    \n",
    "    display(Javascript('IPython.notebook.execute_cell_range(IPython.notebook.get_selected_index()+1,IPython.notebook.get_selected_index()+3)'))    \n",
    "table_button = widgets.Button(button_style='info',description=\"Generate Table of Values and Plot\", layout=Layout(width='25%', height='30px'))\n",
    "display(table_button)\n",
    "\n",
    "table_button.on_click( rerun_cell ) "
   ]
  },
  {
   "cell_type": "code",
   "execution_count": 27,
   "metadata": {},
   "outputs": [
    {
     "data": {
      "application/vnd.jupyter.widget-view+json": {
       "model_id": "adcbcc8b9d8a4a62b79933e9bd0357ed",
       "version_major": 2,
       "version_minor": 0
      },
      "text/html": [
       "<p>Failed to display Jupyter Widget of type <code>QgridWidget</code>.</p>\n",
       "<p>\n",
       "  If you're reading this message in the Jupyter Notebook or JupyterLab Notebook, it may mean\n",
       "  that the widgets JavaScript is still loading. If this message persists, it\n",
       "  likely means that the widgets JavaScript library is either not installed or\n",
       "  not enabled. See the <a href=\"https://ipywidgets.readthedocs.io/en/stable/user_install.html\">Jupyter\n",
       "  Widgets Documentation</a> for setup instructions.\n",
       "</p>\n",
       "<p>\n",
       "  If you're reading this message in another frontend (for example, a static\n",
       "  rendering on GitHub or <a href=\"https://nbviewer.jupyter.org/\">NBViewer</a>),\n",
       "  it may mean that your frontend doesn't currently support widgets.\n",
       "</p>\n"
      ],
      "text/plain": [
       "QgridWidget(grid_options={'fullWidthRows': False, 'syncColumnCellResize': True, 'forceFitColumns': True, 'defaultColumnWidth': 150, 'rowHeight': 40, 'enableColumnReorder': True, 'enableTextSelectionOnCells': True, 'editable': False, 'autoEdit': False, 'explicitInitialization': True, 'maxVisibleRows': 15, 'minVisibleRows': 8, 'sortable': False, 'filterable': False, 'highlightSelectedCell': False, 'highlightSelectedRow': True}, precision=5)"
      ]
     },
     "metadata": {},
     "output_type": "display_data"
    }
   ],
   "source": [
    "relation_ar = {\"Coef1\":coeff.widget.kwargs['a'],\"Coef2\":coeff.widget.kwargs['b'],\"+\": operator.add}\n",
    "table_of_values_quad(4,relation_ar)"
   ]
  },
  {
   "cell_type": "code",
   "execution_count": 28,
   "metadata": {},
   "outputs": [
    {
     "data": {
      "image/png": "[encoded data removed]",
      "text/plain": [
       "<matplotlib.figure.Figure at 0x7f59786c2240>"
      ]
     },
     "metadata": {},
     "output_type": "display_data"
    }
   ],
   "source": [
    "plot_answer(relation_ar)"
   ]
  },
  {
   "cell_type": "markdown",
   "metadata": {},
   "source": [
    "<h2 align='center'>Interactive Example: Find the relation from a table of values</h2>\n",
    "\n",
    "What if, instead of knowing what the relation is, we are only given a table of values or a plot? \n",
    "\n",
    "If we know that the values belong to a linear relation, this along with the values is enough to determine what the relation is. \n",
    "\n",
    "Consider the table and the plotted ordered pairs below. "
   ]
  },
  {
   "cell_type": "code",
   "execution_count": 29,
   "metadata": {
    "scrolled": false
   },
   "outputs": [
    {
     "data": {
      "application/vnd.jupyter.widget-view+json": {
       "model_id": "cc14b32f6c334e4bac1b281dae2cc177",
       "version_major": 2,
       "version_minor": 0
      },
      "text/html": [
       "<p>Failed to display Jupyter Widget of type <code>QgridWidget</code>.</p>\n",
       "<p>\n",
       "  If you're reading this message in the Jupyter Notebook or JupyterLab Notebook, it may mean\n",
       "  that the widgets JavaScript is still loading. If this message persists, it\n",
       "  likely means that the widgets JavaScript library is either not installed or\n",
       "  not enabled. See the <a href=\"https://ipywidgets.readthedocs.io/en/stable/user_install.html\">Jupyter\n",
       "  Widgets Documentation</a> for setup instructions.\n",
       "</p>\n",
       "<p>\n",
       "  If you're reading this message in another frontend (for example, a static\n",
       "  rendering on GitHub or <a href=\"https://nbviewer.jupyter.org/\">NBViewer</a>),\n",
       "  it may mean that your frontend doesn't currently support widgets.\n",
       "</p>\n"
      ],
      "text/plain": [
       "QgridWidget(grid_options={'fullWidthRows': False, 'syncColumnCellResize': True, 'forceFitColumns': True, 'defaultColumnWidth': 150, 'rowHeight': 40, 'enableColumnReorder': True, 'enableTextSelectionOnCells': True, 'editable': False, 'autoEdit': False, 'explicitInitialization': True, 'maxVisibleRows': 15, 'minVisibleRows': 8, 'sortable': False, 'filterable': False, 'highlightSelectedCell': False, 'highlightSelectedRow': True}, precision=5)"
      ]
     },
     "metadata": {},
     "output_type": "display_data"
    }
   ],
   "source": [
    "def tabulate_to_eq(relation):\n",
    "    x_values = np.array([0,1,2,3,4])\n",
    "    y_values = relation[\"Coef1\"]*x_values + relation[\"Coef2\"]\n",
    "    ordered = [(x_values[i],y_values[i]) for i in range(len(x_values))]\n",
    "\n",
    "\n",
    "    df_num_rows = len(x_values)\n",
    "    empty_list = [ '' for i in range(df_num_rows) ] \n",
    "    category_list = [ i+1 for i in range(df_num_rows) ] \n",
    "\n",
    "\n",
    "    df_dict_2 = {'Entry Number':category_list,\\\n",
    "           'Values for x': empty_list,'Values for y': empty_list,\\\n",
    "          'Ordered pairs': empty_list}\n",
    "    feature_list = ['Entry Number','Values for x','Values for y','Ordered pairs']\n",
    "    student_df_2 = pd.DataFrame(data = df_dict_2,columns=feature_list)\n",
    "\n",
    "    student_df_2.set_index('Entry Number',inplace=True)\n",
    "    student_df_2[\"Values for y\"] = y_values\n",
    "    student_df_2[\"Values for x\"] = x_values\n",
    "    student_df_2[\"Ordered pairs\"] = ordered\n",
    "\n",
    "# Set up & display as Qgrid\n",
    "    q_student_df_2 = q.show_grid( student_df_2 , grid_options = grid_features )\n",
    "    display(q_student_df_2)\n",
    "rels = {\"Coef1\":2,\"Coef2\":1,\"+\": operator.add}\n",
    "tabulate_to_eq(rels)"
   ]
  },
  {
   "cell_type": "code",
   "execution_count": 30,
   "metadata": {},
   "outputs": [
    {
     "data": {
      "image/png": "[encoded data removed]",
      "text/plain": [
       "<matplotlib.figure.Figure at 0x7f597a19d7f0>"
      ]
     },
     "metadata": {},
     "output_type": "display_data"
    }
   ],
   "source": [
    "plot_answer(rels)"
   ]
  },
  {
   "cell_type": "markdown",
   "metadata": {},
   "source": [
    "Can you determine what the equation is based on the ordered pairs? \n",
    "\n",
    "In the questions below we will walk towards the solution. "
   ]
  },
  {
   "cell_type": "markdown",
   "metadata": {},
   "source": [
    "## Observation #1\n",
    "\n",
    "Using the table or the plot, find what the value of $y$ is when $x = 0$. Enter your answer in the box. When you think you have the correct answer, press the Run Interact button."
   ]
  },
  {
   "cell_type": "code",
   "execution_count": 31,
   "metadata": {},
   "outputs": [
    {
     "data": {
      "application/vnd.jupyter.widget-view+json": {
       "model_id": "cd43f63d34e94425a54327323c16c44b",
       "version_major": 2,
       "version_minor": 0
      },
      "text/html": [
       "<p>Failed to display Jupyter Widget of type <code>interactive</code>.</p>\n",
       "<p>\n",
       "  If you're reading this message in the Jupyter Notebook or JupyterLab Notebook, it may mean\n",
       "  that the widgets JavaScript is still loading. If this message persists, it\n",
       "  likely means that the widgets JavaScript library is either not installed or\n",
       "  not enabled. See the <a href=\"https://ipywidgets.readthedocs.io/en/stable/user_install.html\">Jupyter\n",
       "  Widgets Documentation</a> for setup instructions.\n",
       "</p>\n",
       "<p>\n",
       "  If you're reading this message in another frontend (for example, a static\n",
       "  rendering on GitHub or <a href=\"https://nbviewer.jupyter.org/\">NBViewer</a>),\n",
       "  it may mean that your frontend doesn't currently support widgets.\n",
       "</p>\n"
      ],
      "text/plain": [
       "interactive(children=(Textarea(value=' ', description='Your Answer:', placeholder='Type something', style=DescriptionStyle(description_width='initial')), Button(description='Run Interact', style=ButtonStyle()), Output()), _dom_classes=('widget-interact',))"
      ]
     },
     "metadata": {},
     "output_type": "display_data"
    }
   ],
   "source": [
    "\n",
    "\n",
    "\n",
    "        \n",
    "s = {'description_width': 'initial'}        \n",
    "@interact_manual(answer =widgets.Textarea(\n",
    "    value=' ',\n",
    "    placeholder='Type something',\n",
    "    description='Your Answer:',\n",
    "    disabled=False,\n",
    "    style=s))\n",
    "def get_answer_one(answer):\n",
    "    if \"1\" in answer:\n",
    "        print(\"Correct!\")\n",
    "    else:\n",
    "        print(\"HINT: Look at Entry Number 1 in the table. What is the value for y?\")\n"
   ]
  },
  {
   "cell_type": "markdown",
   "metadata": {},
   "source": [
    "### Observation #2\n",
    "\n",
    "Recall that a linear relation is of the form $$y = ax + b$$\n",
    "\n",
    "Use this information along with the answer to Observation #1, to deduce the value of $b$.\n",
    "\n",
    "Enter your answer in the box below. When you think you have found an answer, press the Run Interact button."
   ]
  },
  {
   "cell_type": "code",
   "execution_count": 32,
   "metadata": {},
   "outputs": [
    {
     "data": {
      "application/vnd.jupyter.widget-view+json": {
       "model_id": "6becab7839cb4ae2b1c56e6dc11ad707",
       "version_major": 2,
       "version_minor": 0
      },
      "text/html": [
       "<p>Failed to display Jupyter Widget of type <code>interactive</code>.</p>\n",
       "<p>\n",
       "  If you're reading this message in the Jupyter Notebook or JupyterLab Notebook, it may mean\n",
       "  that the widgets JavaScript is still loading. If this message persists, it\n",
       "  likely means that the widgets JavaScript library is either not installed or\n",
       "  not enabled. See the <a href=\"https://ipywidgets.readthedocs.io/en/stable/user_install.html\">Jupyter\n",
       "  Widgets Documentation</a> for setup instructions.\n",
       "</p>\n",
       "<p>\n",
       "  If you're reading this message in another frontend (for example, a static\n",
       "  rendering on GitHub or <a href=\"https://nbviewer.jupyter.org/\">NBViewer</a>),\n",
       "  it may mean that your frontend doesn't currently support widgets.\n",
       "</p>\n"
      ],
      "text/plain": [
       "interactive(children=(Textarea(value=' ', description='Your Answer:', placeholder='Type something', style=DescriptionStyle(description_width='initial')), Button(description='Run Interact', style=ButtonStyle()), Output()), _dom_classes=('widget-interact',))"
      ]
     },
     "metadata": {},
     "output_type": "display_data"
    }
   ],
   "source": [
    "\n",
    "\n",
    "\n",
    "        \n",
    "s = {'description_width': 'initial'}        \n",
    "@interact_manual(answer =widgets.Textarea(\n",
    "    value=' ',\n",
    "    placeholder='Type something',\n",
    "    description='Your Answer:',\n",
    "    disabled=False,\n",
    "    style=s))\n",
    "def get_answer_one(answer):\n",
    "    if \"1\" in answer:\n",
    "        print(\"Correct!\")\n",
    "    else:\n",
    "        print(\"HINT: y = ax + b. When x = 0, y = 0 + b = 1. This means that 0 + b = 1. What is the value of b?\")\n"
   ]
  },
  {
   "cell_type": "markdown",
   "metadata": {},
   "source": [
    "From the observation above, we determined that the value of $b = 1$, as \n",
    "\n",
    "$$y = ax + b$$\n",
    "\n",
    "and when $x  =0$, we observe $y = 1$. Via algebraic manipulation, this means that $ 0 +b = 1$ which means $b = 1$. \n",
    "\n",
    "We now know our equation is of the form\n",
    "\n",
    "$$ y =ax  + 1$$\n",
    "\n",
    "There is only one loose end. We want to get the value of $a$. \n",
    "\n",
    "### Observation #3\n",
    "\n",
    "Observe Entry Number 2. In there we see that the ordered pair is $(1,3)$. This means that if $x = 1$, then $y = 3$. \n",
    "\n",
    "In our equation, this looks as follows:\n",
    "\n",
    "$$y = a(1) + 1 = 3$$\n",
    "\n",
    "Which is equivalent to \n",
    "\n",
    "$$y = a + 1 = 3$$\n",
    "\n",
    "What is the value of $a$?"
   ]
  },
  {
   "cell_type": "code",
   "execution_count": 33,
   "metadata": {},
   "outputs": [
    {
     "data": {
      "application/vnd.jupyter.widget-view+json": {
       "model_id": "fc1b982bc18541d7a3e6849cf7440cbd",
       "version_major": 2,
       "version_minor": 0
      },
      "text/html": [
       "<p>Failed to display Jupyter Widget of type <code>interactive</code>.</p>\n",
       "<p>\n",
       "  If you're reading this message in the Jupyter Notebook or JupyterLab Notebook, it may mean\n",
       "  that the widgets JavaScript is still loading. If this message persists, it\n",
       "  likely means that the widgets JavaScript library is either not installed or\n",
       "  not enabled. See the <a href=\"https://ipywidgets.readthedocs.io/en/stable/user_install.html\">Jupyter\n",
       "  Widgets Documentation</a> for setup instructions.\n",
       "</p>\n",
       "<p>\n",
       "  If you're reading this message in another frontend (for example, a static\n",
       "  rendering on GitHub or <a href=\"https://nbviewer.jupyter.org/\">NBViewer</a>),\n",
       "  it may mean that your frontend doesn't currently support widgets.\n",
       "</p>\n"
      ],
      "text/plain": [
       "interactive(children=(Textarea(value=' ', description='Your Answer:', placeholder='Type something', style=DescriptionStyle(description_width='initial')), Button(description='Run Interact', style=ButtonStyle()), Output()), _dom_classes=('widget-interact',))"
      ]
     },
     "metadata": {},
     "output_type": "display_data"
    }
   ],
   "source": [
    "\n",
    "\n",
    "        \n",
    "s = {'description_width': 'initial'}        \n",
    "@interact_manual(answer =widgets.Textarea(\n",
    "    value=' ',\n",
    "    placeholder='Type something',\n",
    "    description='Your Answer:',\n",
    "    disabled=False,\n",
    "    style=s))\n",
    "def get_answer_one(answer):\n",
    "    if \"2\" in answer:\n",
    "        print(\"Correct!\")\n",
    "    else:\n",
    "        print(\"HINT: a + 1 = 3. What value, when added to 1, results in 3? \")\n"
   ]
  },
  {
   "cell_type": "markdown",
   "metadata": {},
   "source": [
    "### Recap\n",
    "\n",
    "Observe that all we needed to find the linear equation were the first two entries in the table. \n",
    "\n",
    "Indeed, we used Entry Number 1, x = 0, y = 1 to determine that b = 1. \n",
    "\n",
    "We then used this, along with Entry Number 2 x = 1, y = 3, to determine that a = 2. \n",
    "\n",
    "This yields to the linear equation \n",
    "\n",
    "$$y = 2x + 1$$\n",
    "\n",
    "Use the widget below to verify that this linear equation generates the adequate table of values."
   ]
  },
  {
   "cell_type": "code",
   "execution_count": 34,
   "metadata": {},
   "outputs": [
    {
     "data": {
      "application/vnd.jupyter.widget-view+json": {
       "model_id": "17bc7b5339314a4a9c0242038b0dc534",
       "version_major": 2,
       "version_minor": 0
      },
      "text/html": [
       "<p>Failed to display Jupyter Widget of type <code>interactive</code>.</p>\n",
       "<p>\n",
       "  If you're reading this message in the Jupyter Notebook or JupyterLab Notebook, it may mean\n",
       "  that the widgets JavaScript is still loading. If this message persists, it\n",
       "  likely means that the widgets JavaScript library is either not installed or\n",
       "  not enabled. See the <a href=\"https://ipywidgets.readthedocs.io/en/stable/user_install.html\">Jupyter\n",
       "  Widgets Documentation</a> for setup instructions.\n",
       "</p>\n",
       "<p>\n",
       "  If you're reading this message in another frontend (for example, a static\n",
       "  rendering on GitHub or <a href=\"https://nbviewer.jupyter.org/\">NBViewer</a>),\n",
       "  it may mean that your frontend doesn't currently support widgets.\n",
       "</p>\n"
      ],
      "text/plain": [
       "interactive(children=(IntSlider(value=0, continuous_update=False, description='Value for x', max=4, style=SliderStyle(description_width='initial')), Output()), _dom_classes=('widget-interact',))"
      ]
     },
     "metadata": {},
     "output_type": "display_data"
    }
   ],
   "source": [
    "@interact(x_value=widgets.IntSlider(value=0,\n",
    "            min=0,\n",
    "            max=4,\n",
    "            step=1,\n",
    "            description='Value for x',\n",
    "            disabled=False,\n",
    "            continuous_update=False,\n",
    "            orientation='horizontal',\n",
    "            readout=True,\n",
    "            readout_format='d',\n",
    "            style =style\n",
    "))\n",
    "\n",
    "\n",
    "def verify_points(x_value):\n",
    "    relation = {\"Coef1\":2,\"Coef2\":1,\"+\": operator.add}\n",
    "    x_values = np.array([0,1,2,3,4])\n",
    "    y_values = relation[\"Coef1\"]*x_values + relation[\"Coef2\"]\n",
    "\n",
    "    fig = plt.figure()\n",
    "    plt.subplots_adjust(left=14, bottom=0.2, right=16, top=1.5,\n",
    "                wspace=0.1, hspace=0.2)\n",
    "    ax1 = fig.add_subplot(1, 2, 1)\n",
    "\n",
    "\n",
    "    ax1.text(0.1,0.8,\"x = \" + str(x_value),fontsize=20)\n",
    "    ax1.text(0.1,0.6,\"y = \" + str(relation[\"Coef1\"]) + \"x + \"+ str(relation[\"Coef2\"]),fontsize=20)\n",
    "    ax1.text(0.1,0.4,\"y = 2(\" + str(x_value) +  \") + 1 = \"  + str(2*x_value)+ \" + 1 = \" + str(relation[\"Coef1\"]*x_value+ relation[\"Coef2\"]),fontsize=20)\n",
    "    ax1.text(0.1,0.2,\"Ordered pair (\" +str(x_value) + \",\" +  str(relation[\"Coef1\"]*x_value+ relation[\"Coef2\"]) + \")\",fontsize=20)\n",
    "    ax1.set_title(\"Values for x and y\", fontsize=25)\n",
    "    ax2 = fig.add_subplot(1, 2, 2)\n",
    "    ax2.set_xticks(np.arange(-6,x_values[-1]+2)),ax2.set_yticks(np.arange(-6,y_values[-1]+2))\n",
    "    ax2.set_xlim(0,x_values[-1]+1)\n",
    "    ax2.set_ylim(0,y_values[-1]+1)\n",
    "    ax1.axis(\"Off\"),ax2.axis(\"On\")\n",
    "    ax2.axhline(y=0, color='blue')\n",
    "    ax2.axvline(x=0, color='blue')\n",
    "    ax2.text(x_values[-1]+1,0.2,\"x-axis\",fontsize=20)\n",
    "    ax2.text(0.1,y_values[-1]+1,\"y-axis\",fontsize=20)\n",
    "    ax2.grid(True)\n",
    "# for i in range(len(x_values)):                                       \n",
    "#     ax2.text(x_values[i] - 0.5,y_values[i]-0.7,\"(\" + str(x_values[i]) + \",\" + str(y_values[i]) + \")\") \n",
    "    points = ax2.scatter(x_values,y_values,color=\"black\",s=60)\n",
    "    ax2.scatter(x_value,relation[\"Coef1\"]*x_value+ relation[\"Coef2\"] ,color=\"red\",s=120)\n",
    "    #datacursor(points)\n",
    "\n",
    "    plt.show()"
   ]
  },
  {
   "cell_type": "code",
   "execution_count": 35,
   "metadata": {},
   "outputs": [
    {
     "data": {
      "application/vnd.jupyter.widget-view+json": {
       "model_id": "222057ce0397408684e6ae25c562e621",
       "version_major": 2,
       "version_minor": 0
      },
      "text/html": [
       "<p>Failed to display Jupyter Widget of type <code>QgridWidget</code>.</p>\n",
       "<p>\n",
       "  If you're reading this message in the Jupyter Notebook or JupyterLab Notebook, it may mean\n",
       "  that the widgets JavaScript is still loading. If this message persists, it\n",
       "  likely means that the widgets JavaScript library is either not installed or\n",
       "  not enabled. See the <a href=\"https://ipywidgets.readthedocs.io/en/stable/user_install.html\">Jupyter\n",
       "  Widgets Documentation</a> for setup instructions.\n",
       "</p>\n",
       "<p>\n",
       "  If you're reading this message in another frontend (for example, a static\n",
       "  rendering on GitHub or <a href=\"https://nbviewer.jupyter.org/\">NBViewer</a>),\n",
       "  it may mean that your frontend doesn't currently support widgets.\n",
       "</p>\n"
      ],
      "text/plain": [
       "QgridWidget(grid_options={'fullWidthRows': False, 'syncColumnCellResize': True, 'forceFitColumns': True, 'defaultColumnWidth': 150, 'rowHeight': 40, 'enableColumnReorder': True, 'enableTextSelectionOnCells': True, 'editable': False, 'autoEdit': False, 'explicitInitialization': True, 'maxVisibleRows': 15, 'minVisibleRows': 8, 'sortable': False, 'filterable': False, 'highlightSelectedCell': False, 'highlightSelectedRow': True}, precision=5)"
      ]
     },
     "metadata": {},
     "output_type": "display_data"
    }
   ],
   "source": [
    "tabulate_to_eq({\"Coef1\":2,\"Coef2\":1,\"+\": operator.add})"
   ]
  },
  {
   "cell_type": "markdown",
   "metadata": {},
   "source": [
    "Why do you think equations of the form\n",
    "\n",
    "$$y = ax + b$$\n",
    "\n",
    "are called \"linear\"? \n",
    "\n",
    "Use the box below to enter your answer. "
   ]
  },
  {
   "cell_type": "code",
   "execution_count": 36,
   "metadata": {},
   "outputs": [
    {
     "data": {
      "application/vnd.jupyter.widget-view+json": {
       "model_id": "ef9c8901bc674d2eae3bb7be526f5dc7",
       "version_major": 2,
       "version_minor": 0
      },
      "text/html": [
       "<p>Failed to display Jupyter Widget of type <code>Textarea</code>.</p>\n",
       "<p>\n",
       "  If you're reading this message in the Jupyter Notebook or JupyterLab Notebook, it may mean\n",
       "  that the widgets JavaScript is still loading. If this message persists, it\n",
       "  likely means that the widgets JavaScript library is either not installed or\n",
       "  not enabled. See the <a href=\"https://ipywidgets.readthedocs.io/en/stable/user_install.html\">Jupyter\n",
       "  Widgets Documentation</a> for setup instructions.\n",
       "</p>\n",
       "<p>\n",
       "  If you're reading this message in another frontend (for example, a static\n",
       "  rendering on GitHub or <a href=\"https://nbviewer.jupyter.org/\">NBViewer</a>),\n",
       "  it may mean that your frontend doesn't currently support widgets.\n",
       "</p>\n"
      ],
      "text/plain": [
       "Textarea(value='', layout=Layout(height='75px', width='100%'), placeholder='Write your answer here. Press Record Answer when you finish.')"
      ]
     },
     "metadata": {},
     "output_type": "display_data"
    },
    {
     "data": {
      "application/vnd.jupyter.widget-view+json": {
       "model_id": "cfd5e23b201c48a9a08a7e3075125ffa",
       "version_major": 2,
       "version_minor": 0
      },
      "text/html": [
       "<p>Failed to display Jupyter Widget of type <code>Button</code>.</p>\n",
       "<p>\n",
       "  If you're reading this message in the Jupyter Notebook or JupyterLab Notebook, it may mean\n",
       "  that the widgets JavaScript is still loading. If this message persists, it\n",
       "  likely means that the widgets JavaScript library is either not installed or\n",
       "  not enabled. See the <a href=\"https://ipywidgets.readthedocs.io/en/stable/user_install.html\">Jupyter\n",
       "  Widgets Documentation</a> for setup instructions.\n",
       "</p>\n",
       "<p>\n",
       "  If you're reading this message in another frontend (for example, a static\n",
       "  rendering on GitHub or <a href=\"https://nbviewer.jupyter.org/\">NBViewer</a>),\n",
       "  it may mean that your frontend doesn't currently support widgets.\n",
       "</p>\n"
      ],
      "text/plain": [
       "Button(button_style='info', description='Record Answer', layout=Layout(height='30px', width='15%'), style=ButtonStyle())"
      ]
     },
     "metadata": {},
     "output_type": "display_data"
    }
   ],
   "source": [
    "\n",
    "\n",
    "emma1_text = w.Textarea( value='', placeholder='Write your answer here. Press Record Answer when you finish.', description='', disabled=False , layout=Layout(width='100%', height='75px') )\n",
    "emma1_button = w.Button(button_style='info',description=\"Record Answer\", layout=Layout(width='15%', height='30px'))\n",
    "\n",
    "display(emma1_text)\n",
    "display(emma1_button)\n",
    "\n",
    "emma1_button.on_click( rerun_cell ) "
   ]
  },
  {
   "cell_type": "markdown",
   "metadata": {},
   "source": [
    "<h2 align='center'>Conclusion</h2>\n",
    "\n",
    "In this notebook we learned what an ordered pair is. We also learned what a table of values is as well as a plane and a coordinate plane. Furthermore, we learned that given a relation between x and y, we can track and represent the relation between x and y via a table of values or a coordinate plane.\n",
    "\n",
    "We analyzed basic linear relations, tabulated their values and plotted on a coordinate plane. We explored the pairs that intersected the y and x axis and made remarks based on our observations. "
   ]
  },
  {
   "cell_type": "markdown",
   "metadata": {},
   "source": [
    "<img src=\"./images/callysto_notebook-banners_bottom.png\" width=\"2000px\"/> "
   ]
  }
 ],
 "metadata": {
  "kernelspec": {
   "display_name": "Python 3",
   "language": "python",
   "name": "python3"
  },
  "language_info": {
   "codemirror_mode": {
    "name": "ipython",
    "version": 3
   },
   "file_extension": ".py",
   "mimetype": "text/x-python",
   "name": "python",
   "nbconvert_exporter": "python",
   "pygments_lexer": "ipython3",
   "version": "3.6.5"
  }
 },
 "nbformat": 4,
 "nbformat_minor": 2
}
