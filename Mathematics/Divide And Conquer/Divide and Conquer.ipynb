{
 "cells": [
  {
   "cell_type": "markdown",
   "metadata": {},
   "source": [
    "![alt text][top-banner]\n",
    "\n",
    "[top-banner]: ./callysto-top-banner.jpg"
   ]
  },
  {
   "cell_type": "code",
   "execution_count": 1,
   "metadata": {},
   "outputs": [
    {
     "data": {
      "text/html": [
       "<script>\n",
       "code_show=true; \n",
       "function code_toggle() {\n",
       "  if (code_show) {\n",
       "    $('div.input').each(function(id) {\n",
       "      el = $(this).find('.cm-variable:first');\n",
       "      if (id == 0 || el.text() == 'hide_me') {\n",
       "        $(this).hide();\n",
       "      }\n",
       "    });\n",
       "    $('div.output_prompt').css('opacity', 0);\n",
       "  } else {\n",
       "    $('div.input').each(function(id) {\n",
       "      $(this).show();\n",
       "    });\n",
       "    $('div.output_prompt').css('opacity', 1);\n",
       "  }\n",
       "  code_show = !code_show\n",
       "} \n",
       "$( document ).ready(code_toggle);\n",
       "</script>\n",
       "<form action=\"javascript:code_toggle()\"><input style=\"opacity:1\" type=\"submit\" value=\"Click here to toggle on/off the raw code.\"></form>"
      ],
      "text/plain": [
       "<IPython.core.display.HTML object>"
      ]
     },
     "execution_count": 1,
     "metadata": {},
     "output_type": "execute_result"
    }
   ],
   "source": [
    "from IPython.display import HTML\n",
    "hide_me = ''\n",
    "HTML('''<script>\n",
    "code_show=true; \n",
    "function code_toggle() {\n",
    "  if (code_show) {\n",
    "    $('div.input').each(function(id) {\n",
    "      el = $(this).find('.cm-variable:first');\n",
    "      if (id == 0 || el.text() == 'hide_me') {\n",
    "        $(this).hide();\n",
    "      }\n",
    "    });\n",
    "    $('div.output_prompt').css('opacity', 0);\n",
    "  } else {\n",
    "    $('div.input').each(function(id) {\n",
    "      $(this).show();\n",
    "    });\n",
    "    $('div.output_prompt').css('opacity', 1);\n",
    "  }\n",
    "  code_show = !code_show\n",
    "} \n",
    "$( document ).ready(code_toggle);\n",
    "</script>\n",
    "<form action=\"javascript:code_toggle()\"><input style=\"opacity:1\" type=\"submit\" value=\"Click here to toggle on/off the raw code.\"></form>''')"
   ]
  },
  {
   "cell_type": "code",
   "execution_count": 2,
   "metadata": {},
   "outputs": [
    {
     "data": {
      "text/html": [
       "\n",
       "<script>\n",
       "  function code_toggle() {\n",
       "    if (code_shown){\n",
       "      $('div.input').hide('500');\n",
       "      $('#toggleButton').val('Show Code')\n",
       "    } else {\n",
       "      $('div.input').show('500');\n",
       "      $('#toggleButton').val('Hide Code')\n",
       "    }\n",
       "    code_shown = !code_shown\n",
       "  }\n",
       "\n",
       "  $( document ).ready(function(){\n",
       "    code_shown=false;\n",
       "    $('div.input').hide()\n",
       "  });\n",
       "</script>\n",
       "<form action=\"javascript:code_toggle()\"><input type=\"submit\" id=\"toggleButton\" value=\"Show Code\"></form>"
      ],
      "text/plain": [
       "<IPython.core.display.HTML object>"
      ]
     },
     "metadata": {},
     "output_type": "display_data"
    }
   ],
   "source": [
    "%%html\n",
    "\n",
    "<script>\n",
    "  function code_toggle() {\n",
    "    if (code_shown){\n",
    "      $('div.input').hide('500');\n",
    "      $('#toggleButton').val('Show Code')\n",
    "    } else {\n",
    "      $('div.input').show('500');\n",
    "      $('#toggleButton').val('Hide Code')\n",
    "    }\n",
    "    code_shown = !code_shown\n",
    "  }\n",
    "\n",
    "  $( document ).ready(function(){\n",
    "    code_shown=false;\n",
    "    $('div.input').hide()\n",
    "  });\n",
    "</script>\n",
    "<form action=\"javascript:code_toggle()\"><input type=\"submit\" id=\"toggleButton\" value=\"Show Code\"></form>"
   ]
  },
  {
   "cell_type": "markdown",
   "metadata": {},
   "source": [
    "## Introduction\n",
    "\n",
    "Divide and conquer is a highly versatile technique that generally lends itself very well to parallel algorithms design. You probably have seen the divide-and-conquer technique many times before this, but this is such an important technique that it is worth seeing it over and over again. It is particularly suited for “thinking parallel” because it offers a natural way of creating parallel tasks. In this notebook Students will learn to deal with sub problem and lead to an optimum solution."
   ]
  },
  {
   "cell_type": "markdown",
   "metadata": {},
   "source": [
    "## Knowledge Areas\n",
    "\n",
    "* the engineering design process,\n",
    "* scientific consensus,\n",
    "* the scientific method,\n",
    "* systems thinking,\n",
    "* user-centered design\n",
    "\n",
    "\n",
    "## Big Ideas\n",
    "* This technique yields elegant, simple and quite often very efficient algorithms.\n",
    "* It is used in several renowned algorithms.\n",
    "* Divide a bigger problem into smaller problems, solve them individually and merge the solutions.\n",
    "\n",
    "## Specific Expectations:\n",
    "Learn the idea that sometimes smaller solutions can lead into a solution of a bigger problems."
   ]
  },
  {
   "cell_type": "markdown",
   "metadata": {},
   "source": [
    "## Theory & Background Information\n",
    "\n",
    "### Algorithm: \n",
    "\n",
    "Step by step solution of a problem with a definite goal. Consider how we solve our day to day problems. on a typical day, you start on report, and after completing a paragraph, you perform spell ckeck. You then think about later part of the report and do some searching in the internet using the web browser. So if you think about the whole process of report writing and breakdown into steps as the operation you performed will give you a procedure for writing a report. \n",
    "\n",
    "An algorithm is a well-defined procedure that allows a computer to solve a problem. Another way to describe an algorithm is a sequence of unambiguous instructions. The use of the term 'unambiguous' indicates that there is no room for subjective interpretation. Every time you ask your computer to carry out the same algorithm, it will do it in exactly the same manner with the exact same result.\n",
    "\n",
    "### How Do Algorithms Work?\n",
    "\n",
    "A very simple example of an algorithm would be to find the largest number in an unsorted list of numbers. If you were given a list of three different numbers, you will need no computers to find that out. Now, how about five million different numbers? Clearly, you are going to need a computer to do this, and a computer needs an algorithm.\n",
    "\n",
    "The primary task of creating an algorithm is to define the following criterias:\n",
    "\n",
    "* **input**: there are zero or more quantities which are externally supplied. Try to figure out what the problem needs, how much does it need and how it will recieve the data. For Example: think of the input for changing a tire.\n",
    "\n",
    "* **output**: at least one quantity or outcome is produced;\n",
    "\n",
    "* **definiteness**: each instruction must be clear and unambiguous; Unambiguous means it can not conflict with any other instructions, like sendind the same people two different places at the same time which is not physically possible.\n",
    "\n",
    "* **finiteness**: if we trace out the instructions of an algorithm, then for all cases the algorithm will terminate or end after a finite number of steps;\n",
    "\n",
    "* **effectiveness**: every instruction must be sufficiently basic that it can in principle be carried out by a person using only pencil and paper. It is not enough that each operation be definite, but it must also be feasible.\n",
    "\n",
    "\n",
    "Lets create an algorithm thats finds the largest number in a unsorted list of numbers. Lets name the list A. So the first number in list would be A1, A2 be the second number and so on. As we know the list is not sorted - otherwise, the answer would be really easy. So, for this algorithm the input is a list of numbers, and the output should be the largest number in the list.\n",
    "\n",
    "**Step 1**: Let set the Largest number = A1\n",
    "This means you start by assuming that the first number is the largest number.\n",
    "\n",
    "**Step 2**: For each item in the list:\n",
    "This means you will go through the list of numbers one by one.\n",
    "\n",
    "**Step 3**: If the itemLargest:\n",
    "If you find a new largest number, move to step four. If not, go back to step two, which means you move on to the next number in the list.\n",
    "\n",
    "**Step 4**: Then Largest = the item\n",
    "This replaces the old largest number with the new largest number you just found. Once this is completed, return to step two until there are no more numbers left in the list.\n",
    "\n",
    "**Step 5**: Return Largest\n",
    "\n",
    "This produces the desired result.\n",
    "\n",
    "So you now got an idea to develop an algorithm\n",
    "\n",
    "\n"
   ]
  },
  {
   "cell_type": "markdown",
   "metadata": {},
   "source": [
    "### Sub-Problem: \n",
    "\n",
    "A problem that is contingent on or forms a part of another more inclusive problem. It involves breaking down a complex problem or system into smaller parts that are more manageable and easier to understand. The smaller parts can then be examined and solved, or designed individually, as they are simpler to work with.\n",
    "\n",
    "We do many tasks on a daily basis without even thinking about – or decomposing – them, such as brushing our teeth.\n",
    "\n",
    "**Example 1**: Brushing our teeth\n",
    "To decompose the problem of how to brush our teeth, we would need to consider:\n",
    "\n",
    "1. which toothbrush to use\n",
    "2. how long to brush for\n",
    "3. how hard to press on our teeth\n",
    "4. what toothpaste to use\n",
    "\n",
    "\n"
   ]
  },
  {
   "cell_type": "markdown",
   "metadata": {},
   "source": [
    "### Recursion: \n",
    "\n",
    "Recursion is a method of solving problems that involves breaking a problem down into smaller and smaller subproblems until you get to a small enough problem that it can be solved trivially. Usually recursion involves a function calling itself. While it may not seem like much on the surface, recursion allows us to write elegant solutions to problems that may otherwise be very difficult to program. Finally, Recursion is the process of defining a problem (or the solution to a problem) in terms of (a simpler version of) itself. For example, we can define the operation \"find your way home\" as:\n",
    "\n",
    "1. If you are at home, stop moving.\n",
    "\n",
    "2. Take one step toward home.\n",
    "\n",
    "3. \"Find your way home\".\n",
    "\n",
    "Here the solution to finding your way home is two steps (three steps). First, we don't go home if we are already home. Secondly, we do a very simple action that makes our situation simpler to solve. Finally, we redo the entire algorithm.\n",
    "\n",
    "Lets do one more examples \n",
    "\n",
    "### When to use Recursion:\n",
    "\n",
    "You can use recursion in any problem where the answer can be obtained in an easy way, assuming you know the answer to a simpler problem.\n",
    "\n",
    "For example, if you want to calculate the weight of the  9th floor of a 20 storied Plaza, and you know that each floor is half as heavy as the one below it, then you could use recursion to calculate the 9th floor based on the 20 floor (which is based on the 19h … and so on), until you reach the base floor– whose weight you would need to know.\n",
    "\n",
    "### generalize Recursion\n",
    "\n",
    "In order to build a recursive solution you may take following approach to make things easier:\n",
    "\n",
    "1. Write down the simple base case\n",
    "2. Pretend that you know the answer to the case(s) that are slightly simpler than the answer\n",
    "3. Calculate the answer from the answer to the slightly simpler case(s)\n",
    "\n",
    "Now as you have a general idea about recursion try solving the following question, If stuck see the solution\n",
    "\n",
    "## How do you empty a vase containing five flowers?\n"
   ]
  },
  {
   "cell_type": "code",
   "execution_count": 3,
   "metadata": {
    "scrolled": true
   },
   "outputs": [
    {
     "data": {
      "text/html": [
       "<html>\n",
       "<head>\n",
       "<script type=\"text/javascript\">\n",
       "<!--\n",
       "function toggle(id) {\n",
       "var e = document.getElementById(id);\n",
       "if(e.style.display == 'none')\n",
       "e.style.display = 'block';\n",
       "else\n",
       "e.style.display = 'none';\n",
       "}\n",
       "//-->\n",
       "</script>\n",
       "</head>\n",
       "\n",
       "<body>\n",
       "<div id=\"question1\">\n",
       "Question Solution <button id = \"A\"\n",
       "onclick=\"toggle('answer1');\">Click Here</button> to see the answer.\n",
       "</div>\n",
       "<div style=\"display:none\" id=\"answer1\">\n",
       "How do you empty a vase containing five flowers? </br>\n",
       "\n",
       "Answer: if the vase is not empty, you take out one flower and then you empty a vase containing four flowers. </br>\n",
       "\n",
       "How do you empty a vase containing four flowers? </br>\n",
       "\n",
       "Answer: if the vase is not empty, you take out one flower and then you empty a vase containing three flowers. </br>\n",
       "\n",
       "Continue like this until we take all the flowers form the vase and the vase is empty. </br>\n",
       "\n",
       "</div>\n",
       "</body>\n",
       "</html>"
      ],
      "text/plain": [
       "<IPython.core.display.HTML object>"
      ]
     },
     "metadata": {},
     "output_type": "display_data"
    }
   ],
   "source": [
    "%%html\n",
    "<html>\n",
    "<head>\n",
    "<script type=\"text/javascript\">\n",
    "<!--\n",
    "function toggle(id) {\n",
    "var e = document.getElementById(id);\n",
    "if(e.style.display == 'none')\n",
    "e.style.display = 'block';\n",
    "else\n",
    "e.style.display = 'none';\n",
    "}\n",
    "//-->\n",
    "</script>\n",
    "</head>\n",
    "\n",
    "<body>\n",
    "<div id=\"question1\">\n",
    "Question Solution <button id = \"A\"\n",
    "onclick=\"toggle('answer1');\">Click Here</button> to see the answer.\n",
    "</div>\n",
    "<div style=\"display:none\" id=\"answer1\">\n",
    "How do you empty a vase containing five flowers? </br>\n",
    "\n",
    "Answer: if the vase is not empty, you take out one flower and then you empty a vase containing four flowers. </br>\n",
    "\n",
    "How do you empty a vase containing four flowers? </br>\n",
    "\n",
    "Answer: if the vase is not empty, you take out one flower and then you empty a vase containing three flowers. </br>\n",
    "\n",
    "Continue like this until we take all the flowers form the vase and the vase is empty. </br>\n",
    "\n",
    "</div>\n",
    "</body>\n",
    "</html>"
   ]
  },
  {
   "cell_type": "markdown",
   "metadata": {},
   "source": [
    "### Divide and conquer Definition: \n",
    "Now as we have a idea about algorithm, sub-problem and recursion. Lets take a look at a powerful and elegant but simple algorithm named \"Divide and Conquer\". It is an algorithmic technique to solve a problem on an instance of size n, a solution is found either directly because solving that instance is easy (typically, because the instance is small) or the instance is separated into two or more smaller instances. Each of these smaller instances is solved and the solutions are combined to produce a solution for the original instance. The name divide and conquer is because the problem is conquered by dividing it into several smaller problems."
   ]
  },
  {
   "cell_type": "code",
   "execution_count": 4,
   "metadata": {},
   "outputs": [
    {
     "data": {
      "text/html": [
       "<!DOCTYPE html>\n",
       "<html>\n",
       "\n",
       "<img src=\"divide-and-conquer_1.png\" alt=\"drawing\" width=\"500\" height=\"333\" style=\"float:middle\">\n",
       "</html>"
      ],
      "text/plain": [
       "<IPython.core.display.HTML object>"
      ]
     },
     "metadata": {},
     "output_type": "display_data"
    }
   ],
   "source": [
    "%%html\n",
    "<!DOCTYPE html>\n",
    "<html>\n",
    "\n",
    "<img src=\"divide-and-conquer_1.png\" alt=\"drawing\" width=\"500\" height=\"333\" style=\"float:middle\">\n",
    "</html>\n"
   ]
  },
  {
   "cell_type": "markdown",
   "metadata": {},
   "source": [
    "## Implement a Divide and Conquer algorithm\n",
    "\n",
    "1. Divide problem into several smaller subproblems.\n",
    "  * Normally, the subproblems are similar to the original\n",
    "\n",
    "2. Conquer the subproblems by solving them recursively.\n",
    "  * Base case: solve small enough problems by brute force.\n",
    " \n",
    "3. Combine the solutions to get a solution to the subproblems.\n",
    "\n",
    "And finally a solution to the orginal problem\n",
    "\n",
    "**Divide and Conquer algorithms are normally recursive**\n"
   ]
  },
  {
   "cell_type": "markdown",
   "metadata": {},
   "source": [
    "### Advantages\n",
    "\n",
    "* In a perfect world, where the problem is easy to divide, and the sub-problem at some level is easy to solve, divide and conquer can be optimal for a general case solution, like merge sort.\n",
    "* Parallel availability, divide and conquer by it’s very nature lends itself well to parallel processing as we divide the problems of similar type.\n"
   ]
  },
  {
   "cell_type": "markdown",
   "metadata": {},
   "source": [
    "### Disadvantages\n",
    "\n",
    "* One of the most common issues with the recursion is the fact that it is slow, which is a disadvantage in case of divide and conquer too.\n",
    "\n",
    "* It is the fact that sometimes it can become more complicated than a basic iterative approach, especially in cases with a large n.\n",
    "\n",
    "* Another downfall is that when we break the problem into sub-problem, the same problem can occur too many times. In such cases we may need to save the solution of the repeated sub-problem, which is commonly known as memoization.\n"
   ]
  },
  {
   "cell_type": "markdown",
   "metadata": {},
   "source": [
    "\n",
    "## Visualizing the Algortihm with Santa's Dirty Socks problem"
   ]
  },
  {
   "cell_type": "code",
   "execution_count": 5,
   "metadata": {},
   "outputs": [
    {
     "data": {
      "text/html": [
       "<iframe width=\"560\" height=\"315\" style=\"float:centre\" src=\"https://www.youtube.com/embed/wVPCT1VjySA\" frameborder=\"0\" allow=\"autoplay; encrypted-media\" allowfullscreen ></iframe>"
      ],
      "text/plain": [
       "<IPython.core.display.HTML object>"
      ]
     },
     "execution_count": 5,
     "metadata": {},
     "output_type": "execute_result"
    }
   ],
   "source": [
    "hide_me\n",
    "\n",
    "HTML('<iframe width=\"560\" height=\"315\" style=\"float:centre\" src=\"https://www.youtube.com/embed/wVPCT1VjySA\" frameborder=\"0\" allow=\"autoplay; encrypted-media\" allowfullscreen ></iframe>')"
   ]
  },
  {
   "cell_type": "markdown",
   "metadata": {},
   "source": [
    "### The video story breakdown\n",
    "\n",
    "Now lets breakdown the video and algorithm into steps.\n",
    "\n",
    "The solution in the story points out that when there are 1024 boxes to test, instead of having to open all of them until the socks are found, one half can be eliminated at a time, and repeatedly halving the problem very quickly narrows it down to one box (the size of the problem starts at 1024, then with one weighing there are 512 boxes, then 256, 128, 64, 32, 16, 8, 4, 2 and 1.)"
   ]
  },
  {
   "cell_type": "markdown",
   "metadata": {},
   "source": [
    "### Follow up discussion\n",
    "\n",
    "* Consider devloping a divide and conquer strategy with a balance scale and, say, 32 weights that are identical except one. \n",
    "* Now engage in a thought experiment – how many more weighings would be needed if there were 64 weights? [Just one more weighing is needed.]\n",
    "\n",
    "* If there were 2048 boxes, how many weighings would this process take [11 weighings, that is, just one more than for 1024 boxes]\n",
    "\n",
    "* If there are twice as many gifts, how many more weighings are needed [1 – each weighing halves the size of the problem]\n",
    "* What if there are 4 times as many gifts? [2 more weighings are needed].\n",
    "* Suppose you are making a search engine that searches a billion words (that is, 1,000,000,000 words), and the words are listed in alphabetical list. The search engine looks for a word in the middle of the list, and eliminates half the list with one check. How many words does it need to check before you find the one you’re after? [You would only need to make 30 checks to search a billion words; it may help students to start with just 1024 words, or even use a dictionary or phone book to act this out.]\n"
   ]
  },
  {
   "cell_type": "markdown",
   "metadata": {},
   "source": [
    "## Guessing Game\n",
    "\n",
    "#### Instruction:\n",
    "\n",
    "1. Please Click the Start button to Start the game \n",
    "2. The Program will Choose a random number in between 1 to 100\n",
    "3. Your task is to guess the number with in 7 attempts. \n",
    "4. You Can press the stop button to stop any time or restart button to restart the game.\n",
    "\n",
    "hint: you can use the Divide and conquer strategy."
   ]
  },
  {
   "cell_type": "code",
   "execution_count": 11,
   "metadata": {},
   "outputs": [],
   "source": [
    "from __future__ import print_function\n",
    "from ipywidgets import interact, interactive, fixed, interact_manual\n",
    "import ipywidgets as widgets\n",
    "import random\n",
    "\n",
    "from IPython.display import HTML\n",
    "import random\n",
    "%matplotlib inline\n",
    "import matplotlib as mpl\n",
    "import matplotlib.pyplot as plt \n",
    "\n",
    "\n",
    "import ipywidgets as widgets\n",
    "from IPython.display import display, Math, Latex, clear_output\n",
    "\n",
    "\n",
    "import random\n",
    "def number_guessing_game(low, high, rounds):\n",
    "    print(\"Guess a number between {low} and {high}. You have {rounds} rounds to try and guess correctly.\".format(low=low, high=high, rounds=rounds))\n",
    "    number = random.randint(low, high)\n",
    "    \n",
    "    return number, rounds\n",
    "\n",
    "def Guess_Number(number,rounds):\n",
    "    \n",
    "    for _ in range(rounds):       \n",
    "        try:\n",
    "            integer = int(guess)\n",
    "            if integer == number:\n",
    "                print('You won!!!')\n",
    "                return\n",
    "            elif integer < number:\n",
    "                print('Try Higher')\n",
    "            elif integer > number:\n",
    "                print('Try Lower')\n",
    "\n",
    "        except ValueError:\n",
    "            print(\"You must enter a valid integer.\")\n",
    "\n",
    "    print(\"You didn't guess correctly in {rounds} rounds. You lost.\".format(rounds=rounds))"
   ]
  },
  {
   "cell_type": "code",
   "execution_count": 14,
   "metadata": {},
   "outputs": [
    {
     "name": "stdout",
     "output_type": "stream",
     "text": [
      "Guess a number between 1 and 100. You have 7 rounds to try and guess correctly.\n",
      "3\n",
      "7\n"
     ]
    },
    {
     "data": {
      "application/vnd.jupyter.widget-view+json": {
       "model_id": "82a769348f4645d3a95cad161a3fff68",
       "version_major": 2,
       "version_minor": 0
      },
      "text/html": [
       "<p>Failed to display Jupyter Widget of type <code>BoundedIntText</code>.</p>\n",
       "<p>\n",
       "  If you're reading this message in the Jupyter Notebook or JupyterLab Notebook, it may mean\n",
       "  that the widgets JavaScript is still loading. If this message persists, it\n",
       "  likely means that the widgets JavaScript library is either not installed or\n",
       "  not enabled. See the <a href=\"https://ipywidgets.readthedocs.io/en/stable/user_install.html\">Jupyter\n",
       "  Widgets Documentation</a> for setup instructions.\n",
       "</p>\n",
       "<p>\n",
       "  If you're reading this message in another frontend (for example, a static\n",
       "  rendering on GitHub or <a href=\"https://nbviewer.jupyter.org/\">NBViewer</a>),\n",
       "  it may mean that your frontend doesn't currently support widgets.\n",
       "</p>\n"
      ],
      "text/plain": [
       "BoundedIntText(value=0, description='Enter value:')"
      ]
     },
     "metadata": {},
     "output_type": "display_data"
    }
   ],
   "source": [
    "from IPython.display import clear_output\n",
    "\n",
    "Algorithm_value = widgets.BoundedIntText(\n",
    "    value = 0,\n",
    "    min = 0,\n",
    "    max = 100,\n",
    "    step = 1,\n",
    "    description = 'Enter Number:',\n",
    "    disabled = False\n",
    ")\n",
    "\n",
    "Number, rounds = number_guessing_game(1, 100, 7)\n",
    "\n",
    "def on_value_change(change):\n",
    "    \n",
    "    clear_output(wait= False)\n",
    "    display(Algorithm_value)\n",
    "    #Plot_values = []\n",
    "    #Calculate_Value(change['new'])\n",
    "    #Plot_values = Calculate_Value(change['new'])\n",
    "    #plot_stored_values(Plot_values, change['new'])\n",
    "    \n",
    "\n",
    "display(Algorithm_value)\n",
    "Algorithm_value.observe(on_value_change, names='value')    \n",
    "#number_guessing_game(1, 100, 7)"
   ]
  },
  {
   "cell_type": "code",
   "execution_count": 8,
   "metadata": {},
   "outputs": [
    {
     "data": {
      "application/vnd.jupyter.widget-view+json": {
       "model_id": "9a2583fd0507443fb69d37798e8f81e0",
       "version_major": 2,
       "version_minor": 0
      },
      "text/html": [
       "<p>Failed to display Jupyter Widget of type <code>Button</code>.</p>\n",
       "<p>\n",
       "  If you're reading this message in the Jupyter Notebook or JupyterLab Notebook, it may mean\n",
       "  that the widgets JavaScript is still loading. If this message persists, it\n",
       "  likely means that the widgets JavaScript library is either not installed or\n",
       "  not enabled. See the <a href=\"https://ipywidgets.readthedocs.io/en/stable/user_install.html\">Jupyter\n",
       "  Widgets Documentation</a> for setup instructions.\n",
       "</p>\n",
       "<p>\n",
       "  If you're reading this message in another frontend (for example, a static\n",
       "  rendering on GitHub or <a href=\"https://nbviewer.jupyter.org/\">NBViewer</a>),\n",
       "  it may mean that your frontend doesn't currently support widgets.\n",
       "</p>\n"
      ],
      "text/plain": [
       "Button(description='Start', style=ButtonStyle())"
      ]
     },
     "metadata": {},
     "output_type": "display_data"
    },
    {
     "data": {
      "application/vnd.jupyter.widget-view+json": {
       "model_id": "1dbc33fba710451b8856ccca36d64936",
       "version_major": 2,
       "version_minor": 0
      },
      "text/html": [
       "<p>Failed to display Jupyter Widget of type <code>Button</code>.</p>\n",
       "<p>\n",
       "  If you're reading this message in the Jupyter Notebook or JupyterLab Notebook, it may mean\n",
       "  that the widgets JavaScript is still loading. If this message persists, it\n",
       "  likely means that the widgets JavaScript library is either not installed or\n",
       "  not enabled. See the <a href=\"https://ipywidgets.readthedocs.io/en/stable/user_install.html\">Jupyter\n",
       "  Widgets Documentation</a> for setup instructions.\n",
       "</p>\n",
       "<p>\n",
       "  If you're reading this message in another frontend (for example, a static\n",
       "  rendering on GitHub or <a href=\"https://nbviewer.jupyter.org/\">NBViewer</a>),\n",
       "  it may mean that your frontend doesn't currently support widgets.\n",
       "</p>\n"
      ],
      "text/plain": [
       "Button(description='Restart', style=ButtonStyle())"
      ]
     },
     "metadata": {},
     "output_type": "display_data"
    },
    {
     "data": {
      "application/vnd.jupyter.widget-view+json": {
       "model_id": "c918d122b4da401188d58b56358b03d2",
       "version_major": 2,
       "version_minor": 0
      },
      "text/html": [
       "<p>Failed to display Jupyter Widget of type <code>Button</code>.</p>\n",
       "<p>\n",
       "  If you're reading this message in the Jupyter Notebook or JupyterLab Notebook, it may mean\n",
       "  that the widgets JavaScript is still loading. If this message persists, it\n",
       "  likely means that the widgets JavaScript library is either not installed or\n",
       "  not enabled. See the <a href=\"https://ipywidgets.readthedocs.io/en/stable/user_install.html\">Jupyter\n",
       "  Widgets Documentation</a> for setup instructions.\n",
       "</p>\n",
       "<p>\n",
       "  If you're reading this message in another frontend (for example, a static\n",
       "  rendering on GitHub or <a href=\"https://nbviewer.jupyter.org/\">NBViewer</a>),\n",
       "  it may mean that your frontend doesn't currently support widgets.\n",
       "</p>\n"
      ],
      "text/plain": [
       "Button(description='Stop', style=ButtonStyle())"
      ]
     },
     "metadata": {},
     "output_type": "display_data"
    }
   ],
   "source": [
    "\n",
    "\n",
    "Start_button = widgets.Button(description = \"Start\")\n",
    "display(Start_button)\n",
    "\n",
    "Restart_button = widgets.Button(description = \"Restart\")\n",
    "display(Restart_button)\n",
    "\n",
    "Stop_button = widgets.Button(description = \"Stop\")\n",
    "display(Stop_button)\n",
    "\n",
    "def on_button_clicked_1(b):\n",
    "    number_guessing_game(1, 100, 7)\n",
    "    print(\"Button clicked.\")\n",
    "\n",
    "def on_button_clicked_2(b):\n",
    "    number_guessing_game(1, 100, 7)\n",
    "    print(\"Button clicked.\")    \n",
    "Start_button.on_click(on_button_clicked_1)\n",
    "#Restart_button.on_click(on_button_clicked_2)\n"
   ]
  },
  {
   "cell_type": "code",
   "execution_count": null,
   "metadata": {},
   "outputs": [],
   "source": []
  },
  {
   "cell_type": "markdown",
   "metadata": {},
   "source": [
    "## Gold Bar Puzzle\n",
    "\n",
    "An employee works for an employer for 7 days. The employer has a gold rod of 7 units. How does the employer pays to the employee so that the employee gets 1 unit at the end of everyday. The employer can make at most 2 cuts in rod."
   ]
  },
  {
   "cell_type": "code",
   "execution_count": 9,
   "metadata": {},
   "outputs": [
    {
     "data": {
      "text/html": [
       "<iframe width=\"560\" height=\"315\" src=\"https://www.youtube.com/embed/jLQnDC07040\" frameborder=\"0\" allow=\"autoplay; encrypted-media\" allowfullscreen></iframe>"
      ],
      "text/plain": [
       "<IPython.core.display.HTML object>"
      ]
     },
     "execution_count": 9,
     "metadata": {},
     "output_type": "execute_result"
    }
   ],
   "source": [
    "\n",
    "\n",
    "HTML('<iframe width=\"560\" height=\"315\" src=\"https://www.youtube.com/embed/jLQnDC07040\" frameborder=\"0\" allow=\"autoplay; encrypted-media\" allowfullscreen></iframe>')"
   ]
  },
  {
   "cell_type": "code",
   "execution_count": 15,
   "metadata": {},
   "outputs": [
    {
     "data": {
      "text/html": [
       "<!DOCTYPE html>\n",
       "<html>\n",
       "    <head>\n",
       "        <script src=\"http://d3js.org/d3.v3.min.js\"></script>\n",
       "    </head>\n",
       "    <body>\n",
       "        \n",
       "        <script src=\"gold_bar_animation.js\"></script>\n",
       "    </body>\n",
       "</html>\n"
      ],
      "text/plain": [
       "<IPython.core.display.HTML object>"
      ]
     },
     "metadata": {},
     "output_type": "display_data"
    }
   ],
   "source": [
    "%%html\n",
    "<!DOCTYPE html>\n",
    "<html>\n",
    "    <head>\n",
    "        <script src=\"http://d3js.org/d3.v3.min.js\"></script>\n",
    "    </head>\n",
    "    <body>\n",
    "        \n",
    "        <script src=\"gold_bar_animation.js\"></script>\n",
    "    </body>\n",
    "</html>\n",
    "\n"
   ]
  },
  {
   "cell_type": "markdown",
   "metadata": {},
   "source": [
    "## Perspective of Divide and Conquer\n",
    "\n",
    "\n",
    "### politics and sociology \n",
    "\n",
    "Divide and conquer (from Latin dīvide et imperā) in politics and sociology is gaining and maintaining power by breaking up larger concentrations of power into pieces that individually have less power than the one implementing the strategy. The concept refers to a strategy that breaks up existing power structures, and especially prevents smaller power groups from linking up, causing rivalries and fomenting discord among the people. It was heavily used by British Empire in India and elsewhere.\n",
    "\n",
    "#### Elements of this technique involve:\n",
    "\n",
    "* creating or encouraging divisions among the subjects to prevent alliances that could challenge the sovereign\n",
    "* aiding and promoting those who are willing to cooperate with the sovereign\n",
    "* fostering distrust and enmity between local rulers\n",
    "* encouraging meaningless expenditures that reduce the capability for political and military spending\n",
    "\n",
    "Historically, this strategy was used in many different ways by empires seeking to expand their territories."
   ]
  },
  {
   "cell_type": "markdown",
   "metadata": {},
   "source": [
    "## Conclusion\n",
    "\n",
    "Divide and Conquer algorithm is an efficent way to solve problems that can be broken into smaller problem. This algorithm has vast impact on real life stategies like making constitution, labor laws and economics."
   ]
  },
  {
   "cell_type": "markdown",
   "metadata": {},
   "source": [
    "![alt text][bottom-banner]\n",
    "\n",
    "[bottom-banner]: ./callysto-bottom-banner.jpg"
   ]
  },
  {
   "cell_type": "code",
   "execution_count": null,
   "metadata": {},
   "outputs": [],
   "source": []
  }
 ],
 "metadata": {
  "kernelspec": {
   "display_name": "Python 3",
   "language": "python",
   "name": "python3"
  },
  "language_info": {
   "codemirror_mode": {
    "name": "ipython",
    "version": 3
   },
   "file_extension": ".py",
   "mimetype": "text/x-python",
   "name": "python",
   "nbconvert_exporter": "python",
   "pygments_lexer": "ipython3",
   "version": "3.6.5"
  }
 },
 "nbformat": 4,
 "nbformat_minor": 2
}
