{
 "cells": [
  {
   "cell_type": "code",
   "execution_count": 1,
   "metadata": {
    "scrolled": true
   },
   "outputs": [
    {
     "data": {
      "text/html": [
       "<script>\n",
       "code_show=true; \n",
       "function code_toggle() {\n",
       " if (code_show){\n",
       " $('div.input').hide();\n",
       " } else {\n",
       " $('div.input').show();\n",
       " }\n",
       " code_show = !code_show\n",
       "} \n",
       "$( document ).ready(code_toggle);\n",
       "</script>\n",
       "The raw code for this IPython notebook is by default hidden for easier reading.\n",
       "To toggle on/off the raw code, click <a href=\"javascript:code_toggle()\">here</a>."
      ],
      "text/plain": [
       "<IPython.core.display.HTML object>"
      ]
     },
     "execution_count": 1,
     "metadata": {},
     "output_type": "execute_result"
    }
   ],
   "source": [
    "from IPython.display import HTML\n",
    "HTML('''<script>\n",
    "code_show=true; \n",
    "function code_toggle() {\n",
    " if (code_show){\n",
    " $('div.input').hide();\n",
    " } else {\n",
    " $('div.input').show();\n",
    " }\n",
    " code_show = !code_show\n",
    "} \n",
    "$( document ).ready(code_toggle);\n",
    "</script>\n",
    "The raw code for this IPython notebook is by default hidden for easier reading.\n",
    "To toggle on/off the raw code, click <a href=\"javascript:code_toggle()\">here</a>.''')"
   ]
  },
  {
   "cell_type": "markdown",
   "metadata": {},
   "source": [
    "![alt text](https://github.com/callysto/callysto-sample-notebooks/blob/master/notebooks/images/Callysto_Notebook-Banner_Top_06.06.18.jpg?raw=true)  \n"
   ]
  },
  {
   "cell_type": "markdown",
   "metadata": {},
   "source": [
    "\n",
    "<h1 align='center'>Geometry Basics 2 - Irregular Shapes</h1>\n",
    "\n",
    "<h4 align='center'>Grade 8 | Mathematics</h4>"
   ]
  },
  {
   "cell_type": "code",
   "execution_count": 2,
   "metadata": {},
   "outputs": [],
   "source": [
    "import matplotlib.pyplot as plt\n",
    "import ipywidgets\n",
    "from ipywidgets import widgets, interact, interact_manual, Button, Layout\n",
    "from IPython.display import Javascript, display, Latex, clear_output, Markdown"
   ]
  },
  {
   "cell_type": "markdown",
   "metadata": {},
   "source": [
    "Geometry is one of the most valuable topics of everyday life. It is important for driving, cooking, drawing, decorating, and many other tasks. It is also instinctive to human beings. Babies use geometry when deciding that circular pieces fit in circular holes. So, this notebook is describing the math behind natural activities.\n",
    "\n",
    "In this notebook, you will learn how to measure the perimeter and area of irregular shapes. This topic will be taught through visual aids and interactive models. This notebook is the successor of the [Perimeter notebook](perimeter-triangles-and-squares.ipynb), and it is recommended you read over this notebook first."
   ]
  },
  {
   "cell_type": "markdown",
   "metadata": {},
   "source": [
    "# Irregular Shapes\n",
    "\n",
    "## Irregular Shape Introduction\n",
    "\n",
    "To better understand an *irregular shape*, we will first define what a *regular shape* is.\n",
    "\n",
    "* A **Regular Shape** is *a shape that has sides and angles that are equal.*\n",
    "* An **Irregular Shape** is *a shape that has sides and angles of any size.*\n",
    "\n",
    "This idea is easier to see through visuals. So, the following shape would be a *regular shape*:"
   ]
  },
  {
   "cell_type": "code",
   "execution_count": 65,
   "metadata": {
    "scrolled": true
   },
   "outputs": [
    {
     "data": {
      "text/html": [
       "<svg height=\"400\" width=\"1500\">\n",
       "<rect x=\"370\" y=\"30\" width=\"200\" height=\"200\" stroke=\"black\" fill=\"red\" stroke-width=\"5\"/>\n",
       "\n",
       "#The following text is for the \"4cm\" at the top of the shape\n",
       "<text x=\"455\" y=\"20\" fill=\"black\">4cm</text>\n",
       "\n",
       "</svg>\n"
      ],
      "text/plain": [
       "<IPython.core.display.HTML object>"
      ]
     },
     "metadata": {},
     "output_type": "display_data"
    }
   ],
   "source": [
    "%%html\n",
    "<svg height=\"400\" width=\"1500\">\n",
    "<rect x=\"370\" y=\"30\" width=\"200\" height=\"200\" stroke=\"black\" fill=\"red\" stroke-width=\"5\"/>\n",
    "\n",
    "#The following text is for the \"4cm\" at the top of the shape\n",
    "<text x=\"455\" y=\"20\" fill=\"black\">4cm</text>\n",
    "\n",
    "</svg>"
   ]
  },
  {
   "cell_type": "markdown",
   "metadata": {},
   "source": [
    "But, the following shape is an *irregular shape*:"
   ]
  },
  {
   "cell_type": "code",
   "execution_count": 62,
   "metadata": {},
   "outputs": [
    {
     "data": {
      "text/html": [
       "<svg height=\"400\" width=\"1500\">\n",
       "\n",
       "#First point is at x = 300 and y = 80\n",
       "#Second point at x = 500 and y = 40\n",
       "#Third point at x = 650 and y = 200\n",
       "#Fourth point at x = 260 and y = 200\n",
       "<polygon points=\"300 80 500 40 650 200 260 200\" \n",
       " stroke=\"black\" fill=\"midnightblue\" stroke-width=\"5\"/>\n",
       "\n",
       "#The following text is for the \"4cm\" at the left side of the shape\n",
       "<text x=\"265\" y=\"150\" fill=\"black\" transform=\"rotate(-70 265,150)\">4cm</text>\n",
       "\n",
       "#The following text is for the \"6cm\" at the top of the shape\n",
       "<text x=\"380\" y=\"55\" fill=\"black\" transform=\"rotate(-10 380,55)\">6cm</text>\n",
       "\n",
       "#The following text is for the \"7cm\" at the right side of the shape\n",
       "<text x=\"570\" y=\"100\" fill=\"black\" transform=\"rotate(50 570,100)\">7cm</text>\n",
       "\n",
       "#The following text is for the \"9cm\" at the bottom of the shape\n",
       "<text x=\"430\" y=\"220\" fill=\"black\">9cm</text>\n",
       "\n",
       "</svg>\n"
      ],
      "text/plain": [
       "<IPython.core.display.HTML object>"
      ]
     },
     "metadata": {},
     "output_type": "display_data"
    }
   ],
   "source": [
    "%%html\n",
    "<svg height=\"400\" width=\"1500\">\n",
    "\n",
    "#First point is at x = 300 and y = 80\n",
    "#Second point at x = 500 and y = 40\n",
    "#Third point at x = 650 and y = 200\n",
    "#Fourth point at x = 260 and y = 200\n",
    "<polygon points=\"300 80 500 40 650 200 260 200\" \n",
    " stroke=\"black\" fill=\"midnightblue\" stroke-width=\"5\"/>\n",
    "\n",
    "#The following text is for the \"4cm\" at the left side of the shape\n",
    "<text x=\"265\" y=\"150\" fill=\"black\" transform=\"rotate(-70 265,150)\">4cm</text>\n",
    "\n",
    "#The following text is for the \"6cm\" at the top of the shape\n",
    "<text x=\"380\" y=\"55\" fill=\"black\" transform=\"rotate(-10 380,55)\">6cm</text>\n",
    "\n",
    "#The following text is for the \"7cm\" at the right side of the shape\n",
    "<text x=\"570\" y=\"100\" fill=\"black\" transform=\"rotate(50 570,100)\">7cm</text>\n",
    "\n",
    "#The following text is for the \"9cm\" at the bottom of the shape\n",
    "<text x=\"430\" y=\"220\" fill=\"black\">9cm</text>\n",
    "\n",
    "</svg>"
   ]
  },
  {
   "cell_type": "markdown",
   "metadata": {},
   "source": [
    "You may have noticed that you have already seen both of the examples above! This should help you feel more comfortable with the idea of irregular shapes.\n",
    "\n",
    "To find the **perimeter** and **area** of these shapes, we **begin by dividing the shape into smaller pieces.** This will help us with our calculations greatly.  The continued example found below will help show this idea.\n",
    "\n",
    "## A Continued Example\n",
    "We will use the following *irregular shape* for the rest of our lesson:"
   ]
  },
  {
   "cell_type": "code",
   "execution_count": 61,
   "metadata": {},
   "outputs": [
    {
     "data": {
      "text/html": [
       "<svg height=\"550\" width=\"1500\">\n",
       "\n",
       "#### The following code is for the shape bellow.\n",
       "#First point is at x = 200 and y = 300\n",
       "#Second point at x = 450 and y = 300\n",
       "#Third point at x = 450 and y = 200\n",
       "#Fourth point at x = 650 and y = 300\n",
       "#Fifth point is at x = 800 and y = 300\n",
       "#Sixth point at x = 650 and y = 100\n",
       "#Seventh point at x = 450 and y = 100\n",
       "#Eight point at x = 450 and y = 50\n",
       "#Ninth point is at x = 400 and y = 50\n",
       "#Tenth point at x = 400 and y = 100\n",
       "#Elleventh point at x = 100 and y = 100\n",
       "#Twelfth point at x = 300 and y = 230\n",
       "<polygon points = \"200 300 450 300 450 200 650 300 650 100 450 100 450 50 400 50 400 100 100 100 300 230\"\n",
       " stroke=\"black\" fill=\"salmon\" stroke-width=\"5\"/>\n",
       "\n",
       "</svg>\n"
      ],
      "text/plain": [
       "<IPython.core.display.HTML object>"
      ]
     },
     "metadata": {},
     "output_type": "display_data"
    }
   ],
   "source": [
    "%%html\n",
    "<svg height=\"550\" width=\"1500\">\n",
    "\n",
    "#### The following code is for the shape bellow.\n",
    "#First point is at x = 200 and y = 300\n",
    "#Second point at x = 450 and y = 300\n",
    "#Third point at x = 450 and y = 200\n",
    "#Fourth point at x = 650 and y = 300\n",
    "#Fifth point is at x = 800 and y = 300\n",
    "#Sixth point at x = 650 and y = 100\n",
    "#Seventh point at x = 450 and y = 100\n",
    "#Eight point at x = 450 and y = 50\n",
    "#Ninth point is at x = 400 and y = 50\n",
    "#Tenth point at x = 400 and y = 100\n",
    "#Elleventh point at x = 100 and y = 100\n",
    "#Twelfth point at x = 300 and y = 230\n",
    "<polygon points = \"200 300 450 300 450 200 650 300 650 100 450 100 450 50 400 50 400 100 100 100 300 230\"\n",
    " stroke=\"black\" fill=\"salmon\" stroke-width=\"5\"/>\n",
    "\n",
    "</svg>"
   ]
  },
  {
   "cell_type": "markdown",
   "metadata": {},
   "source": [
    "Let's say you want to find the **perimeter** and **area** of this shape. To begin, you want to split the shape up into smaller shapes. These smaller shapes should be shapes you are more familiar with:"
   ]
  },
  {
   "cell_type": "code",
   "execution_count": 59,
   "metadata": {
    "scrolled": false
   },
   "outputs": [
    {
     "data": {
      "text/html": [
       "<svg height=\"550\" width=\"1500\">\n",
       "\n",
       "<polygon points = \"200 300 450 300 450 200 650 300 650 100 450 100 450 50 400 50 400 100 100 100 300 230\"\n",
       " stroke=\"black\" fill=\"salmon\" stroke-width=\"5\"/>\n",
       "\n",
       "#The following text is for the \"4cm\" at the bottom of the shape\n",
       "<text x=\"245\" y=\"320\" fill=\"black\">4cm</text>\n",
       "    \n",
       "#The following text is for the \"9cm\" at the bottom of the shape\n",
       "<text x=\"360\" y=\"320\" fill=\"black\">9cm</text>\n",
       "\n",
       "#The following text is for the \"x\" at the bottom of the shape\n",
       "<text x=\"440\" y=\"255\" fill=\"black\" transform=\"rotate(-90 440,255)\"> x </text>\n",
       "\n",
       "#The following text is for the \"11cm\" at the bottom side of the shape\n",
       "<text x=\"540\" y=\"235\" fill=\"black\" transform=\"rotate(32 540,235)\">11cm</text>\n",
       "\n",
       "#The following text is for the \"10cm\" at the right side of the shape\n",
       "<text x=\"645\" y=\"215\" fill=\"black\" transform=\"rotate(-90 645,215)\">10cm</text>\n",
       "\n",
       "#The following text is for the \"y\" at the top of the shape\n",
       "<text x=\"535\" y=\"90\" fill=\"black\"> y </text>\n",
       "\n",
       "#The following text is for the \"15cm\" at the top of the shape\n",
       "<text x=\"250\" y=\"90\" fill=\"black\"> 15cm </text>\n",
       "\n",
       "#The following text is for the \"12cm\" at the left side of the shape\n",
       "<text x=\"190\" y=\"180\" fill=\"black\" transform=\"rotate(35 190,180)\">12cm</text>\n",
       "\n",
       "#The following text is for the \"5cm\" at the left side of the shape\n",
       "<text x=\"240\" y=\"265\" fill=\"black\" transform=\"rotate(-40 240,265)\">5cm</text>\n",
       "\n",
       "\n",
       "### Dashed line at the bottom to make a triangle\n",
       "<line x1=\"450\" y1=\"300\" x2=\"650\" y2=\"300\" stroke=\"black\" stroke-width=\"2\" stroke-dasharray=8/>    \n",
       "\n",
       "#The following text is for the \"10cm\" at the bottom of the shape\n",
       "<text x=\"525\" y=\"295\" fill=\"black\">10cm</text>\n",
       "\n",
       "\n",
       "#### Dashed line at the top of the shape to make a square\n",
       "<line x1=\"400\" y1=\"100\" x2=\"450\" y2=\"100\" stroke=\"black\" stroke-width=\"2\" stroke-dasharray=8/>   \n",
       "\n",
       "#The following text is for the \"3cm\" at the top of the shape\n",
       "<text x=\"412\" y=\"115\" fill=\"black\">3cm</text>\n",
       "\n",
       "\n",
       "#### Dashed line at the left side of the shape to make two triangles\n",
       "<line x1=\"305\" y1=\"100\" x2=\"305\" y2=\"300\" stroke=\"black\" stroke-width=\"2\" stroke-dasharray=8/>   \n",
       "\n",
       "#Line at the left to separate two triangles\n",
       "<line x1=\"305\" y1=\"230\" x2=\"320\" y2=\"230\" stroke=\"black\" stroke-width=\"3\"/> \n",
       "\n",
       "#The following text is for the \"7cm\" at the left side of the shape\n",
       "<text x=\"310\" y=\"150\" fill=\"black\" transform=\"rotate(90 310,150)\">7cm</text>\n",
       "\n",
       "#The following text is for the \"z\" at the left side of the shape\n",
       "<text x=\"310\" y=\"260\" fill=\"black\" transform=\"rotate(90 310,260)\"> z </text> \n",
       "\n",
       "\n",
       "#### Line at the bottom side of the shape to give two numbers\n",
       "<line x1=\"305\" y1=\"300\" x2=\"305\" y2=\"315\" stroke=\"black\" stroke-width=\"3\"/>   \n",
       "\n",
       "</svg>\n"
      ],
      "text/plain": [
       "<IPython.core.display.HTML object>"
      ]
     },
     "metadata": {},
     "output_type": "display_data"
    }
   ],
   "source": [
    "%%html\n",
    "<svg height=\"550\" width=\"1500\">\n",
    "\n",
    "<polygon points = \"200 300 450 300 450 200 650 300 650 100 450 100 450 50 400 50 400 100 100 100 300 230\"\n",
    " stroke=\"black\" fill=\"salmon\" stroke-width=\"5\"/>\n",
    "\n",
    "#The following text is for the \"4cm\" at the bottom of the shape\n",
    "<text x=\"245\" y=\"320\" fill=\"black\">4cm</text>\n",
    "    \n",
    "#The following text is for the \"9cm\" at the bottom of the shape\n",
    "<text x=\"360\" y=\"320\" fill=\"black\">9cm</text>\n",
    "\n",
    "#The following text is for the \"x\" at the bottom of the shape\n",
    "<text x=\"440\" y=\"255\" fill=\"black\" transform=\"rotate(-90 440,255)\"> x </text>\n",
    "\n",
    "#The following text is for the \"11cm\" at the bottom side of the shape\n",
    "<text x=\"540\" y=\"235\" fill=\"black\" transform=\"rotate(32 540,235)\">11cm</text>\n",
    "\n",
    "#The following text is for the \"10cm\" at the right side of the shape\n",
    "<text x=\"645\" y=\"215\" fill=\"black\" transform=\"rotate(-90 645,215)\">10cm</text>\n",
    "\n",
    "#The following text is for the \"y\" at the top of the shape\n",
    "<text x=\"535\" y=\"90\" fill=\"black\"> y </text>\n",
    "\n",
    "#The following text is for the \"15cm\" at the top of the shape\n",
    "<text x=\"250\" y=\"90\" fill=\"black\"> 15cm </text>\n",
    "\n",
    "#The following text is for the \"12cm\" at the left side of the shape\n",
    "<text x=\"190\" y=\"180\" fill=\"black\" transform=\"rotate(35 190,180)\">12cm</text>\n",
    "\n",
    "#The following text is for the \"5cm\" at the left side of the shape\n",
    "<text x=\"240\" y=\"265\" fill=\"black\" transform=\"rotate(-40 240,265)\">5cm</text>\n",
    "\n",
    "\n",
    "### Dashed line at the bottom to make a triangle\n",
    "<line x1=\"450\" y1=\"300\" x2=\"650\" y2=\"300\" stroke=\"black\" stroke-width=\"2\" stroke-dasharray=8/>    \n",
    "\n",
    "#The following text is for the \"10cm\" at the bottom of the shape\n",
    "<text x=\"525\" y=\"295\" fill=\"black\">10cm</text>\n",
    "\n",
    "\n",
    "#### Dashed line at the top of the shape to make a square\n",
    "<line x1=\"400\" y1=\"100\" x2=\"450\" y2=\"100\" stroke=\"black\" stroke-width=\"2\" stroke-dasharray=8/>   \n",
    "\n",
    "#The following text is for the \"3cm\" at the top of the shape\n",
    "<text x=\"412\" y=\"115\" fill=\"black\">3cm</text>\n",
    "\n",
    "\n",
    "#### Dashed line at the left side of the shape to make two triangles\n",
    "<line x1=\"305\" y1=\"100\" x2=\"305\" y2=\"300\" stroke=\"black\" stroke-width=\"2\" stroke-dasharray=8/>   \n",
    "\n",
    "#Line at the left to separate two triangles\n",
    "<line x1=\"305\" y1=\"230\" x2=\"320\" y2=\"230\" stroke=\"black\" stroke-width=\"3\"/> \n",
    "\n",
    "#The following text is for the \"7cm\" at the left side of the shape\n",
    "<text x=\"310\" y=\"150\" fill=\"black\" transform=\"rotate(90 310,150)\">7cm</text>\n",
    "\n",
    "#The following text is for the \"z\" at the left side of the shape\n",
    "<text x=\"310\" y=\"260\" fill=\"black\" transform=\"rotate(90 310,260)\"> z </text> \n",
    "\n",
    "\n",
    "#### Line at the bottom side of the shape to give two numbers\n",
    "<line x1=\"305\" y1=\"300\" x2=\"305\" y2=\"315\" stroke=\"black\" stroke-width=\"3\"/>   \n",
    "\n",
    "</svg>"
   ]
  },
  {
   "cell_type": "markdown",
   "metadata": {},
   "source": [
    "This may seem very intimidating at first. But don't be too worried, we will solve for the perimeter and area of this shape slowly!\n",
    "\n",
    "We will begin by finding the variables that are missing. Let's begin by finding the $x$ value:"
   ]
  },
  {
   "cell_type": "code",
   "execution_count": 58,
   "metadata": {
    "scrolled": false
   },
   "outputs": [
    {
     "data": {
      "text/html": [
       "<svg height=\"550\" width=\"1500\">\n",
       "\n",
       "<polygon points = \"200 300 450 300 450 200 650 300 650 100 450 100 450 50 400 50 400 100 100 100 300 230\"\n",
       " stroke=\"black\" fill=\"salmon\" stroke-width=\"5\"/>\n",
       "\n",
       "#The following text is for the \"x\" at the bottom of the shape\n",
       "<text x=\"440\" y=\"255\" fill=\"black\" transform=\"rotate(-90 440,255)\"> x </text>\n",
       "\n",
       "#The following text is for the \"11cm\" at the bottom side of the shape\n",
       "<text x=\"540\" y=\"235\" fill=\"black\" transform=\"rotate(32 540,235)\">11cm</text>\n",
       "\n",
       "### Dashed line at the bottom to make a triangle\n",
       "<line x1=\"450\" y1=\"300\" x2=\"650\" y2=\"300\" stroke=\"black\" stroke-width=\"2\" stroke-dasharray=8/>    \n",
       "\n",
       "#The following text is for the \"10cm\" at the bottom of the shape\n",
       "<text x=\"525\" y=\"295\" fill=\"black\">10cm</text>\n",
       "\n",
       "</svg>\n"
      ],
      "text/plain": [
       "<IPython.core.display.HTML object>"
      ]
     },
     "metadata": {},
     "output_type": "display_data"
    }
   ],
   "source": [
    "%%html\n",
    "<svg height=\"550\" width=\"1500\">\n",
    "\n",
    "<polygon points = \"200 300 450 300 450 200 650 300 650 100 450 100 450 50 400 50 400 100 100 100 300 230\"\n",
    " stroke=\"black\" fill=\"salmon\" stroke-width=\"5\"/>\n",
    "\n",
    "#The following text is for the \"x\" at the bottom of the shape\n",
    "<text x=\"440\" y=\"255\" fill=\"black\" transform=\"rotate(-90 440,255)\"> x </text>\n",
    "\n",
    "#The following text is for the \"11cm\" at the bottom side of the shape\n",
    "<text x=\"540\" y=\"235\" fill=\"black\" transform=\"rotate(32 540,235)\">11cm</text>\n",
    "\n",
    "### Dashed line at the bottom to make a triangle\n",
    "<line x1=\"450\" y1=\"300\" x2=\"650\" y2=\"300\" stroke=\"black\" stroke-width=\"2\" stroke-dasharray=8/>    \n",
    "\n",
    "#The following text is for the \"10cm\" at the bottom of the shape\n",
    "<text x=\"525\" y=\"295\" fill=\"black\">10cm</text>\n",
    "\n",
    "</svg>"
   ]
  },
  {
   "cell_type": "markdown",
   "metadata": {},
   "source": [
    "To find the length of $x$, we will use the Pythagorean theorem. Since $x$ can be seen as the \"$A$\" value, $10$ as the \"$B$\" value, and $11$ as the \"$C$\" value, we can do:\n",
    "\n",
    "### $$\n",
    "\\begin{align*}\n",
    "x &= \\sqrt {(11\\textrm{cm})^2 - (10\\textrm{cm})^2} \\\\\n",
    "&= \\sqrt {121\\textrm{cm}^2 - 100\\textrm{cm}^2}\\\\\n",
    "&= \\sqrt {21\\textrm{cm}^2}\n",
    "\\end{align*}\n",
    "$$\n",
    "\n",
    "So, we know that the length of $x \\approx 5\\textrm{cm}$\n",
    "\n",
    "Now, we can add this value to our shape:"
   ]
  },
  {
   "cell_type": "code",
   "execution_count": 57,
   "metadata": {},
   "outputs": [
    {
     "data": {
      "text/html": [
       "<svg height=\"550\" width=\"1500\">\n",
       "\n",
       "<polygon points = \"200 300 450 300 450 200 650 300 650 100 450 100 450 50 400 50 400 100 100 100 300 230\"\n",
       " stroke=\"black\" fill=\"salmon\" stroke-width=\"5\"/>\n",
       "\n",
       "#The following text is for the \"4cm\" at the bottom of the shape\n",
       "<text x=\"245\" y=\"320\" fill=\"black\">4cm</text>\n",
       "    \n",
       "#The following text is for the \"9cm\" at the bottom of the shape\n",
       "<text x=\"360\" y=\"320\" fill=\"black\">9cm</text>\n",
       "\n",
       "#The following text is for the \"4cm\" at the bottom of the shape\n",
       "<text x=\"440\" y=\"260\" fill=\"black\" transform=\"rotate(-90 440,260)\">4cm</text>\n",
       "\n",
       "#The following text is for the \"11cm\" at the bottom side of the shape\n",
       "<text x=\"540\" y=\"235\" fill=\"black\" transform=\"rotate(32 540,235)\">11cm</text>\n",
       "\n",
       "#The following text is for the \"10cm\" at the right side of the shape\n",
       "<text x=\"645\" y=\"215\" fill=\"black\" transform=\"rotate(-90 645,215)\">10cm</text>\n",
       "\n",
       "#The following text is for the \"y\" at the top of the shape\n",
       "<text x=\"535\" y=\"90\" fill=\"black\"> y </text>\n",
       "\n",
       "#The following text is for the \"15cm\" at the top of the shape\n",
       "<text x=\"250\" y=\"90\" fill=\"black\"> 15cm </text>\n",
       "\n",
       "#The following text is for the \"12cm\" at the left side of the shape\n",
       "<text x=\"190\" y=\"180\" fill=\"black\" transform=\"rotate(35 190,180)\">12cm</text>\n",
       "\n",
       "#The following text is for the \"5cm\" at the left side of the shape\n",
       "<text x=\"240\" y=\"265\" fill=\"black\" transform=\"rotate(-40 240,265)\">5cm</text>\n",
       "\n",
       "\n",
       "### Dashed line at the bottom to make a triangle\n",
       "<line x1=\"450\" y1=\"300\" x2=\"650\" y2=\"300\" stroke=\"black\" stroke-width=\"2\" stroke-dasharray=8/>    \n",
       "\n",
       "#The following text is for the \"10cm\" at the bottom of the shape\n",
       "<text x=\"525\" y=\"295\" fill=\"black\">10cm</text>\n",
       "\n",
       "\n",
       "#### Dashed line at the top of the shape to make a square\n",
       "<line x1=\"400\" y1=\"100\" x2=\"450\" y2=\"100\" stroke=\"black\" stroke-width=\"2\" stroke-dasharray=8/>   \n",
       "\n",
       "#The following text is for the \"3cm\" at the top of the shape\n",
       "<text x=\"412\" y=\"115\" fill=\"black\">3cm</text>\n",
       "\n",
       "\n",
       "#### Dashed line at the left side of the shape to make two triangles\n",
       "<line x1=\"305\" y1=\"100\" x2=\"305\" y2=\"300\" stroke=\"black\" stroke-width=\"2\" stroke-dasharray=8/>   \n",
       "\n",
       "#Line at the left to separate two triangles\n",
       "<line x1=\"305\" y1=\"230\" x2=\"320\" y2=\"230\" stroke=\"black\" stroke-width=\"3\"/> \n",
       "\n",
       "#The following text is for the \"7cm\" at the left side of the shape\n",
       "<text x=\"310\" y=\"150\" fill=\"black\" transform=\"rotate(90 310,150)\">7cm</text>\n",
       "\n",
       "#The following text is for the \"z\" at the left side of the shape\n",
       "<text x=\"310\" y=\"260\" fill=\"black\" transform=\"rotate(90 310,260)\"> z </text> \n",
       "\n",
       "\n",
       "#### Line at the bottom side of the shape to give two numbers\n",
       "<line x1=\"305\" y1=\"300\" x2=\"305\" y2=\"315\" stroke=\"black\" stroke-width=\"3\"/>   \n",
       "\n",
       "</svg>\n"
      ],
      "text/plain": [
       "<IPython.core.display.HTML object>"
      ]
     },
     "metadata": {},
     "output_type": "display_data"
    }
   ],
   "source": [
    "%%html\n",
    "<svg height=\"550\" width=\"1500\">\n",
    "\n",
    "<polygon points = \"200 300 450 300 450 200 650 300 650 100 450 100 450 50 400 50 400 100 100 100 300 230\"\n",
    " stroke=\"black\" fill=\"salmon\" stroke-width=\"5\"/>\n",
    "\n",
    "#The following text is for the \"4cm\" at the bottom of the shape\n",
    "<text x=\"245\" y=\"320\" fill=\"black\">4cm</text>\n",
    "    \n",
    "#The following text is for the \"9cm\" at the bottom of the shape\n",
    "<text x=\"360\" y=\"320\" fill=\"black\">9cm</text>\n",
    "\n",
    "#The following text is for the \"4cm\" at the bottom of the shape\n",
    "<text x=\"440\" y=\"260\" fill=\"black\" transform=\"rotate(-90 440,260)\">4cm</text>\n",
    "\n",
    "#The following text is for the \"11cm\" at the bottom side of the shape\n",
    "<text x=\"540\" y=\"235\" fill=\"black\" transform=\"rotate(32 540,235)\">11cm</text>\n",
    "\n",
    "#The following text is for the \"10cm\" at the right side of the shape\n",
    "<text x=\"645\" y=\"215\" fill=\"black\" transform=\"rotate(-90 645,215)\">10cm</text>\n",
    "\n",
    "#The following text is for the \"y\" at the top of the shape\n",
    "<text x=\"535\" y=\"90\" fill=\"black\"> y </text>\n",
    "\n",
    "#The following text is for the \"15cm\" at the top of the shape\n",
    "<text x=\"250\" y=\"90\" fill=\"black\"> 15cm </text>\n",
    "\n",
    "#The following text is for the \"12cm\" at the left side of the shape\n",
    "<text x=\"190\" y=\"180\" fill=\"black\" transform=\"rotate(35 190,180)\">12cm</text>\n",
    "\n",
    "#The following text is for the \"5cm\" at the left side of the shape\n",
    "<text x=\"240\" y=\"265\" fill=\"black\" transform=\"rotate(-40 240,265)\">5cm</text>\n",
    "\n",
    "\n",
    "### Dashed line at the bottom to make a triangle\n",
    "<line x1=\"450\" y1=\"300\" x2=\"650\" y2=\"300\" stroke=\"black\" stroke-width=\"2\" stroke-dasharray=8/>    \n",
    "\n",
    "#The following text is for the \"10cm\" at the bottom of the shape\n",
    "<text x=\"525\" y=\"295\" fill=\"black\">10cm</text>\n",
    "\n",
    "\n",
    "#### Dashed line at the top of the shape to make a square\n",
    "<line x1=\"400\" y1=\"100\" x2=\"450\" y2=\"100\" stroke=\"black\" stroke-width=\"2\" stroke-dasharray=8/>   \n",
    "\n",
    "#The following text is for the \"3cm\" at the top of the shape\n",
    "<text x=\"412\" y=\"115\" fill=\"black\">3cm</text>\n",
    "\n",
    "\n",
    "#### Dashed line at the left side of the shape to make two triangles\n",
    "<line x1=\"305\" y1=\"100\" x2=\"305\" y2=\"300\" stroke=\"black\" stroke-width=\"2\" stroke-dasharray=8/>   \n",
    "\n",
    "#Line at the left to separate two triangles\n",
    "<line x1=\"305\" y1=\"230\" x2=\"320\" y2=\"230\" stroke=\"black\" stroke-width=\"3\"/> \n",
    "\n",
    "#The following text is for the \"7cm\" at the left side of the shape\n",
    "<text x=\"310\" y=\"150\" fill=\"black\" transform=\"rotate(90 310,150)\">7cm</text>\n",
    "\n",
    "#The following text is for the \"z\" at the left side of the shape\n",
    "<text x=\"310\" y=\"260\" fill=\"black\" transform=\"rotate(90 310,260)\"> z </text> \n",
    "\n",
    "\n",
    "#### Line at the bottom side of the shape to give two numbers\n",
    "<line x1=\"305\" y1=\"300\" x2=\"305\" y2=\"315\" stroke=\"black\" stroke-width=\"3\"/>   \n",
    "\n",
    "</svg>"
   ]
  },
  {
   "cell_type": "markdown",
   "metadata": {},
   "source": [
    "Let's continue by finding the length of $y$. To do this, we have to look at the values we already have:"
   ]
  },
  {
   "cell_type": "code",
   "execution_count": 55,
   "metadata": {},
   "outputs": [
    {
     "data": {
      "text/html": [
       "<svg height=\"550\" width=\"1500\">\n",
       "\n",
       "<polygon points = \"200 300 450 300 450 200 650 300 650 100 450 100 450 50 400 50 400 100 100 100 300 230\"\n",
       " stroke=\"black\" fill=\"salmon\" stroke-width=\"5\"/>\n",
       "\n",
       "#The following text is for the \"y\" at the top of the shape\n",
       "<text x=\"535\" y=\"90\" fill=\"black\"> y </text>\n",
       "\n",
       "### Dashed line at the bottom to make a triangle\n",
       "<line x1=\"450\" y1=\"300\" x2=\"650\" y2=\"300\" stroke=\"black\" stroke-width=\"2\" stroke-dasharray=8/>    \n",
       "\n",
       "#The following text is for the \"10cm\" at the bottom of the shape\n",
       "<text x=\"525\" y=\"295\" fill=\"black\">10cm</text>\n",
       "\n",
       "</svg>\n"
      ],
      "text/plain": [
       "<IPython.core.display.HTML object>"
      ]
     },
     "metadata": {},
     "output_type": "display_data"
    }
   ],
   "source": [
    "%%html\n",
    "<svg height=\"550\" width=\"1500\">\n",
    "\n",
    "<polygon points = \"200 300 450 300 450 200 650 300 650 100 450 100 450 50 400 50 400 100 100 100 300 230\"\n",
    " stroke=\"black\" fill=\"salmon\" stroke-width=\"5\"/>\n",
    "\n",
    "#The following text is for the \"y\" at the top of the shape\n",
    "<text x=\"535\" y=\"90\" fill=\"black\"> y </text>\n",
    "\n",
    "### Dashed line at the bottom to make a triangle\n",
    "<line x1=\"450\" y1=\"300\" x2=\"650\" y2=\"300\" stroke=\"black\" stroke-width=\"2\" stroke-dasharray=8/>    \n",
    "\n",
    "#The following text is for the \"10cm\" at the bottom of the shape\n",
    "<text x=\"525\" y=\"295\" fill=\"black\">10cm</text>\n",
    "\n",
    "</svg>"
   ]
  },
  {
   "cell_type": "markdown",
   "metadata": {},
   "source": [
    "The bottom $10$cm is the same length as the length of $y$. So, we know that the length of $y = 10\\textrm{cm}$\n",
    "\n",
    "Now, we can add this value to our shape:"
   ]
  },
  {
   "cell_type": "code",
   "execution_count": 52,
   "metadata": {
    "scrolled": false
   },
   "outputs": [
    {
     "data": {
      "text/html": [
       "<svg height=\"550\" width=\"1500\">\n",
       "\n",
       "<polygon points = \"200 300 450 300 450 200 650 300 650 100 450 100 450 50 400 50 400 100 100 100 300 230\"\n",
       " stroke=\"black\" fill=\"salmon\" stroke-width=\"5\"/>\n",
       "\n",
       "#The following text is for the \"4cm\" at the bottom of the shape\n",
       "<text x=\"245\" y=\"320\" fill=\"black\">4cm</text>\n",
       "    \n",
       "#The following text is for the \"9cm\" at the bottom of the shape\n",
       "<text x=\"360\" y=\"320\" fill=\"black\">9cm</text>\n",
       "\n",
       "#The following text is for the \"5cm\" at the bottom of the shape\n",
       "<text x=\"440\" y=\"260\" fill=\"black\" transform=\"rotate(-90 440,260)\">5cm</text>\n",
       "\n",
       "#The following text is for the \"11cm\" at the bottom side of the shape\n",
       "<text x=\"540\" y=\"235\" fill=\"black\" transform=\"rotate(32 540,235)\">11cm</text>\n",
       "\n",
       "#The following text is for the \"10cm\" at the right side of the shape\n",
       "<text x=\"645\" y=\"215\" fill=\"black\" transform=\"rotate(-90 645,215)\">10cm</text>\n",
       "\n",
       "#The following text is for the \"10cm\" at the top of the shape\n",
       "<text x=\"535\" y=\"90\" fill=\"black\">10cm</text>\n",
       "\n",
       "#The following text is for the \"15cm\" at the top of the shape\n",
       "<text x=\"250\" y=\"90\" fill=\"black\"> 15cm </text>\n",
       "\n",
       "#The following text is for the \"12cm\" at the left side of the shape\n",
       "<text x=\"190\" y=\"180\" fill=\"black\" transform=\"rotate(35 190,180)\">12cm</text>\n",
       "\n",
       "#The following text is for the \"5cm\" at the left side of the shape\n",
       "<text x=\"240\" y=\"265\" fill=\"black\" transform=\"rotate(-40 240,265)\">5cm</text>\n",
       "\n",
       "\n",
       "### Dashed line at the bottom to make a triangle\n",
       "<line x1=\"450\" y1=\"300\" x2=\"650\" y2=\"300\" stroke=\"black\" stroke-width=\"2\" stroke-dasharray=8/>    \n",
       "\n",
       "#The following text is for the \"10cm\" at the bottom of the shape\n",
       "<text x=\"525\" y=\"295\" fill=\"black\">10cm</text>\n",
       "\n",
       "\n",
       "#### Dashed line at the top of the shape to make a square\n",
       "<line x1=\"400\" y1=\"100\" x2=\"450\" y2=\"100\" stroke=\"black\" stroke-width=\"2\" stroke-dasharray=8/>   \n",
       "\n",
       "#The following text is for the \"3cm\" at the top of the shape\n",
       "<text x=\"412\" y=\"115\" fill=\"black\">3cm</text>\n",
       "\n",
       "\n",
       "#### Dashed line at the left side of the shape to make two triangles\n",
       "<line x1=\"305\" y1=\"100\" x2=\"305\" y2=\"300\" stroke=\"black\" stroke-width=\"2\" stroke-dasharray=8/>   \n",
       "\n",
       "#Line at the left to separate two triangles\n",
       "<line x1=\"305\" y1=\"230\" x2=\"320\" y2=\"230\" stroke=\"black\" stroke-width=\"3\"/> \n",
       "\n",
       "#The following text is for the \"7cm\" at the left side of the shape\n",
       "<text x=\"310\" y=\"150\" fill=\"black\" transform=\"rotate(90 310,150)\">7cm</text>\n",
       "\n",
       "#The following text is for the \"z\" at the left side of the shape\n",
       "<text x=\"310\" y=\"260\" fill=\"black\" transform=\"rotate(90 310,260)\"> z </text> \n",
       "\n",
       "\n",
       "#### Line at the bottom side of the shape to give two numbers\n",
       "<line x1=\"305\" y1=\"300\" x2=\"305\" y2=\"315\" stroke=\"black\" stroke-width=\"3\"/>   \n",
       "\n",
       "</svg>\n"
      ],
      "text/plain": [
       "<IPython.core.display.HTML object>"
      ]
     },
     "metadata": {},
     "output_type": "display_data"
    }
   ],
   "source": [
    "%%html\n",
    "<svg height=\"550\" width=\"1500\">\n",
    "\n",
    "<polygon points = \"200 300 450 300 450 200 650 300 650 100 450 100 450 50 400 50 400 100 100 100 300 230\"\n",
    " stroke=\"black\" fill=\"salmon\" stroke-width=\"5\"/>\n",
    "\n",
    "#The following text is for the \"4cm\" at the bottom of the shape\n",
    "<text x=\"245\" y=\"320\" fill=\"black\">4cm</text>\n",
    "    \n",
    "#The following text is for the \"9cm\" at the bottom of the shape\n",
    "<text x=\"360\" y=\"320\" fill=\"black\">9cm</text>\n",
    "\n",
    "#The following text is for the \"5cm\" at the bottom of the shape\n",
    "<text x=\"440\" y=\"260\" fill=\"black\" transform=\"rotate(-90 440,260)\">5cm</text>\n",
    "\n",
    "#The following text is for the \"11cm\" at the bottom side of the shape\n",
    "<text x=\"540\" y=\"235\" fill=\"black\" transform=\"rotate(32 540,235)\">11cm</text>\n",
    "\n",
    "#The following text is for the \"10cm\" at the right side of the shape\n",
    "<text x=\"645\" y=\"215\" fill=\"black\" transform=\"rotate(-90 645,215)\">10cm</text>\n",
    "\n",
    "#The following text is for the \"10cm\" at the top of the shape\n",
    "<text x=\"535\" y=\"90\" fill=\"black\">10cm</text>\n",
    "\n",
    "#The following text is for the \"15cm\" at the top of the shape\n",
    "<text x=\"250\" y=\"90\" fill=\"black\"> 15cm </text>\n",
    "\n",
    "#The following text is for the \"12cm\" at the left side of the shape\n",
    "<text x=\"190\" y=\"180\" fill=\"black\" transform=\"rotate(35 190,180)\">12cm</text>\n",
    "\n",
    "#The following text is for the \"5cm\" at the left side of the shape\n",
    "<text x=\"240\" y=\"265\" fill=\"black\" transform=\"rotate(-40 240,265)\">5cm</text>\n",
    "\n",
    "\n",
    "### Dashed line at the bottom to make a triangle\n",
    "<line x1=\"450\" y1=\"300\" x2=\"650\" y2=\"300\" stroke=\"black\" stroke-width=\"2\" stroke-dasharray=8/>    \n",
    "\n",
    "#The following text is for the \"10cm\" at the bottom of the shape\n",
    "<text x=\"525\" y=\"295\" fill=\"black\">10cm</text>\n",
    "\n",
    "\n",
    "#### Dashed line at the top of the shape to make a square\n",
    "<line x1=\"400\" y1=\"100\" x2=\"450\" y2=\"100\" stroke=\"black\" stroke-width=\"2\" stroke-dasharray=8/>   \n",
    "\n",
    "#The following text is for the \"3cm\" at the top of the shape\n",
    "<text x=\"412\" y=\"115\" fill=\"black\">3cm</text>\n",
    "\n",
    "\n",
    "#### Dashed line at the left side of the shape to make two triangles\n",
    "<line x1=\"305\" y1=\"100\" x2=\"305\" y2=\"300\" stroke=\"black\" stroke-width=\"2\" stroke-dasharray=8/>   \n",
    "\n",
    "#Line at the left to separate two triangles\n",
    "<line x1=\"305\" y1=\"230\" x2=\"320\" y2=\"230\" stroke=\"black\" stroke-width=\"3\"/> \n",
    "\n",
    "#The following text is for the \"7cm\" at the left side of the shape\n",
    "<text x=\"310\" y=\"150\" fill=\"black\" transform=\"rotate(90 310,150)\">7cm</text>\n",
    "\n",
    "#The following text is for the \"z\" at the left side of the shape\n",
    "<text x=\"310\" y=\"260\" fill=\"black\" transform=\"rotate(90 310,260)\"> z </text> \n",
    "\n",
    "\n",
    "#### Line at the bottom side of the shape to give two numbers\n",
    "<line x1=\"305\" y1=\"300\" x2=\"305\" y2=\"315\" stroke=\"black\" stroke-width=\"3\"/>   \n",
    "\n",
    "</svg>"
   ]
  },
  {
   "cell_type": "markdown",
   "metadata": {},
   "source": [
    "Finally, we have to find the length of $z$:"
   ]
  },
  {
   "cell_type": "code",
   "execution_count": 51,
   "metadata": {
    "scrolled": false
   },
   "outputs": [
    {
     "data": {
      "text/html": [
       "<svg height=\"550\" width=\"1500\">\n",
       "\n",
       "<polygon points = \"200 300 450 300 450 200 650 300 650 100 450 100 450 50 400 50 400 100 100 100 300 230\"\n",
       " stroke=\"black\" fill=\"salmon\" stroke-width=\"5\"/>\n",
       "\n",
       "#The following text is for the \"4cm\" at the bottom of the shape\n",
       "<text x=\"245\" y=\"320\" fill=\"black\">4cm</text>\n",
       "\n",
       "#The following text is for the \"10cm\" at the right side of the shape\n",
       "<text x=\"645\" y=\"215\" fill=\"black\" transform=\"rotate(-90 645,215)\">10cm</text>\n",
       "\n",
       "#The following text is for the \"5cm\" at the left side of the shape\n",
       "<text x=\"240\" y=\"265\" fill=\"black\" transform=\"rotate(-40 240,265)\">5cm</text>\n",
       "\n",
       "\n",
       "#### Dashed line at the left side of the shape to make two triangles\n",
       "<line x1=\"305\" y1=\"100\" x2=\"305\" y2=\"300\" stroke=\"black\" stroke-width=\"2\" stroke-dasharray=8/>   \n",
       "\n",
       "#Line at the left to separate two triangles\n",
       "<line x1=\"305\" y1=\"230\" x2=\"320\" y2=\"230\" stroke=\"black\" stroke-width=\"3\"/> \n",
       "\n",
       "#The following text is for the \"7cm\" at the left side of the shape\n",
       "<text x=\"310\" y=\"150\" fill=\"black\" transform=\"rotate(90 310,150)\">7cm</text>\n",
       "\n",
       "#The following text is for the \"z\" at the left side of the shape\n",
       "<text x=\"310\" y=\"260\" fill=\"black\" transform=\"rotate(90 310,260)\"> z </text> \n",
       "\n",
       "</svg>\n"
      ],
      "text/plain": [
       "<IPython.core.display.HTML object>"
      ]
     },
     "metadata": {},
     "output_type": "display_data"
    }
   ],
   "source": [
    "%%html\n",
    "<svg height=\"550\" width=\"1500\">\n",
    "\n",
    "<polygon points = \"200 300 450 300 450 200 650 300 650 100 450 100 450 50 400 50 400 100 100 100 300 230\"\n",
    " stroke=\"black\" fill=\"salmon\" stroke-width=\"5\"/>\n",
    "\n",
    "#The following text is for the \"4cm\" at the bottom of the shape\n",
    "<text x=\"245\" y=\"320\" fill=\"black\">4cm</text>\n",
    "\n",
    "#The following text is for the \"10cm\" at the right side of the shape\n",
    "<text x=\"645\" y=\"215\" fill=\"black\" transform=\"rotate(-90 645,215)\">10cm</text>\n",
    "\n",
    "#The following text is for the \"5cm\" at the left side of the shape\n",
    "<text x=\"240\" y=\"265\" fill=\"black\" transform=\"rotate(-40 240,265)\">5cm</text>\n",
    "\n",
    "\n",
    "#### Dashed line at the left side of the shape to make two triangles\n",
    "<line x1=\"305\" y1=\"100\" x2=\"305\" y2=\"300\" stroke=\"black\" stroke-width=\"2\" stroke-dasharray=8/>   \n",
    "\n",
    "#Line at the left to separate two triangles\n",
    "<line x1=\"305\" y1=\"230\" x2=\"320\" y2=\"230\" stroke=\"black\" stroke-width=\"3\"/> \n",
    "\n",
    "#The following text is for the \"7cm\" at the left side of the shape\n",
    "<text x=\"310\" y=\"150\" fill=\"black\" transform=\"rotate(90 310,150)\">7cm</text>\n",
    "\n",
    "#The following text is for the \"z\" at the left side of the shape\n",
    "<text x=\"310\" y=\"260\" fill=\"black\" transform=\"rotate(90 310,260)\"> z </text> \n",
    "\n",
    "</svg>"
   ]
  },
  {
   "cell_type": "markdown",
   "metadata": {},
   "source": [
    "There are actually two ways to find the length of $z$:\n",
    "\n",
    "* ### The Pythagorean Method\n",
    "Here, we start by using $z$ as the \"$A$\" value, $4$cm as the \"$B$\" value, and $5$cm as the \"$C$\" value. Now, we can calculate for $z$ by doing: <br>\n",
    "### $$\n",
    "\\begin{align*}\n",
    "z &= \\sqrt {(5\\textrm{cm})^2 - (4\\textrm{cm})^2} \\\\\n",
    "&= \\sqrt {25\\textrm{cm}^2 - 16\\textrm{cm}^2}\\\\\n",
    "&= \\sqrt {9\\textrm{cm}^2}\n",
    "\\end{align*}\n",
    "$$\n",
    "So, we know that the length of $z = 3$cm\n",
    "\n",
    "\n",
    "* ### The Known Values Method\n",
    "Here, we start by looking at the length on the far right side of the shape. We see that it is $10$cm long. This tells us that the length of the dotted line on the left must equal $10$cm. Then, we can do: <br>\n",
    "### $$\n",
    "\\begin{align*}\n",
    "z &= 10 - 7\n",
    "\\end{align*}\n",
    "$$\n",
    "So, we know that the length of $z = 3$cm\n",
    "\n",
    "Now, we can add this value to our shape:"
   ]
  },
  {
   "cell_type": "code",
   "execution_count": 50,
   "metadata": {
    "scrolled": false
   },
   "outputs": [
    {
     "data": {
      "text/html": [
       "<svg height=\"550\" width=\"1500\">\n",
       "\n",
       "<polygon points = \"200 300 450 300 450 200 650 300 650 100 450 100 450 50 400 50 400 100 100 100 300 230\"\n",
       " stroke=\"black\" fill=\"salmon\" stroke-width=\"5\"/>\n",
       "\n",
       "#The following text is for the \"4cm\" at the bottom of the shape\n",
       "<text x=\"245\" y=\"320\" fill=\"black\">4cm</text>\n",
       "    \n",
       "#The following text is for the \"9cm\" at the bottom of the shape\n",
       "<text x=\"360\" y=\"320\" fill=\"black\">9cm</text>\n",
       "\n",
       "#The following text is for the \"5cm\" at the bottom of the shape\n",
       "<text x=\"440\" y=\"260\" fill=\"black\" transform=\"rotate(-90 440,260)\">5cm</text>\n",
       "\n",
       "#The following text is for the \"11cm\" at the bottom side of the shape\n",
       "<text x=\"540\" y=\"235\" fill=\"black\" transform=\"rotate(32 540,235)\">11cm</text>\n",
       "\n",
       "#The following text is for the \"10cm\" at the right side of the shape\n",
       "<text x=\"645\" y=\"215\" fill=\"black\" transform=\"rotate(-90 645,215)\">10cm</text>\n",
       "\n",
       "#The following text is for the \"10cm\" at the top of the shape\n",
       "<text x=\"535\" y=\"90\" fill=\"black\">10cm</text>\n",
       "\n",
       "#The following text is for the \"15cm\" at the top of the shape\n",
       "<text x=\"250\" y=\"90\" fill=\"black\"> 15cm </text>\n",
       "\n",
       "#The following text is for the \"12cm\" at the left side of the shape\n",
       "<text x=\"190\" y=\"180\" fill=\"black\" transform=\"rotate(35 190,180)\">12cm</text>\n",
       "\n",
       "#The following text is for the \"5cm\" at the left side of the shape\n",
       "<text x=\"240\" y=\"265\" fill=\"black\" transform=\"rotate(-40 240,265)\">5cm</text>\n",
       "\n",
       "\n",
       "#### Dashed line at the bottom to make a triangle\n",
       "<line x1=\"450\" y1=\"300\" x2=\"650\" y2=\"300\" stroke=\"black\" stroke-width=\"2\" stroke-dasharray=8/>    \n",
       "\n",
       "#The following text is for the \"10cm\" at the bottom of the shape\n",
       "<text x=\"525\" y=\"295\" fill=\"black\">10cm</text>\n",
       "\n",
       "\n",
       "#### Dashed line at the top of the shape to make a square\n",
       "<line x1=\"400\" y1=\"100\" x2=\"450\" y2=\"100\" stroke=\"black\" stroke-width=\"2\" stroke-dasharray=8/>   \n",
       "\n",
       "#The following text is for the \"3cm\" at the top of the shape\n",
       "<text x=\"412\" y=\"115\" fill=\"black\">3cm</text>\n",
       "\n",
       "\n",
       "#### Dashed line at the left side of the shape to make two triangles\n",
       "<line x1=\"305\" y1=\"100\" x2=\"305\" y2=\"300\" stroke=\"black\" stroke-width=\"2\" stroke-dasharray=8/>   \n",
       "\n",
       "#Line at the left to separate two triangles\n",
       "<line x1=\"305\" y1=\"230\" x2=\"320\" y2=\"230\" stroke=\"black\" stroke-width=\"3\"/> \n",
       "\n",
       "#The following text is for the \"7cm\" at the left side of the shape\n",
       "<text x=\"310\" y=\"150\" fill=\"black\" transform=\"rotate(90 310,150)\">7cm</text>\n",
       "\n",
       "#The following text is for the \"3cm\" at the left side of the shape\n",
       "<text x=\"310\" y=\"250\" fill=\"black\" transform=\"rotate(90 310,250)\">3cm</text> \n",
       "\n",
       "\n",
       "#### Line at the bottom side of the shape to give two numbers\n",
       "<line x1=\"305\" y1=\"300\" x2=\"305\" y2=\"315\" stroke=\"black\" stroke-width=\"3\"/>   \n",
       "\n",
       "</svg>\n"
      ],
      "text/plain": [
       "<IPython.core.display.HTML object>"
      ]
     },
     "metadata": {},
     "output_type": "display_data"
    }
   ],
   "source": [
    "%%html\n",
    "<svg height=\"550\" width=\"1500\">\n",
    "\n",
    "<polygon points = \"200 300 450 300 450 200 650 300 650 100 450 100 450 50 400 50 400 100 100 100 300 230\"\n",
    " stroke=\"black\" fill=\"salmon\" stroke-width=\"5\"/>\n",
    "\n",
    "#The following text is for the \"4cm\" at the bottom of the shape\n",
    "<text x=\"245\" y=\"320\" fill=\"black\">4cm</text>\n",
    "    \n",
    "#The following text is for the \"9cm\" at the bottom of the shape\n",
    "<text x=\"360\" y=\"320\" fill=\"black\">9cm</text>\n",
    "\n",
    "#The following text is for the \"5cm\" at the bottom of the shape\n",
    "<text x=\"440\" y=\"260\" fill=\"black\" transform=\"rotate(-90 440,260)\">5cm</text>\n",
    "\n",
    "#The following text is for the \"11cm\" at the bottom side of the shape\n",
    "<text x=\"540\" y=\"235\" fill=\"black\" transform=\"rotate(32 540,235)\">11cm</text>\n",
    "\n",
    "#The following text is for the \"10cm\" at the right side of the shape\n",
    "<text x=\"645\" y=\"215\" fill=\"black\" transform=\"rotate(-90 645,215)\">10cm</text>\n",
    "\n",
    "#The following text is for the \"10cm\" at the top of the shape\n",
    "<text x=\"535\" y=\"90\" fill=\"black\">10cm</text>\n",
    "\n",
    "#The following text is for the \"15cm\" at the top of the shape\n",
    "<text x=\"250\" y=\"90\" fill=\"black\"> 15cm </text>\n",
    "\n",
    "#The following text is for the \"12cm\" at the left side of the shape\n",
    "<text x=\"190\" y=\"180\" fill=\"black\" transform=\"rotate(35 190,180)\">12cm</text>\n",
    "\n",
    "#The following text is for the \"5cm\" at the left side of the shape\n",
    "<text x=\"240\" y=\"265\" fill=\"black\" transform=\"rotate(-40 240,265)\">5cm</text>\n",
    "\n",
    "\n",
    "#### Dashed line at the bottom to make a triangle\n",
    "<line x1=\"450\" y1=\"300\" x2=\"650\" y2=\"300\" stroke=\"black\" stroke-width=\"2\" stroke-dasharray=8/>    \n",
    "\n",
    "#The following text is for the \"10cm\" at the bottom of the shape\n",
    "<text x=\"525\" y=\"295\" fill=\"black\">10cm</text>\n",
    "\n",
    "\n",
    "#### Dashed line at the top of the shape to make a square\n",
    "<line x1=\"400\" y1=\"100\" x2=\"450\" y2=\"100\" stroke=\"black\" stroke-width=\"2\" stroke-dasharray=8/>   \n",
    "\n",
    "#The following text is for the \"3cm\" at the top of the shape\n",
    "<text x=\"412\" y=\"115\" fill=\"black\">3cm</text>\n",
    "\n",
    "\n",
    "#### Dashed line at the left side of the shape to make two triangles\n",
    "<line x1=\"305\" y1=\"100\" x2=\"305\" y2=\"300\" stroke=\"black\" stroke-width=\"2\" stroke-dasharray=8/>   \n",
    "\n",
    "#Line at the left to separate two triangles\n",
    "<line x1=\"305\" y1=\"230\" x2=\"320\" y2=\"230\" stroke=\"black\" stroke-width=\"3\"/> \n",
    "\n",
    "#The following text is for the \"7cm\" at the left side of the shape\n",
    "<text x=\"310\" y=\"150\" fill=\"black\" transform=\"rotate(90 310,150)\">7cm</text>\n",
    "\n",
    "#The following text is for the \"3cm\" at the left side of the shape\n",
    "<text x=\"310\" y=\"250\" fill=\"black\" transform=\"rotate(90 310,250)\">3cm</text> \n",
    "\n",
    "\n",
    "#### Line at the bottom side of the shape to give two numbers\n",
    "<line x1=\"305\" y1=\"300\" x2=\"305\" y2=\"315\" stroke=\"black\" stroke-width=\"3\"/>   \n",
    "\n",
    "</svg>"
   ]
  },
  {
   "cell_type": "markdown",
   "metadata": {},
   "source": [
    "Let's use this as a chance for you to practice. Try finding the perimeter of this shape."
   ]
  },
  {
   "cell_type": "code",
   "execution_count": 49,
   "metadata": {
    "scrolled": true
   },
   "outputs": [
    {
     "data": {
      "application/vnd.jupyter.widget-view+json": {
       "model_id": "3b14881c464c4f0ba900769483301a61",
       "version_major": 2,
       "version_minor": 0
      },
      "text/plain": [
       "IntText(value=0, description='Input your perimeter here: ', style=DescriptionStyle(description_width='initial'…"
      ]
     },
     "metadata": {},
     "output_type": "display_data"
    },
    {
     "data": {
      "application/vnd.jupyter.widget-view+json": {
       "model_id": "f461c01dce9242beb8f657f52a70a8c2",
       "version_major": 2,
       "version_minor": 0
      },
      "text/plain": [
       "Button(description='Check Answer', style=ButtonStyle())"
      ]
     },
     "metadata": {},
     "output_type": "display_data"
    }
   ],
   "source": [
    "#Used to ensure the description text doesn't get cut off.\n",
    "style = {'description_width': 'initial'}\n",
    "\n",
    "#Create an input integer widget\n",
    "question6 = widgets.IntText(\n",
    "    value=None,\n",
    "    description='Input your perimeter here: ',\n",
    "    disabled=False,\n",
    "    style = style\n",
    "    )\n",
    "\n",
    "#Create a button titled \"Check Answer\"\n",
    "checkButton6 = widgets.Button(description = \"Check Answer\")\n",
    "\n",
    "def checkAnswer(a):\n",
    "    #questionAnswer will be the input given by the user.\n",
    "    questionAnswer = question6.value\n",
    "    \n",
    "    #answers is a list of possible answers that can be inputted. \n",
    "    answers = [91]\n",
    "    \n",
    "    #Check if the input is in the list of answers. If this is the case:\n",
    "    if (questionAnswer in answers):\n",
    "        #Clear the output\n",
    "        clear_output()\n",
    "        \n",
    "        #Let the user know what they inputed.\n",
    "        display(Markdown(\"You answered: $\" + str(questionAnswer) + \"$\"))\n",
    "        \n",
    "        #Give an explenation for the answer.\n",
    "        display(Markdown(\"Well done! <br> \\\n",
    "                         We get this answer by adding together all lengths of the shape: <br> \\\n",
    "                         <h3 align='center'>$\\ (4$cm$) + (9$cm$) + (5$cm$) + (11$cm$) + (10$cm$) \\\n",
    "                         + (10$cm$) + 3 × (3$cm$) + (15$cm$) + (12$cm$) + (6$cm$) = (91$cm$) $</h3> \"))\n",
    "        \n",
    "    #Otherwise, if no answer has been given, do nothing.\n",
    "    elif (questionAnswer == 0):\n",
    "        None\n",
    "    \n",
    "    #Lastly, if the answer is wrong, give the user a hint.\n",
    "    else:\n",
    "        #Clear the output\n",
    "        clear_output()\n",
    "        \n",
    "        #Display the input integer and check button widgets\n",
    "        display(question6)\n",
    "        display(checkButton6)\n",
    "        \n",
    "        #Let the user know what they inputed.\n",
    "        display(Markdown(\"You answered: $\" + str(questionAnswer) + \"$\"))\n",
    "        \n",
    "        #Give a hint for the question\n",
    "        display(Markdown(\"Not quite. <br> \\\n",
    "                      Remember, to find the perimeter of an irregular shape *you must add the length of \\\n",
    "                      every edge together*.\"))\n",
    "\n",
    "display(question6)\n",
    "display(checkButton6)\n",
    "\n",
    "checkButton6.on_click(checkAnswer)"
   ]
  },
  {
   "cell_type": "markdown",
   "metadata": {},
   "source": [
    "Next, let's try finding the **area** of this shape. We will do this by taking the area of shapes we know. We will also assume that:\n",
    "\n",
    "<h3 align='center'>$\\rm CM = cm^2 $</h3>\n",
    "\n",
    "Let's start by finding the area of the square on top:"
   ]
  },
  {
   "cell_type": "code",
   "execution_count": 37,
   "metadata": {
    "scrolled": false
   },
   "outputs": [
    {
     "data": {
      "text/html": [
       "<svg height=\"550\" width=\"1500\">\n",
       "\n",
       "<polygon points = \"200 300 450 300 450 200 650 300 650 100 450 100 450 50 400 50 400 100 100 100 300 230\"\n",
       " stroke=\"black\" fill=\"salmon\" stroke-width=\"5\"/>\n",
       "\n",
       "#### The following rectangle is for the red square at the top\n",
       "<rect x=\"400\" y=\"50\" width=\"50\" height=\"50\" stroke=\"black\" fill=\"red\" stroke-width=\"5\"/>\n",
       "\n",
       "#The following text is for the \"3cm\" at the top of the shape\n",
       "<text x=\"412\" y=\"115\" fill=\"black\">3cm</text>\n",
       "\n",
       "</svg>\n"
      ],
      "text/plain": [
       "<IPython.core.display.HTML object>"
      ]
     },
     "metadata": {},
     "output_type": "display_data"
    }
   ],
   "source": [
    "%%html\n",
    "<svg height=\"550\" width=\"1500\">\n",
    "\n",
    "<polygon points = \"200 300 450 300 450 200 650 300 650 100 450 100 450 50 400 50 400 100 100 100 300 230\"\n",
    " stroke=\"black\" fill=\"salmon\" stroke-width=\"5\"/>\n",
    "\n",
    "#### The following rectangle is for the red square at the top\n",
    "<rect x=\"400\" y=\"50\" width=\"50\" height=\"50\" stroke=\"black\" fill=\"red\" stroke-width=\"5\"/>\n",
    "\n",
    "#The following text is for the \"3cm\" at the top of the shape\n",
    "<text x=\"412\" y=\"115\" fill=\"black\">3cm</text>\n",
    "\n",
    "</svg>"
   ]
  },
  {
   "cell_type": "markdown",
   "metadata": {},
   "source": [
    "We should know that the **area of a square** is *the length of any side squared*:\n",
    "\n",
    "<h3 align='center'>$\\rm (Length)^2 = Area $</h3>\n",
    "\n",
    "So, the area of the <span style=\"color:red\">**red square**</span> above is:\n",
    "\n",
    "### $$\n",
    "\\begin{align*}\n",
    "(3\\textrm{cm})^2 = 9\\textrm{cm}^2\n",
    "\\end{align*}\n",
    "$$\n",
    "\n",
    "Next, we'll calculate the area of the triangle at the bottom:"
   ]
  },
  {
   "cell_type": "code",
   "execution_count": 90,
   "metadata": {},
   "outputs": [
    {
     "data": {
      "text/html": [
       "<svg height=\"550\" width=\"1500\">\n",
       "\n",
       "<polygon points = \"200 300 450 300 450 200 650 300 650 100 450 100 450 50 400 50 400 100 100 100 300 230\"\n",
       " stroke=\"black\" fill=\"salmon\" stroke-width=\"5\"/>\n",
       "\n",
       "#### The following rectangle is for the red square at the top\n",
       "<rect x=\"400\" y=\"50\" width=\"50\" height=\"50\" stroke=\"black\" fill=\"red\" stroke-width=\"5\"/>\n",
       "\n",
       "#The following text is for the \"9CM at the top of the shape\n",
       "<text x=\"412\" y=\"80\" fill=\"black\">9CM</text>\n",
       "\n",
       "#### The following polygon is for the pink triangle at the bottom\n",
       "<polygon points = \"450 300 450 200 650 300\"\n",
       " stroke=\"black\" fill=\"lightpink\" stroke-width=\"5\"/>\n",
       "\n",
       "#The following text is for the \"5cm\" at the bottom of the shape\n",
       "<text x=\"440\" y=\"260\" fill=\"black\" transform=\"rotate(-90 440,260)\">5cm</text>\n",
       "\n",
       "#The following text is for the \"11cm\" at the bottom side of the shape\n",
       "<text x=\"540\" y=\"235\" fill=\"black\" transform=\"rotate(32 540,235)\">11cm</text>\n",
       "\n",
       "#The following text is for the \"10cm\" at the bottom of the shape\n",
       "<text x=\"525\" y=\"295\" fill=\"black\">10cm</text>\n",
       "\n",
       "</svg>\n"
      ],
      "text/plain": [
       "<IPython.core.display.HTML object>"
      ]
     },
     "metadata": {},
     "output_type": "display_data"
    }
   ],
   "source": [
    "%%html\n",
    "<svg height=\"550\" width=\"1500\">\n",
    "\n",
    "<polygon points = \"200 300 450 300 450 200 650 300 650 100 450 100 450 50 400 50 400 100 100 100 300 230\"\n",
    " stroke=\"black\" fill=\"salmon\" stroke-width=\"5\"/>\n",
    "\n",
    "#### The following rectangle is for the red square at the top\n",
    "<rect x=\"400\" y=\"50\" width=\"50\" height=\"50\" stroke=\"black\" fill=\"red\" stroke-width=\"5\"/>\n",
    "\n",
    "#The following text is for the \"9CM at the top of the shape\n",
    "<text x=\"412\" y=\"80\" fill=\"black\">9CM</text>\n",
    "\n",
    "#### The following polygon is for the pink triangle at the bottom\n",
    "<polygon points = \"450 300 450 200 650 300\"\n",
    " stroke=\"black\" fill=\"lightpink\" stroke-width=\"5\"/>\n",
    "\n",
    "#The following text is for the \"5cm\" at the bottom of the shape\n",
    "<text x=\"440\" y=\"260\" fill=\"black\" transform=\"rotate(-90 440,260)\">5cm</text>\n",
    "\n",
    "#The following text is for the \"11cm\" at the bottom side of the shape\n",
    "<text x=\"540\" y=\"235\" fill=\"black\" transform=\"rotate(32 540,235)\">11cm</text>\n",
    "\n",
    "#The following text is for the \"10cm\" at the bottom of the shape\n",
    "<text x=\"525\" y=\"295\" fill=\"black\">10cm</text>\n",
    "\n",
    "</svg>"
   ]
  },
  {
   "cell_type": "markdown",
   "metadata": {},
   "source": [
    "We should know that the **area of a triangle** is *the length times the height, divided by two*:\n",
    "\n",
    "<h3 align='center'>$\\rm \\frac {(Length) \\times (Height)}{2} = Area $</h3>\n",
    "\n",
    "So, the area of the <span style=\"color:pink\">**pink triangle**</span> above is:\n",
    "\n",
    "### $$\n",
    "\\begin{align*}\n",
    "\\frac{(10\\textrm{cm}) \\times (5\\textrm{cm})}{2} = 25\\textrm{cm}^2\n",
    "\\end{align*}\n",
    "$$"
   ]
  },
  {
   "cell_type": "code",
   "execution_count": 91,
   "metadata": {},
   "outputs": [
    {
     "data": {
      "text/html": [
       "<svg height=\"550\" width=\"1500\">\n",
       "\n",
       "<polygon points = \"200 300 450 300 450 200 650 300 650 100 450 100 450 50 400 50 400 100 100 100 300 230\"\n",
       " stroke=\"black\" fill=\"salmon\" stroke-width=\"5\"/>\n",
       "\n",
       "#### The following rectangle is for the red square at the top\n",
       "<rect x=\"400\" y=\"50\" width=\"50\" height=\"50\" stroke=\"black\" fill=\"red\" stroke-width=\"5\"/>\n",
       "\n",
       "#The following text is for the \"9CM\" at the top of the shape\n",
       "<text x=\"412\" y=\"80\" fill=\"black\">9CM</text>\n",
       "\n",
       "#### The following polygon is for the pink triangle at the bottom\n",
       "<polygon points = \"450 300 450 200 650 300\"\n",
       " stroke=\"black\" fill=\"lightpink\" stroke-width=\"5\"/>\n",
       "\n",
       "#The following text is for the \"25CM\" at the bottom of the shape\n",
       "<text x=\"490\" y=\"270\" fill=\"black\">25CM</text>\n",
       "\n",
       "</svg>\n"
      ],
      "text/plain": [
       "<IPython.core.display.HTML object>"
      ]
     },
     "metadata": {},
     "output_type": "display_data"
    }
   ],
   "source": [
    "%%html\n",
    "<svg height=\"550\" width=\"1500\">\n",
    "\n",
    "<polygon points = \"200 300 450 300 450 200 650 300 650 100 450 100 450 50 400 50 400 100 100 100 300 230\"\n",
    " stroke=\"black\" fill=\"salmon\" stroke-width=\"5\"/>\n",
    "\n",
    "#### The following rectangle is for the red square at the top\n",
    "<rect x=\"400\" y=\"50\" width=\"50\" height=\"50\" stroke=\"black\" fill=\"red\" stroke-width=\"5\"/>\n",
    "\n",
    "#The following text is for the \"9CM\" at the top of the shape\n",
    "<text x=\"412\" y=\"80\" fill=\"black\">9CM</text>\n",
    "\n",
    "#### The following polygon is for the pink triangle at the bottom\n",
    "<polygon points = \"450 300 450 200 650 300\"\n",
    " stroke=\"black\" fill=\"lightpink\" stroke-width=\"5\"/>\n",
    "\n",
    "#The following text is for the \"25CM\" at the bottom of the shape\n",
    "<text x=\"490\" y=\"270\" fill=\"black\">25CM</text>\n",
    "\n",
    "</svg>"
   ]
  },
  {
   "cell_type": "markdown",
   "metadata": {},
   "source": [
    "Now, we'll calculate the triangle at the top left:"
   ]
  },
  {
   "cell_type": "code",
   "execution_count": 92,
   "metadata": {
    "scrolled": false
   },
   "outputs": [
    {
     "data": {
      "text/html": [
       "<svg height=\"550\" width=\"1500\">\n",
       "\n",
       "<polygon points = \"200 300 450 300 450 200 650 300 650 100 450 100 450 50 400 50 400 100 100 100 300 230\"\n",
       " stroke=\"black\" fill=\"salmon\" stroke-width=\"5\"/>   \n",
       "\n",
       "#### The following rectangle is for the red square at the top\n",
       "<rect x=\"400\" y=\"50\" width=\"50\" height=\"50\" stroke=\"black\" fill=\"red\" stroke-width=\"5\"/>\n",
       "\n",
       "#The following text is for the \"9CM\" at the top of the shape\n",
       "<text x=\"412\" y=\"80\" fill=\"black\">9CM</text>\n",
       "\n",
       "#### The following polygon is for the pink triangle at the bottom\n",
       "<polygon points = \"450 300 450 200 650 300\"\n",
       " stroke=\"black\" fill=\"lightpink\" stroke-width=\"5\"/>\n",
       "\n",
       "#The following text is for the \"25CM\" at the bottom of the shape\n",
       "<text x=\"490\" y=\"270\" fill=\"black\">25CM</text>\n",
       "\n",
       "#### The following polygon is for the pink triangle in the left\n",
       "<polygon points = \"300 100 100 100 300 230\"\n",
       " stroke=\"black\" fill=\"hotpink\" stroke-width=\"5\"/>\n",
       "    \n",
       "#The following text is for the \"x\" at the top of the shape\n",
       "<text x=\"210\" y=\"93\" fill=\"black\" >x</text>    \n",
       "\n",
       "#The following text is for the \"12cm\" at the left side of the shape\n",
       "<text x=\"190\" y=\"180\" fill=\"black\" transform=\"rotate(35 190,180)\">12cm</text> \n",
       "\n",
       "#The following text is for the \"7cm\" at the left side of the shape\n",
       "<text x=\"310\" y=\"150\" fill=\"black\" transform=\"rotate(90 310,150)\">7cm</text>\n",
       "\n",
       "</svg>\n"
      ],
      "text/plain": [
       "<IPython.core.display.HTML object>"
      ]
     },
     "metadata": {},
     "output_type": "display_data"
    }
   ],
   "source": [
    "%%html\n",
    "<svg height=\"550\" width=\"1500\">\n",
    "\n",
    "<polygon points = \"200 300 450 300 450 200 650 300 650 100 450 100 450 50 400 50 400 100 100 100 300 230\"\n",
    " stroke=\"black\" fill=\"salmon\" stroke-width=\"5\"/>   \n",
    "\n",
    "#### The following rectangle is for the red square at the top\n",
    "<rect x=\"400\" y=\"50\" width=\"50\" height=\"50\" stroke=\"black\" fill=\"red\" stroke-width=\"5\"/>\n",
    "\n",
    "#The following text is for the \"9CM\" at the top of the shape\n",
    "<text x=\"412\" y=\"80\" fill=\"black\">9CM</text>\n",
    "\n",
    "#### The following polygon is for the pink triangle at the bottom\n",
    "<polygon points = \"450 300 450 200 650 300\"\n",
    " stroke=\"black\" fill=\"lightpink\" stroke-width=\"5\"/>\n",
    "\n",
    "#The following text is for the \"25CM\" at the bottom of the shape\n",
    "<text x=\"490\" y=\"270\" fill=\"black\">25CM</text>\n",
    "\n",
    "#### The following polygon is for the pink triangle in the left\n",
    "<polygon points = \"300 100 100 100 300 230\"\n",
    " stroke=\"black\" fill=\"hotpink\" stroke-width=\"5\"/>\n",
    "    \n",
    "#The following text is for the \"x\" at the top of the shape\n",
    "<text x=\"210\" y=\"93\" fill=\"black\" >x</text>    \n",
    "\n",
    "#The following text is for the \"12cm\" at the left side of the shape\n",
    "<text x=\"190\" y=\"180\" fill=\"black\" transform=\"rotate(35 190,180)\">12cm</text> \n",
    "\n",
    "#The following text is for the \"7cm\" at the left side of the shape\n",
    "<text x=\"310\" y=\"150\" fill=\"black\" transform=\"rotate(90 310,150)\">7cm</text>\n",
    "\n",
    "</svg>"
   ]
  },
  {
   "cell_type": "markdown",
   "metadata": {},
   "source": [
    "To calculate the area of the <span style=\"color:hotpink\">**pink triangle**</span> above, we have to find its length. This is denoted by a $x$. To do this, we have to use *the Pythagorean theorem*. We start by using $x$ as the \"$A$\" value, $7$cm as the \"$B$\" value, and $12$cm as the \"$C$\" value.\n",
    "\n",
    "### $$\n",
    "\\begin{align*}\n",
    "x &= \\sqrt {(12\\textrm{cm})^2 - (7\\textrm{cm})^2} \\\\\n",
    "&= \\sqrt {144\\textrm{cm}^2 - 49\\textrm{cm}^2}\\\\\n",
    "&= \\sqrt {95\\textrm{cm}^2}\n",
    "\\end{align*}\n",
    "$$\n",
    "\n",
    "So, we know that the length of $x \\approx 10$cm"
   ]
  },
  {
   "cell_type": "code",
   "execution_count": 93,
   "metadata": {},
   "outputs": [
    {
     "data": {
      "text/html": [
       "<svg height=\"550\" width=\"1500\">\n",
       "\n",
       "<polygon points = \"200 300 450 300 450 200 650 300 650 100 450 100 450 50 400 50 400 100 100 100 300 230\"\n",
       " stroke=\"black\" fill=\"salmon\" stroke-width=\"5\"/>   \n",
       "\n",
       "#### The following rectangle is for the red square at the top\n",
       "<rect x=\"400\" y=\"50\" width=\"50\" height=\"50\" stroke=\"black\" fill=\"red\" stroke-width=\"5\"/>\n",
       "\n",
       "#The following text is for the \"9CM\" at the top of the shape\n",
       "<text x=\"412\" y=\"80\" fill=\"black\">9CM</text>\n",
       "\n",
       "#### The following polygon is for the pink triangle at the bottom\n",
       "<polygon points = \"450 300 450 200 650 300\"\n",
       " stroke=\"black\" fill=\"lightpink\" stroke-width=\"5\"/>\n",
       "\n",
       "#The following text is for the \"25CM\" at the bottom of the shape\n",
       "<text x=\"490\" y=\"270\" fill=\"black\">25CM</text>\n",
       "\n",
       "#### The following polygon is for the pink triangle in the left\n",
       "<polygon points = \"300 100 100 100 300 230\"\n",
       " stroke=\"black\" fill=\"hotpink\" stroke-width=\"5\"/>\n",
       "    \n",
       "#The following text is for the \"10cm\" at the top of the shape\n",
       "<text x=\"200\" y=\"93\" fill=\"black\" >10cm</text>    \n",
       "\n",
       "#The following text is for the \"12cm\" at the left side of the shape\n",
       "<text x=\"190\" y=\"180\" fill=\"black\" transform=\"rotate(35 190,180)\">12cm</text> \n",
       "\n",
       "#The following text is for the \"7cm\" at the left side of the shape\n",
       "<text x=\"310\" y=\"150\" fill=\"black\" transform=\"rotate(90 310,150)\">7cm</text>\n",
       "\n",
       "</svg>\n"
      ],
      "text/plain": [
       "<IPython.core.display.HTML object>"
      ]
     },
     "metadata": {},
     "output_type": "display_data"
    }
   ],
   "source": [
    "%%html\n",
    "<svg height=\"550\" width=\"1500\">\n",
    "\n",
    "<polygon points = \"200 300 450 300 450 200 650 300 650 100 450 100 450 50 400 50 400 100 100 100 300 230\"\n",
    " stroke=\"black\" fill=\"salmon\" stroke-width=\"5\"/>   \n",
    "\n",
    "#### The following rectangle is for the red square at the top\n",
    "<rect x=\"400\" y=\"50\" width=\"50\" height=\"50\" stroke=\"black\" fill=\"red\" stroke-width=\"5\"/>\n",
    "\n",
    "#The following text is for the \"9CM\" at the top of the shape\n",
    "<text x=\"412\" y=\"80\" fill=\"black\">9CM</text>\n",
    "\n",
    "#### The following polygon is for the pink triangle at the bottom\n",
    "<polygon points = \"450 300 450 200 650 300\"\n",
    " stroke=\"black\" fill=\"lightpink\" stroke-width=\"5\"/>\n",
    "\n",
    "#The following text is for the \"25CM\" at the bottom of the shape\n",
    "<text x=\"490\" y=\"270\" fill=\"black\">25CM</text>\n",
    "\n",
    "#### The following polygon is for the pink triangle in the left\n",
    "<polygon points = \"300 100 100 100 300 230\"\n",
    " stroke=\"black\" fill=\"hotpink\" stroke-width=\"5\"/>\n",
    "    \n",
    "#The following text is for the \"10cm\" at the top of the shape\n",
    "<text x=\"200\" y=\"93\" fill=\"black\" >10cm</text>    \n",
    "\n",
    "#The following text is for the \"12cm\" at the left side of the shape\n",
    "<text x=\"190\" y=\"180\" fill=\"black\" transform=\"rotate(35 190,180)\">12cm</text> \n",
    "\n",
    "#The following text is for the \"7cm\" at the left side of the shape\n",
    "<text x=\"310\" y=\"150\" fill=\"black\" transform=\"rotate(90 310,150)\">7cm</text>\n",
    "\n",
    "</svg>"
   ]
  },
  {
   "cell_type": "markdown",
   "metadata": {},
   "source": [
    "Now, we can calculate the area of the <span style=\"color:hotpink\">**pink triangle**</span>:\n",
    "\n",
    "### $$\n",
    "\\begin{align*}\n",
    "\\rm \\frac{(7cm) \\times (10cm)}{2} = 35cm^2\n",
    "\\end{align*}\n",
    "$$"
   ]
  },
  {
   "cell_type": "code",
   "execution_count": 94,
   "metadata": {
    "scrolled": false
   },
   "outputs": [
    {
     "data": {
      "text/html": [
       "<svg height=\"550\" width=\"1500\">\n",
       "\n",
       "<polygon points = \"200 300 450 300 450 200 650 300 650 100 450 100 450 50 400 50 400 100 100 100 300 230\"\n",
       " stroke=\"black\" fill=\"salmon\" stroke-width=\"5\"/>   \n",
       "\n",
       "#### The following rectangle is for the red square at the top\n",
       "<rect x=\"400\" y=\"50\" width=\"50\" height=\"50\" stroke=\"black\" fill=\"red\" stroke-width=\"5\"/>\n",
       "\n",
       "#The following text is for the \"9CM\" at the top of the shape\n",
       "<text x=\"412\" y=\"80\" fill=\"black\">9CM</text>\n",
       "\n",
       "#### The following polygon is for the pink triangle at the bottom\n",
       "<polygon points = \"450 300 450 200 650 300\"\n",
       " stroke=\"black\" fill=\"lightpink\" stroke-width=\"5\"/>\n",
       "\n",
       "#The following text is for the \"25CM\" at the bottom of the shape\n",
       "<text x=\"490\" y=\"270\" fill=\"black\">25CM</text>\n",
       "\n",
       "#### The following polygon is for the pink triangle in the left\n",
       "<polygon points = \"300 100 100 100 300 230\"\n",
       " stroke=\"black\" fill=\"hotpink\" stroke-width=\"5\"/>\n",
       "    \n",
       "#The following text is for the \"35CM\" at the top of the shape\n",
       "<text x=\"215\" y=\"145\" fill=\"black\" >35CM</text>    \n",
       "\n",
       "</svg>\n"
      ],
      "text/plain": [
       "<IPython.core.display.HTML object>"
      ]
     },
     "metadata": {},
     "output_type": "display_data"
    }
   ],
   "source": [
    "%%html\n",
    "<svg height=\"550\" width=\"1500\">\n",
    "\n",
    "<polygon points = \"200 300 450 300 450 200 650 300 650 100 450 100 450 50 400 50 400 100 100 100 300 230\"\n",
    " stroke=\"black\" fill=\"salmon\" stroke-width=\"5\"/>   \n",
    "\n",
    "#### The following rectangle is for the red square at the top\n",
    "<rect x=\"400\" y=\"50\" width=\"50\" height=\"50\" stroke=\"black\" fill=\"red\" stroke-width=\"5\"/>\n",
    "\n",
    "#The following text is for the \"9CM\" at the top of the shape\n",
    "<text x=\"412\" y=\"80\" fill=\"black\">9CM</text>\n",
    "\n",
    "#### The following polygon is for the pink triangle at the bottom\n",
    "<polygon points = \"450 300 450 200 650 300\"\n",
    " stroke=\"black\" fill=\"lightpink\" stroke-width=\"5\"/>\n",
    "\n",
    "#The following text is for the \"25CM\" at the bottom of the shape\n",
    "<text x=\"490\" y=\"270\" fill=\"black\">25CM</text>\n",
    "\n",
    "#### The following polygon is for the pink triangle in the left\n",
    "<polygon points = \"300 100 100 100 300 230\"\n",
    " stroke=\"black\" fill=\"hotpink\" stroke-width=\"5\"/>\n",
    "    \n",
    "#The following text is for the \"35CM\" at the top of the shape\n",
    "<text x=\"215\" y=\"145\" fill=\"black\" >35CM</text>    \n",
    "\n",
    "</svg>"
   ]
  },
  {
   "cell_type": "markdown",
   "metadata": {},
   "source": [
    "Now, we'll calculate for the triangle at the bottom left:"
   ]
  },
  {
   "cell_type": "code",
   "execution_count": 95,
   "metadata": {
    "scrolled": false
   },
   "outputs": [
    {
     "data": {
      "text/html": [
       "<svg height=\"550\" width=\"1500\">\n",
       "\n",
       "<polygon points = \"200 300 450 300 450 200 650 300 650 100 450 100 450 50 400 50 400 100 100 100 300 230\"\n",
       " stroke=\"black\" fill=\"salmon\" stroke-width=\"5\"/>   \n",
       "\n",
       "#### The following rectangle is for the red square at the top\n",
       "<rect x=\"400\" y=\"50\" width=\"50\" height=\"50\" stroke=\"black\" fill=\"red\" stroke-width=\"5\"/>\n",
       "\n",
       "#The following text is for the \"9CM\" at the top of the shape\n",
       "<text x=\"412\" y=\"80\" fill=\"black\">9CM</text>\n",
       "\n",
       "#### The following polygon is for the pink triangle at the bottom\n",
       "<polygon points = \"450 300 450 200 650 300\"\n",
       " stroke=\"black\" fill=\"lightpink\" stroke-width=\"5\"/>\n",
       "\n",
       "#The following text is for the \"25CM\" at the bottom of the shape\n",
       "<text x=\"490\" y=\"270\" fill=\"black\">25CM</text>\n",
       "\n",
       "#### The following polygon is for the pink triangle in the left\n",
       "<polygon points = \"300 100 100 100 300 230\"\n",
       " stroke=\"black\" fill=\"hotpink\" stroke-width=\"5\"/>\n",
       "    \n",
       "#The following text is for the \"35CM\" at the top of the shape\n",
       "<text x=\"215\" y=\"145\" fill=\"black\" >35CM</text>  \n",
       "\n",
       "#### The following polygon is for the pink triangle in the left\n",
       "<polygon points = \"300 230 200 300 300 300\"\n",
       " stroke=\"black\" fill=\"deeppink\" stroke-width=\"5\"/>\n",
       "\n",
       "#The following text is for the \"4cm\" at the bottom of the shape\n",
       "<text x=\"245\" y=\"320\" fill=\"black\">4cm</text>\n",
       "\n",
       "#The following text is for the \"3cm\" at the left side of the shape\n",
       "<text x=\"310\" y=\"250\" fill=\"black\" transform=\"rotate(90 310,250)\">3cm</text> \n",
       "\n",
       "#The following text is for the \"5cm\" at the left side of the shape\n",
       "<text x=\"240\" y=\"265\" fill=\"black\" transform=\"rotate(-40 240,265)\">5cm</text>\n",
       "\n",
       "</svg>\n"
      ],
      "text/plain": [
       "<IPython.core.display.HTML object>"
      ]
     },
     "metadata": {},
     "output_type": "display_data"
    }
   ],
   "source": [
    "%%html\n",
    "<svg height=\"550\" width=\"1500\">\n",
    "\n",
    "<polygon points = \"200 300 450 300 450 200 650 300 650 100 450 100 450 50 400 50 400 100 100 100 300 230\"\n",
    " stroke=\"black\" fill=\"salmon\" stroke-width=\"5\"/>   \n",
    "\n",
    "#### The following rectangle is for the red square at the top\n",
    "<rect x=\"400\" y=\"50\" width=\"50\" height=\"50\" stroke=\"black\" fill=\"red\" stroke-width=\"5\"/>\n",
    "\n",
    "#The following text is for the \"9CM\" at the top of the shape\n",
    "<text x=\"412\" y=\"80\" fill=\"black\">9CM</text>\n",
    "\n",
    "#### The following polygon is for the pink triangle at the bottom\n",
    "<polygon points = \"450 300 450 200 650 300\"\n",
    " stroke=\"black\" fill=\"lightpink\" stroke-width=\"5\"/>\n",
    "\n",
    "#The following text is for the \"25CM\" at the bottom of the shape\n",
    "<text x=\"490\" y=\"270\" fill=\"black\">25CM</text>\n",
    "\n",
    "#### The following polygon is for the pink triangle in the left\n",
    "<polygon points = \"300 100 100 100 300 230\"\n",
    " stroke=\"black\" fill=\"hotpink\" stroke-width=\"5\"/>\n",
    "    \n",
    "#The following text is for the \"35CM\" at the top of the shape\n",
    "<text x=\"215\" y=\"145\" fill=\"black\" >35CM</text>  \n",
    "\n",
    "#### The following polygon is for the pink triangle in the left\n",
    "<polygon points = \"300 230 200 300 300 300\"\n",
    " stroke=\"black\" fill=\"deeppink\" stroke-width=\"5\"/>\n",
    "\n",
    "#The following text is for the \"4cm\" at the bottom of the shape\n",
    "<text x=\"245\" y=\"320\" fill=\"black\">4cm</text>\n",
    "\n",
    "#The following text is for the \"3cm\" at the left side of the shape\n",
    "<text x=\"310\" y=\"250\" fill=\"black\" transform=\"rotate(90 310,250)\">3cm</text> \n",
    "\n",
    "#The following text is for the \"5cm\" at the left side of the shape\n",
    "<text x=\"240\" y=\"265\" fill=\"black\" transform=\"rotate(-40 240,265)\">5cm</text>\n",
    "\n",
    "</svg>"
   ]
  },
  {
   "cell_type": "markdown",
   "metadata": {},
   "source": [
    "It's your turn to try some of what you've learned. Calculate the area of the <span style=\"color:deeppink\">**pink triangle**</span>:"
   ]
  },
  {
   "cell_type": "code",
   "execution_count": 96,
   "metadata": {
    "scrolled": true
   },
   "outputs": [
    {
     "data": {
      "application/vnd.jupyter.widget-view+json": {
       "model_id": "c0986a5a840c4210b443afe043938f42",
       "version_major": 2,
       "version_minor": 0
      },
      "text/plain": [
       "IntText(value=0, description='Input your area here: ', style=DescriptionStyle(description_width='initial'))"
      ]
     },
     "metadata": {},
     "output_type": "display_data"
    },
    {
     "data": {
      "application/vnd.jupyter.widget-view+json": {
       "model_id": "5928b34f61ef4dbebcd33b6bb197903c",
       "version_major": 2,
       "version_minor": 0
      },
      "text/plain": [
       "Button(description='Check Answer', style=ButtonStyle())"
      ]
     },
     "metadata": {},
     "output_type": "display_data"
    }
   ],
   "source": [
    "#Used to ensure the description text doesn't get cut off.\n",
    "style = {'description_width': 'initial'}\n",
    "\n",
    "#Create an input integer widget\n",
    "question7 = widgets.IntText(\n",
    "    value=None,\n",
    "    description='Input your area here: ',\n",
    "    disabled=False,\n",
    "    style = style\n",
    "    )\n",
    "\n",
    "#Create a button titled \"Check Answer\"\n",
    "checkButton7 = widgets.Button(description = \"Check Answer\")\n",
    "\n",
    "def checkAnswer(a):\n",
    "    #questionAnswer will be the input given by the user.\n",
    "    questionAnswer = question7.value\n",
    "    \n",
    "    #answers is a list of possible answers that can be inputted. \n",
    "    answers = [6]\n",
    "    \n",
    "    #Check if the input is in the list of answers. If this is the case:\n",
    "    if (questionAnswer in answers):\n",
    "        #Clear the output\n",
    "        clear_output()\n",
    "        \n",
    "        #Let the user know what they inputed.\n",
    "        display(Markdown(\"You answered: $\" + str(questionAnswer) + \"$\"))\n",
    "        \n",
    "        #Give an explenation for the answer.\n",
    "        display(Markdown(\"Well done! <br> \\\n",
    "                         We get this answer by using the formula: <br> \\\n",
    "                         <h3 align='center'>$ ($Length$ × $Height$) ÷ 2 = $ Area </h3> <br> \\\n",
    "                         To get: <br> \\\n",
    "                         <h3 align='center'>$ (4$cm$ × 3$cm$) ÷ 2 = 6$cm$^2$</h3> <br> \\\n",
    "                         We will say that the value of $T$ is $6$cm.\"))\n",
    "        \n",
    "    #Otherwise, if no answer has been given, do nothing.\n",
    "    elif (questionAnswer == 0):\n",
    "        None\n",
    "    \n",
    "    #Lastly, if the answer is wrong, give the user a hint.\n",
    "    else:\n",
    "        #Clear the output\n",
    "        clear_output()\n",
    "        \n",
    "        #Display the input integer and check button widgets\n",
    "        display(question7)\n",
    "        display(checkButton7)\n",
    "        \n",
    "        #Let the user know what they inputed.\n",
    "        display(Markdown(\"You answered: $\" + str(questionAnswer) + \"$\"))\n",
    "        \n",
    "        #Give a hint for the question\n",
    "        display(Markdown(\"Not quite. <br> \\\n",
    "                      Remember, the formula for finding the area of a triangle is: <br> \\\n",
    "                      <h3 align='center'>$ ($Length$ × $Height$) ÷ 2 = $ Area </h3> \"))\n",
    "\n",
    "display(question7)\n",
    "display(checkButton7)\n",
    "\n",
    "checkButton7.on_click(checkAnswer)"
   ]
  },
  {
   "cell_type": "code",
   "execution_count": 97,
   "metadata": {},
   "outputs": [
    {
     "data": {
      "text/html": [
       "<svg height=\"550\" width=\"1500\">\n",
       "\n",
       "<polygon points = \"200 300 450 300 450 200 650 300 650 100 450 100 450 50 400 50 400 100 100 100 300 230\"\n",
       " stroke=\"black\" fill=\"salmon\" stroke-width=\"5\"/>   \n",
       "\n",
       "#### The following rectangle is for the red square at the top\n",
       "<rect x=\"400\" y=\"50\" width=\"50\" height=\"50\" stroke=\"black\" fill=\"red\" stroke-width=\"5\"/>\n",
       "\n",
       "#The following text is for the \"9CM\" at the top of the shape\n",
       "<text x=\"412\" y=\"80\" fill=\"black\">9CM</text>\n",
       "\n",
       "#### The following polygon is for the pink triangle at the bottom\n",
       "<polygon points = \"450 300 450 200 650 300\"\n",
       " stroke=\"black\" fill=\"lightpink\" stroke-width=\"5\"/>\n",
       "\n",
       "#The following text is for the \"25CM\" at the bottom of the shape\n",
       "<text x=\"490\" y=\"270\" fill=\"black\">25CM</text>\n",
       "\n",
       "#### The following polygon is for the pink triangle in the left\n",
       "<polygon points = \"300 100 100 100 300 230\"\n",
       " stroke=\"black\" fill=\"hotpink\" stroke-width=\"5\"/>\n",
       "    \n",
       "#The following text is for the \"35CM\" at the top of the shape\n",
       "<text x=\"215\" y=\"145\" fill=\"black\" >35CM</text>  \n",
       "\n",
       "#### The following polygon is for the pink triangle in the left\n",
       "<polygon points = \"300 230 200 300 300 300\"\n",
       " stroke=\"black\" fill=\"deeppink\" stroke-width=\"5\"/>\n",
       "\n",
       "#The following text is for the \"T\" at the bottom of the shape\n",
       "<text x=\"260\" y=\"285\" fill=\"black\">T</text>\n",
       "\n",
       "</svg>\n"
      ],
      "text/plain": [
       "<IPython.core.display.HTML object>"
      ]
     },
     "metadata": {},
     "output_type": "display_data"
    }
   ],
   "source": [
    "%%html\n",
    "<svg height=\"550\" width=\"1500\">\n",
    "\n",
    "<polygon points = \"200 300 450 300 450 200 650 300 650 100 450 100 450 50 400 50 400 100 100 100 300 230\"\n",
    " stroke=\"black\" fill=\"salmon\" stroke-width=\"5\"/>   \n",
    "\n",
    "#### The following rectangle is for the red square at the top\n",
    "<rect x=\"400\" y=\"50\" width=\"50\" height=\"50\" stroke=\"black\" fill=\"red\" stroke-width=\"5\"/>\n",
    "\n",
    "#The following text is for the \"9CM\" at the top of the shape\n",
    "<text x=\"412\" y=\"80\" fill=\"black\">9CM</text>\n",
    "\n",
    "#### The following polygon is for the pink triangle at the bottom\n",
    "<polygon points = \"450 300 450 200 650 300\"\n",
    " stroke=\"black\" fill=\"lightpink\" stroke-width=\"5\"/>\n",
    "\n",
    "#The following text is for the \"25CM\" at the bottom of the shape\n",
    "<text x=\"490\" y=\"270\" fill=\"black\">25CM</text>\n",
    "\n",
    "#### The following polygon is for the pink triangle in the left\n",
    "<polygon points = \"300 100 100 100 300 230\"\n",
    " stroke=\"black\" fill=\"hotpink\" stroke-width=\"5\"/>\n",
    "    \n",
    "#The following text is for the \"35CM\" at the top of the shape\n",
    "<text x=\"215\" y=\"145\" fill=\"black\" >35CM</text>  \n",
    "\n",
    "#### The following polygon is for the pink triangle in the left\n",
    "<polygon points = \"300 230 200 300 300 300\"\n",
    " stroke=\"black\" fill=\"deeppink\" stroke-width=\"5\"/>\n",
    "\n",
    "#The following text is for the \"T\" at the bottom of the shape\n",
    "<text x=\"260\" y=\"285\" fill=\"black\">T</text>\n",
    "\n",
    "</svg>"
   ]
  },
  {
   "cell_type": "markdown",
   "metadata": {},
   "source": [
    "Now, the last area you will have to find is that of a **rectangle**:"
   ]
  },
  {
   "cell_type": "code",
   "execution_count": 98,
   "metadata": {
    "scrolled": false
   },
   "outputs": [
    {
     "data": {
      "text/html": [
       "<svg height=\"550\" width=\"1500\">\n",
       "\n",
       "<polygon points = \"200 300 450 300 450 200 650 300 650 100 450 100 450 50 400 50 400 100 100 100 300 230\"\n",
       " stroke=\"black\" fill=\"orange\" stroke-width=\"5\"/>   \n",
       "\n",
       "#The following text is for the \"10cm\" at the right side of the shape\n",
       "<text x=\"645\" y=\"215\" fill=\"black\" transform=\"rotate(-90 645,215)\">10cm</text>\n",
       "\n",
       "#The following text is for the \"19cm\" at the bottom of the shape\n",
       "<text x=\"450\" y=\"320\" fill=\"black\">19cm</text>\n",
       "\n",
       "#### The following rectangle is for the red square at the top\n",
       "<rect x=\"400\" y=\"50\" width=\"50\" height=\"50\" stroke=\"black\" fill=\"red\" stroke-width=\"5\"/>\n",
       "\n",
       "#The following text is for the \"9CM\" at the top of the shape\n",
       "<text x=\"412\" y=\"80\" fill=\"black\">9CM</text>\n",
       "\n",
       "#### The following polygon is for the pink triangle at the bottom\n",
       "<polygon points = \"450 300 450 200 650 300\"\n",
       " stroke=\"black\" fill=\"lightpink\" stroke-width=\"5\"/>\n",
       "\n",
       "#The following text is for the \"25CM\" at the bottom of the shape\n",
       "<text x=\"490\" y=\"270\" fill=\"black\">25CM</text>\n",
       "\n",
       "#### The following polygon is for the pink triangle in the left\n",
       "<polygon points = \"300 100 100 100 300 230\"\n",
       " stroke=\"black\" fill=\"hotpink\" stroke-width=\"5\"/>\n",
       "    \n",
       "#The following text is for the \"35CM\" at the top of the shape\n",
       "<text x=\"215\" y=\"145\" fill=\"black\" >35CM</text>   \n",
       "\n",
       "#### The following polygon is for the pink triangle in the left\n",
       "<polygon points = \"300 230 200 300 300 300\"\n",
       " stroke=\"black\" fill=\"deeppink\" stroke-width=\"5\"/>\n",
       "\n",
       "#The following text is for the \"T\" at the bottom of the shape\n",
       "<text x=\"260\" y=\"285\" fill=\"black\">T</text>\n",
       "    \n",
       "\n",
       "</svg>\n"
      ],
      "text/plain": [
       "<IPython.core.display.HTML object>"
      ]
     },
     "metadata": {},
     "output_type": "display_data"
    }
   ],
   "source": [
    "%%html\n",
    "<svg height=\"550\" width=\"1500\">\n",
    "\n",
    "<polygon points = \"200 300 450 300 450 200 650 300 650 100 450 100 450 50 400 50 400 100 100 100 300 230\"\n",
    " stroke=\"black\" fill=\"orange\" stroke-width=\"5\"/>   \n",
    "\n",
    "#The following text is for the \"10cm\" at the right side of the shape\n",
    "<text x=\"645\" y=\"215\" fill=\"black\" transform=\"rotate(-90 645,215)\">10cm</text>\n",
    "\n",
    "#The following text is for the \"19cm\" at the bottom of the shape\n",
    "<text x=\"450\" y=\"320\" fill=\"black\">19cm</text>\n",
    "\n",
    "#### The following rectangle is for the red square at the top\n",
    "<rect x=\"400\" y=\"50\" width=\"50\" height=\"50\" stroke=\"black\" fill=\"red\" stroke-width=\"5\"/>\n",
    "\n",
    "#The following text is for the \"9CM\" at the top of the shape\n",
    "<text x=\"412\" y=\"80\" fill=\"black\">9CM</text>\n",
    "\n",
    "#### The following polygon is for the pink triangle at the bottom\n",
    "<polygon points = \"450 300 450 200 650 300\"\n",
    " stroke=\"black\" fill=\"lightpink\" stroke-width=\"5\"/>\n",
    "\n",
    "#The following text is for the \"25CM\" at the bottom of the shape\n",
    "<text x=\"490\" y=\"270\" fill=\"black\">25CM</text>\n",
    "\n",
    "#### The following polygon is for the pink triangle in the left\n",
    "<polygon points = \"300 100 100 100 300 230\"\n",
    " stroke=\"black\" fill=\"hotpink\" stroke-width=\"5\"/>\n",
    "    \n",
    "#The following text is for the \"35CM\" at the top of the shape\n",
    "<text x=\"215\" y=\"145\" fill=\"black\" >35CM</text>   \n",
    "\n",
    "#### The following polygon is for the pink triangle in the left\n",
    "<polygon points = \"300 230 200 300 300 300\"\n",
    " stroke=\"black\" fill=\"deeppink\" stroke-width=\"5\"/>\n",
    "\n",
    "#The following text is for the \"T\" at the bottom of the shape\n",
    "<text x=\"260\" y=\"285\" fill=\"black\">T</text>\n",
    "    \n",
    "\n",
    "</svg>"
   ]
  },
  {
   "cell_type": "markdown",
   "metadata": {},
   "source": [
    "To find the area of a rectangle, multiply *the height of the rectangle by the length*:\n",
    "\n",
    "<h3 align='center'>$\\rm (Length) \\times (Height) = Area $</h3>\n",
    "\n",
    "You must calculate the area of the <span style=\"color:orange\">**orange rectangle**</span>:"
   ]
  },
  {
   "cell_type": "code",
   "execution_count": 99,
   "metadata": {},
   "outputs": [
    {
     "data": {
      "application/vnd.jupyter.widget-view+json": {
       "model_id": "24a439da70db410dbdcff1e8bded7493",
       "version_major": 2,
       "version_minor": 0
      },
      "text/plain": [
       "IntText(value=0, description='Input your area here: ', style=DescriptionStyle(description_width='initial'))"
      ]
     },
     "metadata": {},
     "output_type": "display_data"
    },
    {
     "data": {
      "application/vnd.jupyter.widget-view+json": {
       "model_id": "f24f55518511475e88a2fc726ee4d92a",
       "version_major": 2,
       "version_minor": 0
      },
      "text/plain": [
       "Button(description='Check Answer', style=ButtonStyle())"
      ]
     },
     "metadata": {},
     "output_type": "display_data"
    }
   ],
   "source": [
    "#Used to ensure the description text doesn't get cut off.\n",
    "style = {'description_width': 'initial'}\n",
    "\n",
    "#Create an input integer widget\n",
    "question8 = widgets.IntText(\n",
    "    value=None,\n",
    "    description='Input your area here: ',\n",
    "    disabled=False,\n",
    "    style = style\n",
    "    )\n",
    "\n",
    "#Create a button titled \"Check Answer\"\n",
    "checkButton8 = widgets.Button(description = \"Check Answer\")\n",
    "\n",
    "def checkAnswer(a):\n",
    "    #questionAnswer will be the input given by the user.\n",
    "    questionAnswer = question8.value\n",
    "    \n",
    "    #answers is a list of possible answers that can be inputted. \n",
    "    answers = [190]\n",
    "    \n",
    "    #Check if the input is in the list of answers. If this is the case:\n",
    "    if (questionAnswer in answers):\n",
    "        #Clear the output\n",
    "        clear_output()\n",
    "        \n",
    "        #Let the user know what they inputed.\n",
    "        display(Markdown(\"You answered: $\" + str(questionAnswer) + \"$\"))\n",
    "        \n",
    "        #Give an explenation for the answer.\n",
    "        display(Markdown(\"Well done! <br> \\\n",
    "                         We get this answer by using the formula: <br> \\\n",
    "                         <h3 align='center'>$\\ ($Length$) × ($Height$) = $ Area</h3> <br> \\\n",
    "                         To get: <br> \\\n",
    "                         <h3 align='center'>$ (19$cm$) × (10$cm$) = 190$cm$^2 $</h3> <br> \\\n",
    "                         We will say that the value of $R$ is $190$cm$^2$.\"))\n",
    "        \n",
    "    #Otherwise, if no answer has been given, do nothing.\n",
    "    elif (questionAnswer == 0):\n",
    "        None\n",
    "    \n",
    "    #Lastly, if the answer is wrong, give the user a hint.\n",
    "    else:\n",
    "        #Clear the output\n",
    "        clear_output()\n",
    "        \n",
    "        #Display the input integer and check button widgets\n",
    "        display(question8)\n",
    "        display(checkButton8)\n",
    "        \n",
    "        #Let the user know what they inputed.\n",
    "        display(Markdown(\"You answered: $\" + str(questionAnswer) + \"$\"))\n",
    "        \n",
    "        #Give a hint for the question\n",
    "        display(Markdown(\"Not quite. <br> \\\n",
    "                      Remember, the formula for finding the area of a rectangle is: <br> \\\n",
    "                      <h3 align='center'>$\\ ($Length$) × ($Height$) = $Area </h3>\"))\n",
    "\n",
    "display(question8)\n",
    "display(checkButton8)\n",
    "\n",
    "checkButton8.on_click(checkAnswer)"
   ]
  },
  {
   "cell_type": "code",
   "execution_count": 100,
   "metadata": {},
   "outputs": [
    {
     "data": {
      "text/html": [
       "<svg height=\"550\" width=\"1500\">\n",
       "\n",
       "<polygon points = \"200 300 450 300 450 200 650 300 650 100 450 100 450 50 400 50 400 100 100 100 300 230\"\n",
       " stroke=\"black\" fill=\"orange\" stroke-width=\"5\"/>\n",
       "\n",
       "#The following text is for the \"R\" at the center of the shape\n",
       "<text x=\"465\" y=\"200\" fill=\"black\">R</text>\n",
       "    \n",
       "#### The following rectangle is for the red square at the top\n",
       "<rect x=\"400\" y=\"50\" width=\"50\" height=\"50\" stroke=\"black\" fill=\"red\" stroke-width=\"5\"/>\n",
       "\n",
       "#The following text is for the \"9CM\" at the top of the shape\n",
       "<text x=\"412\" y=\"80\" fill=\"black\">9CM</text>\n",
       "\n",
       "#### The following polygon is for the pink triangle at the bottom\n",
       "<polygon points = \"450 300 450 200 650 300\"\n",
       " stroke=\"black\" fill=\"lightpink\" stroke-width=\"5\"/>\n",
       "\n",
       "#The following text is for the \"25CM\" at the bottom of the shape\n",
       "<text x=\"490\" y=\"270\" fill=\"black\">25CM</text>\n",
       "\n",
       "#### The following polygon is for the pink triangle in the left\n",
       "<polygon points = \"300 100 100 100 300 230\"\n",
       " stroke=\"black\" fill=\"hotpink\" stroke-width=\"5\"/>\n",
       "    \n",
       "#The following text is for the \"35CM\" at the top of the shape\n",
       "<text x=\"215\" y=\"145\" fill=\"black\" >35CM</text>    \n",
       "\n",
       "#### The following polygon is for the pink triangle in the left\n",
       "<polygon points = \"300 230 200 300 300 300\"\n",
       " stroke=\"black\" fill=\"deeppink\" stroke-width=\"5\"/>\n",
       "\n",
       "#The following text is for the \"T\" at the bottom of the shape\n",
       "<text x=\"260\" y=\"285\" fill=\"black\">T</text>\n",
       "\n",
       "</svg>\n"
      ],
      "text/plain": [
       "<IPython.core.display.HTML object>"
      ]
     },
     "metadata": {},
     "output_type": "display_data"
    }
   ],
   "source": [
    "%%html\n",
    "<svg height=\"550\" width=\"1500\">\n",
    "\n",
    "<polygon points = \"200 300 450 300 450 200 650 300 650 100 450 100 450 50 400 50 400 100 100 100 300 230\"\n",
    " stroke=\"black\" fill=\"orange\" stroke-width=\"5\"/>\n",
    "\n",
    "#The following text is for the \"R\" at the center of the shape\n",
    "<text x=\"465\" y=\"200\" fill=\"black\">R</text>\n",
    "    \n",
    "#### The following rectangle is for the red square at the top\n",
    "<rect x=\"400\" y=\"50\" width=\"50\" height=\"50\" stroke=\"black\" fill=\"red\" stroke-width=\"5\"/>\n",
    "\n",
    "#The following text is for the \"9CM\" at the top of the shape\n",
    "<text x=\"412\" y=\"80\" fill=\"black\">9CM</text>\n",
    "\n",
    "#### The following polygon is for the pink triangle at the bottom\n",
    "<polygon points = \"450 300 450 200 650 300\"\n",
    " stroke=\"black\" fill=\"lightpink\" stroke-width=\"5\"/>\n",
    "\n",
    "#The following text is for the \"25CM\" at the bottom of the shape\n",
    "<text x=\"490\" y=\"270\" fill=\"black\">25CM</text>\n",
    "\n",
    "#### The following polygon is for the pink triangle in the left\n",
    "<polygon points = \"300 100 100 100 300 230\"\n",
    " stroke=\"black\" fill=\"hotpink\" stroke-width=\"5\"/>\n",
    "    \n",
    "#The following text is for the \"35CM\" at the top of the shape\n",
    "<text x=\"215\" y=\"145\" fill=\"black\" >35CM</text>    \n",
    "\n",
    "#### The following polygon is for the pink triangle in the left\n",
    "<polygon points = \"300 230 200 300 300 300\"\n",
    " stroke=\"black\" fill=\"deeppink\" stroke-width=\"5\"/>\n",
    "\n",
    "#The following text is for the \"T\" at the bottom of the shape\n",
    "<text x=\"260\" y=\"285\" fill=\"black\">T</text>\n",
    "\n",
    "</svg>"
   ]
  },
  {
   "cell_type": "markdown",
   "metadata": {},
   "source": [
    "Finally, it's up to you to *calculate the area of the whole shape*! To do this, you have to:\n",
    "\n",
    "> **Add the Areas of the Shapes Inside** <br>\n",
    "NOTE: We only add the areas of shapes that are inside our original shape. So, for this example, we would not add the <span style=\"color:pink\">**pink triangle**</span> on the bottom right.\n",
    "\n",
    "> **Subtract the Areas of the Shapes That are Holes** <br>\n",
    "NOTE: We only subtract the areas of shapes that are not inside our original shape. So, for this example, we would subtract the <span style=\"color:pink\">**pink triangle**</span> on the bottom right.\n",
    "\n",
    "Calculate the area of the whole shape:"
   ]
  },
  {
   "cell_type": "code",
   "execution_count": 101,
   "metadata": {},
   "outputs": [
    {
     "data": {
      "application/vnd.jupyter.widget-view+json": {
       "model_id": "739e55eca9cc4e968f09748a2cf79616",
       "version_major": 2,
       "version_minor": 0
      },
      "text/plain": [
       "IntText(value=0, description='Input your area here: ', style=DescriptionStyle(description_width='initial'))"
      ]
     },
     "metadata": {},
     "output_type": "display_data"
    },
    {
     "data": {
      "application/vnd.jupyter.widget-view+json": {
       "model_id": "00bd1e8c8043493a965973efa518c669",
       "version_major": 2,
       "version_minor": 0
      },
      "text/plain": [
       "Button(description='Check Answer', style=ButtonStyle())"
      ]
     },
     "metadata": {},
     "output_type": "display_data"
    }
   ],
   "source": [
    "#Used to ensure the description text doesn't get cut off.\n",
    "style = {'description_width': 'initial'}\n",
    "\n",
    "#Create an input integer widget\n",
    "question9 = widgets.IntText(\n",
    "    value=None,\n",
    "    description='Input your area here: ',\n",
    "    disabled=False,\n",
    "    style = style\n",
    "    )\n",
    "\n",
    "#Create a button titled \"Check Answer\"\n",
    "checkButton9 = widgets.Button(description = \"Check Answer\")\n",
    "\n",
    "def checkAnswer(a):\n",
    "    #questionAnswer will be the input given by the user.\n",
    "    questionAnswer = question9.value\n",
    "    \n",
    "    #answers is a list of possible answers that can be inputted. \n",
    "    answers = [215]\n",
    "    \n",
    "    #Check if the input is in the list of answers. If this is the case:\n",
    "    if (questionAnswer in answers):\n",
    "        #Clear the output\n",
    "        clear_output()\n",
    "        \n",
    "        #Let the user know what they inputed.\n",
    "        display(Markdown(\"You answered: $\" + str(questionAnswer) + \"$\"))\n",
    "        \n",
    "        #Give an explenation for the answer.\n",
    "        display(Markdown(\"Well done! <br> \\\n",
    "                         We get this answer by first *adding the areas of the shapes inside*: <br> \\\n",
    "                         <h3 align='center'>$\\ (9$cm$^2) + (35$cm$^2) + (6$cm$^2) + (190$cm$^2) \\\n",
    "                         = 240$cm$^2 $</h3> <br> \\\n",
    "                         Then, we *subtract the areas of the shapes that are holes*: <br> \\\n",
    "                         <h3 align='center'>$ (240$cm$^2) - (25$cm$^2) = 215$cm$^2 $</h3> <br> \\\n",
    "                         So, the area of our original shape is $217$cm$^2$.\"))\n",
    "        \n",
    "    #Otherwise, if no answer has been given, do nothing.\n",
    "    elif (questionAnswer == 0):\n",
    "        None\n",
    "    \n",
    "    #Lastly, if the answer is wrong, give the user a hint.\n",
    "    else:\n",
    "        #Clear the output\n",
    "        clear_output()\n",
    "        \n",
    "        #Display the input integer and check button widgets\n",
    "        display(question9)\n",
    "        display(checkButton9)\n",
    "        \n",
    "        #Let the user know what they inputed.\n",
    "        display(Markdown(\"You answered: $\" + str(questionAnswer) + \"$\"))\n",
    "        \n",
    "        #Give a hint for the question\n",
    "        display(Markdown(\"Not quite. <br> \\\n",
    "                      Remember, to find the area of a shape like this we start by: <br> \\\n",
    "                      1) *Adding the areas of the shapes inside* and, <br> \\\n",
    "                      2) *Subtracting the areas of the shapes that are holes*.\"))\n",
    "\n",
    "display(question9)\n",
    "display(checkButton9)\n",
    "\n",
    "checkButton9.on_click(checkAnswer)"
   ]
  },
  {
   "cell_type": "markdown",
   "metadata": {},
   "source": [
    "## Conclusion:\n",
    "\n",
    "In this notebook, you will have learned:\n",
    "\n",
    "* How to find the **perimeter** of *quadrilaterals* and *triangles*."
   ]
  },
  {
   "cell_type": "markdown",
   "metadata": {},
   "source": [
    "![alt text](https://github.com/callysto/callysto-sample-notebooks/blob/master/notebooks/images/Callysto_Notebook-Banners_Bottom_06.06.18.jpg?raw=true)"
   ]
  }
 ],
 "metadata": {
  "kernelspec": {
   "display_name": "Python 3",
   "language": "python",
   "name": "python3"
  },
  "language_info": {
   "codemirror_mode": {
    "name": "ipython",
    "version": 3
   },
   "file_extension": ".py",
   "mimetype": "text/x-python",
   "name": "python",
   "nbconvert_exporter": "python",
   "pygments_lexer": "ipython3",
   "version": "3.6.8"
  }
 },
 "nbformat": 4,
 "nbformat_minor": 2
}
