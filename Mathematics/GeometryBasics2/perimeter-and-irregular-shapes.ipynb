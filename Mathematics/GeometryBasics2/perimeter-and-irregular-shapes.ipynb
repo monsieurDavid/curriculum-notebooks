{
 "cells": [
  {
   "cell_type": "code",
   "execution_count": 1,
   "metadata": {
    "scrolled": true
   },
   "outputs": [
    {
     "data": {
      "text/html": [
       "<script>\n",
       "code_show=true; \n",
       "function code_toggle() {\n",
       " if (code_show){\n",
       " $('div.input').hide();\n",
       " } else {\n",
       " $('div.input').show();\n",
       " }\n",
       " code_show = !code_show\n",
       "} \n",
       "$( document ).ready(code_toggle);\n",
       "</script>\n",
       "The raw code for this IPython notebook is by default hidden for easier reading.\n",
       "To toggle on/off the raw code, click <a href=\"javascript:code_toggle()\">here</a>."
      ],
      "text/plain": [
       "<IPython.core.display.HTML object>"
      ]
     },
     "execution_count": 1,
     "metadata": {},
     "output_type": "execute_result"
    }
   ],
   "source": [
    "from IPython.display import HTML\n",
    "HTML('''<script>\n",
    "code_show=true; \n",
    "function code_toggle() {\n",
    " if (code_show){\n",
    " $('div.input').hide();\n",
    " } else {\n",
    " $('div.input').show();\n",
    " }\n",
    " code_show = !code_show\n",
    "} \n",
    "$( document ).ready(code_toggle);\n",
    "</script>\n",
    "The raw code for this IPython notebook is by default hidden for easier reading.\n",
    "To toggle on/off the raw code, click <a href=\"javascript:code_toggle()\">here</a>.''')"
   ]
  },
  {
   "cell_type": "markdown",
   "metadata": {},
   "source": [
    "![alt text](https://github.com/callysto/callysto-sample-notebooks/blob/master/notebooks/images/Callysto_Notebook-Banner_Top_06.06.18.jpg?raw=true)  \n"
   ]
  },
  {
   "cell_type": "markdown",
   "metadata": {},
   "source": [
    "\n",
    "<h1 align='center'>Geometry Basics 2</h1>\n",
    "\n",
    "<h4 align='center'>Grade 8 | Mathematics</h4>"
   ]
  },
  {
   "cell_type": "code",
   "execution_count": 42,
   "metadata": {},
   "outputs": [],
   "source": [
    "import matplotlib.pyplot as plt\n",
    "import ipywidgets\n",
    "from ipywidgets import widgets, interact, interact_manual, Button, Layout\n",
    "from IPython.display import Javascript, display, Latex, clear_output, Markdown"
   ]
  },
  {
   "cell_type": "markdown",
   "metadata": {},
   "source": [
    "Geometry is one of the most valuable topics of everyday life. It is important for driving, cooking, drawing, decorating, and many other tasks. It is also instinctive to human beings. Babies use geometry when deciding that circular pieces fit in circular holes. So, this notebook is describing the math behind natural activities.\n",
    "\n",
    "In this notebook, you will learn how to find the perimeter of quadrilaterals and triangles. You will also learn how to measure the perimeter and area of irregular shapes. These topics will be taught through visual aids and interactive models."
   ]
  },
  {
   "cell_type": "markdown",
   "metadata": {},
   "source": [
    "# Perimeter Background\n",
    "\n",
    "## Squares\n",
    "\n",
    "A **perimeter** is: \"The continuous line that forms a boundary around a shape.\" This means that a perimeter is the *length of every edge of a shape added together*. So, let's say we want to find the **perimeter of a square**:"
   ]
  },
  {
   "cell_type": "code",
   "execution_count": 175,
   "metadata": {
    "scrolled": true
   },
   "outputs": [
    {
     "data": {
      "text/html": [
       "<svg height=\"400\" width=\"1500\">\n",
       "<rect x=\"370\" y=\"30\" width=\"200\" height=\"200\" stroke=\"black\" fill=\"red\" stroke-width=\"5\"/>\n",
       "\n",
       "#The following text is for the \"4cm\" at the top of the shape\n",
       "<text x=\"455\" y=\"20\" fill=\"black\">4cm</text>\n",
       "\n",
       "</svg>\n"
      ],
      "text/plain": [
       "<IPython.core.display.HTML object>"
      ]
     },
     "metadata": {},
     "output_type": "display_data"
    }
   ],
   "source": [
    "%%html\n",
    "<svg height=\"400\" width=\"1500\">\n",
    "<rect x=\"370\" y=\"30\" width=\"200\" height=\"200\" stroke=\"black\" fill=\"red\" stroke-width=\"5\"/>\n",
    "\n",
    "#The following text is for the \"4cm\" at the top of the shape\n",
    "<text x=\"455\" y=\"20\" fill=\"black\">4cm</text>\n",
    "\n",
    "</svg>"
   ]
  },
  {
   "cell_type": "markdown",
   "metadata": {},
   "source": [
    "To calculate the perimeter of a square, add the length of all the edges together:"
   ]
  },
  {
   "cell_type": "markdown",
   "metadata": {},
   "source": [
    "<h3 align='center'>$\\ (Length) + (Length) + (Length) + (Length) = (Perimeter) $</h3>"
   ]
  },
  {
   "cell_type": "markdown",
   "metadata": {},
   "source": [
    "But, we know that the length of every edge on a square is the same. So, we can do:"
   ]
  },
  {
   "cell_type": "markdown",
   "metadata": {},
   "source": [
    "<h3 align='center'>$\\ 4 \\times (Length) = (Perimeter) $</h3>"
   ]
  },
  {
   "cell_type": "markdown",
   "metadata": {},
   "source": [
    "So, the perimeter of the square above is:"
   ]
  },
  {
   "cell_type": "markdown",
   "metadata": {},
   "source": [
    "<h3 align='center'>$\\ 4 \\times (4cm) = 16cm $</h3>"
   ]
  },
  {
   "cell_type": "markdown",
   "metadata": {},
   "source": [
    "### Calculator for Perimeter of a Square\n",
    "\n",
    "The following is an interactive calculator for getting the perimeter of any square:"
   ]
  },
  {
   "cell_type": "code",
   "execution_count": 174,
   "metadata": {},
   "outputs": [
    {
     "data": {
      "application/vnd.jupyter.widget-view+json": {
       "model_id": "48b8d8d2e5dc493d98b0d767ad29d2a9",
       "version_major": 2,
       "version_minor": 0
      },
      "text/plain": [
       "interactive(children=(IntSlider(value=1, description='Square length:', min=1, style=SliderStyle(description_wi…"
      ]
     },
     "metadata": {},
     "output_type": "display_data"
    }
   ],
   "source": [
    "%matplotlib inline\n",
    "from ipywidgets import interactive\n",
    "import matplotlib.pyplot as plt\n",
    "\n",
    "#Used to ensure the description text doesn't get cut off.\n",
    "stl = {'description_width': 'initial'}\n",
    "\n",
    "def f(sqrLength):\n",
    "    #Draw a square using the sqrLength input\n",
    "    plt.plot([0, sqrLength, sqrLength, 0, 0], [0, 0, sqrLength, sqrLength, 0])\n",
    "    \n",
    "    #Scale the plot to look like a square at all times\n",
    "    plt.axis('scaled')\n",
    "    plt.show()\n",
    "    \n",
    "    #Calculate the perimeter of the square by multiplying the length of the square by 4\n",
    "    sqrPerimeter = 4 * sqrLength\n",
    "    \n",
    "    display(Latex(\"Given a length of $\" + str(sqrLength) + \"$, the perimeter is $\" + str(sqrPerimeter) + \"$\"))\n",
    "\n",
    "#Create an interactive plot with the f function and an IntSlider as input. The IntSlider\n",
    "# will determine the length of a square.\n",
    "interactive_plot = interactive(f, sqrLength = widgets.IntSlider(min = 1, max = 100, \\\n",
    "                               description = 'Square length:', style = stl))\n",
    "\n",
    "interactive_plot"
   ]
  },
  {
   "cell_type": "markdown",
   "metadata": {},
   "source": [
    "## Rectangles\n",
    "\n",
    "Now, let's say we have to find the **perimeter of a rectangle**:"
   ]
  },
  {
   "cell_type": "code",
   "execution_count": 33,
   "metadata": {
    "scrolled": true
   },
   "outputs": [
    {
     "data": {
      "text/html": [
       "<svg height=\"400\" width=\"1500\">\n",
       "<rect x=\"300\" y=\"30\" width=\"370\" height=\"170\" stroke=\"black\" fill=\"orange\" stroke-width=\"5\"/>\n",
       "\n",
       "#The following text is for the \"9cm\" at the top of the shape\n",
       "<text x=\"470\" y=\"20\" fill=\"black\">9cm</text>\n",
       "\n",
       "#The following text is for the \"4cm\" at the bottom of the shape\n",
       "<text x=\"290\" y=\"130\" fill=\"black\" transform=\"rotate(-90 290,130)\">4cm</text>\n",
       "</svg>\n"
      ],
      "text/plain": [
       "<IPython.core.display.HTML object>"
      ]
     },
     "metadata": {},
     "output_type": "display_data"
    }
   ],
   "source": [
    "%%html\n",
    "<svg height=\"400\" width=\"1500\">\n",
    "<rect x=\"300\" y=\"30\" width=\"370\" height=\"170\" stroke=\"black\" fill=\"orange\" stroke-width=\"5\"/>\n",
    "\n",
    "#The following text is for the \"9cm\" at the top of the shape\n",
    "<text x=\"470\" y=\"20\" fill=\"black\">9cm</text>\n",
    "\n",
    "#The following text is for the \"4cm\" at the bottom of the shape\n",
    "<text x=\"290\" y=\"130\" fill=\"black\" transform=\"rotate(-90 290,130)\">4cm</text>\n",
    "</svg>"
   ]
  },
  {
   "cell_type": "markdown",
   "metadata": {},
   "source": [
    "To calculate the perimeter of a rectangle, add the length of all the edges together:"
   ]
  },
  {
   "cell_type": "markdown",
   "metadata": {},
   "source": [
    "<h3 align='center'>$\\ (Length) + (Length) + (Height) + (Height) = (Perimeter) $</h3>"
   ]
  },
  {
   "cell_type": "markdown",
   "metadata": {},
   "source": [
    "But, we know that a rectangle has 4 edges, and every edge is equal to another. \n",
    "\n",
    "This means that *the length of the edge on the bottom is equal to the length of the edge on the top*. This also means that *the length of the edge on the right side is equal to the length of the edge on the left*. \n",
    "\n",
    "So, we can do:"
   ]
  },
  {
   "cell_type": "markdown",
   "metadata": {},
   "source": [
    "<h3 align='center'>$\\ 2 \\times (Length) + 2 \\times (Height) = (Perimeter) $</h3>"
   ]
  },
  {
   "cell_type": "markdown",
   "metadata": {},
   "source": [
    "So, the perimeter of the rectangle above is:"
   ]
  },
  {
   "cell_type": "markdown",
   "metadata": {},
   "source": [
    "### $$\n",
    "\\begin{align*}\n",
    "2 \\times (9cm) + 2 \\times (4cm) = 26cm\n",
    "\\end{align*}\n",
    "$$"
   ]
  },
  {
   "cell_type": "markdown",
   "metadata": {},
   "source": [
    "### Calculator for Perimeter of a Rectangle\n",
    "\n",
    "The following is an interactive calculator for getting the perimeter of any rectangle:"
   ]
  },
  {
   "cell_type": "code",
   "execution_count": 173,
   "metadata": {
    "scrolled": false
   },
   "outputs": [
    {
     "data": {
      "application/vnd.jupyter.widget-view+json": {
       "model_id": "709152cbb5314879b4ca96d6800dbd26",
       "version_major": 2,
       "version_minor": 0
      },
      "text/plain": [
       "interactive(children=(IntSlider(value=1, description='Rectangle Length:', min=1, style=SliderStyle(description…"
      ]
     },
     "metadata": {},
     "output_type": "display_data"
    }
   ],
   "source": [
    "%matplotlib inline\n",
    "from ipywidgets import interactive\n",
    "import matplotlib.pyplot as plt\n",
    "\n",
    "#Used to ensure the description text doesn't get cut off.\n",
    "stl = {'description_width': 'initial'}\n",
    "\n",
    "def f(rectLength, rectHeight):\n",
    "    #Draw a rectangle using the rectLength as the length and the rectHeight as the height\n",
    "    rect = plt.plot([0, rectLength, rectLength, 0, 0], [0, 0, rectHeight, rectHeight, 0])\n",
    "    \n",
    "    #Scale the plot to look like a rectangle at all times\n",
    "    plt.axis('scaled')\n",
    "    plt.show()\n",
    "    \n",
    "    #Calculate the perimeter of the rectangle by adding the product of 2 times the length \n",
    "    # and 2 times the height together\n",
    "    rectPerimeter = (rectLength * 2) + (rectHeight * 2)\n",
    "\n",
    "    display(Latex(\"Given a length of $\" + str(rectLength) + \"$, and a height of $\" + str(rectHeight) + \\\n",
    "          \"$, the perimeter of a rectangle is $\" + str(rectPerimeter) + \"$\"))\n",
    "\n",
    "#Create an interactive plot with the f function and two IntSliders as input. One for the \n",
    "# rectangle's length, (rectLength) and the other for the rectangle's height, (rectHeight)\n",
    "interactive_plot = interactive(f, rectLength = widgets.IntSlider(min = 1, max = 100, \\\n",
    "                               description = 'Rectangle Length:', style = stl), \\\n",
    "                               rectHeight = widgets.IntSlider(min = 1, max = 100, \\\n",
    "                               description = 'Rectangle Height:', style = stl))\n",
    "\n",
    "interactive_plot"
   ]
  },
  {
   "cell_type": "markdown",
   "metadata": {},
   "source": [
    "## Quadrilaterals\n",
    "\n",
    "Now, let's say we have to find the **perimeter of some quadrilateral shape** that isn't a square or rectangle. For example, how do you find the perimeter of the following quadrilateral?"
   ]
  },
  {
   "cell_type": "code",
   "execution_count": 6,
   "metadata": {},
   "outputs": [
    {
     "data": {
      "text/html": [
       "<svg height=\"400\" width=\"1500\">\n",
       "\n",
       "#First point is at x = 300 and y = 80\n",
       "#Second point at x = 500 and y = 40\n",
       "#Third point at x = 650 and y = 200\n",
       "#Fourth point at x = 260 and y = 200\n",
       "<polygon points=\"300 80 500 40 650 200 260 200\" \n",
       " stroke=\"black\" fill=\"midnightblue\" stroke-width=\"5\"/>\n",
       "\n",
       "#The following text is for the \"4cm\" at the left side of the shape\n",
       "<text x=\"265\" y=\"150\" fill=\"black\" transform=\"rotate(-70 265,150)\">4cm</text>\n",
       "\n",
       "#The following text is for the \"6cm\" at the top of the shape\n",
       "<text x=\"380\" y=\"55\" fill=\"black\" transform=\"rotate(-10 380,55)\">6cm</text>\n",
       "\n",
       "#The following text is for the \"7cm\" at the right side of the shape\n",
       "<text x=\"570\" y=\"100\" fill=\"black\" transform=\"rotate(50 570,100)\">7cm</text>\n",
       "\n",
       "#The following text is for the \"9cm\" at the bottom of the shape\n",
       "<text x=\"430\" y=\"220\" fill=\"black\">9cm</text>\n",
       "\n",
       "</svg>\n"
      ],
      "text/plain": [
       "<IPython.core.display.HTML object>"
      ]
     },
     "metadata": {},
     "output_type": "display_data"
    }
   ],
   "source": [
    "%%html\n",
    "<svg height=\"400\" width=\"1500\">\n",
    "\n",
    "#First point is at x = 300 and y = 80\n",
    "#Second point at x = 500 and y = 40\n",
    "#Third point at x = 650 and y = 200\n",
    "#Fourth point at x = 260 and y = 200\n",
    "<polygon points=\"300 80 500 40 650 200 260 200\" \n",
    " stroke=\"black\" fill=\"midnightblue\" stroke-width=\"5\"/>\n",
    "\n",
    "#The following text is for the \"4cm\" at the left side of the shape\n",
    "<text x=\"265\" y=\"150\" fill=\"black\" transform=\"rotate(-70 265,150)\">4cm</text>\n",
    "\n",
    "#The following text is for the \"6cm\" at the top of the shape\n",
    "<text x=\"380\" y=\"55\" fill=\"black\" transform=\"rotate(-10 380,55)\">6cm</text>\n",
    "\n",
    "#The following text is for the \"7cm\" at the right side of the shape\n",
    "<text x=\"570\" y=\"100\" fill=\"black\" transform=\"rotate(50 570,100)\">7cm</text>\n",
    "\n",
    "#The following text is for the \"9cm\" at the bottom of the shape\n",
    "<text x=\"430\" y=\"220\" fill=\"black\">9cm</text>\n",
    "\n",
    "</svg>"
   ]
  },
  {
   "cell_type": "markdown",
   "metadata": {},
   "source": [
    "In this situation, we can't simplify the original formula. This is because the shape is neither a square or rectangle. So, the only way we can find the perimeter is by adding the length of each side together.\n",
    "\n",
    "<h3 align='center'>$\\ (Length) + (Length) + (Length) + (Length) = (Perimeter) $</h3>\n",
    "\n",
    "So, the perimeter of the quadrilateral above is:\n",
    "\n",
    "### $$\n",
    "\\begin{align*}\n",
    "(4cm) + (6cm) + (7cm) + (9cm) = 26cm\n",
    "\\end{align*}\n",
    "$$"
   ]
  },
  {
   "cell_type": "markdown",
   "metadata": {},
   "source": [
    "### Practice Problem 1\n",
    "\n",
    "What is the perimeter of the following quadrilateral?"
   ]
  },
  {
   "cell_type": "code",
   "execution_count": 7,
   "metadata": {
    "scrolled": true
   },
   "outputs": [
    {
     "data": {
      "text/html": [
       "<svg height=\"400\" width=\"1500\">\n",
       "\n",
       "#First point at x = 350 and y = 100\n",
       "#Second point at x = 500 and y = 60\n",
       "#Third point at x = 650 and y = 220\n",
       "#Fourth point at x = 350 and y = 150\n",
       "<polygon points=\"350 100 500 60 650 220 350 150\" \n",
       " stroke=\"black\" fill=\"mediumblue\" stroke-width=\"5\"/>\n",
       "\n",
       "#The following text is for the \"7cm\" at the left side of the shape\n",
       "<text x=\"340\" y=\"140\" fill=\"black\" transform=\"rotate(-90 340,140)\">7cm</text>\n",
       "\n",
       "#The following text is for the \"17cm\" at the top of the shape\n",
       "<text x=\"410\" y=\"75\" fill=\"black\" transform=\"rotate(-15 410,75)\">17cm</text>\n",
       "\n",
       "#The following text is for the \"10cm\" at the right side of the shape\n",
       "<text x=\"570\" y=\"120\" fill=\"black\" transform=\"rotate(50 570,120)\">25cm</text>\n",
       "\n",
       "#The following text is for the \"34cm\" at the bottom of the shape\n",
       "<text x=\"460\" y=\"195\" fill=\"black\" transform=\"rotate(12 460,195)\">34cm</text>\n",
       "\n",
       "</svg>\n"
      ],
      "text/plain": [
       "<IPython.core.display.HTML object>"
      ]
     },
     "metadata": {},
     "output_type": "display_data"
    }
   ],
   "source": [
    "%%html\n",
    "<svg height=\"400\" width=\"1500\">\n",
    "\n",
    "#First point at x = 350 and y = 100\n",
    "#Second point at x = 500 and y = 60\n",
    "#Third point at x = 650 and y = 220\n",
    "#Fourth point at x = 350 and y = 150\n",
    "<polygon points=\"350 100 500 60 650 220 350 150\" \n",
    " stroke=\"black\" fill=\"mediumblue\" stroke-width=\"5\"/>\n",
    "\n",
    "#The following text is for the \"7cm\" at the left side of the shape\n",
    "<text x=\"340\" y=\"140\" fill=\"black\" transform=\"rotate(-90 340,140)\">7cm</text>\n",
    "\n",
    "#The following text is for the \"17cm\" at the top of the shape\n",
    "<text x=\"410\" y=\"75\" fill=\"black\" transform=\"rotate(-15 410,75)\">17cm</text>\n",
    "\n",
    "#The following text is for the \"10cm\" at the right side of the shape\n",
    "<text x=\"570\" y=\"120\" fill=\"black\" transform=\"rotate(50 570,120)\">25cm</text>\n",
    "\n",
    "#The following text is for the \"34cm\" at the bottom of the shape\n",
    "<text x=\"460\" y=\"195\" fill=\"black\" transform=\"rotate(12 460,195)\">34cm</text>\n",
    "\n",
    "</svg>"
   ]
  },
  {
   "cell_type": "code",
   "execution_count": 200,
   "metadata": {},
   "outputs": [
    {
     "data": {
      "application/vnd.jupyter.widget-view+json": {
       "model_id": "ce68d69bff39449fba43e18212114e8b",
       "version_major": 2,
       "version_minor": 0
      },
      "text/plain": [
       "IntText(value=0, description='Input your perimeter here: ', style=DescriptionStyle(description_width='initial'…"
      ]
     },
     "metadata": {},
     "output_type": "display_data"
    },
    {
     "data": {
      "application/vnd.jupyter.widget-view+json": {
       "model_id": "aeab3a950c37440e854afcace542cdb8",
       "version_major": 2,
       "version_minor": 0
      },
      "text/plain": [
       "Button(description='Check Answer', style=ButtonStyle())"
      ]
     },
     "metadata": {},
     "output_type": "display_data"
    }
   ],
   "source": [
    "#Used to ensure the description text doesn't get cut off.\n",
    "style = {'description_width': 'initial'}\n",
    "\n",
    "#Create an input integer widget\n",
    "question1 = widgets.IntText(\n",
    "    value=None,\n",
    "    description='Input your perimeter here: ',\n",
    "    disabled=False,\n",
    "    style = style\n",
    "    )\n",
    "\n",
    "#Create a button titled \"Check Answer\"\n",
    "checkButton1 = widgets.Button(description = \"Check Answer\")\n",
    "\n",
    "def checkAnswer(a):\n",
    "    #questionAnswer will be the input given by the user.\n",
    "    questionAnswer = question1.value\n",
    "    \n",
    "    #answers is a list of possible answers that can be inputted. \n",
    "    answers = [83]\n",
    "    \n",
    "    #Check if the input is in the list of answers. If this is the case:\n",
    "    if (questionAnswer in answers):\n",
    "        #Clear the output\n",
    "        clear_output()\n",
    "        \n",
    "        #Let the user know what they inputed.\n",
    "        display(Markdown(\"You answered: $\" + str(questionAnswer) + \"$\"))\n",
    "        \n",
    "        #Give an explenation for the answer.\n",
    "        display(Markdown(\"Well done! <br> \\\n",
    "                         We get this answer by doing: <br> \\\n",
    "                         <h3 align='center'>$\\ (Length) + (Length) + (Length) + (Length) = (Perimeter) $</h3> <br> \\\n",
    "                         So: <br> \\\n",
    "                         <h3 align='center'>$\\ (7cm) + (17cm) + (25cm) + (34cm) = 83cm $</h3>\"))\n",
    "        \n",
    "    #Otherwise, if no answer has been given, do nothing.\n",
    "    elif (questionAnswer == 0):\n",
    "        None\n",
    "    \n",
    "    #Lastly, if the answer is wrong, give the user a hint.\n",
    "    else:\n",
    "        #Clear the output\n",
    "        clear_output()\n",
    "        \n",
    "        #Display the input integer and check button widgets\n",
    "        display(question1)\n",
    "        display(checkButton1)\n",
    "        \n",
    "        #Let the user know what they inputed.\n",
    "        display(Markdown(\"You answered: $\" + str(questionAnswer) + \"$\"))\n",
    "        \n",
    "        #Give a hint for the question\n",
    "        display(Markdown(\"Not quite. <br> \\\n",
    "                      Remember, to find the perimeter of a quadrilateral you must add all the \\\n",
    "                      lengths together: <br> \\\n",
    "                      <h3 align='center'>$\\ (Length) + (Length) + (Length) + (Length) = (Perimeter) $</h3>\"))\n",
    "\n",
    "display(question1)\n",
    "display(checkButton1)\n",
    "\n",
    "checkButton1.on_click(checkAnswer)"
   ]
  },
  {
   "cell_type": "markdown",
   "metadata": {},
   "source": [
    "### Practice Problem 2\n",
    "\n",
    "If *the perimeter is $34cm$* for the following quadrilateral, then what is the length of side **A**?"
   ]
  },
  {
   "cell_type": "code",
   "execution_count": 69,
   "metadata": {
    "scrolled": false
   },
   "outputs": [
    {
     "data": {
      "text/html": [
       "<svg height=\"400\" width=\"1500\">\n",
       "\n",
       "#First point at x = 340 and y = 30\n",
       "#Second point at x = 600 and y = 60\n",
       "#Third point at x = 450 and y = 220\n",
       "#Fourth point at x = 360 and y = 150\n",
       "<polygon points=\"340 30 600 60 450 220 360 150\" \n",
       " stroke=\"black\" fill=\"cornflowerblue\" stroke-width=\"5\"/>\n",
       "\n",
       "#The following text is for the \"A\" at the left side of the shape\n",
       "<text x=\"332\" y=\"95\" fill=\"black\">A</text>\n",
       "\n",
       "#The following text is for the \"9cm\" at the top of the shape\n",
       "<text x=\"440\" y=\"35\" fill=\"black\" transform=\"rotate(5 440,35)\">14cm</text>\n",
       "\n",
       "#The following text is for the \"10cm\" at the right side of the shape\n",
       "<text x=\"525\" y=\"170\" fill=\"black\" transform=\"rotate(-50 525,170)\">10cm</text>\n",
       "\n",
       "#The following text is for the \"5cm\" at the bottom left side of the shape\n",
       "<text x=\"380\" y=\"190\" fill=\"black\" transform=\"rotate(38 380,190)\">5cm</text>\n",
       "\n",
       "</svg>\n"
      ],
      "text/plain": [
       "<IPython.core.display.HTML object>"
      ]
     },
     "metadata": {},
     "output_type": "display_data"
    }
   ],
   "source": [
    "%%html\n",
    "<svg height=\"400\" width=\"1500\">\n",
    "\n",
    "#First point at x = 340 and y = 30\n",
    "#Second point at x = 600 and y = 60\n",
    "#Third point at x = 450 and y = 220\n",
    "#Fourth point at x = 360 and y = 150\n",
    "<polygon points=\"340 30 600 60 450 220 360 150\" \n",
    " stroke=\"black\" fill=\"cornflowerblue\" stroke-width=\"5\"/>\n",
    "\n",
    "#The following text is for the \"A\" at the left side of the shape\n",
    "<text x=\"332\" y=\"95\" fill=\"black\">A</text>\n",
    "\n",
    "#The following text is for the \"9cm\" at the top of the shape\n",
    "<text x=\"440\" y=\"35\" fill=\"black\" transform=\"rotate(5 440,35)\">14cm</text>\n",
    "\n",
    "#The following text is for the \"10cm\" at the right side of the shape\n",
    "<text x=\"525\" y=\"170\" fill=\"black\" transform=\"rotate(-50 525,170)\">10cm</text>\n",
    "\n",
    "#The following text is for the \"5cm\" at the bottom left side of the shape\n",
    "<text x=\"380\" y=\"190\" fill=\"black\" transform=\"rotate(38 380,190)\">5cm</text>\n",
    "\n",
    "</svg>"
   ]
  },
  {
   "cell_type": "code",
   "execution_count": 199,
   "metadata": {},
   "outputs": [
    {
     "data": {
      "application/vnd.jupyter.widget-view+json": {
       "model_id": "348e9326e34e4a889978911ea0fe3485",
       "version_major": 2,
       "version_minor": 0
      },
      "text/plain": [
       "IntText(value=0, description='Input your length here: ', style=DescriptionStyle(description_width='initial'))"
      ]
     },
     "metadata": {},
     "output_type": "display_data"
    },
    {
     "data": {
      "application/vnd.jupyter.widget-view+json": {
       "model_id": "e2d8cfbc7826408f9b240f05146ba934",
       "version_major": 2,
       "version_minor": 0
      },
      "text/plain": [
       "Button(description='Check Answer', style=ButtonStyle())"
      ]
     },
     "metadata": {},
     "output_type": "display_data"
    }
   ],
   "source": [
    "#Used to ensure the description text doesn't get cut off.\n",
    "style = {'description_width': 'initial'}\n",
    "\n",
    "#Create an input integer widget\n",
    "question2 = widgets.IntText(\n",
    "    value=None,\n",
    "    description='Input your length here: ',\n",
    "    disabled=False,\n",
    "    style = style\n",
    "    )\n",
    "\n",
    "#Create a button titled \"Check Answer\"\n",
    "checkButton2 = widgets.Button(description = \"Check Answer\")\n",
    "\n",
    "def checkAnswer(a):\n",
    "    #questionAnswer will be the input given by the user.\n",
    "    questionAnswer = question2.value\n",
    "    \n",
    "    #answers is a list of possible answers that can be inputted. \n",
    "    answers = [5]\n",
    "    \n",
    "    #Check if the input is in the list of answers. If this is the case:\n",
    "    if (questionAnswer in answers):\n",
    "        #Clear the output\n",
    "        clear_output()\n",
    "        \n",
    "        #Let the user know what they inputed.\n",
    "        display(Markdown(\"You answered: $\" + str(questionAnswer) + \"$\"))\n",
    "        \n",
    "        #Give an explenation for the answer.\n",
    "        display(Markdown(\"Well done! <br> \\\n",
    "                         We get this answer by doing: <br> \\\n",
    "                         <h3 align='center'>$\\ (Perimeter) - (Length) - (Length) - (Length) = A $</h3> <br> \\\n",
    "                         So: <br> \\\n",
    "                         <h3 align='center'>$\\ (34cm) - (14cm) - (10cm) - (5cm) = 5cm $</h3>\"))\n",
    "        \n",
    "    #Otherwise, if no answer has been given, do nothing.\n",
    "    elif (questionAnswer == 0):\n",
    "        None\n",
    "    \n",
    "    #Lastly, if the answer is wrong, give the user a hint.\n",
    "    else:\n",
    "        #Clear the output\n",
    "        clear_output()\n",
    "        \n",
    "        #Display the input integer and check button widgets\n",
    "        display(question2)\n",
    "        display(checkButton2)\n",
    "        \n",
    "        #Let the user know what they inputed.\n",
    "        display(Markdown(\"You answered: $\" + str(questionAnswer) + \"$\"))\n",
    "        \n",
    "        #Give a hint for the question\n",
    "        display(Markdown(\"Not quite. <br> \\\n",
    "                      Remember, the formula for finding the perimeter of a quadrilateral is: <br> \\\n",
    "                      <h3 align='center'>$\\ (Length) + (Length) + (Length) + (Length) = (Perimeter) $</h3> <br> \\\n",
    "                      We can rearrange this formula to find length $A$ by doing: <br> \\\n",
    "                      <h3 align='center'>$\\ A = (Perimeter) - (Length) - (Length) - (Length) $</h3>\"))\n",
    "\n",
    "display(question2)\n",
    "display(checkButton2)\n",
    "\n",
    "checkButton2.on_click(checkAnswer)"
   ]
  },
  {
   "cell_type": "markdown",
   "metadata": {},
   "source": [
    "### Practice Problem 3\n",
    "\n",
    "What is the perimeter of the following quadrilateral?"
   ]
  },
  {
   "cell_type": "code",
   "execution_count": 9,
   "metadata": {},
   "outputs": [
    {
     "data": {
      "text/html": [
       "<svg height=\"400\" width=\"1500\">\n",
       "\n",
       "#First point at x = 230 and y = 30\n",
       "#Second point at x = 580 and y = 30\n",
       "#Third point at x = 730 and y = 200\n",
       "#Fourth point at x = 380 and y = 200\n",
       "<polygon points=\"230 30 580 30 730 200 380 200\" \n",
       " stroke=\"black\" fill=\"deepskyblue\" stroke-width=\"5\"/>\n",
       "    \n",
       "#The following text is for the \"9cm\" at the top of the shape\n",
       "<text x=\"400\" y=\"20\" fill=\"black\">9cm</text>\n",
       "\n",
       "#The following text is for the \"7cm\" at the right side of the shape\n",
       "<text x=\"655\" y=\"100\" fill=\"black\" transform=\"rotate(50 655,100)\">7cm</text>\n",
       "\n",
       "</svg>\n"
      ],
      "text/plain": [
       "<IPython.core.display.HTML object>"
      ]
     },
     "metadata": {},
     "output_type": "display_data"
    }
   ],
   "source": [
    "%%html\n",
    "<svg height=\"400\" width=\"1500\">\n",
    "\n",
    "#First point at x = 230 and y = 30\n",
    "#Second point at x = 580 and y = 30\n",
    "#Third point at x = 730 and y = 200\n",
    "#Fourth point at x = 380 and y = 200\n",
    "<polygon points=\"230 30 580 30 730 200 380 200\" \n",
    " stroke=\"black\" fill=\"deepskyblue\" stroke-width=\"5\"/>\n",
    "    \n",
    "#The following text is for the \"9cm\" at the top of the shape\n",
    "<text x=\"400\" y=\"20\" fill=\"black\">9cm</text>\n",
    "\n",
    "#The following text is for the \"7cm\" at the right side of the shape\n",
    "<text x=\"655\" y=\"100\" fill=\"black\" transform=\"rotate(50 655,100)\">7cm</text>\n",
    "\n",
    "</svg>"
   ]
  },
  {
   "cell_type": "code",
   "execution_count": 198,
   "metadata": {
    "scrolled": true
   },
   "outputs": [
    {
     "data": {
      "application/vnd.jupyter.widget-view+json": {
       "model_id": "5e9d8255cd074a1989d359f2b5680180",
       "version_major": 2,
       "version_minor": 0
      },
      "text/plain": [
       "IntText(value=0, description='Input your perimeter here: ', style=DescriptionStyle(description_width='initial'…"
      ]
     },
     "metadata": {},
     "output_type": "display_data"
    },
    {
     "data": {
      "application/vnd.jupyter.widget-view+json": {
       "model_id": "0ea10d3616304f25bb4db9640f877059",
       "version_major": 2,
       "version_minor": 0
      },
      "text/plain": [
       "Button(description='Check Answer', style=ButtonStyle())"
      ]
     },
     "metadata": {},
     "output_type": "display_data"
    }
   ],
   "source": [
    "#Used to ensure the description text doesn't get cut off.\n",
    "style = {'description_width': 'initial'}\n",
    "\n",
    "#Create an input integer widget\n",
    "question3 = widgets.IntText(\n",
    "    value=None,\n",
    "    description='Input your perimeter here: ',\n",
    "    disabled=False,\n",
    "    style = style\n",
    "    )\n",
    "\n",
    "#Create a button titled \"Check Answer\"\n",
    "checkButton3 = widgets.Button(description = \"Check Answer\")\n",
    "\n",
    "def checkAnswer(a):\n",
    "    #questionAnswer will be the input given by the user.\n",
    "    questionAnswer = question3.value\n",
    "    \n",
    "    #answers is a list of possible answers that can be inputted. \n",
    "    answers = [32]\n",
    "    \n",
    "    #Check if the input is in the list of answers. If this is the case:\n",
    "    if (questionAnswer in answers):\n",
    "        #Clear the output\n",
    "        clear_output()\n",
    "        \n",
    "        #Let the user know what they inputed.\n",
    "        display(Markdown(\"You answered: $\" + str(questionAnswer) + \"$\"))\n",
    "        \n",
    "        #Give an explenation for the answer.\n",
    "        display(Markdown(\"Well done! <br> \\\n",
    "                         We get this answer by doing: <br> \\\n",
    "                         <h3 align='center'>$\\ 2 × (Length) + 2 × (Length) = (Perimeter) $</h3> <br> \\\n",
    "                         So: <br> \\\n",
    "                         <h3 align='center'>$\\ 2 × (9cm) + 2 × (7cm) = 32cm $</h3>\"))\n",
    "        \n",
    "    #Otherwise, if no answer has been given, do nothing.\n",
    "    elif (questionAnswer == 0):\n",
    "        None\n",
    "    \n",
    "    #Lastly, if the answer is wrong, give the user a hint.\n",
    "    else:\n",
    "        #Clear the output\n",
    "        clear_output()\n",
    "        \n",
    "        #Display the input integer and check button widgets\n",
    "        display(question3)\n",
    "        display(checkButton3)\n",
    "        \n",
    "        #Let the user know what they inputed.\n",
    "        display(Markdown(\"You answered: $\" + str(questionAnswer) + \"$\"))\n",
    "        \n",
    "        #Give a hint for the question\n",
    "        display(Markdown(\"Not quite. <br> \\\n",
    "                      Remember, the formula for finding the perimeter of a quadrilateral is: <br> \\\n",
    "                      <h3 align='center'>$\\ (Length) + (Length) + (Length) + (Length) = (Perimeter) $</h3> <br> \\\n",
    "                      But, the shape we were given *has two sides that are equal*. This means that the top edge \\\n",
    "                      of the shape is the same length as the bottom edge. This also means that the left side \\\n",
    "                      of the shape is the same length as the right side. So, we can use the formula: <br> \\\n",
    "                      <h3 align='center'>$\\  2 × (Length) + 2 × (Length) = (Perimeter) $</h3>\"))\n",
    "\n",
    "display(question3)\n",
    "display(checkButton3)\n",
    "\n",
    "checkButton3.on_click(checkAnswer)"
   ]
  },
  {
   "cell_type": "markdown",
   "metadata": {},
   "source": [
    "## Triangles\n",
    "\n",
    "For our next topic, we will cover how to find the **perimeter of a triangle**. If we are given the length of every edge on a triangle:"
   ]
  },
  {
   "cell_type": "code",
   "execution_count": 54,
   "metadata": {},
   "outputs": [
    {
     "data": {
      "text/html": [
       "<svg height=\"400\" width=\"1500\">\n",
       "\n",
       "#First point at x = 480 and y = 30\n",
       "#Second point at x = 630 and y = 200\n",
       "#Third point at x = 280 and y = 200\n",
       "<polygon points=\"480 30 630 200 280 200\" \n",
       " stroke=\"black\" fill=\"darkmagenta\" stroke-width=\"5\"/>\n",
       "    \n",
       "#The following text is for the \"15cm\" at the top of the shape\n",
       "<text x=\"365\" y=\"120\" fill=\"black\" transform=\"rotate(-45 365,120)\">15cm</text>\n",
       "\n",
       "#The following text is for the \"12cm\" at the right side of the shape\n",
       "<text x=\"555\" y=\"100\" fill=\"black\" transform=\"rotate(50 555,100)\">12cm</text>\n",
       "\n",
       "#The following text is for the \"17cm\" at the bottom of the shape\n",
       "<text x=\"440\" y=\"218\" fill=\"black\">17cm</text>\n",
       "\n",
       "</svg>\n"
      ],
      "text/plain": [
       "<IPython.core.display.HTML object>"
      ]
     },
     "metadata": {},
     "output_type": "display_data"
    }
   ],
   "source": [
    "%%html\n",
    "<svg height=\"400\" width=\"1500\">\n",
    "\n",
    "#First point at x = 480 and y = 30\n",
    "#Second point at x = 630 and y = 200\n",
    "#Third point at x = 280 and y = 200\n",
    "<polygon points=\"480 30 630 200 280 200\" \n",
    " stroke=\"black\" fill=\"darkmagenta\" stroke-width=\"5\"/>\n",
    "    \n",
    "#The following text is for the \"15cm\" at the top of the shape\n",
    "<text x=\"365\" y=\"120\" fill=\"black\" transform=\"rotate(-45 365,120)\">15cm</text>\n",
    "\n",
    "#The following text is for the \"12cm\" at the right side of the shape\n",
    "<text x=\"555\" y=\"100\" fill=\"black\" transform=\"rotate(50 555,100)\">12cm</text>\n",
    "\n",
    "#The following text is for the \"17cm\" at the bottom of the shape\n",
    "<text x=\"440\" y=\"218\" fill=\"black\">17cm</text>\n",
    "\n",
    "</svg>"
   ]
  },
  {
   "cell_type": "markdown",
   "metadata": {},
   "source": [
    "Then the process for finding the perimeter is simple. We must add the length of all the edges together:\n",
    "\n",
    "<h3 align='center'>$\\ (Length) + (Length) + (Length) = (Perimeter) $</h3>\n",
    "\n",
    "So, the perimeter of the above triangle is:\n",
    "\n",
    "### $$\n",
    "\\begin{align*}\n",
    "(15cm) + (12cm) + (17cm) = 44cm\n",
    "\\end{align*}\n",
    "$$\n",
    "\n",
    "But, if we are not given the length of all the edges, we must add another step. In this situation, we must use the **Pythagorean theorem** to help us."
   ]
  },
  {
   "cell_type": "markdown",
   "metadata": {},
   "source": [
    "## Pythagorean Theorem\n",
    "\n",
    "The Pythagorean theorem is one of the most important theorems you will learn. [This notebook](pythagorean-theorem.ipnyb) provides an in-depth lesson on the Pythagorean theorem. The following will be a review of this material.\n",
    "\n",
    "The theorem begins with a *right angle triangle*:"
   ]
  },
  {
   "cell_type": "code",
   "execution_count": 14,
   "metadata": {},
   "outputs": [
    {
     "data": {
      "text/html": [
       "<svg height=\"400\" width=\"1500\">\n",
       "\n",
       "### The following code is for the triangle gray triangle\n",
       "#First point at x = 400 and y = 50\n",
       "#Second point at x = 570 and y = 200\n",
       "#Third point at x = 400 and y = 200\n",
       "<polygon points=\"400 50 570 200 400 200\" \n",
       " stroke=\"black\" fill=\"Gray\" stroke-width=\"5\"/>\n",
       "    \n",
       "#The following text is for the \"A\" at the top of the shape\n",
       "<text x=\"390\" y=\"130\" fill=\"black\" transform=\"rotate(-90 390,130)\">A</text>\n",
       "\n",
       "#The following text is for the \"C\" at the right side of the shape\n",
       "<text x=\"490\" y=\"120\" fill=\"black\" transform=\"rotate(40 490,120)\">C</text>\n",
       "\n",
       "#The following text is for the \"B\" at the bottom of the shape\n",
       "<text x=\"475\" y=\"218\" fill=\"black\">B</text>\n",
       "\n",
       "###The following code is for the right angle mark inside the gray triangle.\n",
       "<rect x=\"400\" y=\"180\" width=\"20\" height=\"20\"\n",
       " stroke=\"black\" fill=None stroke-width=\"2\"/>\n",
       "\n",
       "\n",
       "</svg>\n"
      ],
      "text/plain": [
       "<IPython.core.display.HTML object>"
      ]
     },
     "metadata": {},
     "output_type": "display_data"
    }
   ],
   "source": [
    "%%html\n",
    "<svg height=\"400\" width=\"1500\">\n",
    "\n",
    "### The following code is for the triangle gray triangle\n",
    "#First point at x = 400 and y = 50\n",
    "#Second point at x = 570 and y = 200\n",
    "#Third point at x = 400 and y = 200\n",
    "<polygon points=\"400 50 570 200 400 200\" \n",
    " stroke=\"black\" fill=\"Gray\" stroke-width=\"5\"/>\n",
    "    \n",
    "#The following text is for the \"A\" at the top of the shape\n",
    "<text x=\"390\" y=\"130\" fill=\"black\" transform=\"rotate(-90 390,130)\">A</text>\n",
    "\n",
    "#The following text is for the \"C\" at the right side of the shape\n",
    "<text x=\"490\" y=\"120\" fill=\"black\" transform=\"rotate(40 490,120)\">C</text>\n",
    "\n",
    "#The following text is for the \"B\" at the bottom of the shape\n",
    "<text x=\"475\" y=\"218\" fill=\"black\">B</text>\n",
    "\n",
    "###The following code is for the right angle mark inside the gray triangle.\n",
    "<rect x=\"400\" y=\"180\" width=\"20\" height=\"20\"\n",
    " stroke=\"black\" fill=None stroke-width=\"2\"/>\n",
    "\n",
    "\n",
    "</svg>"
   ]
  },
  {
   "cell_type": "markdown",
   "metadata": {},
   "source": [
    "This is a crucial step when using the Pythagorean theorem. *If the triangle you are using does not have a right angle, then the theorem will not work*. \n",
    "\n",
    "Next, we will create squares using the $A$ and $B$ sides of the triangle:"
   ]
  },
  {
   "cell_type": "code",
   "execution_count": 62,
   "metadata": {
    "scrolled": false
   },
   "outputs": [
    {
     "data": {
      "text/html": [
       "<svg height=\"700\" width=\"1500\">\n",
       "\n",
       "### The following code is for the triangle gray triangle\n",
       "#First point at x = 400 and y = 50\n",
       "#Second point at x = 570 and y = 200\n",
       "#Third point at x = 400 and y = 200\n",
       "<polygon points=\"400 50 570 200 400 200\" \n",
       " stroke=\"black\" fill=\"Gray\" stroke-width=\"5\"/>\n",
       "\n",
       "#The following text is for the \"A\" at the left side of the shape\n",
       "<text x=\"390\" y=\"155\" fill=\"black\" transform=\"rotate(-90 390,130)\">A</text>\n",
       "\n",
       "#The following text is for the \"C\" at the right side of the shape\n",
       "<text x=\"490\" y=\"120\" fill=\"black\" transform=\"rotate(40 490,120)\">C</text>\n",
       "\n",
       "#The following text is for the \"B\" at the bottom of the shape\n",
       "<text x=\"475\" y=\"195\" fill=\"black\">B</text>\n",
       "\n",
       "###The following code is for the right angle mark inside the gray triangle.\n",
       "<rect x=\"400\" y=\"180\" width=\"20\" height=\"20\"\n",
       " stroke=\"black\" fill=None stroke-width=\"2\"/>\n",
       "\n",
       "###The following code is for the square created by the A edge.\n",
       "<rect x=\"243\" y=\"47\" width=\"153\" height=\"153\"\n",
       " stroke=\"black\" fill=\"deeppink\" stroke-width=\"5\"/>\n",
       "\n",
       "###The following code is for the square created by the B edge.\n",
       "<rect x=\"400\" y=\"205\" width=\"173\" height=\"173\"\n",
       " stroke=\"black\" fill=\"hotpink\" stroke-width=\"5\"/>\n",
       "\n",
       "</svg>\n"
      ],
      "text/plain": [
       "<IPython.core.display.HTML object>"
      ]
     },
     "metadata": {},
     "output_type": "display_data"
    }
   ],
   "source": [
    "%%html\n",
    "<svg height=\"700\" width=\"1500\">\n",
    "\n",
    "### The following code is for the triangle gray triangle\n",
    "#First point at x = 400 and y = 50\n",
    "#Second point at x = 570 and y = 200\n",
    "#Third point at x = 400 and y = 200\n",
    "<polygon points=\"400 50 570 200 400 200\" \n",
    " stroke=\"black\" fill=\"Gray\" stroke-width=\"5\"/>\n",
    "\n",
    "#The following text is for the \"A\" at the left side of the shape\n",
    "<text x=\"390\" y=\"155\" fill=\"black\" transform=\"rotate(-90 390,130)\">A</text>\n",
    "\n",
    "#The following text is for the \"C\" at the right side of the shape\n",
    "<text x=\"490\" y=\"120\" fill=\"black\" transform=\"rotate(40 490,120)\">C</text>\n",
    "\n",
    "#The following text is for the \"B\" at the bottom of the shape\n",
    "<text x=\"475\" y=\"195\" fill=\"black\">B</text>\n",
    "\n",
    "###The following code is for the right angle mark inside the gray triangle.\n",
    "<rect x=\"400\" y=\"180\" width=\"20\" height=\"20\"\n",
    " stroke=\"black\" fill=None stroke-width=\"2\"/>\n",
    "\n",
    "###The following code is for the square created by the A edge.\n",
    "<rect x=\"243\" y=\"47\" width=\"153\" height=\"153\"\n",
    " stroke=\"black\" fill=\"deeppink\" stroke-width=\"5\"/>\n",
    "\n",
    "###The following code is for the square created by the B edge.\n",
    "<rect x=\"400\" y=\"205\" width=\"173\" height=\"173\"\n",
    " stroke=\"black\" fill=\"hotpink\" stroke-width=\"5\"/>\n",
    "\n",
    "</svg>"
   ]
  },
  {
   "cell_type": "markdown",
   "metadata": {},
   "source": [
    "Finally, we will create a square using the $C$ side of the triangle:"
   ]
  },
  {
   "cell_type": "code",
   "execution_count": 63,
   "metadata": {
    "scrolled": false
   },
   "outputs": [
    {
     "data": {
      "text/html": [
       "<svg height=\"850\" width=\"1500\">\n",
       "\n",
       "### The following code is for the triangle gray triangle\n",
       "#First point at x = 400 and y = 50\n",
       "#Second point at x = 570 and y = 200\n",
       "#Third point at x = 400 and y = 200\n",
       "<polygon points=\"400 190 570 340 400 340\" \n",
       " stroke=\"black\" fill=\"Gray\" stroke-width=\"5\"/>\n",
       "\n",
       "###The following code is for the square created by the A edge.\n",
       "<rect x=\"243\" y=\"187\" width=\"153\" height=\"153\"\n",
       " stroke=\"black\" fill=\"deeppink\" stroke-width=\"5\"/>\n",
       "\n",
       "###The following code is for the square created by the B edge.\n",
       "<rect x=\"400\" y=\"344\" width=\"173\" height=\"173\"\n",
       " stroke=\"black\" fill=\"hotpink\" stroke-width=\"5\"/>\n",
       "    \n",
       "###The following code is for the square created by the C edge.\n",
       "<rect x=\"552\" y=\"10\" width=\"234\" height=\"234\"\n",
       " stroke=\"black\" fill=\"lightpink\" stroke-width=\"5\" transform=\"rotate(41.5 555,10)\"/>    \n",
       "\n",
       "#The following text is for the \"A\" at the left side of the shape\n",
       "<text x=\"385\" y=\"295\" fill=\"black\" transform=\"rotate(-90 390,270)\">A</text>\n",
       "\n",
       "#The following text is for the \"B\" at the bottom of the shape\n",
       "<text x=\"475\" y=\"335\" fill=\"black\">B</text>\n",
       "\n",
       "#The following text is for the \"C\" at the right side of the shape\n",
       "<text x=\"470\" y=\"275\" fill=\"black\" transform=\"rotate(40 470,275)\">C</text>\n",
       "\n",
       "###The following code is for the right angle mark inside the gray triangle.\n",
       "<rect x=\"400\" y=\"320\" width=\"20\" height=\"20\"\n",
       " stroke=\"black\" fill=None stroke-width=\"2\"/>\n",
       "    \n",
       "</svg>\n"
      ],
      "text/plain": [
       "<IPython.core.display.HTML object>"
      ]
     },
     "metadata": {},
     "output_type": "display_data"
    }
   ],
   "source": [
    "%%html\n",
    "<svg height=\"850\" width=\"1500\">\n",
    "\n",
    "### The following code is for the triangle gray triangle\n",
    "#First point at x = 400 and y = 50\n",
    "#Second point at x = 570 and y = 200\n",
    "#Third point at x = 400 and y = 200\n",
    "<polygon points=\"400 190 570 340 400 340\" \n",
    " stroke=\"black\" fill=\"Gray\" stroke-width=\"5\"/>\n",
    "\n",
    "###The following code is for the square created by the A edge.\n",
    "<rect x=\"243\" y=\"187\" width=\"153\" height=\"153\"\n",
    " stroke=\"black\" fill=\"deeppink\" stroke-width=\"5\"/>\n",
    "\n",
    "###The following code is for the square created by the B edge.\n",
    "<rect x=\"400\" y=\"344\" width=\"173\" height=\"173\"\n",
    " stroke=\"black\" fill=\"hotpink\" stroke-width=\"5\"/>\n",
    "    \n",
    "###The following code is for the square created by the C edge.\n",
    "<rect x=\"552\" y=\"10\" width=\"234\" height=\"234\"\n",
    " stroke=\"black\" fill=\"lightpink\" stroke-width=\"5\" transform=\"rotate(41.5 555,10)\"/>    \n",
    "\n",
    "#The following text is for the \"A\" at the left side of the shape\n",
    "<text x=\"385\" y=\"295\" fill=\"black\" transform=\"rotate(-90 390,270)\">A</text>\n",
    "\n",
    "#The following text is for the \"B\" at the bottom of the shape\n",
    "<text x=\"475\" y=\"335\" fill=\"black\">B</text>\n",
    "\n",
    "#The following text is for the \"C\" at the right side of the shape\n",
    "<text x=\"470\" y=\"275\" fill=\"black\" transform=\"rotate(40 470,275)\">C</text>\n",
    "\n",
    "###The following code is for the right angle mark inside the gray triangle.\n",
    "<rect x=\"400\" y=\"320\" width=\"20\" height=\"20\"\n",
    " stroke=\"black\" fill=None stroke-width=\"2\"/>\n",
    "    \n",
    "</svg>"
   ]
  },
  {
   "cell_type": "markdown",
   "metadata": {},
   "source": [
    "The Pythagorean theorem states that the area of the square made by $C$ is equal to the areas of the squares $A$ and $B$:\n",
    "\n",
    "<h3 align='center'>$\\ C^2 = A^2 + B^2 $</h3>\n",
    "\n",
    "So, we can get the length of $C$ by doing:\n",
    "\n",
    "<h3 align='center'>$ C = \\sqrt {A^2 + B^2} $</h3>\n",
    "\n",
    "Let's give the triangle above numbers so we can try our formula on it:"
   ]
  },
  {
   "cell_type": "code",
   "execution_count": 197,
   "metadata": {},
   "outputs": [
    {
     "data": {
      "text/html": [
       "<svg height=\"400\" width=\"1500\">\n",
       "\n",
       "### The following code is for the triangle gray triangle\n",
       "#First point at x = 400 and y = 50\n",
       "#Second point at x = 570 and y = 200\n",
       "#Third point at x = 400 and y = 200\n",
       "<polygon points=\"400 50 570 200 400 200\" \n",
       " stroke=\"black\" fill=\"Gray\" stroke-width=\"5\"/>\n",
       "    \n",
       "#The following text is for the \"10cm\" at the left side of the shape\n",
       "<text x=\"390\" y=\"140\" fill=\"black\" transform=\"rotate(-90 390,140)\">10cm</text>\n",
       "\n",
       "#The following text is for the \"C\" at the right side of the shape\n",
       "<text x=\"490\" y=\"120\" fill=\"black\" transform=\"rotate(40 490,120)\">C</text>\n",
       "\n",
       "#The following text is for the \"10cm\" at the bottom of the shape\n",
       "<text x=\"465\" y=\"218\" fill=\"black\">10cm</text>\n",
       "\n",
       "###The following code is for the right angle mark inside the gray triangle.\n",
       "<rect x=\"400\" y=\"180\" width=\"20\" height=\"20\"\n",
       " stroke=\"black\" fill=None stroke-width=\"2\"/>\n",
       "\n",
       "\n",
       "</svg>\n"
      ],
      "text/plain": [
       "<IPython.core.display.HTML object>"
      ]
     },
     "metadata": {},
     "output_type": "display_data"
    }
   ],
   "source": [
    "%%html\n",
    "<svg height=\"400\" width=\"1500\">\n",
    "\n",
    "### The following code is for the triangle gray triangle\n",
    "#First point at x = 400 and y = 50\n",
    "#Second point at x = 570 and y = 200\n",
    "#Third point at x = 400 and y = 200\n",
    "<polygon points=\"400 50 570 200 400 200\" \n",
    " stroke=\"black\" fill=\"Gray\" stroke-width=\"5\"/>\n",
    "    \n",
    "#The following text is for the \"10cm\" at the left side of the shape\n",
    "<text x=\"390\" y=\"140\" fill=\"black\" transform=\"rotate(-90 390,140)\">10cm</text>\n",
    "\n",
    "#The following text is for the \"C\" at the right side of the shape\n",
    "<text x=\"490\" y=\"120\" fill=\"black\" transform=\"rotate(40 490,120)\">C</text>\n",
    "\n",
    "#The following text is for the \"10cm\" at the bottom of the shape\n",
    "<text x=\"465\" y=\"218\" fill=\"black\">10cm</text>\n",
    "\n",
    "###The following code is for the right angle mark inside the gray triangle.\n",
    "<rect x=\"400\" y=\"180\" width=\"20\" height=\"20\"\n",
    " stroke=\"black\" fill=None stroke-width=\"2\"/>\n",
    "\n",
    "\n",
    "</svg>"
   ]
  },
  {
   "cell_type": "markdown",
   "metadata": {},
   "source": [
    "Now, we can calculate the length of $C$ by doing:\n",
    "\n",
    "### $$\n",
    "\\begin{align*}\n",
    "C &= \\sqrt {(10cm)^2 + (10cm)^2} \\\\\n",
    "&= \\sqrt {100cm^2 + 100cm^2}\\\\\n",
    "&= \\sqrt {200cm^2}\n",
    "\\end{align*}\n",
    "$$\n",
    "\n",
    "Finally, we know that the length of $C \\approx 14cm$\n",
    "\n",
    "But, let's say you didn't have the length of side $A$ instead:"
   ]
  },
  {
   "cell_type": "code",
   "execution_count": 169,
   "metadata": {},
   "outputs": [
    {
     "data": {
      "text/html": [
       "<svg height=\"400\" width=\"1500\">\n",
       "\n",
       "### The following code is for the triangle gray triangle\n",
       "#First point at x = 400 and y = 50\n",
       "#Second point at x = 570 and y = 200\n",
       "#Third point at x = 400 and y = 200\n",
       "<polygon points=\"400 50 570 200 400 200\" \n",
       " stroke=\"black\" fill=\"Gray\" stroke-width=\"5\"/>\n",
       "    \n",
       "#The following text is for the \"A\" at the top of the shape\n",
       "<text x=\"390\" y=\"130\" fill=\"black\" transform=\"rotate(-90 390,130)\">A</text>\n",
       "\n",
       "#The following text is for the \"14cm\" at the right side of the shape\n",
       "<text x=\"470\" y=\"120\" fill=\"black\" transform=\"rotate(40 490,120)\"> 14cm</text>\n",
       "\n",
       "#The following text is for the \"10cm\" at the bottom of the shape\n",
       "<text x=\"465\" y=\"218\" fill=\"black\">10cm</text>\n",
       "\n",
       "###The following code is for the right angle mark inside the gray triangle.\n",
       "<rect x=\"400\" y=\"180\" width=\"20\" height=\"20\"\n",
       " stroke=\"black\" fill=None stroke-width=\"2\"/>\n",
       "\n",
       "\n",
       "</svg>\n"
      ],
      "text/plain": [
       "<IPython.core.display.HTML object>"
      ]
     },
     "metadata": {},
     "output_type": "display_data"
    }
   ],
   "source": [
    "%%html\n",
    "<svg height=\"400\" width=\"1500\">\n",
    "\n",
    "### The following code is for the triangle gray triangle\n",
    "#First point at x = 400 and y = 50\n",
    "#Second point at x = 570 and y = 200\n",
    "#Third point at x = 400 and y = 200\n",
    "<polygon points=\"400 50 570 200 400 200\" \n",
    " stroke=\"black\" fill=\"Gray\" stroke-width=\"5\"/>\n",
    "    \n",
    "#The following text is for the \"A\" at the top of the shape\n",
    "<text x=\"390\" y=\"130\" fill=\"black\" transform=\"rotate(-90 390,130)\">A</text>\n",
    "\n",
    "#The following text is for the \"14cm\" at the right side of the shape\n",
    "<text x=\"470\" y=\"120\" fill=\"black\" transform=\"rotate(40 490,120)\"> 14cm</text>\n",
    "\n",
    "#The following text is for the \"10cm\" at the bottom of the shape\n",
    "<text x=\"465\" y=\"218\" fill=\"black\">10cm</text>\n",
    "\n",
    "###The following code is for the right angle mark inside the gray triangle.\n",
    "<rect x=\"400\" y=\"180\" width=\"20\" height=\"20\"\n",
    " stroke=\"black\" fill=None stroke-width=\"2\"/>\n",
    "\n",
    "\n",
    "</svg>"
   ]
  },
  {
   "cell_type": "markdown",
   "metadata": {},
   "source": [
    "Then, we can rearrange our original formula of:\n",
    "\n",
    "<h3 align='center'>$\\ C^2 = A^2 + B^2 $</h3>\n",
    "\n",
    "To the formula:\n",
    "\n",
    "<h3 align='center'>$\\ A^2 = C^2 - B^2 $</h3>\n",
    "\n",
    "So that:\n",
    "\n",
    "<h3 align='center'>$\\ A = \\sqrt{C^2 - B^2} $</h3>\n",
    "\n",
    "So, we can calculate the length of $A$ by doing:\n",
    "\n",
    "### $$\n",
    "\\begin{align*}\n",
    "A &= \\sqrt {(14cm)^2 - (10cm)^2} \\\\\n",
    "&= \\sqrt {196cm^2 - 100cm^2}\\\\\n",
    "&= \\sqrt {96cm^2}\n",
    "\\end{align*}\n",
    "$$\n",
    "\n",
    "Finally, we know that the length of $A \\approx 10cm$"
   ]
  },
  {
   "cell_type": "markdown",
   "metadata": {},
   "source": [
    "### Practice Problem 4\n",
    "\n",
    "Daniel's school has an uneven baseball diamond:"
   ]
  },
  {
   "cell_type": "code",
   "execution_count": 168,
   "metadata": {},
   "outputs": [
    {
     "data": {
      "text/html": [
       "<svg height=\"400\" width=\"1500\">\n",
       "\n",
       "#First point at x = 480 and y = 30\n",
       "#Second point at x = 600 and y = 200\n",
       "#Third point at x = 350 and y = 200\n",
       "<polygon points=\"480 30 600 200 350 200\" \n",
       " stroke=\"black\" fill=\"orchid\" stroke-width=\"5\"/>\n",
       "    \n",
       "#The following text is for the \"70m\" at the top of the shape\n",
       "<text x=\"395\" y=\"120\" fill=\"black\" transform=\"rotate(-50 395,120)\">70m</text>\n",
       "\n",
       "#The following text is for the \"60m\" at the right side of the shape\n",
       "<text x=\"540\" y=\"100\" fill=\"black\" transform=\"rotate(52 540,100)\">60m</text>\n",
       "\n",
       "#The following text is for the \"90m\" at the bottom of the shape\n",
       "<text x=\"460\" y=\"218\" fill=\"black\">90m</text>\n",
       "\n",
       "</svg>\n"
      ],
      "text/plain": [
       "<IPython.core.display.HTML object>"
      ]
     },
     "metadata": {},
     "output_type": "display_data"
    }
   ],
   "source": [
    "%%html\n",
    "<svg height=\"400\" width=\"1500\">\n",
    "\n",
    "#First point at x = 480 and y = 30\n",
    "#Second point at x = 600 and y = 200\n",
    "#Third point at x = 350 and y = 200\n",
    "<polygon points=\"480 30 600 200 350 200\" \n",
    " stroke=\"black\" fill=\"orchid\" stroke-width=\"5\"/>\n",
    "    \n",
    "#The following text is for the \"70m\" at the top of the shape\n",
    "<text x=\"395\" y=\"120\" fill=\"black\" transform=\"rotate(-50 395,120)\">70m</text>\n",
    "\n",
    "#The following text is for the \"60m\" at the right side of the shape\n",
    "<text x=\"540\" y=\"100\" fill=\"black\" transform=\"rotate(52 540,100)\">60m</text>\n",
    "\n",
    "#The following text is for the \"90m\" at the bottom of the shape\n",
    "<text x=\"460\" y=\"218\" fill=\"black\">90m</text>\n",
    "\n",
    "</svg>"
   ]
  },
  {
   "cell_type": "markdown",
   "metadata": {},
   "source": [
    "How many meters would Daniel have to run to score a home run?"
   ]
  },
  {
   "cell_type": "code",
   "execution_count": 196,
   "metadata": {},
   "outputs": [
    {
     "data": {
      "application/vnd.jupyter.widget-view+json": {
       "model_id": "20bda8890d474b5180abe057bcd1f68e",
       "version_major": 2,
       "version_minor": 0
      },
      "text/plain": [
       "IntText(value=0, description='Input your answer here: ', style=DescriptionStyle(description_width='initial'))"
      ]
     },
     "metadata": {},
     "output_type": "display_data"
    },
    {
     "data": {
      "application/vnd.jupyter.widget-view+json": {
       "model_id": "71497034c02147d6bf22fd42403d742e",
       "version_major": 2,
       "version_minor": 0
      },
      "text/plain": [
       "Button(description='Check Answer', style=ButtonStyle())"
      ]
     },
     "metadata": {},
     "output_type": "display_data"
    }
   ],
   "source": [
    "#Used to ensure the description text doesn't get cut off.\n",
    "style = {'description_width': 'initial'}\n",
    "\n",
    "#Create an input integer widget\n",
    "question4 = widgets.IntText(\n",
    "    value=None,\n",
    "    description='Input your answer here: ',\n",
    "    disabled=False,\n",
    "    style = style\n",
    "    )\n",
    "\n",
    "#Create a button titled \"Check Answer\"\n",
    "checkButton4 = widgets.Button(description = \"Check Answer\")\n",
    "\n",
    "def checkAnswer(a):\n",
    "    #questionAnswer will be the input given by the user.\n",
    "    questionAnswer = question4.value\n",
    "    \n",
    "    #answers is a list of possible answers that can be inputted. \n",
    "    answers = [220]\n",
    "    \n",
    "    #Check if the input is in the list of answers. If this is the case:\n",
    "    if (questionAnswer in answers):\n",
    "        #Clear the output\n",
    "        clear_output()\n",
    "        \n",
    "        #Let the user know what they inputed.\n",
    "        display(Markdown(\"You answered: $\" + str(questionAnswer) + \"$\"))\n",
    "        \n",
    "        #Give an explenation for the answer.\n",
    "        display(Markdown(\"Well done! <br> \\\n",
    "                         We get this answer by doing: <br> \\\n",
    "                         <h3 align='center'>$\\ (Length) + (Length) + (Length) = (Perimeter) $</h3> <br> \\\n",
    "                         So, Daniel would have to run: <br> \\\n",
    "                         <h3 align='center'>$\\ (90m) + (60m) + (70m) = 220m $</h3>\"))\n",
    "        \n",
    "    #Otherwise, if no answer has been given, do nothing.\n",
    "    elif (questionAnswer == 0):\n",
    "        None\n",
    "    \n",
    "    #Lastly, if the answer is wrong, give the user a hint.\n",
    "    else:\n",
    "        #Clear the output\n",
    "        clear_output()\n",
    "        \n",
    "        #Display the input integer and check button widgets\n",
    "        display(question4)\n",
    "        display(checkButton4)\n",
    "        \n",
    "        #Let the user know what they inputed.\n",
    "        display(Markdown(\"You answered: $\" + str(questionAnswer) + \"$\"))\n",
    "        \n",
    "        #Give a hint for the question\n",
    "        display(Markdown(\"Not quite. <br> \\\n",
    "                      Remember, the formula for finding the perimeter of a triangle is: <br> \\\n",
    "                      <h3 align='center'>$\\ (Length) + (Length) + (Length) = (Perimeter) $</h3>\"))\n",
    "\n",
    "display(question4)\n",
    "display(checkButton4)\n",
    "\n",
    "checkButton4.on_click(checkAnswer)"
   ]
  },
  {
   "cell_type": "markdown",
   "metadata": {},
   "source": [
    "### Practice Problem 5\n",
    "\n",
    "What is the length of side $B$ in the following triangle? **(Round your value to the nearest number)**"
   ]
  },
  {
   "cell_type": "code",
   "execution_count": 165,
   "metadata": {},
   "outputs": [
    {
     "data": {
      "text/html": [
       "<svg height=\"400\" width=\"1500\">\n",
       "\n",
       "### The following code is for the triangle gray triangle\n",
       "#First point at x = 400 and y = 50\n",
       "#Second point at x = 570 and y = 200\n",
       "#Third point at x = 400 and y = 200\n",
       "<polygon points=\"400 50 570 200 400 200\" \n",
       " stroke=\"black\" fill=\"pink\" stroke-width=\"5\"/>\n",
       "    \n",
       "#The following text is for the \"2cm\" at the top of the shape\n",
       "<text x=\"390\" y=\"140\" fill=\"black\" transform=\"rotate(-90 390,140)\">2cm</text>\n",
       "\n",
       "#The following text is for the \"3cm\" at the right side of the shape\n",
       "<text x=\"475\" y=\"120\" fill=\"black\" transform=\"rotate(40 490,120)\"> 3cm</text>\n",
       "\n",
       "#The following text is for the \"B\" at the bottom of the shape\n",
       "<text x=\"470\" y=\"218\" fill=\"black\">B</text>\n",
       "\n",
       "###The following code is for the right angle mark inside the gray triangle.\n",
       "<rect x=\"400\" y=\"180\" width=\"20\" height=\"20\"\n",
       " stroke=\"black\" fill=None stroke-width=\"2\"/>\n",
       "\n",
       "\n",
       "</svg>\n"
      ],
      "text/plain": [
       "<IPython.core.display.HTML object>"
      ]
     },
     "metadata": {},
     "output_type": "display_data"
    }
   ],
   "source": [
    "%%html\n",
    "<svg height=\"400\" width=\"1500\">\n",
    "\n",
    "### The following code is for the triangle gray triangle\n",
    "#First point at x = 400 and y = 50\n",
    "#Second point at x = 570 and y = 200\n",
    "#Third point at x = 400 and y = 200\n",
    "<polygon points=\"400 50 570 200 400 200\" \n",
    " stroke=\"black\" fill=\"pink\" stroke-width=\"5\"/>\n",
    "    \n",
    "#The following text is for the \"2cm\" at the top of the shape\n",
    "<text x=\"390\" y=\"140\" fill=\"black\" transform=\"rotate(-90 390,140)\">2cm</text>\n",
    "\n",
    "#The following text is for the \"3cm\" at the right side of the shape\n",
    "<text x=\"475\" y=\"120\" fill=\"black\" transform=\"rotate(40 490,120)\"> 3cm</text>\n",
    "\n",
    "#The following text is for the \"B\" at the bottom of the shape\n",
    "<text x=\"470\" y=\"218\" fill=\"black\">B</text>\n",
    "\n",
    "###The following code is for the right angle mark inside the gray triangle.\n",
    "<rect x=\"400\" y=\"180\" width=\"20\" height=\"20\"\n",
    " stroke=\"black\" fill=None stroke-width=\"2\"/>\n",
    "\n",
    "\n",
    "</svg>"
   ]
  },
  {
   "cell_type": "code",
   "execution_count": 195,
   "metadata": {
    "scrolled": true
   },
   "outputs": [
    {
     "data": {
      "application/vnd.jupyter.widget-view+json": {
       "model_id": "c8e1b3d799b34451baa1791c7dc2af99",
       "version_major": 2,
       "version_minor": 0
      },
      "text/plain": [
       "IntText(value=0, description='Input your B value here: ', style=DescriptionStyle(description_width='initial'))"
      ]
     },
     "metadata": {},
     "output_type": "display_data"
    },
    {
     "data": {
      "application/vnd.jupyter.widget-view+json": {
       "model_id": "6351f71e6d2848eea3603a2647766395",
       "version_major": 2,
       "version_minor": 0
      },
      "text/plain": [
       "Button(description='Check Answer', style=ButtonStyle())"
      ]
     },
     "metadata": {},
     "output_type": "display_data"
    }
   ],
   "source": [
    "#Used to ensure the description text doesn't get cut off.\n",
    "style = {'description_width': 'initial'}\n",
    "\n",
    "#Create an input integer widget\n",
    "question5 = widgets.IntText(\n",
    "    value=None,\n",
    "    description='Input your B value here: ',\n",
    "    disabled=False,\n",
    "    style = style\n",
    "    )\n",
    "\n",
    "#Create a button titled \"Check Answer\"\n",
    "checkButton5 = widgets.Button(description = \"Check Answer\")\n",
    "\n",
    "def checkAnswer(a):\n",
    "    #questionAnswer will be the input given by the user.\n",
    "    questionAnswer = question5.value\n",
    "    \n",
    "    #answers is a list of possible answers that can be inputted. \n",
    "    answers = [2]\n",
    "    \n",
    "    #Check if the input is in the list of answers. If this is the case:\n",
    "    if (questionAnswer in answers):\n",
    "        #Clear the output\n",
    "        clear_output()\n",
    "        \n",
    "        #Let the user know what they inputed.\n",
    "        display(Markdown(\"You answered: $\" + str(questionAnswer) + \"$\"))\n",
    "        \n",
    "        #Give an explenation for the answer.\n",
    "        display(Markdown(\"Well done! <br> \\\n",
    "                         We get this answer by using the formula: <br> \\\n",
    "                         <h3 align='center'>$\\ (C)^2 - (A)^2 = (B)^2 $</h3> <br> \\\n",
    "                         Then, we fill in the values: <br> \\\n",
    "                         <h3 align='center'>$\\ (3cm)^2 + (2cm)^2 = 5cm^2 = (B)^2 $</h3> <br> \\\n",
    "                         And after taking the square root, we get that: <br> \\\n",
    "                         <h3 align='center'>$ B ≈ 2cm $</h3> <br>\"))\n",
    "        \n",
    "    #Otherwise, if no answer has been given, do nothing.\n",
    "    elif (questionAnswer == 0):\n",
    "        None\n",
    "    \n",
    "    #Lastly, if the answer is wrong, give the user a hint.\n",
    "    else:\n",
    "        #Clear the output\n",
    "        clear_output()\n",
    "        \n",
    "        #Display the input integer and check button widgets\n",
    "        display(question5)\n",
    "        display(checkButton5)\n",
    "        \n",
    "        #Let the user know what they inputed.\n",
    "        display(Markdown(\"You answered: $\" + str(questionAnswer) + \"$\"))\n",
    "        \n",
    "        #Give a hint for the question\n",
    "        display(Markdown(\"Not quite. <br> \\\n",
    "                      Remember, the formula for finding a missing length of a 90 degree triangle is: <br> \\\n",
    "                      <h3 align='center'>$\\ (C)^2 - (A)^2 = (B)^2 $</h3>\"))\n",
    "\n",
    "display(question5)\n",
    "display(checkButton5)\n",
    "\n",
    "checkButton5.on_click(checkAnswer)"
   ]
  },
  {
   "cell_type": "markdown",
   "metadata": {},
   "source": [
    "# Irregular Shapes\n",
    "\n",
    "## Irregular Shape Introduction\n",
    "\n",
    "To better understand an *irregular shape*, we will first define what a *regular shape* is.\n",
    "\n",
    "* A **Regular Shape** is *a shape that has sides and angles that are equal.*\n",
    "* An **Irregular Shape** is *a shape that has sides and angles of any size.*\n",
    "\n",
    "This idea is easier to see through visuals. So, the following shape would be a *regular shape*:"
   ]
  },
  {
   "cell_type": "code",
   "execution_count": 163,
   "metadata": {},
   "outputs": [
    {
     "data": {
      "text/html": [
       "<svg height=\"400\" width=\"1500\">\n",
       "<rect x=\"300\" y=\"30\" width=\"370\" height=\"170\" stroke=\"black\" fill=\"orange\" stroke-width=\"5\"/>\n",
       "\n",
       "#The following text is for the \"9cm\" at the top of the shape\n",
       "<text x=\"470\" y=\"20\" fill=\"black\">9cm</text>\n",
       "\n",
       "#The following text is for the \"4cm\" at the bottom of the shape\n",
       "<text x=\"290\" y=\"130\" fill=\"black\" transform=\"rotate(-90 290,130)\">4cm</text>\n",
       "</svg>\n"
      ],
      "text/plain": [
       "<IPython.core.display.HTML object>"
      ]
     },
     "metadata": {},
     "output_type": "display_data"
    }
   ],
   "source": [
    "%%html\n",
    "<svg height=\"400\" width=\"1500\">\n",
    "<rect x=\"300\" y=\"30\" width=\"370\" height=\"170\" stroke=\"black\" fill=\"orange\" stroke-width=\"5\"/>\n",
    "\n",
    "#The following text is for the \"9cm\" at the top of the shape\n",
    "<text x=\"470\" y=\"20\" fill=\"black\">9cm</text>\n",
    "\n",
    "#The following text is for the \"4cm\" at the bottom of the shape\n",
    "<text x=\"290\" y=\"130\" fill=\"black\" transform=\"rotate(-90 290,130)\">4cm</text>\n",
    "</svg>"
   ]
  },
  {
   "cell_type": "markdown",
   "metadata": {},
   "source": [
    "But, the following shape is an *irregular shape*:"
   ]
  },
  {
   "cell_type": "code",
   "execution_count": 162,
   "metadata": {},
   "outputs": [
    {
     "data": {
      "text/html": [
       "<svg height=\"400\" width=\"1500\">\n",
       "\n",
       "#First point is at x = 300 and y = 80\n",
       "#Second point at x = 500 and y = 40\n",
       "#Third point at x = 650 and y = 200\n",
       "#Fourth point at x = 260 and y = 200\n",
       "<polygon points=\"300 80 500 40 650 200 260 200\" \n",
       " stroke=\"black\" fill=\"midnightblue\" stroke-width=\"5\"/>\n",
       "\n",
       "#The following text is for the \"4cm\" at the left side of the shape\n",
       "<text x=\"265\" y=\"150\" fill=\"black\" transform=\"rotate(-70 265,150)\">4cm</text>\n",
       "\n",
       "#The following text is for the \"6cm\" at the top of the shape\n",
       "<text x=\"380\" y=\"55\" fill=\"black\" transform=\"rotate(-10 380,55)\">6cm</text>\n",
       "\n",
       "#The following text is for the \"7cm\" at the right side of the shape\n",
       "<text x=\"570\" y=\"100\" fill=\"black\" transform=\"rotate(50 570,100)\">7cm</text>\n",
       "\n",
       "#The following text is for the \"9cm\" at the bottom of the shape\n",
       "<text x=\"430\" y=\"220\" fill=\"black\">9cm</text>\n",
       "\n",
       "</svg>\n"
      ],
      "text/plain": [
       "<IPython.core.display.HTML object>"
      ]
     },
     "metadata": {},
     "output_type": "display_data"
    }
   ],
   "source": [
    "%%html\n",
    "<svg height=\"400\" width=\"1500\">\n",
    "\n",
    "#First point is at x = 300 and y = 80\n",
    "#Second point at x = 500 and y = 40\n",
    "#Third point at x = 650 and y = 200\n",
    "#Fourth point at x = 260 and y = 200\n",
    "<polygon points=\"300 80 500 40 650 200 260 200\" \n",
    " stroke=\"black\" fill=\"midnightblue\" stroke-width=\"5\"/>\n",
    "\n",
    "#The following text is for the \"4cm\" at the left side of the shape\n",
    "<text x=\"265\" y=\"150\" fill=\"black\" transform=\"rotate(-70 265,150)\">4cm</text>\n",
    "\n",
    "#The following text is for the \"6cm\" at the top of the shape\n",
    "<text x=\"380\" y=\"55\" fill=\"black\" transform=\"rotate(-10 380,55)\">6cm</text>\n",
    "\n",
    "#The following text is for the \"7cm\" at the right side of the shape\n",
    "<text x=\"570\" y=\"100\" fill=\"black\" transform=\"rotate(50 570,100)\">7cm</text>\n",
    "\n",
    "#The following text is for the \"9cm\" at the bottom of the shape\n",
    "<text x=\"430\" y=\"220\" fill=\"black\">9cm</text>\n",
    "\n",
    "</svg>"
   ]
  },
  {
   "cell_type": "markdown",
   "metadata": {},
   "source": [
    "You may have noticed that you have already seen both of the examples above! This should help you feel more comfortable with the idea of irregular shapes.\n",
    "\n",
    "## A Continued Example\n",
    "\n",
    "We will use the following *irregular shape* for the rest of our lesson:"
   ]
  },
  {
   "cell_type": "code",
   "execution_count": 161,
   "metadata": {},
   "outputs": [
    {
     "data": {
      "text/html": [
       "<svg height=\"550\" width=\"1500\">\n",
       "\n",
       "#### The following code is for the shape bellow.\n",
       "#First point is at x = 200 and y = 300\n",
       "#Second point at x = 450 and y = 300\n",
       "#Third point at x = 450 and y = 200\n",
       "#Fourth point at x = 650 and y = 300\n",
       "#Fifth point is at x = 800 and y = 300\n",
       "#Sixth point at x = 650 and y = 100\n",
       "#Seventh point at x = 450 and y = 100\n",
       "#Eight point at x = 450 and y = 50\n",
       "#Ninth point is at x = 400 and y = 50\n",
       "#Tenth point at x = 400 and y = 100\n",
       "#Elleventh point at x = 100 and y = 100\n",
       "#Twelfth point at x = 300 and y = 230\n",
       "<polygon points = \"200 300 450 300 450 200 650 300 800 300 650 100 450 100 450 50 400 50 400 100 100 100 300 230\"\n",
       " stroke=\"black\" fill=\"salmon\" stroke-width=\"5\"/>\n",
       "\n",
       "</svg>\n"
      ],
      "text/plain": [
       "<IPython.core.display.HTML object>"
      ]
     },
     "metadata": {},
     "output_type": "display_data"
    }
   ],
   "source": [
    "%%html\n",
    "<svg height=\"550\" width=\"1500\">\n",
    "\n",
    "#### The following code is for the shape bellow.\n",
    "#First point is at x = 200 and y = 300\n",
    "#Second point at x = 450 and y = 300\n",
    "#Third point at x = 450 and y = 200\n",
    "#Fourth point at x = 650 and y = 300\n",
    "#Fifth point is at x = 800 and y = 300\n",
    "#Sixth point at x = 650 and y = 100\n",
    "#Seventh point at x = 450 and y = 100\n",
    "#Eight point at x = 450 and y = 50\n",
    "#Ninth point is at x = 400 and y = 50\n",
    "#Tenth point at x = 400 and y = 100\n",
    "#Elleventh point at x = 100 and y = 100\n",
    "#Twelfth point at x = 300 and y = 230\n",
    "<polygon points = \"200 300 450 300 450 200 650 300 800 300 650 100 450 100 450 50 400 50 400 100 100 100 300 230\"\n",
    " stroke=\"black\" fill=\"salmon\" stroke-width=\"5\"/>\n",
    "\n",
    "</svg>"
   ]
  },
  {
   "cell_type": "markdown",
   "metadata": {},
   "source": [
    "Let's say you want to find the **perimeter** and **area** of this shape. To begin, you want to split the shape up into smaller shapes. These smaller shapes should be shapes you are more familiar with:"
   ]
  },
  {
   "cell_type": "code",
   "execution_count": 160,
   "metadata": {
    "scrolled": false
   },
   "outputs": [
    {
     "data": {
      "text/html": [
       "<svg height=\"550\" width=\"1500\">\n",
       "\n",
       "<polygon points = \"200 300 450 300 450 200 650 300 650 100 450 100 450 50 400 50 400 100 100 100 300 230\"\n",
       " stroke=\"black\" fill=\"salmon\" stroke-width=\"5\"/>\n",
       "\n",
       "#The following text is for the \"5cm\" at the bottom of the shape\n",
       "<text x=\"245\" y=\"320\" fill=\"black\">5cm</text>\n",
       "    \n",
       "#The following text is for the \"9cm\" at the bottom of the shape\n",
       "<text x=\"360\" y=\"320\" fill=\"black\">9cm</text>\n",
       "\n",
       "#The following text is for the \"x\" at the bottom of the shape\n",
       "<text x=\"440\" y=\"255\" fill=\"black\" transform=\"rotate(-90 440,255)\"> x </text>\n",
       "\n",
       "#The following text is for the \"11cm\" at the bottom side of the shape\n",
       "<text x=\"540\" y=\"235\" fill=\"black\" transform=\"rotate(32 540,235)\">11cm</text>\n",
       "\n",
       "#The following text is for the \"10cm\" at the right side of the shape\n",
       "<text x=\"645\" y=\"215\" fill=\"black\" transform=\"rotate(-90 645,215)\">10cm</text>\n",
       "\n",
       "#The following text is for the \"y\" at the top of the shape\n",
       "<text x=\"535\" y=\"90\" fill=\"black\"> y </text>\n",
       "\n",
       "#The following text is for the \"15cm\" at the top of the shape\n",
       "<text x=\"250\" y=\"90\" fill=\"black\"> 15cm </text>\n",
       "\n",
       "#The following text is for the \"12cm\" at the left side of the shape\n",
       "<text x=\"190\" y=\"180\" fill=\"black\" transform=\"rotate(35 190,180)\">12cm</text>\n",
       "\n",
       "#The following text is for the \"6cm\" at the left side of the shape\n",
       "<text x=\"240\" y=\"265\" fill=\"black\" transform=\"rotate(-40 240,265)\">6cm</text>\n",
       "\n",
       "\n",
       "### Dashed line at the bottom to make a triangle\n",
       "<line x1=\"450\" y1=\"300\" x2=\"650\" y2=\"300\" stroke=\"black\" stroke-width=\"2\" stroke-dasharray=8/>    \n",
       "\n",
       "#The following text is for the \"10cm\" at the bottom of the shape\n",
       "<text x=\"525\" y=\"295\" fill=\"black\">10cm</text>\n",
       "\n",
       "\n",
       "#### Dashed line at the top of the shape to make a square\n",
       "<line x1=\"400\" y1=\"100\" x2=\"450\" y2=\"100\" stroke=\"black\" stroke-width=\"2\" stroke-dasharray=8/>   \n",
       "\n",
       "#The following text is for the \"3cm\" at the top of the shape\n",
       "<text x=\"412\" y=\"115\" fill=\"black\">3cm</text>\n",
       "\n",
       "\n",
       "#### Dashed line at the left side of the shape to make two triangles\n",
       "<line x1=\"305\" y1=\"100\" x2=\"305\" y2=\"300\" stroke=\"black\" stroke-width=\"2\" stroke-dasharray=8/>   \n",
       "\n",
       "#Line at the left to separate two triangles\n",
       "<line x1=\"305\" y1=\"230\" x2=\"320\" y2=\"230\" stroke=\"black\" stroke-width=\"3\"/> \n",
       "\n",
       "#The following text is for the \"7cm\" at the left side of the shape\n",
       "<text x=\"310\" y=\"150\" fill=\"black\" transform=\"rotate(90 310,150)\">7cm</text>\n",
       "\n",
       "#The following text is for the \"z\" at the left side of the shape\n",
       "<text x=\"310\" y=\"260\" fill=\"black\" transform=\"rotate(90 310,260)\"> z </text> \n",
       "\n",
       "\n",
       "#### Line at the bottom side of the shape to give two numbers\n",
       "<line x1=\"305\" y1=\"300\" x2=\"305\" y2=\"315\" stroke=\"black\" stroke-width=\"3\"/>   \n",
       "\n",
       "</svg>\n"
      ],
      "text/plain": [
       "<IPython.core.display.HTML object>"
      ]
     },
     "metadata": {},
     "output_type": "display_data"
    }
   ],
   "source": [
    "%%html\n",
    "<svg height=\"550\" width=\"1500\">\n",
    "\n",
    "<polygon points = \"200 300 450 300 450 200 650 300 650 100 450 100 450 50 400 50 400 100 100 100 300 230\"\n",
    " stroke=\"black\" fill=\"salmon\" stroke-width=\"5\"/>\n",
    "\n",
    "#The following text is for the \"5cm\" at the bottom of the shape\n",
    "<text x=\"245\" y=\"320\" fill=\"black\">5cm</text>\n",
    "    \n",
    "#The following text is for the \"9cm\" at the bottom of the shape\n",
    "<text x=\"360\" y=\"320\" fill=\"black\">9cm</text>\n",
    "\n",
    "#The following text is for the \"x\" at the bottom of the shape\n",
    "<text x=\"440\" y=\"255\" fill=\"black\" transform=\"rotate(-90 440,255)\"> x </text>\n",
    "\n",
    "#The following text is for the \"11cm\" at the bottom side of the shape\n",
    "<text x=\"540\" y=\"235\" fill=\"black\" transform=\"rotate(32 540,235)\">11cm</text>\n",
    "\n",
    "#The following text is for the \"10cm\" at the right side of the shape\n",
    "<text x=\"645\" y=\"215\" fill=\"black\" transform=\"rotate(-90 645,215)\">10cm</text>\n",
    "\n",
    "#The following text is for the \"y\" at the top of the shape\n",
    "<text x=\"535\" y=\"90\" fill=\"black\"> y </text>\n",
    "\n",
    "#The following text is for the \"15cm\" at the top of the shape\n",
    "<text x=\"250\" y=\"90\" fill=\"black\"> 15cm </text>\n",
    "\n",
    "#The following text is for the \"12cm\" at the left side of the shape\n",
    "<text x=\"190\" y=\"180\" fill=\"black\" transform=\"rotate(35 190,180)\">12cm</text>\n",
    "\n",
    "#The following text is for the \"6cm\" at the left side of the shape\n",
    "<text x=\"240\" y=\"265\" fill=\"black\" transform=\"rotate(-40 240,265)\">6cm</text>\n",
    "\n",
    "\n",
    "### Dashed line at the bottom to make a triangle\n",
    "<line x1=\"450\" y1=\"300\" x2=\"650\" y2=\"300\" stroke=\"black\" stroke-width=\"2\" stroke-dasharray=8/>    \n",
    "\n",
    "#The following text is for the \"10cm\" at the bottom of the shape\n",
    "<text x=\"525\" y=\"295\" fill=\"black\">10cm</text>\n",
    "\n",
    "\n",
    "#### Dashed line at the top of the shape to make a square\n",
    "<line x1=\"400\" y1=\"100\" x2=\"450\" y2=\"100\" stroke=\"black\" stroke-width=\"2\" stroke-dasharray=8/>   \n",
    "\n",
    "#The following text is for the \"3cm\" at the top of the shape\n",
    "<text x=\"412\" y=\"115\" fill=\"black\">3cm</text>\n",
    "\n",
    "\n",
    "#### Dashed line at the left side of the shape to make two triangles\n",
    "<line x1=\"305\" y1=\"100\" x2=\"305\" y2=\"300\" stroke=\"black\" stroke-width=\"2\" stroke-dasharray=8/>   \n",
    "\n",
    "#Line at the left to separate two triangles\n",
    "<line x1=\"305\" y1=\"230\" x2=\"320\" y2=\"230\" stroke=\"black\" stroke-width=\"3\"/> \n",
    "\n",
    "#The following text is for the \"7cm\" at the left side of the shape\n",
    "<text x=\"310\" y=\"150\" fill=\"black\" transform=\"rotate(90 310,150)\">7cm</text>\n",
    "\n",
    "#The following text is for the \"z\" at the left side of the shape\n",
    "<text x=\"310\" y=\"260\" fill=\"black\" transform=\"rotate(90 310,260)\"> z </text> \n",
    "\n",
    "\n",
    "#### Line at the bottom side of the shape to give two numbers\n",
    "<line x1=\"305\" y1=\"300\" x2=\"305\" y2=\"315\" stroke=\"black\" stroke-width=\"3\"/>   \n",
    "\n",
    "</svg>"
   ]
  },
  {
   "cell_type": "markdown",
   "metadata": {},
   "source": [
    "This may seem very intimidating at first. But don't be too worried, we will solve for the perimeter and area of this shape slowly!\n",
    "\n",
    "We will begin by finding the variables that are missing. Let's begin by finding the $x$ value:"
   ]
  },
  {
   "cell_type": "code",
   "execution_count": 159,
   "metadata": {},
   "outputs": [
    {
     "data": {
      "text/html": [
       "<svg height=\"550\" width=\"1500\">\n",
       "\n",
       "<polygon points = \"200 300 450 300 450 200 650 300 650 100 450 100 450 50 400 50 400 100 100 100 300 230\"\n",
       " stroke=\"black\" fill=\"salmon\" stroke-width=\"5\"/>\n",
       "\n",
       "#The following text is for the \"x\" at the bottom of the shape\n",
       "<text x=\"440\" y=\"255\" fill=\"black\" transform=\"rotate(-90 440,255)\"> x </text>\n",
       "\n",
       "#The following text is for the \"11cm\" at the bottom side of the shape\n",
       "<text x=\"540\" y=\"235\" fill=\"black\" transform=\"rotate(32 540,235)\">11cm</text>\n",
       "\n",
       "### Dashed line at the bottom to make a triangle\n",
       "<line x1=\"450\" y1=\"300\" x2=\"650\" y2=\"300\" stroke=\"black\" stroke-width=\"2\" stroke-dasharray=8/>    \n",
       "\n",
       "#The following text is for the \"10cm\" at the bottom of the shape\n",
       "<text x=\"525\" y=\"295\" fill=\"black\">10cm</text>\n",
       "\n",
       "</svg>\n"
      ],
      "text/plain": [
       "<IPython.core.display.HTML object>"
      ]
     },
     "metadata": {},
     "output_type": "display_data"
    }
   ],
   "source": [
    "%%html\n",
    "<svg height=\"550\" width=\"1500\">\n",
    "\n",
    "<polygon points = \"200 300 450 300 450 200 650 300 650 100 450 100 450 50 400 50 400 100 100 100 300 230\"\n",
    " stroke=\"black\" fill=\"salmon\" stroke-width=\"5\"/>\n",
    "\n",
    "#The following text is for the \"x\" at the bottom of the shape\n",
    "<text x=\"440\" y=\"255\" fill=\"black\" transform=\"rotate(-90 440,255)\"> x </text>\n",
    "\n",
    "#The following text is for the \"11cm\" at the bottom side of the shape\n",
    "<text x=\"540\" y=\"235\" fill=\"black\" transform=\"rotate(32 540,235)\">11cm</text>\n",
    "\n",
    "### Dashed line at the bottom to make a triangle\n",
    "<line x1=\"450\" y1=\"300\" x2=\"650\" y2=\"300\" stroke=\"black\" stroke-width=\"2\" stroke-dasharray=8/>    \n",
    "\n",
    "#The following text is for the \"10cm\" at the bottom of the shape\n",
    "<text x=\"525\" y=\"295\" fill=\"black\">10cm</text>\n",
    "\n",
    "</svg>"
   ]
  },
  {
   "cell_type": "markdown",
   "metadata": {},
   "source": [
    "To find the length of $x$, we will use the Pythagorean theorem. Since $x$ can be seen as the \"$A$\" value, $10$ as the \"$B$\" value, and $11$ as the \"$C$\" value, we can do:\n",
    "\n",
    "### $$\n",
    "\\begin{align*}\n",
    "x &= \\sqrt {(11cm)^2 - (10cm)^2} \\\\\n",
    "&= \\sqrt {121cm^2 - 100cm^2}\\\\\n",
    "&= \\sqrt {21cm^2}\n",
    "\\end{align*}\n",
    "$$\n",
    "\n",
    "So, we know that the length of $x \\approx 5cm$\n",
    "\n",
    "Now, we can add this value to our shape:"
   ]
  },
  {
   "cell_type": "code",
   "execution_count": 158,
   "metadata": {},
   "outputs": [
    {
     "data": {
      "text/html": [
       "<svg height=\"550\" width=\"1500\">\n",
       "\n",
       "<polygon points = \"200 300 450 300 450 200 650 300 650 100 450 100 450 50 400 50 400 100 100 100 300 230\"\n",
       " stroke=\"black\" fill=\"salmon\" stroke-width=\"5\"/>\n",
       "\n",
       "#The following text is for the \"5cm\" at the bottom of the shape\n",
       "<text x=\"245\" y=\"320\" fill=\"black\">5cm</text>\n",
       "    \n",
       "#The following text is for the \"9cm\" at the bottom of the shape\n",
       "<text x=\"360\" y=\"320\" fill=\"black\">9cm</text>\n",
       "\n",
       "#The following text is for the \"5cm\" at the bottom of the shape\n",
       "<text x=\"440\" y=\"260\" fill=\"black\" transform=\"rotate(-90 440,260)\">5cm</text>\n",
       "\n",
       "#The following text is for the \"11cm\" at the bottom side of the shape\n",
       "<text x=\"540\" y=\"235\" fill=\"black\" transform=\"rotate(32 540,235)\">11cm</text>\n",
       "\n",
       "#The following text is for the \"10cm\" at the right side of the shape\n",
       "<text x=\"645\" y=\"215\" fill=\"black\" transform=\"rotate(-90 645,215)\">10cm</text>\n",
       "\n",
       "#The following text is for the \"y\" at the top of the shape\n",
       "<text x=\"535\" y=\"90\" fill=\"black\"> y </text>\n",
       "\n",
       "#The following text is for the \"15cm\" at the top of the shape\n",
       "<text x=\"250\" y=\"90\" fill=\"black\"> 15cm </text>\n",
       "\n",
       "#The following text is for the \"12cm\" at the left side of the shape\n",
       "<text x=\"190\" y=\"180\" fill=\"black\" transform=\"rotate(35 190,180)\">12cm</text>\n",
       "\n",
       "#The following text is for the \"6cm\" at the left side of the shape\n",
       "<text x=\"240\" y=\"265\" fill=\"black\" transform=\"rotate(-40 240,265)\">6cm</text>\n",
       "\n",
       "\n",
       "### Dashed line at the bottom to make a triangle\n",
       "<line x1=\"450\" y1=\"300\" x2=\"650\" y2=\"300\" stroke=\"black\" stroke-width=\"2\" stroke-dasharray=8/>    \n",
       "\n",
       "#The following text is for the \"10cm\" at the bottom of the shape\n",
       "<text x=\"525\" y=\"295\" fill=\"black\">10cm</text>\n",
       "\n",
       "\n",
       "#### Dashed line at the top of the shape to make a square\n",
       "<line x1=\"400\" y1=\"100\" x2=\"450\" y2=\"100\" stroke=\"black\" stroke-width=\"2\" stroke-dasharray=8/>   \n",
       "\n",
       "#The following text is for the \"3cm\" at the top of the shape\n",
       "<text x=\"412\" y=\"115\" fill=\"black\">3cm</text>\n",
       "\n",
       "\n",
       "#### Dashed line at the left side of the shape to make two triangles\n",
       "<line x1=\"305\" y1=\"100\" x2=\"305\" y2=\"300\" stroke=\"black\" stroke-width=\"2\" stroke-dasharray=8/>   \n",
       "\n",
       "#Line at the left to separate two triangles\n",
       "<line x1=\"305\" y1=\"230\" x2=\"320\" y2=\"230\" stroke=\"black\" stroke-width=\"3\"/> \n",
       "\n",
       "#The following text is for the \"7cm\" at the left side of the shape\n",
       "<text x=\"310\" y=\"150\" fill=\"black\" transform=\"rotate(90 310,150)\">7cm</text>\n",
       "\n",
       "#The following text is for the \"z\" at the left side of the shape\n",
       "<text x=\"310\" y=\"260\" fill=\"black\" transform=\"rotate(90 310,260)\"> z </text> \n",
       "\n",
       "\n",
       "#### Line at the bottom side of the shape to give two numbers\n",
       "<line x1=\"305\" y1=\"300\" x2=\"305\" y2=\"315\" stroke=\"black\" stroke-width=\"3\"/>   \n",
       "\n",
       "</svg>\n"
      ],
      "text/plain": [
       "<IPython.core.display.HTML object>"
      ]
     },
     "metadata": {},
     "output_type": "display_data"
    }
   ],
   "source": [
    "%%html\n",
    "<svg height=\"550\" width=\"1500\">\n",
    "\n",
    "<polygon points = \"200 300 450 300 450 200 650 300 650 100 450 100 450 50 400 50 400 100 100 100 300 230\"\n",
    " stroke=\"black\" fill=\"salmon\" stroke-width=\"5\"/>\n",
    "\n",
    "#The following text is for the \"5cm\" at the bottom of the shape\n",
    "<text x=\"245\" y=\"320\" fill=\"black\">5cm</text>\n",
    "    \n",
    "#The following text is for the \"9cm\" at the bottom of the shape\n",
    "<text x=\"360\" y=\"320\" fill=\"black\">9cm</text>\n",
    "\n",
    "#The following text is for the \"5cm\" at the bottom of the shape\n",
    "<text x=\"440\" y=\"260\" fill=\"black\" transform=\"rotate(-90 440,260)\">5cm</text>\n",
    "\n",
    "#The following text is for the \"11cm\" at the bottom side of the shape\n",
    "<text x=\"540\" y=\"235\" fill=\"black\" transform=\"rotate(32 540,235)\">11cm</text>\n",
    "\n",
    "#The following text is for the \"10cm\" at the right side of the shape\n",
    "<text x=\"645\" y=\"215\" fill=\"black\" transform=\"rotate(-90 645,215)\">10cm</text>\n",
    "\n",
    "#The following text is for the \"y\" at the top of the shape\n",
    "<text x=\"535\" y=\"90\" fill=\"black\"> y </text>\n",
    "\n",
    "#The following text is for the \"15cm\" at the top of the shape\n",
    "<text x=\"250\" y=\"90\" fill=\"black\"> 15cm </text>\n",
    "\n",
    "#The following text is for the \"12cm\" at the left side of the shape\n",
    "<text x=\"190\" y=\"180\" fill=\"black\" transform=\"rotate(35 190,180)\">12cm</text>\n",
    "\n",
    "#The following text is for the \"6cm\" at the left side of the shape\n",
    "<text x=\"240\" y=\"265\" fill=\"black\" transform=\"rotate(-40 240,265)\">6cm</text>\n",
    "\n",
    "\n",
    "### Dashed line at the bottom to make a triangle\n",
    "<line x1=\"450\" y1=\"300\" x2=\"650\" y2=\"300\" stroke=\"black\" stroke-width=\"2\" stroke-dasharray=8/>    \n",
    "\n",
    "#The following text is for the \"10cm\" at the bottom of the shape\n",
    "<text x=\"525\" y=\"295\" fill=\"black\">10cm</text>\n",
    "\n",
    "\n",
    "#### Dashed line at the top of the shape to make a square\n",
    "<line x1=\"400\" y1=\"100\" x2=\"450\" y2=\"100\" stroke=\"black\" stroke-width=\"2\" stroke-dasharray=8/>   \n",
    "\n",
    "#The following text is for the \"3cm\" at the top of the shape\n",
    "<text x=\"412\" y=\"115\" fill=\"black\">3cm</text>\n",
    "\n",
    "\n",
    "#### Dashed line at the left side of the shape to make two triangles\n",
    "<line x1=\"305\" y1=\"100\" x2=\"305\" y2=\"300\" stroke=\"black\" stroke-width=\"2\" stroke-dasharray=8/>   \n",
    "\n",
    "#Line at the left to separate two triangles\n",
    "<line x1=\"305\" y1=\"230\" x2=\"320\" y2=\"230\" stroke=\"black\" stroke-width=\"3\"/> \n",
    "\n",
    "#The following text is for the \"7cm\" at the left side of the shape\n",
    "<text x=\"310\" y=\"150\" fill=\"black\" transform=\"rotate(90 310,150)\">7cm</text>\n",
    "\n",
    "#The following text is for the \"z\" at the left side of the shape\n",
    "<text x=\"310\" y=\"260\" fill=\"black\" transform=\"rotate(90 310,260)\"> z </text> \n",
    "\n",
    "\n",
    "#### Line at the bottom side of the shape to give two numbers\n",
    "<line x1=\"305\" y1=\"300\" x2=\"305\" y2=\"315\" stroke=\"black\" stroke-width=\"3\"/>   \n",
    "\n",
    "</svg>"
   ]
  },
  {
   "cell_type": "markdown",
   "metadata": {},
   "source": [
    "Let's continue by finding the length of $y$. To do this, we have to look at the values we already have:"
   ]
  },
  {
   "cell_type": "code",
   "execution_count": 157,
   "metadata": {},
   "outputs": [
    {
     "data": {
      "text/html": [
       "<svg height=\"550\" width=\"1500\">\n",
       "\n",
       "<polygon points = \"200 300 450 300 450 200 650 300 650 100 450 100 450 50 400 50 400 100 100 100 300 230\"\n",
       " stroke=\"black\" fill=\"salmon\" stroke-width=\"5\"/>\n",
       "\n",
       "#The following text is for the \"y\" at the top of the shape\n",
       "<text x=\"535\" y=\"90\" fill=\"black\"> y </text>\n",
       "\n",
       "### Dashed line at the bottom to make a triangle\n",
       "<line x1=\"450\" y1=\"300\" x2=\"650\" y2=\"300\" stroke=\"black\" stroke-width=\"2\" stroke-dasharray=8/>    \n",
       "\n",
       "#The following text is for the \"10cm\" at the bottom of the shape\n",
       "<text x=\"525\" y=\"295\" fill=\"black\">10cm</text>\n",
       "\n",
       "</svg>\n"
      ],
      "text/plain": [
       "<IPython.core.display.HTML object>"
      ]
     },
     "metadata": {},
     "output_type": "display_data"
    }
   ],
   "source": [
    "%%html\n",
    "<svg height=\"550\" width=\"1500\">\n",
    "\n",
    "<polygon points = \"200 300 450 300 450 200 650 300 650 100 450 100 450 50 400 50 400 100 100 100 300 230\"\n",
    " stroke=\"black\" fill=\"salmon\" stroke-width=\"5\"/>\n",
    "\n",
    "#The following text is for the \"y\" at the top of the shape\n",
    "<text x=\"535\" y=\"90\" fill=\"black\"> y </text>\n",
    "\n",
    "### Dashed line at the bottom to make a triangle\n",
    "<line x1=\"450\" y1=\"300\" x2=\"650\" y2=\"300\" stroke=\"black\" stroke-width=\"2\" stroke-dasharray=8/>    \n",
    "\n",
    "#The following text is for the \"10cm\" at the bottom of the shape\n",
    "<text x=\"525\" y=\"295\" fill=\"black\">10cm</text>\n",
    "\n",
    "</svg>"
   ]
  },
  {
   "cell_type": "markdown",
   "metadata": {},
   "source": [
    "The bottom $10cm$ is the same length as the length of $y$. So, we know that the length of $y = 10cm$\n",
    "\n",
    "Now, we can add this value to our shape:"
   ]
  },
  {
   "cell_type": "code",
   "execution_count": 156,
   "metadata": {},
   "outputs": [
    {
     "data": {
      "text/html": [
       "<svg height=\"550\" width=\"1500\">\n",
       "\n",
       "<polygon points = \"200 300 450 300 450 200 650 300 650 100 450 100 450 50 400 50 400 100 100 100 300 230\"\n",
       " stroke=\"black\" fill=\"salmon\" stroke-width=\"5\"/>\n",
       "\n",
       "#The following text is for the \"5cm\" at the bottom of the shape\n",
       "<text x=\"245\" y=\"320\" fill=\"black\">5cm</text>\n",
       "    \n",
       "#The following text is for the \"9cm\" at the bottom of the shape\n",
       "<text x=\"360\" y=\"320\" fill=\"black\">9cm</text>\n",
       "\n",
       "#The following text is for the \"5cm\" at the bottom of the shape\n",
       "<text x=\"440\" y=\"260\" fill=\"black\" transform=\"rotate(-90 440,260)\">5cm</text>\n",
       "\n",
       "#The following text is for the \"11cm\" at the bottom side of the shape\n",
       "<text x=\"540\" y=\"235\" fill=\"black\" transform=\"rotate(32 540,235)\">11cm</text>\n",
       "\n",
       "#The following text is for the \"10cm\" at the right side of the shape\n",
       "<text x=\"645\" y=\"215\" fill=\"black\" transform=\"rotate(-90 645,215)\">10cm</text>\n",
       "\n",
       "#The following text is for the \"10cm\" at the top of the shape\n",
       "<text x=\"535\" y=\"90\" fill=\"black\">10cm</text>\n",
       "\n",
       "#The following text is for the \"15cm\" at the top of the shape\n",
       "<text x=\"250\" y=\"90\" fill=\"black\"> 15cm </text>\n",
       "\n",
       "#The following text is for the \"12cm\" at the left side of the shape\n",
       "<text x=\"190\" y=\"180\" fill=\"black\" transform=\"rotate(35 190,180)\">12cm</text>\n",
       "\n",
       "#The following text is for the \"6cm\" at the left side of the shape\n",
       "<text x=\"240\" y=\"265\" fill=\"black\" transform=\"rotate(-40 240,265)\">6cm</text>\n",
       "\n",
       "\n",
       "### Dashed line at the bottom to make a triangle\n",
       "<line x1=\"450\" y1=\"300\" x2=\"650\" y2=\"300\" stroke=\"black\" stroke-width=\"2\" stroke-dasharray=8/>    \n",
       "\n",
       "#The following text is for the \"10cm\" at the bottom of the shape\n",
       "<text x=\"525\" y=\"295\" fill=\"black\">10cm</text>\n",
       "\n",
       "\n",
       "#### Dashed line at the top of the shape to make a square\n",
       "<line x1=\"400\" y1=\"100\" x2=\"450\" y2=\"100\" stroke=\"black\" stroke-width=\"2\" stroke-dasharray=8/>   \n",
       "\n",
       "#The following text is for the \"3cm\" at the top of the shape\n",
       "<text x=\"412\" y=\"115\" fill=\"black\">3cm</text>\n",
       "\n",
       "\n",
       "#### Dashed line at the left side of the shape to make two triangles\n",
       "<line x1=\"305\" y1=\"100\" x2=\"305\" y2=\"300\" stroke=\"black\" stroke-width=\"2\" stroke-dasharray=8/>   \n",
       "\n",
       "#Line at the left to separate two triangles\n",
       "<line x1=\"305\" y1=\"230\" x2=\"320\" y2=\"230\" stroke=\"black\" stroke-width=\"3\"/> \n",
       "\n",
       "#The following text is for the \"7cm\" at the left side of the shape\n",
       "<text x=\"310\" y=\"150\" fill=\"black\" transform=\"rotate(90 310,150)\">7cm</text>\n",
       "\n",
       "#The following text is for the \"z\" at the left side of the shape\n",
       "<text x=\"310\" y=\"260\" fill=\"black\" transform=\"rotate(90 310,260)\"> z </text> \n",
       "\n",
       "\n",
       "#### Line at the bottom side of the shape to give two numbers\n",
       "<line x1=\"305\" y1=\"300\" x2=\"305\" y2=\"315\" stroke=\"black\" stroke-width=\"3\"/>   \n",
       "\n",
       "</svg>\n"
      ],
      "text/plain": [
       "<IPython.core.display.HTML object>"
      ]
     },
     "metadata": {},
     "output_type": "display_data"
    }
   ],
   "source": [
    "%%html\n",
    "<svg height=\"550\" width=\"1500\">\n",
    "\n",
    "<polygon points = \"200 300 450 300 450 200 650 300 650 100 450 100 450 50 400 50 400 100 100 100 300 230\"\n",
    " stroke=\"black\" fill=\"salmon\" stroke-width=\"5\"/>\n",
    "\n",
    "#The following text is for the \"5cm\" at the bottom of the shape\n",
    "<text x=\"245\" y=\"320\" fill=\"black\">5cm</text>\n",
    "    \n",
    "#The following text is for the \"9cm\" at the bottom of the shape\n",
    "<text x=\"360\" y=\"320\" fill=\"black\">9cm</text>\n",
    "\n",
    "#The following text is for the \"5cm\" at the bottom of the shape\n",
    "<text x=\"440\" y=\"260\" fill=\"black\" transform=\"rotate(-90 440,260)\">5cm</text>\n",
    "\n",
    "#The following text is for the \"11cm\" at the bottom side of the shape\n",
    "<text x=\"540\" y=\"235\" fill=\"black\" transform=\"rotate(32 540,235)\">11cm</text>\n",
    "\n",
    "#The following text is for the \"10cm\" at the right side of the shape\n",
    "<text x=\"645\" y=\"215\" fill=\"black\" transform=\"rotate(-90 645,215)\">10cm</text>\n",
    "\n",
    "#The following text is for the \"10cm\" at the top of the shape\n",
    "<text x=\"535\" y=\"90\" fill=\"black\">10cm</text>\n",
    "\n",
    "#The following text is for the \"15cm\" at the top of the shape\n",
    "<text x=\"250\" y=\"90\" fill=\"black\"> 15cm </text>\n",
    "\n",
    "#The following text is for the \"12cm\" at the left side of the shape\n",
    "<text x=\"190\" y=\"180\" fill=\"black\" transform=\"rotate(35 190,180)\">12cm</text>\n",
    "\n",
    "#The following text is for the \"6cm\" at the left side of the shape\n",
    "<text x=\"240\" y=\"265\" fill=\"black\" transform=\"rotate(-40 240,265)\">6cm</text>\n",
    "\n",
    "\n",
    "### Dashed line at the bottom to make a triangle\n",
    "<line x1=\"450\" y1=\"300\" x2=\"650\" y2=\"300\" stroke=\"black\" stroke-width=\"2\" stroke-dasharray=8/>    \n",
    "\n",
    "#The following text is for the \"10cm\" at the bottom of the shape\n",
    "<text x=\"525\" y=\"295\" fill=\"black\">10cm</text>\n",
    "\n",
    "\n",
    "#### Dashed line at the top of the shape to make a square\n",
    "<line x1=\"400\" y1=\"100\" x2=\"450\" y2=\"100\" stroke=\"black\" stroke-width=\"2\" stroke-dasharray=8/>   \n",
    "\n",
    "#The following text is for the \"3cm\" at the top of the shape\n",
    "<text x=\"412\" y=\"115\" fill=\"black\">3cm</text>\n",
    "\n",
    "\n",
    "#### Dashed line at the left side of the shape to make two triangles\n",
    "<line x1=\"305\" y1=\"100\" x2=\"305\" y2=\"300\" stroke=\"black\" stroke-width=\"2\" stroke-dasharray=8/>   \n",
    "\n",
    "#Line at the left to separate two triangles\n",
    "<line x1=\"305\" y1=\"230\" x2=\"320\" y2=\"230\" stroke=\"black\" stroke-width=\"3\"/> \n",
    "\n",
    "#The following text is for the \"7cm\" at the left side of the shape\n",
    "<text x=\"310\" y=\"150\" fill=\"black\" transform=\"rotate(90 310,150)\">7cm</text>\n",
    "\n",
    "#The following text is for the \"z\" at the left side of the shape\n",
    "<text x=\"310\" y=\"260\" fill=\"black\" transform=\"rotate(90 310,260)\"> z </text> \n",
    "\n",
    "\n",
    "#### Line at the bottom side of the shape to give two numbers\n",
    "<line x1=\"305\" y1=\"300\" x2=\"305\" y2=\"315\" stroke=\"black\" stroke-width=\"3\"/>   \n",
    "\n",
    "</svg>"
   ]
  },
  {
   "cell_type": "markdown",
   "metadata": {},
   "source": [
    "Finally, we have to find the length of $z$:"
   ]
  },
  {
   "cell_type": "code",
   "execution_count": 155,
   "metadata": {
    "scrolled": false
   },
   "outputs": [
    {
     "data": {
      "text/html": [
       "<svg height=\"550\" width=\"1500\">\n",
       "\n",
       "<polygon points = \"200 300 450 300 450 200 650 300 650 100 450 100 450 50 400 50 400 100 100 100 300 230\"\n",
       " stroke=\"black\" fill=\"salmon\" stroke-width=\"5\"/>\n",
       "\n",
       "#The following text is for the \"5cm\" at the bottom of the shape\n",
       "<text x=\"245\" y=\"320\" fill=\"black\">5cm</text>\n",
       "\n",
       "#The following text is for the \"10cm\" at the right side of the shape\n",
       "<text x=\"645\" y=\"215\" fill=\"black\" transform=\"rotate(-90 645,215)\">10cm</text>\n",
       "\n",
       "#The following text is for the \"6cm\" at the left side of the shape\n",
       "<text x=\"240\" y=\"265\" fill=\"black\" transform=\"rotate(-40 240,265)\">6cm</text>\n",
       "\n",
       "\n",
       "#### Dashed line at the left side of the shape to make two triangles\n",
       "<line x1=\"305\" y1=\"100\" x2=\"305\" y2=\"300\" stroke=\"black\" stroke-width=\"2\" stroke-dasharray=8/>   \n",
       "\n",
       "#Line at the left to separate two triangles\n",
       "<line x1=\"305\" y1=\"230\" x2=\"320\" y2=\"230\" stroke=\"black\" stroke-width=\"3\"/> \n",
       "\n",
       "#The following text is for the \"7cm\" at the left side of the shape\n",
       "<text x=\"310\" y=\"150\" fill=\"black\" transform=\"rotate(90 310,150)\">7cm</text>\n",
       "\n",
       "#The following text is for the \"z\" at the left side of the shape\n",
       "<text x=\"310\" y=\"260\" fill=\"black\" transform=\"rotate(90 310,260)\"> z </text> \n",
       "\n",
       "</svg>\n"
      ],
      "text/plain": [
       "<IPython.core.display.HTML object>"
      ]
     },
     "metadata": {},
     "output_type": "display_data"
    }
   ],
   "source": [
    "%%html\n",
    "<svg height=\"550\" width=\"1500\">\n",
    "\n",
    "<polygon points = \"200 300 450 300 450 200 650 300 650 100 450 100 450 50 400 50 400 100 100 100 300 230\"\n",
    " stroke=\"black\" fill=\"salmon\" stroke-width=\"5\"/>\n",
    "\n",
    "#The following text is for the \"5cm\" at the bottom of the shape\n",
    "<text x=\"245\" y=\"320\" fill=\"black\">5cm</text>\n",
    "\n",
    "#The following text is for the \"10cm\" at the right side of the shape\n",
    "<text x=\"645\" y=\"215\" fill=\"black\" transform=\"rotate(-90 645,215)\">10cm</text>\n",
    "\n",
    "#The following text is for the \"6cm\" at the left side of the shape\n",
    "<text x=\"240\" y=\"265\" fill=\"black\" transform=\"rotate(-40 240,265)\">6cm</text>\n",
    "\n",
    "\n",
    "#### Dashed line at the left side of the shape to make two triangles\n",
    "<line x1=\"305\" y1=\"100\" x2=\"305\" y2=\"300\" stroke=\"black\" stroke-width=\"2\" stroke-dasharray=8/>   \n",
    "\n",
    "#Line at the left to separate two triangles\n",
    "<line x1=\"305\" y1=\"230\" x2=\"320\" y2=\"230\" stroke=\"black\" stroke-width=\"3\"/> \n",
    "\n",
    "#The following text is for the \"7cm\" at the left side of the shape\n",
    "<text x=\"310\" y=\"150\" fill=\"black\" transform=\"rotate(90 310,150)\">7cm</text>\n",
    "\n",
    "#The following text is for the \"z\" at the left side of the shape\n",
    "<text x=\"310\" y=\"260\" fill=\"black\" transform=\"rotate(90 310,260)\"> z </text> \n",
    "\n",
    "</svg>"
   ]
  },
  {
   "cell_type": "markdown",
   "metadata": {},
   "source": [
    "There are actually two ways to find the length of $z$:\n",
    "\n",
    "* ### The Pythagorean Method\n",
    "Here, we start by using $z$ as the \"$A$\" value, $5cm$ as the \"$B$\" value, and $6cm$ as the \"$C$\" value. Now, we can calculate for $z$ by doing: <br>\n",
    "### $$\n",
    "\\begin{align*}\n",
    "z &= \\sqrt {(6cm)^2 - (5cm)^2} \\\\\n",
    "&= \\sqrt {36^2 - 25cm^2}\\\\\n",
    "&= \\sqrt {11cm^2}\n",
    "\\end{align*}\n",
    "$$\n",
    "So, we know that the length of $z \\approx 3cm$\n",
    "\n",
    "\n",
    "* ### The Known Values Method\n",
    "Here, we start by looking at the length on the far right side of the shape. We see that it is 10 centimeters long. This tells us that the length of the dotted line on the left must equal 10cm. Then, we can do: <br>\n",
    "### $$\n",
    "\\begin{align*}\n",
    "z &= 10 - 7\n",
    "\\end{align*}\n",
    "$$\n",
    "So, we know that the length of $z = 3cm$\n",
    "\n",
    "Now, we can add this value to our shape:"
   ]
  },
  {
   "cell_type": "code",
   "execution_count": 154,
   "metadata": {},
   "outputs": [
    {
     "data": {
      "text/html": [
       "<svg height=\"550\" width=\"1500\">\n",
       "\n",
       "<polygon points = \"200 300 450 300 450 200 650 300 650 100 450 100 450 50 400 50 400 100 100 100 300 230\"\n",
       " stroke=\"black\" fill=\"salmon\" stroke-width=\"5\"/>\n",
       "\n",
       "#The following text is for the \"5cm\" at the bottom of the shape\n",
       "<text x=\"245\" y=\"320\" fill=\"black\">5cm</text>\n",
       "    \n",
       "#The following text is for the \"9cm\" at the bottom of the shape\n",
       "<text x=\"360\" y=\"320\" fill=\"black\">9cm</text>\n",
       "\n",
       "#The following text is for the \"5cm\" at the bottom of the shape\n",
       "<text x=\"440\" y=\"260\" fill=\"black\" transform=\"rotate(-90 440,260)\">5cm</text>\n",
       "\n",
       "#The following text is for the \"11cm\" at the bottom side of the shape\n",
       "<text x=\"540\" y=\"235\" fill=\"black\" transform=\"rotate(32 540,235)\">11cm</text>\n",
       "\n",
       "#The following text is for the \"10cm\" at the right side of the shape\n",
       "<text x=\"645\" y=\"215\" fill=\"black\" transform=\"rotate(-90 645,215)\">10cm</text>\n",
       "\n",
       "#The following text is for the \"10cm\" at the top of the shape\n",
       "<text x=\"535\" y=\"90\" fill=\"black\">10cm</text>\n",
       "\n",
       "#The following text is for the \"15cm\" at the top of the shape\n",
       "<text x=\"250\" y=\"90\" fill=\"black\"> 15cm </text>\n",
       "\n",
       "#The following text is for the \"12cm\" at the left side of the shape\n",
       "<text x=\"190\" y=\"180\" fill=\"black\" transform=\"rotate(35 190,180)\">12cm</text>\n",
       "\n",
       "#The following text is for the \"6cm\" at the left side of the shape\n",
       "<text x=\"240\" y=\"265\" fill=\"black\" transform=\"rotate(-40 240,265)\">6cm</text>\n",
       "\n",
       "\n",
       "#### Dashed line at the bottom to make a triangle\n",
       "<line x1=\"450\" y1=\"300\" x2=\"650\" y2=\"300\" stroke=\"black\" stroke-width=\"2\" stroke-dasharray=8/>    \n",
       "\n",
       "#The following text is for the \"10cm\" at the bottom of the shape\n",
       "<text x=\"525\" y=\"295\" fill=\"black\">10cm</text>\n",
       "\n",
       "\n",
       "#### Dashed line at the top of the shape to make a square\n",
       "<line x1=\"400\" y1=\"100\" x2=\"450\" y2=\"100\" stroke=\"black\" stroke-width=\"2\" stroke-dasharray=8/>   \n",
       "\n",
       "#The following text is for the \"3cm\" at the top of the shape\n",
       "<text x=\"412\" y=\"115\" fill=\"black\">3cm</text>\n",
       "\n",
       "\n",
       "#### Dashed line at the left side of the shape to make two triangles\n",
       "<line x1=\"305\" y1=\"100\" x2=\"305\" y2=\"300\" stroke=\"black\" stroke-width=\"2\" stroke-dasharray=8/>   \n",
       "\n",
       "#Line at the left to separate two triangles\n",
       "<line x1=\"305\" y1=\"230\" x2=\"320\" y2=\"230\" stroke=\"black\" stroke-width=\"3\"/> \n",
       "\n",
       "#The following text is for the \"7cm\" at the left side of the shape\n",
       "<text x=\"310\" y=\"150\" fill=\"black\" transform=\"rotate(90 310,150)\">7cm</text>\n",
       "\n",
       "#The following text is for the \"3cm\" at the left side of the shape\n",
       "<text x=\"310\" y=\"250\" fill=\"black\" transform=\"rotate(90 310,250)\">3cm</text> \n",
       "\n",
       "\n",
       "#### Line at the bottom side of the shape to give two numbers\n",
       "<line x1=\"305\" y1=\"300\" x2=\"305\" y2=\"315\" stroke=\"black\" stroke-width=\"3\"/>   \n",
       "\n",
       "</svg>\n"
      ],
      "text/plain": [
       "<IPython.core.display.HTML object>"
      ]
     },
     "metadata": {},
     "output_type": "display_data"
    }
   ],
   "source": [
    "%%html\n",
    "<svg height=\"550\" width=\"1500\">\n",
    "\n",
    "<polygon points = \"200 300 450 300 450 200 650 300 650 100 450 100 450 50 400 50 400 100 100 100 300 230\"\n",
    " stroke=\"black\" fill=\"salmon\" stroke-width=\"5\"/>\n",
    "\n",
    "#The following text is for the \"5cm\" at the bottom of the shape\n",
    "<text x=\"245\" y=\"320\" fill=\"black\">5cm</text>\n",
    "    \n",
    "#The following text is for the \"9cm\" at the bottom of the shape\n",
    "<text x=\"360\" y=\"320\" fill=\"black\">9cm</text>\n",
    "\n",
    "#The following text is for the \"5cm\" at the bottom of the shape\n",
    "<text x=\"440\" y=\"260\" fill=\"black\" transform=\"rotate(-90 440,260)\">5cm</text>\n",
    "\n",
    "#The following text is for the \"11cm\" at the bottom side of the shape\n",
    "<text x=\"540\" y=\"235\" fill=\"black\" transform=\"rotate(32 540,235)\">11cm</text>\n",
    "\n",
    "#The following text is for the \"10cm\" at the right side of the shape\n",
    "<text x=\"645\" y=\"215\" fill=\"black\" transform=\"rotate(-90 645,215)\">10cm</text>\n",
    "\n",
    "#The following text is for the \"10cm\" at the top of the shape\n",
    "<text x=\"535\" y=\"90\" fill=\"black\">10cm</text>\n",
    "\n",
    "#The following text is for the \"15cm\" at the top of the shape\n",
    "<text x=\"250\" y=\"90\" fill=\"black\"> 15cm </text>\n",
    "\n",
    "#The following text is for the \"12cm\" at the left side of the shape\n",
    "<text x=\"190\" y=\"180\" fill=\"black\" transform=\"rotate(35 190,180)\">12cm</text>\n",
    "\n",
    "#The following text is for the \"6cm\" at the left side of the shape\n",
    "<text x=\"240\" y=\"265\" fill=\"black\" transform=\"rotate(-40 240,265)\">6cm</text>\n",
    "\n",
    "\n",
    "#### Dashed line at the bottom to make a triangle\n",
    "<line x1=\"450\" y1=\"300\" x2=\"650\" y2=\"300\" stroke=\"black\" stroke-width=\"2\" stroke-dasharray=8/>    \n",
    "\n",
    "#The following text is for the \"10cm\" at the bottom of the shape\n",
    "<text x=\"525\" y=\"295\" fill=\"black\">10cm</text>\n",
    "\n",
    "\n",
    "#### Dashed line at the top of the shape to make a square\n",
    "<line x1=\"400\" y1=\"100\" x2=\"450\" y2=\"100\" stroke=\"black\" stroke-width=\"2\" stroke-dasharray=8/>   \n",
    "\n",
    "#The following text is for the \"3cm\" at the top of the shape\n",
    "<text x=\"412\" y=\"115\" fill=\"black\">3cm</text>\n",
    "\n",
    "\n",
    "#### Dashed line at the left side of the shape to make two triangles\n",
    "<line x1=\"305\" y1=\"100\" x2=\"305\" y2=\"300\" stroke=\"black\" stroke-width=\"2\" stroke-dasharray=8/>   \n",
    "\n",
    "#Line at the left to separate two triangles\n",
    "<line x1=\"305\" y1=\"230\" x2=\"320\" y2=\"230\" stroke=\"black\" stroke-width=\"3\"/> \n",
    "\n",
    "#The following text is for the \"7cm\" at the left side of the shape\n",
    "<text x=\"310\" y=\"150\" fill=\"black\" transform=\"rotate(90 310,150)\">7cm</text>\n",
    "\n",
    "#The following text is for the \"3cm\" at the left side of the shape\n",
    "<text x=\"310\" y=\"250\" fill=\"black\" transform=\"rotate(90 310,250)\">3cm</text> \n",
    "\n",
    "\n",
    "#### Line at the bottom side of the shape to give two numbers\n",
    "<line x1=\"305\" y1=\"300\" x2=\"305\" y2=\"315\" stroke=\"black\" stroke-width=\"3\"/>   \n",
    "\n",
    "</svg>"
   ]
  },
  {
   "cell_type": "markdown",
   "metadata": {},
   "source": [
    "Finally, we can calculate the **perimeter** of this shape. To do this, we *add the length of every outside edge together*:"
   ]
  },
  {
   "cell_type": "code",
   "execution_count": 153,
   "metadata": {
    "scrolled": false
   },
   "outputs": [
    {
     "data": {
      "text/html": [
       "<svg height=\"550\" width=\"1500\">\n",
       "\n",
       "<polygon points = \"200 300 450 300 450 200 650 300 650 100 450 100 450 50 400 50 400 100 100 100 300 230\"\n",
       " stroke=\"black\" fill=\"salmon\" stroke-width=\"5\"/>\n",
       "\n",
       "#The following text is for the \"5cm\" at the bottom of the shape\n",
       "<text x=\"245\" y=\"320\" fill=\"black\">5cm</text>\n",
       "    \n",
       "#The following text is for the \"9cm\" at the bottom of the shape\n",
       "<text x=\"360\" y=\"320\" fill=\"black\">9cm</text>\n",
       "\n",
       "#The following text is for the \"5cm\" at the bottom of the shape\n",
       "<text x=\"440\" y=\"260\" fill=\"black\" transform=\"rotate(-90 440,260)\">5cm</text>\n",
       "\n",
       "#The following text is for the \"11cm\" at the bottom side of the shape\n",
       "<text x=\"540\" y=\"235\" fill=\"black\" transform=\"rotate(32 540,235)\">11cm</text>\n",
       "\n",
       "#The following text is for the \"10cm\" at the right side of the shape\n",
       "<text x=\"645\" y=\"215\" fill=\"black\" transform=\"rotate(-90 645,215)\">10cm</text>\n",
       "\n",
       "#The following text is for the \"10cm\" at the top of the shape\n",
       "<text x=\"535\" y=\"90\" fill=\"black\">10cm</text>\n",
       "\n",
       "#The following text is for the \"15cm\" at the top of the shape\n",
       "<text x=\"250\" y=\"90\" fill=\"black\"> 15cm </text>\n",
       "\n",
       "#The following text is for the \"12cm\" at the left side of the shape\n",
       "<text x=\"190\" y=\"180\" fill=\"black\" transform=\"rotate(35 190,180)\">12cm</text>\n",
       "\n",
       "#The following text is for the \"6cm\" at the left side of the shape\n",
       "<text x=\"240\" y=\"265\" fill=\"black\" transform=\"rotate(-40 240,265)\">6cm</text>\n",
       "\n",
       "\n",
       "#### Dashed line at the top of the shape to make a square\n",
       "<line x1=\"400\" y1=\"100\" x2=\"450\" y2=\"100\" stroke=\"black\" stroke-width=\"2\" stroke-dasharray=8/>   \n",
       "\n",
       "#The following text is for the \"3cm\" at the top of the shape\n",
       "<text x=\"412\" y=\"115\" fill=\"black\">3cm</text>\n",
       "\n",
       "\n",
       "#### Line at the bottom side of the shape to give two numbers\n",
       "<line x1=\"305\" y1=\"300\" x2=\"305\" y2=\"315\" stroke=\"black\" stroke-width=\"3\"/>   \n",
       "\n",
       "</svg>\n"
      ],
      "text/plain": [
       "<IPython.core.display.HTML object>"
      ]
     },
     "metadata": {},
     "output_type": "display_data"
    }
   ],
   "source": [
    "%%html\n",
    "<svg height=\"550\" width=\"1500\">\n",
    "\n",
    "<polygon points = \"200 300 450 300 450 200 650 300 650 100 450 100 450 50 400 50 400 100 100 100 300 230\"\n",
    " stroke=\"black\" fill=\"salmon\" stroke-width=\"5\"/>\n",
    "\n",
    "#The following text is for the \"5cm\" at the bottom of the shape\n",
    "<text x=\"245\" y=\"320\" fill=\"black\">5cm</text>\n",
    "    \n",
    "#The following text is for the \"9cm\" at the bottom of the shape\n",
    "<text x=\"360\" y=\"320\" fill=\"black\">9cm</text>\n",
    "\n",
    "#The following text is for the \"5cm\" at the bottom of the shape\n",
    "<text x=\"440\" y=\"260\" fill=\"black\" transform=\"rotate(-90 440,260)\">5cm</text>\n",
    "\n",
    "#The following text is for the \"11cm\" at the bottom side of the shape\n",
    "<text x=\"540\" y=\"235\" fill=\"black\" transform=\"rotate(32 540,235)\">11cm</text>\n",
    "\n",
    "#The following text is for the \"10cm\" at the right side of the shape\n",
    "<text x=\"645\" y=\"215\" fill=\"black\" transform=\"rotate(-90 645,215)\">10cm</text>\n",
    "\n",
    "#The following text is for the \"10cm\" at the top of the shape\n",
    "<text x=\"535\" y=\"90\" fill=\"black\">10cm</text>\n",
    "\n",
    "#The following text is for the \"15cm\" at the top of the shape\n",
    "<text x=\"250\" y=\"90\" fill=\"black\"> 15cm </text>\n",
    "\n",
    "#The following text is for the \"12cm\" at the left side of the shape\n",
    "<text x=\"190\" y=\"180\" fill=\"black\" transform=\"rotate(35 190,180)\">12cm</text>\n",
    "\n",
    "#The following text is for the \"6cm\" at the left side of the shape\n",
    "<text x=\"240\" y=\"265\" fill=\"black\" transform=\"rotate(-40 240,265)\">6cm</text>\n",
    "\n",
    "\n",
    "#### Dashed line at the top of the shape to make a square\n",
    "<line x1=\"400\" y1=\"100\" x2=\"450\" y2=\"100\" stroke=\"black\" stroke-width=\"2\" stroke-dasharray=8/>   \n",
    "\n",
    "#The following text is for the \"3cm\" at the top of the shape\n",
    "<text x=\"412\" y=\"115\" fill=\"black\">3cm</text>\n",
    "\n",
    "\n",
    "#### Line at the bottom side of the shape to give two numbers\n",
    "<line x1=\"305\" y1=\"300\" x2=\"305\" y2=\"315\" stroke=\"black\" stroke-width=\"3\"/>   \n",
    "\n",
    "</svg>"
   ]
  },
  {
   "cell_type": "markdown",
   "metadata": {},
   "source": [
    "Let's use this as a chance for you to practice. Try finding the perimeter of this shape."
   ]
  },
  {
   "cell_type": "code",
   "execution_count": 194,
   "metadata": {},
   "outputs": [
    {
     "data": {
      "application/vnd.jupyter.widget-view+json": {
       "model_id": "5916e779ee6048138aac61b7341f9248",
       "version_major": 2,
       "version_minor": 0
      },
      "text/plain": [
       "IntText(value=0, description='Input your perimeter here: ', style=DescriptionStyle(description_width='initial'…"
      ]
     },
     "metadata": {},
     "output_type": "display_data"
    },
    {
     "data": {
      "application/vnd.jupyter.widget-view+json": {
       "model_id": "50c5b2634ab04a9288a3d8e60936d475",
       "version_major": 2,
       "version_minor": 0
      },
      "text/plain": [
       "Button(description='Check Answer', style=ButtonStyle())"
      ]
     },
     "metadata": {},
     "output_type": "display_data"
    }
   ],
   "source": [
    "#Used to ensure the description text doesn't get cut off.\n",
    "style = {'description_width': 'initial'}\n",
    "\n",
    "#Create an input integer widget\n",
    "question6 = widgets.IntText(\n",
    "    value=None,\n",
    "    description='Input your perimeter here: ',\n",
    "    disabled=False,\n",
    "    style = style\n",
    "    )\n",
    "\n",
    "#Create a button titled \"Check Answer\"\n",
    "checkButton6 = widgets.Button(description = \"Check Answer\")\n",
    "\n",
    "def checkAnswer(a):\n",
    "    #questionAnswer will be the input given by the user.\n",
    "    questionAnswer = question6.value\n",
    "    \n",
    "    #answers is a list of possible answers that can be inputted. \n",
    "    answers = [92]\n",
    "    \n",
    "    #Check if the input is in the list of answers. If this is the case:\n",
    "    if (questionAnswer in answers):\n",
    "        #Clear the output\n",
    "        clear_output()\n",
    "        \n",
    "        #Let the user know what they inputed.\n",
    "        display(Markdown(\"You answered: $\" + str(questionAnswer) + \"$\"))\n",
    "        \n",
    "        #Give an explenation for the answer.\n",
    "        display(Markdown(\"Well done! <br> \\\n",
    "                         We get this answer by adding together all lengths of the shape: <br> \\\n",
    "                         <h3 align='center'>$\\ (5cm) + (9cm) + (5cm) + (11cm) + (10cm) + (10cm) + \\\n",
    "                         3 × (3cm) + (15cm) + (12cm) + (6cm) = (92cm) $</h3> \"))\n",
    "        \n",
    "    #Otherwise, if no answer has been given, do nothing.\n",
    "    elif (questionAnswer == 0):\n",
    "        None\n",
    "    \n",
    "    #Lastly, if the answer is wrong, give the user a hint.\n",
    "    else:\n",
    "        #Clear the output\n",
    "        clear_output()\n",
    "        \n",
    "        #Display the input integer and check button widgets\n",
    "        display(question6)\n",
    "        display(checkButton6)\n",
    "        \n",
    "        #Let the user know what they inputed.\n",
    "        display(Markdown(\"You answered: $\" + str(questionAnswer) + \"$\"))\n",
    "        \n",
    "        #Give a hint for the question\n",
    "        display(Markdown(\"Not quite. <br> \\\n",
    "                      Remember, to find the perimeter of an irregular shape *you must add the length of \\\n",
    "                      every edge together*.\"))\n",
    "\n",
    "display(question6)\n",
    "display(checkButton6)\n",
    "\n",
    "checkButton6.on_click(checkAnswer)"
   ]
  },
  {
   "cell_type": "markdown",
   "metadata": {},
   "source": [
    "Next, let's try finding the **area** of this shape. We will do this by taking the area of shapes we know. Let's start by finding the area of the square on top:"
   ]
  },
  {
   "cell_type": "code",
   "execution_count": 151,
   "metadata": {
    "scrolled": false
   },
   "outputs": [
    {
     "data": {
      "text/html": [
       "<svg height=\"550\" width=\"1500\">\n",
       "\n",
       "<polygon points = \"200 300 450 300 450 200 650 300 650 100 450 100 450 50 400 50 400 100 100 100 300 230\"\n",
       " stroke=\"black\" fill=\"salmon\" stroke-width=\"5\"/>\n",
       "\n",
       "#### The following rectangle is for the red square at the top\n",
       "<rect x=\"400\" y=\"50\" width=\"50\" height=\"50\" stroke=\"black\" fill=\"red\" stroke-width=\"5\"/>\n",
       "\n",
       "#The following text is for the \"3cm\" at the top of the shape\n",
       "<text x=\"412\" y=\"115\" fill=\"black\">3cm</text>\n",
       "\n",
       "</svg>\n"
      ],
      "text/plain": [
       "<IPython.core.display.HTML object>"
      ]
     },
     "metadata": {},
     "output_type": "display_data"
    }
   ],
   "source": [
    "%%html\n",
    "<svg height=\"550\" width=\"1500\">\n",
    "\n",
    "<polygon points = \"200 300 450 300 450 200 650 300 650 100 450 100 450 50 400 50 400 100 100 100 300 230\"\n",
    " stroke=\"black\" fill=\"salmon\" stroke-width=\"5\"/>\n",
    "\n",
    "#### The following rectangle is for the red square at the top\n",
    "<rect x=\"400\" y=\"50\" width=\"50\" height=\"50\" stroke=\"black\" fill=\"red\" stroke-width=\"5\"/>\n",
    "\n",
    "#The following text is for the \"3cm\" at the top of the shape\n",
    "<text x=\"412\" y=\"115\" fill=\"black\">3cm</text>\n",
    "\n",
    "</svg>"
   ]
  },
  {
   "cell_type": "markdown",
   "metadata": {},
   "source": [
    "We should know that the **area of a square** is *the length of any side squared*:\n",
    "\n",
    "<h3 align='center'>$\\ (Length)^2 = Area $</h3>\n",
    "\n",
    "So, the area of the <span style=\"color:red\">**red square**</span> above is:\n",
    "\n",
    "### $$\n",
    "\\begin{align*}\n",
    "(3cm)^2 = 9cm^2\n",
    "\\end{align*}\n",
    "$$\n",
    "\n",
    "Next, we'll calculate the area of the triangle at the bottom:"
   ]
  },
  {
   "cell_type": "code",
   "execution_count": 193,
   "metadata": {},
   "outputs": [
    {
     "data": {
      "text/html": [
       "<svg height=\"550\" width=\"1500\">\n",
       "\n",
       "<polygon points = \"200 300 450 300 450 200 650 300 650 100 450 100 450 50 400 50 400 100 100 100 300 230\"\n",
       " stroke=\"black\" fill=\"salmon\" stroke-width=\"5\"/>\n",
       "\n",
       "#### The following rectangle is for the red square at the top\n",
       "<rect x=\"400\" y=\"50\" width=\"50\" height=\"50\" stroke=\"black\" fill=\"red\" stroke-width=\"5\"/>\n",
       "\n",
       "#The following text is for the \"9cm\" at the top of the shape\n",
       "<text x=\"412\" y=\"80\" fill=\"black\">9cm</text>\n",
       "\n",
       "#### The following polygon is for the pink triangle at the bottom\n",
       "<polygon points = \"450 300 450 200 650 300\"\n",
       " stroke=\"black\" fill=\"lightpink\" stroke-width=\"5\"/>\n",
       "\n",
       "#The following text is for the \"5cm\" at the bottom of the shape\n",
       "<text x=\"440\" y=\"260\" fill=\"black\" transform=\"rotate(-90 440,260)\">5cm</text>\n",
       "\n",
       "#The following text is for the \"11cm\" at the bottom side of the shape\n",
       "<text x=\"540\" y=\"235\" fill=\"black\" transform=\"rotate(32 540,235)\">11cm</text>\n",
       "\n",
       "#The following text is for the \"10cm\" at the bottom of the shape\n",
       "<text x=\"525\" y=\"295\" fill=\"black\">10cm</text>\n",
       "\n",
       "</svg>\n"
      ],
      "text/plain": [
       "<IPython.core.display.HTML object>"
      ]
     },
     "metadata": {},
     "output_type": "display_data"
    }
   ],
   "source": [
    "%%html\n",
    "<svg height=\"550\" width=\"1500\">\n",
    "\n",
    "<polygon points = \"200 300 450 300 450 200 650 300 650 100 450 100 450 50 400 50 400 100 100 100 300 230\"\n",
    " stroke=\"black\" fill=\"salmon\" stroke-width=\"5\"/>\n",
    "\n",
    "#### The following rectangle is for the red square at the top\n",
    "<rect x=\"400\" y=\"50\" width=\"50\" height=\"50\" stroke=\"black\" fill=\"red\" stroke-width=\"5\"/>\n",
    "\n",
    "#The following text is for the \"9cm\" at the top of the shape\n",
    "<text x=\"412\" y=\"80\" fill=\"black\">9cm</text>\n",
    "\n",
    "#### The following polygon is for the pink triangle at the bottom\n",
    "<polygon points = \"450 300 450 200 650 300\"\n",
    " stroke=\"black\" fill=\"lightpink\" stroke-width=\"5\"/>\n",
    "\n",
    "#The following text is for the \"5cm\" at the bottom of the shape\n",
    "<text x=\"440\" y=\"260\" fill=\"black\" transform=\"rotate(-90 440,260)\">5cm</text>\n",
    "\n",
    "#The following text is for the \"11cm\" at the bottom side of the shape\n",
    "<text x=\"540\" y=\"235\" fill=\"black\" transform=\"rotate(32 540,235)\">11cm</text>\n",
    "\n",
    "#The following text is for the \"10cm\" at the bottom of the shape\n",
    "<text x=\"525\" y=\"295\" fill=\"black\">10cm</text>\n",
    "\n",
    "</svg>"
   ]
  },
  {
   "cell_type": "markdown",
   "metadata": {},
   "source": [
    "We should know that the **area of a triangle** is *the length times the height, divided by two*:\n",
    "\n",
    "<h3 align='center'>$\\ \\frac {(Length) \\times (Height)}{2} = Area $</h3>\n",
    "\n",
    "So, the area of the <span style=\"color:pink\">**pink triangle**</span> above is:\n",
    "\n",
    "### $$\n",
    "\\begin{align*}\n",
    "\\frac{(10cm) \\times (5cm)}{2} = 25cm^2\n",
    "\\end{align*}\n",
    "$$"
   ]
  },
  {
   "cell_type": "code",
   "execution_count": 149,
   "metadata": {},
   "outputs": [
    {
     "data": {
      "text/html": [
       "<svg height=\"550\" width=\"1500\">\n",
       "\n",
       "<polygon points = \"200 300 450 300 450 200 650 300 650 100 450 100 450 50 400 50 400 100 100 100 300 230\"\n",
       " stroke=\"black\" fill=\"salmon\" stroke-width=\"5\"/>\n",
       "\n",
       "#### The following rectangle is for the red square at the top\n",
       "<rect x=\"400\" y=\"50\" width=\"50\" height=\"50\" stroke=\"black\" fill=\"red\" stroke-width=\"5\"/>\n",
       "\n",
       "#The following text is for the \"9cm\" at the top of the shape\n",
       "<text x=\"412\" y=\"80\" fill=\"black\">9cm</text>\n",
       "\n",
       "#### The following polygon is for the pink triangle at the bottom\n",
       "<polygon points = \"450 300 450 200 650 300\"\n",
       " stroke=\"black\" fill=\"lightpink\" stroke-width=\"5\"/>\n",
       "\n",
       "#The following text is for the \"25cm\" at the bottom of the shape\n",
       "<text x=\"490\" y=\"270\" fill=\"black\">25cm</text>\n",
       "\n",
       "</svg>\n"
      ],
      "text/plain": [
       "<IPython.core.display.HTML object>"
      ]
     },
     "metadata": {},
     "output_type": "display_data"
    }
   ],
   "source": [
    "%%html\n",
    "<svg height=\"550\" width=\"1500\">\n",
    "\n",
    "<polygon points = \"200 300 450 300 450 200 650 300 650 100 450 100 450 50 400 50 400 100 100 100 300 230\"\n",
    " stroke=\"black\" fill=\"salmon\" stroke-width=\"5\"/>\n",
    "\n",
    "#### The following rectangle is for the red square at the top\n",
    "<rect x=\"400\" y=\"50\" width=\"50\" height=\"50\" stroke=\"black\" fill=\"red\" stroke-width=\"5\"/>\n",
    "\n",
    "#The following text is for the \"9cm\" at the top of the shape\n",
    "<text x=\"412\" y=\"80\" fill=\"black\">9cm</text>\n",
    "\n",
    "#### The following polygon is for the pink triangle at the bottom\n",
    "<polygon points = \"450 300 450 200 650 300\"\n",
    " stroke=\"black\" fill=\"lightpink\" stroke-width=\"5\"/>\n",
    "\n",
    "#The following text is for the \"25cm\" at the bottom of the shape\n",
    "<text x=\"490\" y=\"270\" fill=\"black\">25cm</text>\n",
    "\n",
    "</svg>"
   ]
  },
  {
   "cell_type": "markdown",
   "metadata": {},
   "source": [
    "Now, we'll calculate the triangle at the top left:"
   ]
  },
  {
   "cell_type": "code",
   "execution_count": 148,
   "metadata": {
    "scrolled": false
   },
   "outputs": [
    {
     "data": {
      "text/html": [
       "<svg height=\"550\" width=\"1500\">\n",
       "\n",
       "<polygon points = \"200 300 450 300 450 200 650 300 650 100 450 100 450 50 400 50 400 100 100 100 300 230\"\n",
       " stroke=\"black\" fill=\"salmon\" stroke-width=\"5\"/>   \n",
       "\n",
       "#### The following rectangle is for the red square at the top\n",
       "<rect x=\"400\" y=\"50\" width=\"50\" height=\"50\" stroke=\"black\" fill=\"red\" stroke-width=\"5\"/>\n",
       "\n",
       "#The following text is for the \"9cm\" at the top of the shape\n",
       "<text x=\"412\" y=\"80\" fill=\"black\">9cm</text>\n",
       "\n",
       "#### The following polygon is for the pink triangle at the bottom\n",
       "<polygon points = \"450 300 450 200 650 300\"\n",
       " stroke=\"black\" fill=\"lightpink\" stroke-width=\"5\"/>\n",
       "\n",
       "#The following text is for the \"25cm\" at the bottom of the shape\n",
       "<text x=\"490\" y=\"270\" fill=\"black\">25cm</text>\n",
       "\n",
       "#### The following polygon is for the pink triangle in the left\n",
       "<polygon points = \"300 100 100 100 300 230\"\n",
       " stroke=\"black\" fill=\"hotpink\" stroke-width=\"5\"/>\n",
       "    \n",
       "#The following text is for the \"x\" at the top of the shape\n",
       "<text x=\"210\" y=\"93\" fill=\"black\" >x</text>    \n",
       "\n",
       "#The following text is for the \"12cm\" at the left side of the shape\n",
       "<text x=\"190\" y=\"180\" fill=\"black\" transform=\"rotate(35 190,180)\">12cm</text> \n",
       "\n",
       "#The following text is for the \"7cm\" at the left side of the shape\n",
       "<text x=\"310\" y=\"150\" fill=\"black\" transform=\"rotate(90 310,150)\">7cm</text>\n",
       "\n",
       "</svg>\n"
      ],
      "text/plain": [
       "<IPython.core.display.HTML object>"
      ]
     },
     "metadata": {},
     "output_type": "display_data"
    }
   ],
   "source": [
    "%%html\n",
    "<svg height=\"550\" width=\"1500\">\n",
    "\n",
    "<polygon points = \"200 300 450 300 450 200 650 300 650 100 450 100 450 50 400 50 400 100 100 100 300 230\"\n",
    " stroke=\"black\" fill=\"salmon\" stroke-width=\"5\"/>   \n",
    "\n",
    "#### The following rectangle is for the red square at the top\n",
    "<rect x=\"400\" y=\"50\" width=\"50\" height=\"50\" stroke=\"black\" fill=\"red\" stroke-width=\"5\"/>\n",
    "\n",
    "#The following text is for the \"9cm\" at the top of the shape\n",
    "<text x=\"412\" y=\"80\" fill=\"black\">9cm</text>\n",
    "\n",
    "#### The following polygon is for the pink triangle at the bottom\n",
    "<polygon points = \"450 300 450 200 650 300\"\n",
    " stroke=\"black\" fill=\"lightpink\" stroke-width=\"5\"/>\n",
    "\n",
    "#The following text is for the \"25cm\" at the bottom of the shape\n",
    "<text x=\"490\" y=\"270\" fill=\"black\">25cm</text>\n",
    "\n",
    "#### The following polygon is for the pink triangle in the left\n",
    "<polygon points = \"300 100 100 100 300 230\"\n",
    " stroke=\"black\" fill=\"hotpink\" stroke-width=\"5\"/>\n",
    "    \n",
    "#The following text is for the \"x\" at the top of the shape\n",
    "<text x=\"210\" y=\"93\" fill=\"black\" >x</text>    \n",
    "\n",
    "#The following text is for the \"12cm\" at the left side of the shape\n",
    "<text x=\"190\" y=\"180\" fill=\"black\" transform=\"rotate(35 190,180)\">12cm</text> \n",
    "\n",
    "#The following text is for the \"7cm\" at the left side of the shape\n",
    "<text x=\"310\" y=\"150\" fill=\"black\" transform=\"rotate(90 310,150)\">7cm</text>\n",
    "\n",
    "</svg>"
   ]
  },
  {
   "cell_type": "markdown",
   "metadata": {},
   "source": [
    "To calculate the area of the <span style=\"color:hotpink\">**pink triangle**</span> above, we have to find its length. This is denoted by a $x$. To do this, we have to use *the Pythagorean theorem*. We start by using $x$ as the \"$A$\" value, $7cm$ as the \"$B$\" value, and $12cm$ as the \"$C$\" value.\n",
    "\n",
    "### $$\n",
    "\\begin{align*}\n",
    "x &= \\sqrt {(12cm)^2 - (7cm)^2} \\\\\n",
    "&= \\sqrt {144cm^2 - 49cm^2}\\\\\n",
    "&= \\sqrt {95cm^2}\n",
    "\\end{align*}\n",
    "$$\n",
    "\n",
    "So, we know that the length of $x \\approx 10cm$"
   ]
  },
  {
   "cell_type": "code",
   "execution_count": 147,
   "metadata": {},
   "outputs": [
    {
     "data": {
      "text/html": [
       "<svg height=\"550\" width=\"1500\">\n",
       "\n",
       "<polygon points = \"200 300 450 300 450 200 650 300 650 100 450 100 450 50 400 50 400 100 100 100 300 230\"\n",
       " stroke=\"black\" fill=\"salmon\" stroke-width=\"5\"/>   \n",
       "\n",
       "#### The following rectangle is for the red square at the top\n",
       "<rect x=\"400\" y=\"50\" width=\"50\" height=\"50\" stroke=\"black\" fill=\"red\" stroke-width=\"5\"/>\n",
       "\n",
       "#The following text is for the \"9cm\" at the top of the shape\n",
       "<text x=\"412\" y=\"80\" fill=\"black\">9cm</text>\n",
       "\n",
       "#### The following polygon is for the pink triangle at the bottom\n",
       "<polygon points = \"450 300 450 200 650 300\"\n",
       " stroke=\"black\" fill=\"lightpink\" stroke-width=\"5\"/>\n",
       "\n",
       "#The following text is for the \"25cm\" at the bottom of the shape\n",
       "<text x=\"490\" y=\"270\" fill=\"black\">25cm</text>\n",
       "\n",
       "#### The following polygon is for the pink triangle in the left\n",
       "<polygon points = \"300 100 100 100 300 230\"\n",
       " stroke=\"black\" fill=\"hotpink\" stroke-width=\"5\"/>\n",
       "    \n",
       "#The following text is for the \"10cm\" at the top of the shape\n",
       "<text x=\"200\" y=\"93\" fill=\"black\" >10cm</text>    \n",
       "\n",
       "#The following text is for the \"12cm\" at the left side of the shape\n",
       "<text x=\"190\" y=\"180\" fill=\"black\" transform=\"rotate(35 190,180)\">12cm</text> \n",
       "\n",
       "#The following text is for the \"7cm\" at the left side of the shape\n",
       "<text x=\"310\" y=\"150\" fill=\"black\" transform=\"rotate(90 310,150)\">7cm</text>\n",
       "\n",
       "</svg>\n"
      ],
      "text/plain": [
       "<IPython.core.display.HTML object>"
      ]
     },
     "metadata": {},
     "output_type": "display_data"
    }
   ],
   "source": [
    "%%html\n",
    "<svg height=\"550\" width=\"1500\">\n",
    "\n",
    "<polygon points = \"200 300 450 300 450 200 650 300 650 100 450 100 450 50 400 50 400 100 100 100 300 230\"\n",
    " stroke=\"black\" fill=\"salmon\" stroke-width=\"5\"/>   \n",
    "\n",
    "#### The following rectangle is for the red square at the top\n",
    "<rect x=\"400\" y=\"50\" width=\"50\" height=\"50\" stroke=\"black\" fill=\"red\" stroke-width=\"5\"/>\n",
    "\n",
    "#The following text is for the \"9cm\" at the top of the shape\n",
    "<text x=\"412\" y=\"80\" fill=\"black\">9cm</text>\n",
    "\n",
    "#### The following polygon is for the pink triangle at the bottom\n",
    "<polygon points = \"450 300 450 200 650 300\"\n",
    " stroke=\"black\" fill=\"lightpink\" stroke-width=\"5\"/>\n",
    "\n",
    "#The following text is for the \"25cm\" at the bottom of the shape\n",
    "<text x=\"490\" y=\"270\" fill=\"black\">25cm</text>\n",
    "\n",
    "#### The following polygon is for the pink triangle in the left\n",
    "<polygon points = \"300 100 100 100 300 230\"\n",
    " stroke=\"black\" fill=\"hotpink\" stroke-width=\"5\"/>\n",
    "    \n",
    "#The following text is for the \"10cm\" at the top of the shape\n",
    "<text x=\"200\" y=\"93\" fill=\"black\" >10cm</text>    \n",
    "\n",
    "#The following text is for the \"12cm\" at the left side of the shape\n",
    "<text x=\"190\" y=\"180\" fill=\"black\" transform=\"rotate(35 190,180)\">12cm</text> \n",
    "\n",
    "#The following text is for the \"7cm\" at the left side of the shape\n",
    "<text x=\"310\" y=\"150\" fill=\"black\" transform=\"rotate(90 310,150)\">7cm</text>\n",
    "\n",
    "</svg>"
   ]
  },
  {
   "cell_type": "markdown",
   "metadata": {},
   "source": [
    "Now, we can calculate the area of the <span style=\"color:hotpink\">**pink triangle**</span>:\n",
    "\n",
    "### $$\n",
    "\\begin{align*}\n",
    "\\frac{(7cm) \\times (10cm)}{2} = 35cm^2\n",
    "\\end{align*}\n",
    "$$"
   ]
  },
  {
   "cell_type": "code",
   "execution_count": 146,
   "metadata": {
    "scrolled": false
   },
   "outputs": [
    {
     "data": {
      "text/html": [
       "<svg height=\"550\" width=\"1500\">\n",
       "\n",
       "<polygon points = \"200 300 450 300 450 200 650 300 650 100 450 100 450 50 400 50 400 100 100 100 300 230\"\n",
       " stroke=\"black\" fill=\"salmon\" stroke-width=\"5\"/>   \n",
       "\n",
       "#### The following rectangle is for the red square at the top\n",
       "<rect x=\"400\" y=\"50\" width=\"50\" height=\"50\" stroke=\"black\" fill=\"red\" stroke-width=\"5\"/>\n",
       "\n",
       "#The following text is for the \"9cm\" at the top of the shape\n",
       "<text x=\"412\" y=\"80\" fill=\"black\">9cm</text>\n",
       "\n",
       "#### The following polygon is for the pink triangle at the bottom\n",
       "<polygon points = \"450 300 450 200 650 300\"\n",
       " stroke=\"black\" fill=\"lightpink\" stroke-width=\"5\"/>\n",
       "\n",
       "#The following text is for the \"25cm\" at the bottom of the shape\n",
       "<text x=\"490\" y=\"270\" fill=\"black\">25cm</text>\n",
       "\n",
       "#### The following polygon is for the pink triangle in the left\n",
       "<polygon points = \"300 100 100 100 300 230\"\n",
       " stroke=\"black\" fill=\"hotpink\" stroke-width=\"5\"/>\n",
       "    \n",
       "#The following text is for the \"35cm\" at the top of the shape\n",
       "<text x=\"215\" y=\"145\" fill=\"black\" >35cm</text>    \n",
       "\n",
       "</svg>\n"
      ],
      "text/plain": [
       "<IPython.core.display.HTML object>"
      ]
     },
     "metadata": {},
     "output_type": "display_data"
    }
   ],
   "source": [
    "%%html\n",
    "<svg height=\"550\" width=\"1500\">\n",
    "\n",
    "<polygon points = \"200 300 450 300 450 200 650 300 650 100 450 100 450 50 400 50 400 100 100 100 300 230\"\n",
    " stroke=\"black\" fill=\"salmon\" stroke-width=\"5\"/>   \n",
    "\n",
    "#### The following rectangle is for the red square at the top\n",
    "<rect x=\"400\" y=\"50\" width=\"50\" height=\"50\" stroke=\"black\" fill=\"red\" stroke-width=\"5\"/>\n",
    "\n",
    "#The following text is for the \"9cm\" at the top of the shape\n",
    "<text x=\"412\" y=\"80\" fill=\"black\">9cm</text>\n",
    "\n",
    "#### The following polygon is for the pink triangle at the bottom\n",
    "<polygon points = \"450 300 450 200 650 300\"\n",
    " stroke=\"black\" fill=\"lightpink\" stroke-width=\"5\"/>\n",
    "\n",
    "#The following text is for the \"25cm\" at the bottom of the shape\n",
    "<text x=\"490\" y=\"270\" fill=\"black\">25cm</text>\n",
    "\n",
    "#### The following polygon is for the pink triangle in the left\n",
    "<polygon points = \"300 100 100 100 300 230\"\n",
    " stroke=\"black\" fill=\"hotpink\" stroke-width=\"5\"/>\n",
    "    \n",
    "#The following text is for the \"35cm\" at the top of the shape\n",
    "<text x=\"215\" y=\"145\" fill=\"black\" >35cm</text>    \n",
    "\n",
    "</svg>"
   ]
  },
  {
   "cell_type": "markdown",
   "metadata": {},
   "source": [
    "Now, we'll calculate for the triangle at the bottom left:"
   ]
  },
  {
   "cell_type": "code",
   "execution_count": 134,
   "metadata": {
    "scrolled": false
   },
   "outputs": [
    {
     "data": {
      "text/html": [
       "<svg height=\"550\" width=\"1500\">\n",
       "\n",
       "<polygon points = \"200 300 450 300 450 200 650 300 650 100 450 100 450 50 400 50 400 100 100 100 300 230\"\n",
       " stroke=\"black\" fill=\"salmon\" stroke-width=\"5\"/>   \n",
       "\n",
       "#### The following rectangle is for the red square at the top\n",
       "<rect x=\"400\" y=\"50\" width=\"50\" height=\"50\" stroke=\"black\" fill=\"red\" stroke-width=\"5\"/>\n",
       "\n",
       "#The following text is for the \"9cm\" at the top of the shape\n",
       "<text x=\"412\" y=\"80\" fill=\"black\">9cm</text>\n",
       "\n",
       "#### The following polygon is for the pink triangle at the bottom\n",
       "<polygon points = \"450 300 450 200 650 300\"\n",
       " stroke=\"black\" fill=\"lightpink\" stroke-width=\"5\"/>\n",
       "\n",
       "#The following text is for the \"25cm\" at the bottom of the shape\n",
       "<text x=\"490\" y=\"270\" fill=\"black\">25cm</text>\n",
       "\n",
       "#### The following polygon is for the pink triangle in the left\n",
       "<polygon points = \"300 100 100 100 300 230\"\n",
       " stroke=\"black\" fill=\"hotpink\" stroke-width=\"5\"/>\n",
       "    \n",
       "#The following text is for the \"35cm\" at the top of the shape\n",
       "<text x=\"215\" y=\"145\" fill=\"black\" >35cm</text>    \n",
       "\n",
       "#### The following polygon is for the pink triangle in the left\n",
       "<polygon points = \"300 230 200 300 300 300\"\n",
       " stroke=\"black\" fill=\"deeppink\" stroke-width=\"5\"/>\n",
       "\n",
       "#The following text is for the \"5cm\" at the bottom of the shape\n",
       "<text x=\"245\" y=\"320\" fill=\"black\">5cm</text>\n",
       "\n",
       "#The following text is for the \"3cm\" at the left side of the shape\n",
       "<text x=\"310\" y=\"250\" fill=\"black\" transform=\"rotate(90 310,250)\">3cm</text> \n",
       "\n",
       "#The following text is for the \"6cm\" at the left side of the shape\n",
       "<text x=\"240\" y=\"265\" fill=\"black\" transform=\"rotate(-40 240,265)\">6cm</text>\n",
       "\n",
       "</svg>\n"
      ],
      "text/plain": [
       "<IPython.core.display.HTML object>"
      ]
     },
     "metadata": {},
     "output_type": "display_data"
    }
   ],
   "source": [
    "%%html\n",
    "<svg height=\"550\" width=\"1500\">\n",
    "\n",
    "<polygon points = \"200 300 450 300 450 200 650 300 650 100 450 100 450 50 400 50 400 100 100 100 300 230\"\n",
    " stroke=\"black\" fill=\"salmon\" stroke-width=\"5\"/>   \n",
    "\n",
    "#### The following rectangle is for the red square at the top\n",
    "<rect x=\"400\" y=\"50\" width=\"50\" height=\"50\" stroke=\"black\" fill=\"red\" stroke-width=\"5\"/>\n",
    "\n",
    "#The following text is for the \"9cm\" at the top of the shape\n",
    "<text x=\"412\" y=\"80\" fill=\"black\">9cm</text>\n",
    "\n",
    "#### The following polygon is for the pink triangle at the bottom\n",
    "<polygon points = \"450 300 450 200 650 300\"\n",
    " stroke=\"black\" fill=\"lightpink\" stroke-width=\"5\"/>\n",
    "\n",
    "#The following text is for the \"25cm\" at the bottom of the shape\n",
    "<text x=\"490\" y=\"270\" fill=\"black\">25cm</text>\n",
    "\n",
    "#### The following polygon is for the pink triangle in the left\n",
    "<polygon points = \"300 100 100 100 300 230\"\n",
    " stroke=\"black\" fill=\"hotpink\" stroke-width=\"5\"/>\n",
    "    \n",
    "#The following text is for the \"35cm\" at the top of the shape\n",
    "<text x=\"215\" y=\"145\" fill=\"black\" >35cm</text>    \n",
    "\n",
    "#### The following polygon is for the pink triangle in the left\n",
    "<polygon points = \"300 230 200 300 300 300\"\n",
    " stroke=\"black\" fill=\"deeppink\" stroke-width=\"5\"/>\n",
    "\n",
    "#The following text is for the \"5cm\" at the bottom of the shape\n",
    "<text x=\"245\" y=\"320\" fill=\"black\">5cm</text>\n",
    "\n",
    "#The following text is for the \"3cm\" at the left side of the shape\n",
    "<text x=\"310\" y=\"250\" fill=\"black\" transform=\"rotate(90 310,250)\">3cm</text> \n",
    "\n",
    "#The following text is for the \"6cm\" at the left side of the shape\n",
    "<text x=\"240\" y=\"265\" fill=\"black\" transform=\"rotate(-40 240,265)\">6cm</text>\n",
    "\n",
    "</svg>"
   ]
  },
  {
   "cell_type": "markdown",
   "metadata": {},
   "source": [
    "It's your turn to try some of what you've learned. Calculate the area of the <span style=\"color:deeppink\">**pink triangle**</span>: **(Round your value to the nearest number)**"
   ]
  },
  {
   "cell_type": "code",
   "execution_count": 192,
   "metadata": {},
   "outputs": [
    {
     "data": {
      "application/vnd.jupyter.widget-view+json": {
       "model_id": "133645e091a6446394e1939b02e58db6",
       "version_major": 2,
       "version_minor": 0
      },
      "text/plain": [
       "IntText(value=0, description='Input your area here: ', style=DescriptionStyle(description_width='initial'))"
      ]
     },
     "metadata": {},
     "output_type": "display_data"
    },
    {
     "data": {
      "application/vnd.jupyter.widget-view+json": {
       "model_id": "22d6f41151314c109f3cc3de5cc8990d",
       "version_major": 2,
       "version_minor": 0
      },
      "text/plain": [
       "Button(description='Check Answer', style=ButtonStyle())"
      ]
     },
     "metadata": {},
     "output_type": "display_data"
    }
   ],
   "source": [
    "#Used to ensure the description text doesn't get cut off.\n",
    "style = {'description_width': 'initial'}\n",
    "\n",
    "#Create an input integer widget\n",
    "question7 = widgets.IntText(\n",
    "    value=None,\n",
    "    description='Input your area here: ',\n",
    "    disabled=False,\n",
    "    style = style\n",
    "    )\n",
    "\n",
    "#Create a button titled \"Check Answer\"\n",
    "checkButton7 = widgets.Button(description = \"Check Answer\")\n",
    "\n",
    "def checkAnswer(a):\n",
    "    #questionAnswer will be the input given by the user.\n",
    "    questionAnswer = question7.value\n",
    "    \n",
    "    #answers is a list of possible answers that can be inputted. \n",
    "    answers = [8]\n",
    "    \n",
    "    #Check if the input is in the list of answers. If this is the case:\n",
    "    if (questionAnswer in answers):\n",
    "        #Clear the output\n",
    "        clear_output()\n",
    "        \n",
    "        #Let the user know what they inputed.\n",
    "        display(Markdown(\"You answered: $\" + str(questionAnswer) + \"$\"))\n",
    "        \n",
    "        #Give an explenation for the answer.\n",
    "        display(Markdown(\"Well done! <br> \\\n",
    "                         We get this answer by using the formula: <br> \\\n",
    "                         <h3 align='center'>$ ((Length) × (Height)) ÷ 2 = Area $</h3> <br> \\\n",
    "                         To get: <br> \\\n",
    "                         <h3 align='center'>$ (5cm × 3cm) ÷ 2 = 7.5cm^2 ≈ 8cm^2 $</h3> <br> \\\n",
    "                         We will say that the value of $T$ is $8cm$.\"))\n",
    "        \n",
    "    #Otherwise, if no answer has been given, do nothing.\n",
    "    elif (questionAnswer == 0):\n",
    "        None\n",
    "    \n",
    "    #Lastly, if the answer is wrong, give the user a hint.\n",
    "    else:\n",
    "        #Clear the output\n",
    "        clear_output()\n",
    "        \n",
    "        #Display the input integer and check button widgets\n",
    "        display(question7)\n",
    "        display(checkButton7)\n",
    "        \n",
    "        #Let the user know what they inputed.\n",
    "        display(Markdown(\"You answered: $\" + str(questionAnswer) + \"$\"))\n",
    "        \n",
    "        #Give a hint for the question\n",
    "        display(Markdown(\"Not quite. <br> \\\n",
    "                      Remember, the formula for finding the area of a triangle is: <br> \\\n",
    "                      <h3 align='center'>$ ((Length) × (Height)) ÷ 2 = Area $</h3> \"))\n",
    "\n",
    "display(question7)\n",
    "display(checkButton7)\n",
    "\n",
    "checkButton7.on_click(checkAnswer)"
   ]
  },
  {
   "cell_type": "code",
   "execution_count": 140,
   "metadata": {
    "scrolled": false
   },
   "outputs": [
    {
     "data": {
      "text/html": [
       "<svg height=\"550\" width=\"1500\">\n",
       "\n",
       "<polygon points = \"200 300 450 300 450 200 650 300 650 100 450 100 450 50 400 50 400 100 100 100 300 230\"\n",
       " stroke=\"black\" fill=\"salmon\" stroke-width=\"5\"/>   \n",
       "\n",
       "#### The following rectangle is for the red square at the top\n",
       "<rect x=\"400\" y=\"50\" width=\"50\" height=\"50\" stroke=\"black\" fill=\"red\" stroke-width=\"5\"/>\n",
       "\n",
       "#The following text is for the \"9cm\" at the top of the shape\n",
       "<text x=\"412\" y=\"80\" fill=\"black\">9cm</text>\n",
       "\n",
       "#### The following polygon is for the pink triangle at the bottom\n",
       "<polygon points = \"450 300 450 200 650 300\"\n",
       " stroke=\"black\" fill=\"lightpink\" stroke-width=\"5\"/>\n",
       "\n",
       "#The following text is for the \"25cm\" at the bottom of the shape\n",
       "<text x=\"490\" y=\"270\" fill=\"black\">25cm</text>\n",
       "\n",
       "#### The following polygon is for the pink triangle in the left\n",
       "<polygon points = \"300 100 100 100 300 230\"\n",
       " stroke=\"black\" fill=\"hotpink\" stroke-width=\"5\"/>\n",
       "    \n",
       "#The following text is for the \"35cm\" at the top of the shape\n",
       "<text x=\"215\" y=\"145\" fill=\"black\" >35cm</text>    \n",
       "\n",
       "#### The following polygon is for the pink triangle in the left\n",
       "<polygon points = \"300 230 200 300 300 300\"\n",
       " stroke=\"black\" fill=\"deeppink\" stroke-width=\"5\"/>\n",
       "\n",
       "#The following text is for the \"T\" at the bottom of the shape\n",
       "<text x=\"260\" y=\"285\" fill=\"black\">T</text>\n",
       "\n",
       "</svg>\n"
      ],
      "text/plain": [
       "<IPython.core.display.HTML object>"
      ]
     },
     "metadata": {},
     "output_type": "display_data"
    }
   ],
   "source": [
    "%%html\n",
    "<svg height=\"550\" width=\"1500\">\n",
    "\n",
    "<polygon points = \"200 300 450 300 450 200 650 300 650 100 450 100 450 50 400 50 400 100 100 100 300 230\"\n",
    " stroke=\"black\" fill=\"salmon\" stroke-width=\"5\"/>   \n",
    "\n",
    "#### The following rectangle is for the red square at the top\n",
    "<rect x=\"400\" y=\"50\" width=\"50\" height=\"50\" stroke=\"black\" fill=\"red\" stroke-width=\"5\"/>\n",
    "\n",
    "#The following text is for the \"9cm\" at the top of the shape\n",
    "<text x=\"412\" y=\"80\" fill=\"black\">9cm</text>\n",
    "\n",
    "#### The following polygon is for the pink triangle at the bottom\n",
    "<polygon points = \"450 300 450 200 650 300\"\n",
    " stroke=\"black\" fill=\"lightpink\" stroke-width=\"5\"/>\n",
    "\n",
    "#The following text is for the \"25cm\" at the bottom of the shape\n",
    "<text x=\"490\" y=\"270\" fill=\"black\">25cm</text>\n",
    "\n",
    "#### The following polygon is for the pink triangle in the left\n",
    "<polygon points = \"300 100 100 100 300 230\"\n",
    " stroke=\"black\" fill=\"hotpink\" stroke-width=\"5\"/>\n",
    "    \n",
    "#The following text is for the \"35cm\" at the top of the shape\n",
    "<text x=\"215\" y=\"145\" fill=\"black\" >35cm</text>    \n",
    "\n",
    "#### The following polygon is for the pink triangle in the left\n",
    "<polygon points = \"300 230 200 300 300 300\"\n",
    " stroke=\"black\" fill=\"deeppink\" stroke-width=\"5\"/>\n",
    "\n",
    "#The following text is for the \"T\" at the bottom of the shape\n",
    "<text x=\"260\" y=\"285\" fill=\"black\">T</text>\n",
    "\n",
    "</svg>"
   ]
  },
  {
   "cell_type": "markdown",
   "metadata": {},
   "source": [
    "Now, the last area you will have to find is that of a **rectangle**:"
   ]
  },
  {
   "cell_type": "code",
   "execution_count": 141,
   "metadata": {
    "scrolled": false
   },
   "outputs": [
    {
     "data": {
      "text/html": [
       "<svg height=\"550\" width=\"1500\">\n",
       "\n",
       "<polygon points = \"200 300 450 300 450 200 650 300 650 100 450 100 450 50 400 50 400 100 100 100 300 230\"\n",
       " stroke=\"black\" fill=\"orange\" stroke-width=\"5\"/>   \n",
       "\n",
       "#The following text is for the \"10cm\" at the right side of the shape\n",
       "<text x=\"645\" y=\"215\" fill=\"black\" transform=\"rotate(-90 645,215)\">10cm</text>\n",
       "\n",
       "#The following text is for the \"19cm\" at the bottom of the shape\n",
       "<text x=\"450\" y=\"320\" fill=\"black\">19cm</text>\n",
       "\n",
       "#### The following rectangle is for the red square at the top\n",
       "<rect x=\"400\" y=\"50\" width=\"50\" height=\"50\" stroke=\"black\" fill=\"red\" stroke-width=\"5\"/>\n",
       "\n",
       "#The following text is for the \"9cm\" at the top of the shape\n",
       "<text x=\"412\" y=\"80\" fill=\"black\">9cm</text>\n",
       "\n",
       "#### The following polygon is for the pink triangle at the bottom\n",
       "<polygon points = \"450 300 450 200 650 300\"\n",
       " stroke=\"black\" fill=\"lightpink\" stroke-width=\"5\"/>\n",
       "\n",
       "#The following text is for the \"25cm\" at the bottom of the shape\n",
       "<text x=\"490\" y=\"270\" fill=\"black\">25cm</text>\n",
       "\n",
       "#### The following polygon is for the pink triangle in the left\n",
       "<polygon points = \"300 100 100 100 300 230\"\n",
       " stroke=\"black\" fill=\"hotpink\" stroke-width=\"5\"/>\n",
       "    \n",
       "#The following text is for the \"35cm\" at the top of the shape\n",
       "<text x=\"215\" y=\"145\" fill=\"black\" >35cm</text>    \n",
       "\n",
       "#### The following polygon is for the pink triangle in the left\n",
       "<polygon points = \"300 230 200 300 300 300\"\n",
       " stroke=\"black\" fill=\"deeppink\" stroke-width=\"5\"/>\n",
       "\n",
       "#The following text is for the \"T\" at the bottom of the shape\n",
       "<text x=\"260\" y=\"285\" fill=\"black\">T</text>\n",
       "    \n",
       "\n",
       "</svg>\n"
      ],
      "text/plain": [
       "<IPython.core.display.HTML object>"
      ]
     },
     "metadata": {},
     "output_type": "display_data"
    }
   ],
   "source": [
    "%%html\n",
    "<svg height=\"550\" width=\"1500\">\n",
    "\n",
    "<polygon points = \"200 300 450 300 450 200 650 300 650 100 450 100 450 50 400 50 400 100 100 100 300 230\"\n",
    " stroke=\"black\" fill=\"orange\" stroke-width=\"5\"/>   \n",
    "\n",
    "#The following text is for the \"10cm\" at the right side of the shape\n",
    "<text x=\"645\" y=\"215\" fill=\"black\" transform=\"rotate(-90 645,215)\">10cm</text>\n",
    "\n",
    "#The following text is for the \"19cm\" at the bottom of the shape\n",
    "<text x=\"450\" y=\"320\" fill=\"black\">19cm</text>\n",
    "\n",
    "#### The following rectangle is for the red square at the top\n",
    "<rect x=\"400\" y=\"50\" width=\"50\" height=\"50\" stroke=\"black\" fill=\"red\" stroke-width=\"5\"/>\n",
    "\n",
    "#The following text is for the \"9cm\" at the top of the shape\n",
    "<text x=\"412\" y=\"80\" fill=\"black\">9cm</text>\n",
    "\n",
    "#### The following polygon is for the pink triangle at the bottom\n",
    "<polygon points = \"450 300 450 200 650 300\"\n",
    " stroke=\"black\" fill=\"lightpink\" stroke-width=\"5\"/>\n",
    "\n",
    "#The following text is for the \"25cm\" at the bottom of the shape\n",
    "<text x=\"490\" y=\"270\" fill=\"black\">25cm</text>\n",
    "\n",
    "#### The following polygon is for the pink triangle in the left\n",
    "<polygon points = \"300 100 100 100 300 230\"\n",
    " stroke=\"black\" fill=\"hotpink\" stroke-width=\"5\"/>\n",
    "    \n",
    "#The following text is for the \"35cm\" at the top of the shape\n",
    "<text x=\"215\" y=\"145\" fill=\"black\" >35cm</text>    \n",
    "\n",
    "#### The following polygon is for the pink triangle in the left\n",
    "<polygon points = \"300 230 200 300 300 300\"\n",
    " stroke=\"black\" fill=\"deeppink\" stroke-width=\"5\"/>\n",
    "\n",
    "#The following text is for the \"T\" at the bottom of the shape\n",
    "<text x=\"260\" y=\"285\" fill=\"black\">T</text>\n",
    "    \n",
    "\n",
    "</svg>"
   ]
  },
  {
   "cell_type": "markdown",
   "metadata": {},
   "source": [
    "To find the area of a rectangle, multiply *the height of the rectangle by the length*:\n",
    "\n",
    "<h3 align='center'>$\\ (Length) \\times (Height) = Area $</h3>\n",
    "\n",
    "You must calculate the area of the <span style=\"color:orange\">**orange rectangle**</span>:"
   ]
  },
  {
   "cell_type": "code",
   "execution_count": 191,
   "metadata": {},
   "outputs": [
    {
     "data": {
      "application/vnd.jupyter.widget-view+json": {
       "model_id": "caec39be65da415f98970b49ece48b06",
       "version_major": 2,
       "version_minor": 0
      },
      "text/plain": [
       "IntText(value=0, description='Input your area here: ', style=DescriptionStyle(description_width='initial'))"
      ]
     },
     "metadata": {},
     "output_type": "display_data"
    },
    {
     "data": {
      "application/vnd.jupyter.widget-view+json": {
       "model_id": "7ea62af1ed464456bba4c5ebc86631dd",
       "version_major": 2,
       "version_minor": 0
      },
      "text/plain": [
       "Button(description='Check Answer', style=ButtonStyle())"
      ]
     },
     "metadata": {},
     "output_type": "display_data"
    }
   ],
   "source": [
    "#Used to ensure the description text doesn't get cut off.\n",
    "style = {'description_width': 'initial'}\n",
    "\n",
    "#Create an input integer widget\n",
    "question8 = widgets.IntText(\n",
    "    value=None,\n",
    "    description='Input your area here: ',\n",
    "    disabled=False,\n",
    "    style = style\n",
    "    )\n",
    "\n",
    "#Create a button titled \"Check Answer\"\n",
    "checkButton8 = widgets.Button(description = \"Check Answer\")\n",
    "\n",
    "def checkAnswer(a):\n",
    "    #questionAnswer will be the input given by the user.\n",
    "    questionAnswer = question8.value\n",
    "    \n",
    "    #answers is a list of possible answers that can be inputted. \n",
    "    answers = [190]\n",
    "    \n",
    "    #Check if the input is in the list of answers. If this is the case:\n",
    "    if (questionAnswer in answers):\n",
    "        #Clear the output\n",
    "        clear_output()\n",
    "        \n",
    "        #Let the user know what they inputed.\n",
    "        display(Markdown(\"You answered: $\" + str(questionAnswer) + \"$\"))\n",
    "        \n",
    "        #Give an explenation for the answer.\n",
    "        display(Markdown(\"Well done! <br> \\\n",
    "                         We get this answer by using the formula: <br> \\\n",
    "                         <h3 align='center'>$\\ (Length) × (Height) = Area $</h3> <br> \\\n",
    "                         To get: <br> \\\n",
    "                         <h3 align='center'>$ (19cm) × (10cm) = 190cm^2 $</h3> <br> \\\n",
    "                         We will say that the value of $R$ is $190cm^2$.\"))\n",
    "        \n",
    "    #Otherwise, if no answer has been given, do nothing.\n",
    "    elif (questionAnswer == 0):\n",
    "        None\n",
    "    \n",
    "    #Lastly, if the answer is wrong, give the user a hint.\n",
    "    else:\n",
    "        #Clear the output\n",
    "        clear_output()\n",
    "        \n",
    "        #Display the input integer and check button widgets\n",
    "        display(question8)\n",
    "        display(checkButton8)\n",
    "        \n",
    "        #Let the user know what they inputed.\n",
    "        display(Markdown(\"You answered: $\" + str(questionAnswer) + \"$\"))\n",
    "        \n",
    "        #Give a hint for the question\n",
    "        display(Markdown(\"Not quite. <br> \\\n",
    "                      Remember, the formula for finding the area of a rectangle is: <br> \\\n",
    "                      <h3 align='center'>$\\ (Length) × (Height) = Area $</h3>\"))\n",
    "\n",
    "display(question8)\n",
    "display(checkButton8)\n",
    "\n",
    "checkButton8.on_click(checkAnswer)"
   ]
  },
  {
   "cell_type": "code",
   "execution_count": 129,
   "metadata": {
    "scrolled": false
   },
   "outputs": [
    {
     "data": {
      "text/html": [
       "<svg height=\"550\" width=\"1500\">\n",
       "\n",
       "<polygon points = \"200 300 450 300 450 200 650 300 650 100 450 100 450 50 400 50 400 100 100 100 300 230\"\n",
       " stroke=\"black\" fill=\"orange\" stroke-width=\"5\"/>\n",
       "\n",
       "#The following text is for the \"R\" at the center of the shape\n",
       "<text x=\"465\" y=\"200\" fill=\"black\">R</text>\n",
       "    \n",
       "#### The following rectangle is for the red square at the top\n",
       "<rect x=\"400\" y=\"50\" width=\"50\" height=\"50\" stroke=\"black\" fill=\"red\" stroke-width=\"5\"/>\n",
       "\n",
       "#The following text is for the \"9cm\" at the top of the shape\n",
       "<text x=\"412\" y=\"80\" fill=\"black\">9cm</text>\n",
       "\n",
       "#### The following polygon is for the pink triangle at the bottom\n",
       "<polygon points = \"450 300 450 200 650 300\"\n",
       " stroke=\"black\" fill=\"lightpink\" stroke-width=\"5\"/>\n",
       "\n",
       "#The following text is for the \"25cm\" at the bottom of the shape\n",
       "<text x=\"490\" y=\"270\" fill=\"black\">25cm</text>\n",
       "\n",
       "#### The following polygon is for the pink triangle in the left\n",
       "<polygon points = \"300 100 100 100 300 230\"\n",
       " stroke=\"black\" fill=\"hotpink\" stroke-width=\"5\"/>\n",
       "    \n",
       "#The following text is for the \"35cm\" at the top of the shape\n",
       "<text x=\"215\" y=\"145\" fill=\"black\" >35cm</text>    \n",
       "\n",
       "#### The following polygon is for the pink triangle in the left\n",
       "<polygon points = \"300 230 200 300 300 300\"\n",
       " stroke=\"black\" fill=\"deeppink\" stroke-width=\"5\"/>\n",
       "\n",
       "#The following text is for the \"T\" at the bottom of the shape\n",
       "<text x=\"260\" y=\"285\" fill=\"black\">T</text>\n",
       "\n",
       "</svg>\n"
      ],
      "text/plain": [
       "<IPython.core.display.HTML object>"
      ]
     },
     "metadata": {},
     "output_type": "display_data"
    }
   ],
   "source": [
    "%%html\n",
    "<svg height=\"550\" width=\"1500\">\n",
    "\n",
    "<polygon points = \"200 300 450 300 450 200 650 300 650 100 450 100 450 50 400 50 400 100 100 100 300 230\"\n",
    " stroke=\"black\" fill=\"orange\" stroke-width=\"5\"/>\n",
    "\n",
    "#The following text is for the \"R\" at the center of the shape\n",
    "<text x=\"465\" y=\"200\" fill=\"black\">R</text>\n",
    "    \n",
    "#### The following rectangle is for the red square at the top\n",
    "<rect x=\"400\" y=\"50\" width=\"50\" height=\"50\" stroke=\"black\" fill=\"red\" stroke-width=\"5\"/>\n",
    "\n",
    "#The following text is for the \"9cm\" at the top of the shape\n",
    "<text x=\"412\" y=\"80\" fill=\"black\">9cm</text>\n",
    "\n",
    "#### The following polygon is for the pink triangle at the bottom\n",
    "<polygon points = \"450 300 450 200 650 300\"\n",
    " stroke=\"black\" fill=\"lightpink\" stroke-width=\"5\"/>\n",
    "\n",
    "#The following text is for the \"25cm\" at the bottom of the shape\n",
    "<text x=\"490\" y=\"270\" fill=\"black\">25cm</text>\n",
    "\n",
    "#### The following polygon is for the pink triangle in the left\n",
    "<polygon points = \"300 100 100 100 300 230\"\n",
    " stroke=\"black\" fill=\"hotpink\" stroke-width=\"5\"/>\n",
    "    \n",
    "#The following text is for the \"35cm\" at the top of the shape\n",
    "<text x=\"215\" y=\"145\" fill=\"black\" >35cm</text>    \n",
    "\n",
    "#### The following polygon is for the pink triangle in the left\n",
    "<polygon points = \"300 230 200 300 300 300\"\n",
    " stroke=\"black\" fill=\"deeppink\" stroke-width=\"5\"/>\n",
    "\n",
    "#The following text is for the \"T\" at the bottom of the shape\n",
    "<text x=\"260\" y=\"285\" fill=\"black\">T</text>\n",
    "\n",
    "</svg>"
   ]
  },
  {
   "cell_type": "markdown",
   "metadata": {},
   "source": [
    "Finally, it's up to you to *calculate the area of the whole shape*! To do this, you have to:\n",
    "\n",
    "> **Add the Areas of the Shapes Inside** <br>\n",
    "NOTE: We only add the areas of shapes that are inside our original shape. So, for this example, we would not add the <span style=\"color:pink\">**pink triangle**</span> on the bottom right.\n",
    "\n",
    "> **Subtract the Areas of the Shapes That are Holes** <br>\n",
    "NOTE: We only subtract the areas of shapes that are not inside our original shape. So, for this example, we would subtract the <span style=\"color:pink\">**pink triangle**</span> on the bottom right.\n",
    "\n",
    "Calculate the area of the whole shape:"
   ]
  },
  {
   "cell_type": "code",
   "execution_count": 190,
   "metadata": {
    "scrolled": true
   },
   "outputs": [
    {
     "data": {
      "application/vnd.jupyter.widget-view+json": {
       "model_id": "7afe1514f15747bb97496931861ba30f",
       "version_major": 2,
       "version_minor": 0
      },
      "text/plain": [
       "IntText(value=0, description='Input your area here: ', style=DescriptionStyle(description_width='initial'))"
      ]
     },
     "metadata": {},
     "output_type": "display_data"
    },
    {
     "data": {
      "application/vnd.jupyter.widget-view+json": {
       "model_id": "6a8b2942123b4a82ba6747bb5c9eb6a6",
       "version_major": 2,
       "version_minor": 0
      },
      "text/plain": [
       "Button(description='Check Answer', style=ButtonStyle())"
      ]
     },
     "metadata": {},
     "output_type": "display_data"
    }
   ],
   "source": [
    "#Used to ensure the description text doesn't get cut off.\n",
    "style = {'description_width': 'initial'}\n",
    "\n",
    "#Create an input integer widget\n",
    "question9 = widgets.IntText(\n",
    "    value=None,\n",
    "    description='Input your area here: ',\n",
    "    disabled=False,\n",
    "    style = style\n",
    "    )\n",
    "\n",
    "#Create a button titled \"Check Answer\"\n",
    "checkButton9 = widgets.Button(description = \"Check Answer\")\n",
    "\n",
    "def checkAnswer(a):\n",
    "    #questionAnswer will be the input given by the user.\n",
    "    questionAnswer = question9.value\n",
    "    \n",
    "    #answers is a list of possible answers that can be inputted. \n",
    "    answers = [217]\n",
    "    \n",
    "    #Check if the input is in the list of answers. If this is the case:\n",
    "    if (questionAnswer in answers):\n",
    "        #Clear the output\n",
    "        clear_output()\n",
    "        \n",
    "        #Let the user know what they inputed.\n",
    "        display(Markdown(\"You answered: $\" + str(questionAnswer) + \"$\"))\n",
    "        \n",
    "        #Give an explenation for the answer.\n",
    "        display(Markdown(\"Well done! <br> \\\n",
    "                         We get this answer by first *adding the areas of the shapes inside*: <br> \\\n",
    "                         <h3 align='center'>$\\ (9cm^2) + (35cm^2) + (8cm^2) + (190cm^2) = 242cm^2 $</h3> <br> \\\n",
    "                         Then, we *subtract the areas of the shapes that are holes*: <br> \\\n",
    "                         <h3 align='center'>$ (242cm^2) - (25cm^2) = 217cm^2 $</h3> <br> \\\n",
    "                         So, the area of our original shape is $217cm^2$.\"))\n",
    "        \n",
    "    #Otherwise, if no answer has been given, do nothing.\n",
    "    elif (questionAnswer == 0):\n",
    "        None\n",
    "    \n",
    "    #Lastly, if the answer is wrong, give the user a hint.\n",
    "    else:\n",
    "        #Clear the output\n",
    "        clear_output()\n",
    "        \n",
    "        #Display the input integer and check button widgets\n",
    "        display(question9)\n",
    "        display(checkButton9)\n",
    "        \n",
    "        #Let the user know what they inputed.\n",
    "        display(Markdown(\"You answered: $\" + str(questionAnswer) + \"$\"))\n",
    "        \n",
    "        #Give a hint for the question\n",
    "        display(Markdown(\"Not quite. <br> \\\n",
    "                      Remember, to find the area of a shape like this we start by: <br> \\\n",
    "                      1) *Adding the areas of the shapes inside* and, <br> \\\n",
    "                      2) *Subtracting the areas of the shapes that are holes*.\"))\n",
    "\n",
    "display(question9)\n",
    "display(checkButton9)\n",
    "\n",
    "checkButton9.on_click(checkAnswer)"
   ]
  },
  {
   "cell_type": "markdown",
   "metadata": {},
   "source": [
    "## Conclusion:\n",
    "\n",
    "In this notebook, you will have learned:\n",
    "\n",
    "* How to find the **perimeter** of *quadrilaterals* and *triangles*.\n",
    "* How to find the **perimeter and area** of an *irregular shape*."
   ]
  },
  {
   "cell_type": "markdown",
   "metadata": {},
   "source": [
    "![alt text](https://github.com/callysto/callysto-sample-notebooks/blob/master/notebooks/images/Callysto_Notebook-Banners_Bottom_06.06.18.jpg?raw=true)"
   ]
  }
 ],
 "metadata": {
  "kernelspec": {
   "display_name": "Python 3",
   "language": "python",
   "name": "python3"
  },
  "language_info": {
   "codemirror_mode": {
    "name": "ipython",
    "version": 3
   },
   "file_extension": ".py",
   "mimetype": "text/x-python",
   "name": "python",
   "nbconvert_exporter": "python",
   "pygments_lexer": "ipython3",
   "version": "3.6.8"
  }
 },
 "nbformat": 4,
 "nbformat_minor": 2
}
