{
 "cells": [
  {
   "cell_type": "markdown",
   "metadata": {},
   "source": [
    "# A dummy NB to test metadata exrtaction"
   ]
  },
  {
   "cell_type": "code",
   "execution_count": null,
   "metadata": {},
   "outputs": [],
   "source": []
  }
 ],
 "metadata": {
  "kernelspec": {
   "display_name": "Python 3",
   "language": "python",
   "name": "python3"
  },
  "language_info": {
   "codemirror_mode": {
    "name": "ipython",
    "version": 3
   },
   "file_extension": ".py",
   "mimetype": "text/x-python",
   "name": "python",
   "nbconvert_exporter": "python",
   "pygments_lexer": "ipython3",
   "version": "3.7.3"
  },
  "notebookInfo": {
   "Description": "Another notebook to test data extraction",
   "Grade": "8",
   "Hyperlink": "https://Callysto.ca",
   "Subject": "Technology",
   "Title": "Dummy in Technology"
  }
 },
 "nbformat": 4,
 "nbformat_minor": 2
}
