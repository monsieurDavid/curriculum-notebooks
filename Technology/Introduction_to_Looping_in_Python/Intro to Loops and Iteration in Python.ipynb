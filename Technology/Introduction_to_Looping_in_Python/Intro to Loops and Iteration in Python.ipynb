{
 "cells": [
  {
   "cell_type": "markdown",
   "metadata": {},
   "source": [
    "# Introduction to Iteration and Looping in Python\n",
    "\n",
    "In this notebook, we will be introducing loops and iteration, along with some applications. Looping and iteration are commonly used tools in programming, as they allow us to perform repetitive tasks without much difficulty.\n",
    "\n",
    "#### Table of Contents:\n",
    "[While loops](#While_Loops) <br />\n",
    "[For Loops](#For_Loops) <br />\n",
    "[Range Function](#Range_Function) <br />\n",
    "[Range function applied to sequences](#Range_Function_on_sequence) <br />\n",
    "[Break Statements](#Break_Statements) <br />\n",
    "[Incrementing and Decrementing](#Increment_Decrement) <br />\n",
    "[Infinite Loops](#Infinite_Loops) <br />\n",
    "[Loops With If/Else statements](#Loops_with_conditions) <br />\n",
    "[Nested Loops](#Nested_Loops) <br />\n",
    "[Conclusion](#Conclusion) <br />\n",
    "\n",
    "To run a cell, select the cell you wish to run, then either:\n",
    "1. Find the run button at the top of the page, and click it or,\n",
    "2. Hit shift+enter."
   ]
  },
  {
   "cell_type": "markdown",
   "metadata": {},
   "source": [
    "<a id='While_Loops'></a>\n",
    "### While Loops:\n",
    "\n",
    "While loops are extremely useful in programming. The idea of while loops is to execute a block of code while a boolean expression is true. In general, the syntax for a while loop is :\n",
    "\n",
    "while (something true): <br />\n",
    "&nbsp;&nbsp;&nbsp; Do some work"
   ]
  },
  {
   "cell_type": "code",
   "execution_count": null,
   "metadata": {},
   "outputs": [],
   "source": [
    "## Example of a basic while loop ##\n",
    "## This loop will print n as long as n is greater than 0 ##\n",
    "## The computer will check the n > 0 condition after it decrements n ##\n",
    "## If that condition still holds, then we will continue to print and decrement ##\n",
    "## If n = 0, then the condition is no longer true, so the computer will not enter the while loop ##\n",
    "\n",
    "n = 10\n",
    "while (n > 0):\n",
    "    print(n, end = \" \")\n",
    "    n = n - 1"
   ]
  },
  {
   "cell_type": "code",
   "execution_count": null,
   "metadata": {},
   "outputs": [],
   "source": [
    "## Another Example ##\n",
    "\n",
    "n = -10 ## Now, n < 0, so the while loop condition is not satisfied ##\n",
    "while (n > 0):\n",
    "    print(n, end = \" \")\n",
    "    n = n - 1\n",
    "    \n",
    "print(\"n is less than\", 0)"
   ]
  },
  {
   "cell_type": "markdown",
   "metadata": {},
   "source": [
    "<a id='For_Loops'></a>\n",
    "### For Loops:\n",
    "\n",
    "For loops differ from while loops in that for loops will iterate a fixed number of times, whereas a while loop will continue until the condition is no longer satisfied. We generally use for loops to iterate over sequences such as lists and strings. The two keywords used in for loops are \"for\" and \"in\".\n",
    "\n",
    "In general, the syntax for a for loop is:\n",
    "\n",
    "for Some_Variable_of_Interest in Sequence: <br />\n",
    "&nbsp;&nbsp;&nbsp; Do some work\n",
    "\n",
    "Note that the sequence can be a string, list, or a dictionary."
   ]
  },
  {
   "cell_type": "code",
   "execution_count": null,
   "metadata": {},
   "outputs": [],
   "source": [
    "## Example: Iterating over a string ##\n",
    "## The sequence part of this for loop contains a string ##\n",
    "## The computer will take the string, and assign the first value in that string to the variable letter ##\n",
    "## Then, the statement inside the for loop is executed. Each element in the string will then be assigned to ##\n",
    "## the variable letter until there are no more letters left in the string. ##\n",
    "\n",
    "for letter in \"Dog\":\n",
    "    print(\"Current Letter:\", letter)"
   ]
  },
  {
   "cell_type": "code",
   "execution_count": null,
   "metadata": {},
   "outputs": [],
   "source": [
    "## Example: Iterating over a string ##\n",
    "## Same idea as above, but now the elements assigned to the variable are from a list ##\n",
    "\n",
    "fruits = [\"banana\", \"apple\", \"mango\"]\n",
    "for fruit in fruits:\n",
    "    print(\"Current fruit:\", fruit)"
   ]
  },
  {
   "cell_type": "markdown",
   "metadata": {},
   "source": [
    "<a id='Range_Function'></a>\n",
    "#### The Range Function:\n",
    "\n",
    "The range function is a function which generates a list of numbers, starting from 0, and going to the number n - 1 by default. Its function definition is given by:\n",
    "\n",
    "range(start, stop, step) <br />\n",
    "\n",
    "Start specifies the first number, stop specifies the last number, and the step is the number by which we increment. Start is included in the list, but stop is not. Each parameter has to be an integer."
   ]
  },
  {
   "cell_type": "code",
   "execution_count": null,
   "metadata": {},
   "outputs": [],
   "source": [
    "## Examples of the Range Function ##\n",
    "\n",
    "for i in range(5):\n",
    "    print(i, end = \" \")\n",
    "print('\\n')\n",
    "\n",
    "########################\n",
    "\n",
    "for i in range(3, 6):\n",
    "    print(i, end = \" \")\n",
    "print('\\n')\n",
    "\n",
    "########################\n",
    "\n",
    "for i in range(4, 10, 2):\n",
    "    print(i, end = \" \")\n",
    "print('\\n')\n",
    "\n",
    "########################\n",
    "\n",
    "for i in range(0, -10, -2):\n",
    "    print(i, end = \" \")\n",
    "print('\\n')\n",
    "\n",
    "########################"
   ]
  },
  {
   "cell_type": "markdown",
   "metadata": {},
   "source": [
    "<a id='Range_Function_on_sequence'></a>\n",
    "#### Iterating over list indices and dictionary keys:\n",
    "\n",
    "We can apply the range function to iterate over the index of a list.  This can be useful if we want to iterate over the list in some order that is not the default.  For dictionaries, a for loop will loop over the keys of the dictionary."
   ]
  },
  {
   "cell_type": "code",
   "execution_count": null,
   "metadata": {},
   "outputs": [],
   "source": [
    "## Example: Iterating through a list using range: ##\n",
    "fruits = [\"banana\", \"apple\", \"mango\"]\n",
    "\n",
    "for index in range(len(fruits)): ## What happens here is the same as what happens above when we interated through a string ##\n",
    "    print(\"Current fruit:\", fruits[index])\n",
    "\n",
    "## Iteration on a dictionary ##\n",
    "d = {\"x\": 1, \"y\": 2, \"z\": 3}\n",
    "for key in d:\n",
    "    print(key, \"corresponds to\", d[key])"
   ]
  },
  {
   "cell_type": "code",
   "execution_count": null,
   "metadata": {},
   "outputs": [],
   "source": [
    "## Application: Randomly Generated List ##\n",
    "## Suppose we wish to generate a list of numbers of size n ##\n",
    "## We can use a for loop, range function, and the randint function to do this ##\n",
    "## The randint function will generate a random integer from a specified interval ##\n",
    "## The syntax is randint(a,b). a and b are the endpoints, and are not included ##\n",
    "\n",
    "import random as rand ## Library needed for randint ##\n",
    "\n",
    "Random_List = []\n",
    "Size_of_List = 0\n",
    "\n",
    "print(\"Please enter a list size: \")\n",
    "Size_of_List = int(input()) ## Get a list size ##\n",
    "\n",
    "for i in range(0, Size_of_List): ## Use the entered value in the range function ##\n",
    "    Random_List.append(rand.randint(1,1000)) ## Append random values to the list using the randint function ##\n",
    "    \n",
    "print(Random_List)"
   ]
  },
  {
   "cell_type": "markdown",
   "metadata": {},
   "source": [
    "<a id='Break_Statement'></a>\n",
    "### The Break Statement:\n",
    "\n",
    "Suppose that we wish to end a loop early if a certain condition is met. We can use what is known as the **break statement**. The break statement will terminate while and for loops early. Usually, it is used in conjuction with if-else statements. "
   ]
  },
  {
   "cell_type": "code",
   "execution_count": null,
   "metadata": {},
   "outputs": [],
   "source": [
    "## Example ##\n",
    "## This loop will print what the user inputs ##\n",
    "## If the user enters \"done\", the if statement will be true, and the while loop will be exited ##\n",
    "## Then, the next line of code will be executed ##\n",
    "\n",
    "while True:\n",
    "    line = input()\n",
    "    if line == \"done\":\n",
    "        break\n",
    "    print(line)\n",
    "    \n",
    "print(\"Done!\")"
   ]
  },
  {
   "cell_type": "code",
   "execution_count": null,
   "metadata": {},
   "outputs": [],
   "source": [
    "## Another Example ##\n",
    "for letter in \"Python\":\n",
    "    if letter == \"h\":\n",
    "        break\n",
    "    print(\"Current Letter:\", letter)\n",
    "\n",
    "print(\"Done!\")"
   ]
  },
  {
   "cell_type": "markdown",
   "metadata": {},
   "source": [
    "### Practice:\n",
    "\n",
    "Code the following:\n",
    "\n",
    "> 1. Using a loop of your choice, output the squares of the numbers 1 to 10, format them on a line, with a space in between each\n",
    "number. <br />\n",
    "> 2. Find the value of 2 ^ 16 by using a for loop.\n",
    "> 3. Using a for loop, find the reciprocals of the numbers 1 to 20, and output them."
   ]
  },
  {
   "cell_type": "code",
   "execution_count": null,
   "metadata": {},
   "outputs": [],
   "source": [
    "## Code Goes Here ##"
   ]
  },
  {
   "cell_type": "markdown",
   "metadata": {},
   "source": [
    "<a id='Increment_Decrement'></a>\n",
    "### Incrementing and Decrementing:\n",
    "\n",
    "While loops and for loops give us a nice convenient way of incrementing or decrementing variables. "
   ]
  },
  {
   "cell_type": "code",
   "execution_count": null,
   "metadata": {},
   "outputs": [],
   "source": [
    "## Example ##\n",
    "## First, we initialize the variable that we want to increment or decrement. ##\n",
    "## Usually, if we are incrementing, we set the variable to 0, and if we are decrementing, we set the varaible to some number > 0 ##\n",
    "n = 5\n",
    "while n > 0:\n",
    "    print(n)\n",
    "    n = n - 1 ## Decrementing the \"counting\" variable, we say that the varaible has been updated ##\n",
    "    \n",
    "print(\"Blastoff!\")"
   ]
  },
  {
   "cell_type": "code",
   "execution_count": null,
   "metadata": {},
   "outputs": [],
   "source": [
    "## Incrementing Example ##\n",
    "\n",
    "n = 0 ## Initialize ##\n",
    "while n < 14:\n",
    "    print(n * n)\n",
    "    n = n + 1 ## Update ##\n",
    "\n",
    "print(\"Done!\")"
   ]
  },
  {
   "cell_type": "code",
   "execution_count": null,
   "metadata": {},
   "outputs": [],
   "source": [
    "## Different Notation ##\n",
    "\n",
    "n = 0\n",
    "while n < 20:\n",
    "    print(n)\n",
    "    n += 1 ## We can use this notation to increment n, this is equivalent to n = n + 1 ##\n",
    "    \n",
    "print(\"Done!\")"
   ]
  },
  {
   "cell_type": "markdown",
   "metadata": {},
   "source": [
    "### Off by one error:\n",
    "\n",
    "An off by one error occurs when a while loop or for loop executes one too many or one too few times. A common cause is using a less than or equals sign when a less than sign should have been used."
   ]
  },
  {
   "cell_type": "code",
   "execution_count": null,
   "metadata": {},
   "outputs": [],
   "source": [
    "## Off by one error ##\n",
    "## Note the difference in output ##\n",
    "## Suppose we had a list of length 5, this means that the indices start at position 0, and go to position 4 ##\n",
    "## You can think of the indices of a list going up to length n - 1 ##\n",
    "\n",
    "List = [0, 1, 2, 3, 4]\n",
    "i = 0\n",
    "while i < 5:\n",
    "    print(List[i], \" \")\n",
    "    i = i + 1\n",
    "    \n",
    "print ('\\n')"
   ]
  },
  {
   "cell_type": "code",
   "execution_count": null,
   "metadata": {},
   "outputs": [],
   "source": [
    "## Here, we will go outside the boundaries of the list ##\n",
    "j = 0\n",
    "while j <= 5:\n",
    "    print(List[j], \" \")\n",
    "    j = j + 1"
   ]
  },
  {
   "cell_type": "markdown",
   "metadata": {},
   "source": [
    "<a id='Infinite_Loops'></a>\n",
    "### Infinite Loops:\n",
    "\n",
    "Infinite loops occur when the condition required to enter a loop never becomes false. This can cause undesirable behaviour or cause the computer to crash. We highly recommend avoiding these :) . The main culprit for these is forgetting to update a varaible, or by having a loop condition that will never be false. "
   ]
  },
  {
   "cell_type": "code",
   "execution_count": null,
   "metadata": {},
   "outputs": [],
   "source": [
    "## Just to illustrate, if the if statement is not there, we will continue to increment x, and then crash the kernal ##\n",
    "## The error here is that the while condition is always satisfied, we would have to change the condition ##\n",
    "## to get the while loop working ##\n",
    "\n",
    "x = 6\n",
    "while x > 5:\n",
    "    print(x)\n",
    "    if(x > 100): \n",
    "        break\n",
    "    x += 1 ## Here we use the notation we introduced above ##"
   ]
  },
  {
   "cell_type": "markdown",
   "metadata": {},
   "source": [
    "Sometimes, infinite loops are desirable. For example, computers which wait for a user input will be in an infinite loop checking for some sort of activity. This loop will continue until there is actually input, or the device is turned off/reset."
   ]
  },
  {
   "cell_type": "markdown",
   "metadata": {},
   "source": [
    "<a id='Loops_with_conditions'></a>\n",
    "### Loops with If/Else statements:\n",
    "\n",
    "As we saw when we were using the break statement, we can have conditional expressions inside our loops."
   ]
  },
  {
   "cell_type": "code",
   "execution_count": null,
   "metadata": {},
   "outputs": [],
   "source": [
    "## Example: ##\n",
    "## Nested if/else statement example ##\n",
    "for num in range(10, 16):\n",
    "    if num % 2 == 0:\n",
    "        print(num, \"is even.\")\n",
    "    else:\n",
    "        print(num, \"is odd.\")"
   ]
  },
  {
   "cell_type": "code",
   "execution_count": null,
   "metadata": {},
   "outputs": [],
   "source": [
    "## Simple for/else statement example ##\n",
    "for num in range(2):\n",
    "    print(num)\n",
    "    \n",
    "else:\n",
    "    print(\"All done.\")"
   ]
  },
  {
   "cell_type": "code",
   "execution_count": null,
   "metadata": {},
   "outputs": [],
   "source": [
    "## Simple While/else statement example ##\n",
    "s = input(\"Input: \")\n",
    "while s != \"done\":\n",
    "    print(s)\n",
    "    s = input(\"Input: \")\n",
    "    \n",
    "else:\n",
    "    print(\"All done.\")"
   ]
  },
  {
   "cell_type": "markdown",
   "metadata": {},
   "source": [
    "<a id='Nested_Loops'></a>\n",
    "### Nested Loops:\n",
    "\n",
    "It is often useful to create what are known as **nested loops**. Nested loops are simply loops contained in a main loop. Usually, we would have code that looks like:\n",
    "\n",
    "while Something_True: <br />\n",
    "&nbsp; Do some work <br/>\n",
    "&nbsp;&nbsp;&nbsp;&nbsp;while Something_else_True: <br />\n",
    "&nbsp;&nbsp;&nbsp;&nbsp;&nbsp; Do some work"
   ]
  },
  {
   "cell_type": "code",
   "execution_count": null,
   "metadata": {},
   "outputs": [],
   "source": [
    "## Example of nested for loops ##\n",
    "\n",
    "for num in range(10, 15):\n",
    "    for i in range(2, num): ## Iterate on factors of num ##\n",
    "        if num%i == 0: ## To determine the first factor ##\n",
    "            j=num/i ## To calculate the second factor ##\n",
    "            print(\"%d equals %d * %d\" % (num,i,j))\n",
    "            break ## Move to the next num, the first FOR ##\n",
    "    else:\n",
    "        print(num, \"is a prime number\")"
   ]
  },
  {
   "cell_type": "markdown",
   "metadata": {},
   "source": [
    "### Extra Resources:\n",
    "\n",
    "[Some basic examples](https://www.pythonforbeginners.com/loops/for-while-and-nested-loops-in-python) <br />\n",
    "[More examples of material covered in this notebook](https://www.learnpython.org/en/Loops) <br />\n",
    "[Introduction to Python loops with examples](https://www.geeksforgeeks.org/loops-in-python/) <br />\n",
    "[Different looping techniques with examples](https://www.geeksforgeeks.org/looping-techniques-python/) <br />\n",
    "[More examples of looping with control statements](https://www.geeksforgeeks.org/loops-and-loop-control-statements-continue-break-and-pass-in-python/) <br />"
   ]
  },
  {
   "cell_type": "markdown",
   "metadata": {},
   "source": [
    "<a id='Conclusion'></a>\n",
    "## Conclusion:\n",
    "\n",
    "In closing, we have seen the following:\n",
    "> 1. Basic while and for loops <br />\n",
    "> 2. The range function and break statements <br />\n",
    "> 3. Infinite Loops <br />\n",
    "> 4. Nested conditional statements and nested loops <br />\n",
    "\n",
    "Our expectation is that the reader is confident with the basics of while and for loops, as well as using conditional expressions inside of them."
   ]
  },
  {
   "cell_type": "code",
   "execution_count": null,
   "metadata": {},
   "outputs": [],
   "source": []
  }
 ],
 "metadata": {
  "kernelspec": {
   "display_name": "Python 3",
   "language": "python",
   "name": "python3"
  },
  "language_info": {
   "codemirror_mode": {
    "name": "ipython",
    "version": 3
   },
   "file_extension": ".py",
   "mimetype": "text/x-python",
   "name": "python",
   "nbconvert_exporter": "python",
   "pygments_lexer": "ipython3",
   "version": "3.6.5"
  }
 },
 "nbformat": 4,
 "nbformat_minor": 2
}
