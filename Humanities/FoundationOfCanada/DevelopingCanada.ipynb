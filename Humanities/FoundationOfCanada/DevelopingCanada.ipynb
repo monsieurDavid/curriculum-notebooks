{
 "cells": [
  {
   "cell_type": "markdown",
   "metadata": {},
   "source": [
    "<h1 style=\"font-size: 30px; margin-bottom: 50px; text-align: center\">Developing Canada</h1>\n",
    "\n",
    "## The Rebellions of 1837 and 1838\n",
    "\n",
    "As a result of the Great Migration and the increased government control, many within Canada observed restrictions on freedom - particularly that of representation. After the War of 1812 instilled fear of republicanism into Canadians and the British, the Family Compact (Chateau Clique, in Lower Canada) maintained control through elite rule. This group was composed of those who pushed the idea that Canada’s - particularly Upper Canada’s - strength came from its imperial connections. In this sense, power in the hands of a governor and his advisors was the safest option. With this power, it was decided that the protestant church should be kept as strong as possible as the colony’s morality needed to be kept in line. Through their policies, $\\frac{1}{7}$ of the land was reserved for the protestant clergy. Upper Canada also was treated to multiple large-scale projects such as canals and railways to improve military and economic capabilities within the region. The Rideau canal that remains in Ottawa today is an example of one of these projects produced by this governing body. The citizens of the colony of Canada did have a voice through the legislature where they could elect a governing body; however, the power these councils had was not comparable to the appointed council’s. New laws had to be approved by both councils. The issue with this, however, was that much political action was spent on project and proposing ideas that would not help the citizens of Canada and the elected body did not have to opportunity to propose ideas for themselves. This was particularly a problem in Lower Canada when combined with crop failures, economic difficulties, largely increased immigration, cholera epidemics and a rigid constitution that did not reflect the culture. In other words, many began to see the appointed governing body as out of touch with the concerns of Canadians.\n",
    "\n",
    "Louis Joseph Papineau and William McKenzie stood out as leaders of these rebellions. Both were leaders of political parties within their respective Canada’s - Lower and Upper. French-Canadian representation had been increasingly overlooked as they were quickly becoming the minority within Canada. Louis Joseph Papineau was the leader of the Parti Canadien for Lower Canada and wrote to Britain a list of 92 resolutions generally demanding that the executive council (appointed governing body) be chosen from elected members to deal with local concerns. He did not receive a response for three years from Lord John Russel, and when a response did return, it was a counter to the 92 the Papineau had proposed - just 10. These resolutions essentially said no to any of Papineau and his party’s ideas as the governor and executive council had the power to take money owed to Britain. Additionally, an elected body could not be responsible to both the colony and to Britain. \n",
    "\n",
    "Following this response, the people of Lower Canada became radicalized, fighting on the streets and boycotting Britain. Papineau tried to disassociate himself with the parti Parti Canadien (who now referred to themselves as the Parti Patriote) to try to distance himself from the violence and attempt to come to a peaceful political solution. This followed with a battle at St. Denis in November 1837 - a direct act of rebellion. Small battles took place along the Richelieu river after the Patriotes blockaded the road at St. Denis. The Patriotes won this battle at St. Denis when the British came and walked directly into the resistance’s gunfire. However, the following battles at St. Charles and St. Eustache were losses for the patriotes after John Colborne (later named Lord Seaton) leading the British understood what they were dealing with and employed a trained force against the small militia force. Particularly brutally at St. Eustache, the British pushed back the Partiote forces into a church and burned the church with the Patriotes still inside. They also burned a 15-mile wide radius around St. Eustache along with multiple towns to send a message about rebellion. The leaders of these small rebellions fled to the United States, finding American allies and launched border raids to attempt to fight for democracy. Those contributing to the border raids called themselves the Societe des Freres Chausseurs. When attempting to collect weapons from the Oka Mohawk community, they were captured by the Mohawk and turned into the British. By December, this rebellion had mostly been quelled. \n",
    "\n",
    "William Lyon Mackenzie in Upper Canada faced a different kind of rebellion. He had been an outspoken critic of the Family Compact in his newspaper, “The Colonial Advocate,” and, when in power for his party, he compiled a list of grievances from those in the colony about what issues people had with the current government. He had appeared to be a particularly good representative for Canada in comparison to Francis Bond-Head, who had been assigned the Governor of Upper Canada who openly confessed to not knowing Canada well while actively supporting the Family Compact. After the rebellion had begun in Lower Canada, Mackenzie gathered people to overtake the government at Montgomery’s Tavern. After the meeting, the rebels marched down Yonge Street in Toronto. There was a confrontation between two opposing groups of regular people from which both groups fled. Later, Bond-Head lead a group of volunteers to burn down the tavern where the rebels met. Interestingly, Sir John A. MacDonald was a part of this group. \n",
    "\n",
    "Following this, Mackenzie escaped to the United States and organized within hunters lodges. These were secret societies to support a republic within Canada. He was aided by various American sympathizers in December of 1837. When participating in border raids, an American was killed by a Canadian and as a result, the American government began prohibiting border raids and cracking down on hunters lodges. Overall, more men died in these border raids against the government than did in the initial rebellions, and afterwards, many men were hanged or banished.\n",
    "\n",
    "Following both rebellions, Papineau and Mackenzie were both pardoned, returned to Canada, and were re-elected.\n"
   ]
  },
  {
   "cell_type": "code",
   "execution_count": null,
   "metadata": {},
   "outputs": [],
   "source": []
  }
 ],
 "metadata": {
  "kernelspec": {
   "display_name": "Python 3",
   "language": "python",
   "name": "python3"
  },
  "language_info": {
   "codemirror_mode": {
    "name": "ipython",
    "version": 3
   },
   "file_extension": ".py",
   "mimetype": "text/x-python",
   "name": "python",
   "nbconvert_exporter": "python",
   "pygments_lexer": "ipython3",
   "version": "3.6.8"
  }
 },
 "nbformat": 4,
 "nbformat_minor": 2
}
