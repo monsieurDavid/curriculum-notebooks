{
 "cells": [
  {
   "cell_type": "markdown",
   "metadata": {},
   "source": [
    "[![logo](https://callysto.ca/wp-content/uploads/2018/06/Callysto_Notebook-Banner_Top_06.06.18.jpg)](https://callysto.ca)"
   ]
  },
  {
   "cell_type": "code",
   "execution_count": 22,
   "metadata": {},
   "outputs": [
    {
     "data": {
      "text/html": [
       "\n",
       "<script>\n",
       "  function code_toggle() {\n",
       "    if (code_shown){\n",
       "      $('div.input').hide('500');\n",
       "      $('#toggleButton').val('Show Code')\n",
       "    } else {\n",
       "      $('div.input').show('500');\n",
       "      $('#toggleButton').val('Hide Code')\n",
       "    }\n",
       "    code_shown = !code_shown\n",
       "  }\n",
       "\n",
       "  $( document ).ready(function(){\n",
       "    code_shown=false;\n",
       "    $('div.input').hide()\n",
       "  });\n",
       "</script>\n",
       "<form action=\"javascript:code_toggle()\"><input type=\"submit\" id=\"toggleButton\" value=\"Show Code\"></form>\n"
      ],
      "text/plain": [
       "<IPython.core.display.HTML object>"
      ]
     },
     "metadata": {},
     "output_type": "display_data"
    }
   ],
   "source": [
    "%%html\n",
    "\n",
    "<script>\n",
    "  function code_toggle() {\n",
    "    if (code_shown){\n",
    "      $('div.input').hide('500');\n",
    "      $('#toggleButton').val('Show Code')\n",
    "    } else {\n",
    "      $('div.input').show('500');\n",
    "      $('#toggleButton').val('Hide Code')\n",
    "    }\n",
    "    code_shown = !code_shown\n",
    "  }\n",
    "\n",
    "  $( document ).ready(function(){\n",
    "    code_shown=false;\n",
    "    $('div.input').hide()\n",
    "  });\n",
    "</script>\n",
    "<form action=\"javascript:code_toggle()\"><input type=\"submit\" id=\"toggleButton\" value=\"Show Code\"></form>"
   ]
  },
  {
   "cell_type": "markdown",
   "metadata": {},
   "source": [
    "<h1 style=\"font-size: 30px; margin-bottom: 50px; text-align: center;\">The Split From America</h1>\n",
    "\n",
    "This two-year war occured just shy of 30 years after the American Revolution and was a successful defensive war of a small Canadian force against large scale American aggression. Though the war had hardly any resource or territorial victory attached to it, it is one of the most important formative events of Canadian Confederation, where many disparate groups within Canada, such as the Upper Canadians - loyalists and late loyalists (Americans that moved to Canada years after the revolution), immigrants, Quebecois, maritimers, and First nations came together to fight against our southern neighbours. At least, that is how it is often remembered in Canada. In America, when it is remembered at all, it is also remembered as a small force against a larger aggressor - the latter being Britain. Americans began the war as the British had blockaded French ports while fighting Napoleon, denying Americans the opportunity to trade its vast resources and improve its economy. Britain also impressed (stole), many American sailors into the Royal Navy by taking them from their ship and not allowing them to return as Britain felt it was owed for defending the Americans a mere ten years before the revolution. \n",
    "\n",
    "While these problems with Britain from America’s perspective did not have much to do with Canada, the Americans were also convinced that the British in Canada were persuading the First Nations of the Ohio river valley (Indian Territory) to attack American settlements and frontiersmen on the western frontier in an attempt to restrain Americans without direct control.\n",
    "\n",
    "Canada had much success at the outbreak of the war, and much of this success is accredited to Isaac Brock (1770-1812). He built up the fortifications in Upper Canada, reorganized the militia and maintained good relations with the First Nations. When the war broke out, instead of hiding within Canadian fortifications, he took the offensive leading a small counter-attack of 200 soldiers, a few militia forces, and native warriors against troops that were marching north from Detroit under the control of General Hull. This counter-offensive defeated Hull and Brock led his troops to continue forth and attack Detroit, causing Hull to surrender Detroit to the Canadians. This was mostly done through subterfuge as Brock wrote a letter, gave it to a messenger and arranged it so that the messenger would be captured with the letter. The letter was addressed to the Canadian government, filled with Brock’s “worries” about being able to control the bloodthirsty natives and prevent them from razing Detroit. By surrendering Detroit, Hull was trying to prevent its complete destruction by the natives. \n",
    "\n",
    "<img src=\"./imgs/upperlowercan1820.jpg\" width=\"400px\" height=\"500px\">\n",
    "\n",
    "The First Nations during this war were not merely a force to be organized by General Brock, however. Chief Tecumseh, a Shawnee chief that became the leader of a Pan-Native Confederation (1807-1813) to fight against American encroachment and set up an officially recognized territory for his people, was very influential in leading his troops. During the war, he served as a diplomat between the natives and the white men, becoming the first native to serve at the rank of Brigadier General. He had already been fighting American encroachment for years prior to the war and had allowed the British to ally with them as they could help to prevent American encroachment. \n",
    "\n",
    "The momentous success of the early war began to falter after General Brock died at the Battle of Queenston Heights in 1812. The Canadian forces won this battle and managed to retain this territory and to fend off American invaders; however, the Canadians never had the kind of upper hand that they had before. The second in command did not have as close of a tie with the First Nations as Brock did, and each group was not able to coordinate with each other as easily. This battle was followed quickly by Tecumseh’s death in Moraviantown in 1813 when the British had lost. Consequently, the alliance between these two groups was further weakened. \n",
    "\n",
    "During this time, the Americans took Fort Erie and Lake Ontario, burning Canada’s capital as well as Niagratown. The retaliation to this is what most in Canada remember about the War of 1812 - where Canada snuck into America and burned the White House down. After this, there were a decent amount of smaller skirmishes - some of which Canada would win, some of which America would win until Crysler's Farm on the north shore of Lake Ontario where the tides turned against the Americans. This was considered a unifying event, where each group in Canada fought against a common enemy. This feeling was bolstered when America was further delayed in their attacks at Lundy’s Lane. Once 1814 came to be, both sides were war-weary and the Napoleonic War had come to an end so the initial problems the Americans had with the British had subsided, and thus a peace was achieved through the Treaty of Ghent where terms were returned to what they were before the war.\n",
    "\n",
    "The War of 1812 was more important culturally and psychologically than in any other way for Canada. Canadians felt like underdogs, fighting and winning against a larger aggressor from the south. Those defending their land, especially those who had recently emigrated, begun to feel more Canadian and they came together with those around them and fought as a collective. It also helped to rest suspicions around late loyalists and their loyalty to the British Crown as they also fought against American aggression. \n",
    "\n",
    "This war also made governmental institutions reject American influences such as liberalism/democracy, strengthening the control of British elites over government as liberalism/democracy/republicanism became associated with the violence of America; thus the British were able to consolidate more power in Canada and create a more British society.\n"
   ]
  },
  {
   "cell_type": "code",
   "execution_count": 23,
   "metadata": {},
   "outputs": [
    {
     "data": {
      "text/html": [
       "\n",
       "<style>\n",
       "    .question-container {\n",
       "        margin-top: 15px;\n",
       "    }\n",
       "    \n",
       "    input[type=\"radio\"] {\n",
       "        margin-top: 10px;\n",
       "    }\n",
       "</style>\n",
       "\n",
       "<h2>Exercises</h2>\n",
       "<p>In what ways was this war viewed as a victory for both Canada and America?</p>\n",
       "<div class=\"question-container\">\n",
       "    <input type=\"radio\" name=\"war-view\" value=\"A\"> A. For both Canada and America, it was a victory culturally and psychologically as both felt that they had fended off a larger aggressor.<br>\n",
       "    <input type=\"radio\" name=\"war-view\" value=\"B\"> B. For both Canada and America, it was a victory that strengthened a feeling of independency from British rule. <br>\n",
       "    <input type=\"radio\" name=\"war-view\" value=\"C\"> C. Both A and B<br>\n",
       "    <input type=\"radio\" name=\"war-view\" value=\"D\"> D. None of the above. We burned the White House down, we won.<br>\n",
       "</div>\n"
      ],
      "text/plain": [
       "<IPython.core.display.HTML object>"
      ]
     },
     "metadata": {},
     "output_type": "display_data"
    }
   ],
   "source": [
    "%%html\n",
    "\n",
    "<style>\n",
    "    .question-container {\n",
    "        margin-top: 15px;\n",
    "    }\n",
    "    \n",
    "    input[type=\"radio\"] {\n",
    "        margin-top: 10px;\n",
    "    }\n",
    "</style>\n",
    "\n",
    "<h2>Exercises</h2>\n",
    "<p>In what ways was this war viewed as a victory for both Canada and America?</p>\n",
    "<div class=\"question-container\">\n",
    "    <input type=\"radio\" name=\"war-view\" value=\"A\"> A. For both Canada and America, it was a victory culturally and psychologically as both felt that they had fended off a larger aggressor.<br>\n",
    "    <input type=\"radio\" name=\"war-view\" value=\"B\"> B. For both Canada and America, it was a victory that strengthened a feeling of independency from British rule. <br>\n",
    "    <input type=\"radio\" name=\"war-view\" value=\"C\"> C. Both A and B<br>\n",
    "    <input type=\"radio\" name=\"war-view\" value=\"D\"> D. None of the above. We burned the White House down, we won.<br>\n",
    "</div>"
   ]
  },
  {
   "cell_type": "markdown",
   "metadata": {},
   "source": [
    "## The Great Migration\n",
    "\n",
    "The British, after the War of 1812, having been able to strengthen this political power, wanted to also strengthen its power in terms of military and culture. It would be easier to control a population of mostly British people. Prior to this, the British living within Canada were mostly exiles from Britain who wanted a fresh start or immigrants from America, having brought with them some of the ideologies that the British did not desire within their colony - the British culture in Canada was fairly American. Prior to this migration, the population of Canada totalled around 500,000, with most of these being French or American. After 1850, the total population came to 2.4 million, with the number of British Canadians doubling that of the French. Most of these immigrants settled into Upper Canada - the British section of Canada that was located in what would now be considered Ontario, while a few expanded into Lower Canada. "
   ]
  },
  {
   "cell_type": "code",
   "execution_count": 24,
   "metadata": {},
   "outputs": [
    {
     "data": {
      "text/html": [
       "\n",
       "<style>\n",
       "    #great-migration-questions li {\n",
       "        margin-top: 10px;\n",
       "    }\n",
       "    \n",
       "    #gm-solutions {\n",
       "        margin-top: 30px;\n",
       "        display: none;\n",
       "    }\n",
       "    \n",
       "    #gm-solutions li {\n",
       "        margin-top: 10px;\n",
       "    }\n",
       "    \n",
       "    #show-gm-solutions-button {\n",
       "        margin-top: 20px;\n",
       "    }\n",
       "</style>\n",
       "\n",
       "<h2>Exercises</h2>\n",
       "<ol id=\"great-migration-questions\">\n",
       "    <li>How did this confirm the British identity of Canada?</li>\n",
       "    <li>What did this mean for the French of Lower Canada in terms representation and cultural power?</li>\n",
       "</ol>\n",
       "<input id=\"show-gm-solutions-button\" type=\"button\" value=\"Show Solutions\" onclick=\"displayGMSolutions()\">\n",
       "<div id=\"gm-solutions\">\n",
       "    <ol>\n",
       "        <li>The popoulation became more British.</li>\n",
       "        <li>There was less opportunity to influence the government to maintain French culture.</li>\n",
       "    </ol>\n",
       "</div>\n",
       "\n",
       "<script>\n",
       "    function displayGMSolutions() {\n",
       "        $(\"#gm-solutions\").show();\n",
       "    }\n",
       "</script>\n"
      ],
      "text/plain": [
       "<IPython.core.display.HTML object>"
      ]
     },
     "metadata": {},
     "output_type": "display_data"
    }
   ],
   "source": [
    "%%html\n",
    "\n",
    "<style>\n",
    "    #great-migration-questions li {\n",
    "        margin-top: 10px;\n",
    "    }\n",
    "    \n",
    "    #gm-solutions {\n",
    "        margin-top: 30px;\n",
    "        display: none;\n",
    "    }\n",
    "    \n",
    "    #gm-solutions li {\n",
    "        margin-top: 10px;\n",
    "    }\n",
    "    \n",
    "    #show-gm-solutions-button {\n",
    "        margin-top: 20px;\n",
    "    }\n",
    "</style>\n",
    "\n",
    "<h2>Exercises</h2>\n",
    "<ol id=\"great-migration-questions\">\n",
    "    <li>How did this confirm the British identity of Canada?</li>\n",
    "    <li>What did this mean for the French of Lower Canada in terms representation and cultural power?</li>\n",
    "</ol>\n",
    "<input id=\"show-gm-solutions-button\" type=\"button\" value=\"Show Solutions\" onclick=\"displayGMSolutions()\">\n",
    "<div id=\"gm-solutions\">\n",
    "    <ol>\n",
    "        <li>The popoulation became more British.</li>\n",
    "        <li>There was less opportunity to influence the government to maintain French culture.</li>\n",
    "    </ol>\n",
    "</div>\n",
    "\n",
    "<script>\n",
    "    function displayGMSolutions() {\n",
    "        $(\"#gm-solutions\").show();\n",
    "    }\n",
    "</script>"
   ]
  },
  {
   "cell_type": "markdown",
   "metadata": {},
   "source": [
    "[![logo](https://callysto.ca/wp-content/uploads/2018/07/Callysto-Notebook-Banner_Bottom_07.30.18.jpg)](https://callysto.ca/)"
   ]
  }
 ],
 "metadata": {
  "kernelspec": {
   "display_name": "Python 3",
   "language": "python",
   "name": "python3"
  },
  "language_info": {
   "codemirror_mode": {
    "name": "ipython",
    "version": 3
   },
   "file_extension": ".py",
   "mimetype": "text/x-python",
   "name": "python",
   "nbconvert_exporter": "python",
   "pygments_lexer": "ipython3",
   "version": "3.6.8"
  }
 },
 "nbformat": 4,
 "nbformat_minor": 2
}
