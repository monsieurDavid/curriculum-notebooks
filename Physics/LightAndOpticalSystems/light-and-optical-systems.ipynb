{
 "cells": [
  {
   "cell_type": "markdown",
   "metadata": {},
   "source": [
    "<img src='images/callysto-top-banner.jpg'>"
   ]
  },
  {
   "cell_type": "code",
   "execution_count": 1,
   "metadata": {},
   "outputs": [],
   "source": [
    "%%capture \n",
    "# These commands ensure that the proper packages are installed.\n",
    "!pip install --user trimesh\n",
    "!pip install --user pythreejs\n",
    "!jupyter nbextension install --py --symlink --user pythreejs\n",
    "!jupyter nbextension enable --py --user pythreejs"
   ]
  },
  {
   "cell_type": "code",
   "execution_count": 2,
   "metadata": {},
   "outputs": [
    {
     "data": {
      "text/html": [
       "<script>\n",
       "code_show=true; \n",
       "function code_toggle() {\n",
       " if (code_show){\n",
       " $('div.input').hide();\n",
       " } else {\n",
       " $('div.input').show();\n",
       " }\n",
       " code_show = !code_show\n",
       "} \n",
       "$( document ).ready(code_toggle);\n",
       "</script>\n",
       "The raw code for this Jupyter notebook is by default hidden for easier reading.\n",
       "To toggle on/off the raw code, click <a href=\"javascript:code_toggle()\">here</a>."
      ],
      "text/plain": [
       "<IPython.core.display.HTML object>"
      ]
     },
     "execution_count": 2,
     "metadata": {},
     "output_type": "execute_result"
    }
   ],
   "source": [
    "import numpy as np\n",
    "import trimesh\n",
    "from pythreejs import *\n",
    "import ipywidgets as widgets\n",
    "from IPython.display import display, Math, Latex, clear_output, HTML\n",
    "\n",
    "HTML('''<script>\n",
    "code_show=true; \n",
    "function code_toggle() {\n",
    " if (code_show){\n",
    " $('div.input').hide();\n",
    " } else {\n",
    " $('div.input').show();\n",
    " }\n",
    " code_show = !code_show\n",
    "} \n",
    "$( document ).ready(code_toggle);\n",
    "</script>\n",
    "The raw code for this Jupyter notebook is by default hidden for easier reading.\n",
    "To toggle on/off the raw code, click <a href=\"javascript:code_toggle()\">here</a>.''')"
   ]
  },
  {
   "cell_type": "code",
   "execution_count": 3,
   "metadata": {
    "scrolled": true
   },
   "outputs": [
    {
     "data": {
      "text/html": [
       "\n",
       "<div>\n",
       "    <img src=\"images/iris.jpg\" width=\"720px\" style=\"margin-left:auto; margin-right:auto\">\n",
       "    <div style=\"position: absolute; top: 8%; left: 25%; color: #ccf2ff; font-size: 24pt; text-align: center; text-shadow: 2px 2px 4px #000000; padding: 20px; background-color: rgb(0,0,0,0.5); border-radius: 10px;\">\n",
       "        The Science of Image Formation and Vision\n",
       "    </div>\n",
       "</div>"
      ],
      "text/plain": [
       "<IPython.core.display.HTML object>"
      ]
     },
     "metadata": {},
     "output_type": "display_data"
    }
   ],
   "source": [
    "%%html\n",
    "\n",
    "<div>\n",
    "    <img src=\"images/iris.jpg\" width=\"720px\" style=\"margin-left:auto; margin-right:auto\">\n",
    "    <div style=\"position: absolute; top: 8%; left: 25%; color: #ccf2ff; font-size: 24pt; text-align: center; text-shadow: 2px 2px 4px #000000; padding: 20px; background-color: rgb(0,0,0,0.5); border-radius: 10px;\">\n",
    "        The Science of Image Formation and Vision\n",
    "    </div>\n",
    "</div>"
   ]
  },
  {
   "cell_type": "code",
   "execution_count": 4,
   "metadata": {},
   "outputs": [
    {
     "data": {
      "text/html": [
       "\n",
       "<script src=\"https://cdn.geogebra.org/apps/deployggb.js\"></script>"
      ],
      "text/plain": [
       "<IPython.core.display.HTML object>"
      ]
     },
     "metadata": {},
     "output_type": "display_data"
    }
   ],
   "source": [
    "%%html\n",
    "\n",
    "<script src=\"https://cdn.geogebra.org/apps/deployggb.js\"></script>"
   ]
  },
  {
   "cell_type": "markdown",
   "metadata": {},
   "source": [
    "# Introduction\n",
    "\n",
    "Our eyes help us to interact with the world around us. Have you ever wondered how they work? How does light bounce off of things and then make images in our brains? What about other animals? Do they see things the same way we do? \n",
    "\n",
    "This notebook will answer these questions and more. We'll look at how a lens works and how lenses can be used to make powerful scientific tools. We'll also explore how the human eye works and compare it to the eyes of a few different animals."
   ]
  },
  {
   "cell_type": "markdown",
   "metadata": {},
   "source": [
    "# Background\n",
    "\n",
    "## Real Images\n",
    "\n",
    "To start our exploration of the human eye, let's first look at something called a **double convex lens**. Using a double convex lens, a **real image** can be formed.\n",
    "\n",
    "In the diagram below, we'll take a look at a double convex lens. The tall, black line on the left represents an object. You can think of an object as a person, a tree, or anything else that might reflect light rays. You can drag the object along the horizontal axis to see what happens on the other side of the lens. Before we get to more explanation, play around with the diagram!"
   ]
  },
  {
   "cell_type": "code",
   "execution_count": 5,
   "metadata": {},
   "outputs": [
    {
     "data": {
      "text/html": [
       "\n",
       "<div id=\"ggb-convex-lens\"/>\n",
       "\n",
       "<script>\n",
       "  var ggbApp = new GGBApplet({\n",
       "      \"height\": 640,\n",
       "      \"showToolBar\": false,\n",
       "      \"showMenuBar\": false,\n",
       "      \"showAlgebraInput\": false,\n",
       "      \"showResetIcon\": true,\n",
       "      \"enableLabelDrags\": false,\n",
       "      \"enableRightClick\": false,\n",
       "      \"enableShiftDragZoom\": true,\n",
       "      \"useBrowserForJS\": false,\n",
       "      \"filename\": \"scripts/convex_lens.ggb\"\n",
       "  }, 'ggb-convex-lens');\n",
       "\n",
       "  ggbApp.inject();\n",
       "</script>\n",
       "<p style='text-align: center'>Geogebra project adapted from user <i>Magdalena</i>.</p>"
      ],
      "text/plain": [
       "<IPython.core.display.HTML object>"
      ]
     },
     "metadata": {},
     "output_type": "display_data"
    }
   ],
   "source": [
    "%%html\n",
    "\n",
    "<div id=\"ggb-convex-lens\"/>\n",
    "\n",
    "<script>\n",
    "  var ggbApp = new GGBApplet({\n",
    "      \"height\": 640,\n",
    "      \"showToolBar\": false,\n",
    "      \"showMenuBar\": false,\n",
    "      \"showAlgebraInput\": false,\n",
    "      \"showResetIcon\": true,\n",
    "      \"enableLabelDrags\": false,\n",
    "      \"enableRightClick\": false,\n",
    "      \"enableShiftDragZoom\": true,\n",
    "      \"useBrowserForJS\": false,\n",
    "      \"filename\": \"scripts/convex_lens.ggb\"\n",
    "  }, 'ggb-convex-lens');\n",
    "\n",
    "  ggbApp.inject();\n",
    "</script>\n",
    "<p style='text-align: center'>Geogebra project adapted from user <i>Magdalena</i>.</p>"
   ]
  },
  {
   "cell_type": "markdown",
   "metadata": {},
   "source": [
    "In the diagram above, the yellow lines represent light rays. An object reflects light rays in lots of different directions. Some of the light is reflected towards the convex lens. When the light rays pass through the convex lens, they change direction. You can see how the light rays come together on the right side of the lens. This is the point where the *real image* is formed. It is called the **focal point**. Because of the way the lens changes the direction of the light rays, the *real image* on the right side of the lens is upside down. \n",
    "\n",
    "Let's try to understand this more completely, because the diagram only shows three light rays coming away from the object. In real life, there would be millions more (infinitely more, in fact) light rays coming off of the object. Let's say that the object was a car. All of the light rays that reflected off of the car's wheel would pass through the lens, get flipped upside down, and form a *real image* of the wheel on the other side of the lens. The same thing would happen to all parts of the car. \n",
    "\n",
    "It may seem strange that the real image gets flipped upside down. What's even more bizarre is that our eyes have a double convex lens, and that the images our brain receives are upside down! We'll talk more about this in the section on [Exploring the Human Eye](#human_eye).\n",
    "\n",
    "### Questions\n",
    "<ol>\n",
    "    <li> What happens to the real image when the lens is farther from the object? </li>\n",
    "    <li> What happens to the real image when the lens is close to the object? </li>\n",
    "    <li> Try moving the focal length (the point labeled F) to the other side of the lens. Is the real image upside down anymore? </li>\n",
    "</ol>"
   ]
  },
  {
   "cell_type": "markdown",
   "metadata": {},
   "source": [
    "## How does a microscope work?\n"
   ]
  },
  {
   "cell_type": "code",
   "execution_count": 6,
   "metadata": {},
   "outputs": [],
   "source": [
    "# Microscope interactive cross-section."
   ]
  },
  {
   "cell_type": "markdown",
   "metadata": {},
   "source": [
    "Describe telescopes in general terms. Use telescope videos if possible."
   ]
  },
  {
   "cell_type": "markdown",
   "metadata": {},
   "source": [
    "## How Do Telescopes Work?\n",
    "\n",
    "A telescope uses a combination of many lenses to make far away objects appear bigger. There are two main types of telescopes: *reflector* and *refractor*. Check out the next video to see how these two types of telescopes work."
   ]
  },
  {
   "cell_type": "code",
   "execution_count": 7,
   "metadata": {},
   "outputs": [
    {
     "data": {
      "text/html": [
       "<iframe width=\"672\" height=\"378\" src=\"https://www.youtube.com/embed/5v7bN13PjZ8?rel=0\" frameborder=\"0\" allow=\"autoplay; encrypted-media\" allowfullscreen></iframe>"
      ],
      "text/plain": [
       "<IPython.core.display.HTML object>"
      ]
     },
     "execution_count": 7,
     "metadata": {},
     "output_type": "execute_result"
    }
   ],
   "source": [
    "HTML('<iframe width=\"672\" height=\"378\" src=\"https://www.youtube.com/embed/5v7bN13PjZ8?rel=0\" frameborder=\"0\" allow=\"autoplay; encrypted-media\" allowfullscreen></iframe>')"
   ]
  },
  {
   "cell_type": "markdown",
   "metadata": {},
   "source": [
    "<a id='human_eye'></a>\n",
    "## Exploring the Human Eye\n",
    "\n",
    "Our eyes use real images formed by double convex lenses to see the world around us. Real images are formed in our eyes when light first passes through a transparent (see-through) layer called the *cornea*. This layer bends the light a little, but not very much. Next, the light passes through the *lens*, which bends the light rays far more than the cornea. The lens focuses light rays onto a layer of light receptor cells at the back of the eyeball called the *retina*. The retina converts the light energy into electrical signals which get sent down the *optic nerve* into the brain.\n",
    "\n",
    "When we look at another person's eye, we see the colour of their eyes. The colored part is a muscle called the *iris*. A black circle in the middle of the iris is actually the hole that lets light through. This hole is called the *pupil*. When there is lots of light (like on a bright, sunny day), the iris **contracts**. This makes the pupil smaller so less light gets through. When there is not much light (like at night), the iris **dilates**. This makes the pupil get bigger so more light gets through. The iris is very important, since too much light getting through when it is very bright can damage your eyes.\n",
    "\n",
    "Let's take a look at the human eye in 3D."
   ]
  },
  {
   "cell_type": "markdown",
   "metadata": {},
   "source": [
    "*If there is no display here, try running the cell just below this one again.*"
   ]
  },
  {
   "cell_type": "code",
   "execution_count": 13,
   "metadata": {},
   "outputs": [
    {
     "data": {
      "application/vnd.jupyter.widget-view+json": {
       "model_id": "397059e5601d43b28aaf48be8a7f9b89",
       "version_major": 2,
       "version_minor": 0
      },
      "text/plain": [
       "HBox(children=(VBox(children=(HTML(value=\"<h2 style='text-align: center'>Select a part of the eye to find out …"
      ]
     },
     "metadata": {},
     "output_type": "display_data"
    }
   ],
   "source": [
    "# Hide this\n",
    "\n",
    "# load a 3D object file by name\n",
    "mesh = trimesh.load('eyeball.stl')\n",
    "mesh1 = trimesh.load('eyeball.obj')\n",
    "\n",
    "meshes = mesh.split()\n",
    "\n",
    "# Select the part of the mesh that corresponds to each part of the eye.\n",
    "blindspot = mesh1[0]\n",
    "ciliary = mesh1[1]\n",
    "cornea = mesh1[2]\n",
    "retina = mesh1[3]\n",
    "lens = mesh1[4]\n",
    "iris = mesh1[5]\n",
    "sclera = mesh1[6]\n",
    "\n",
    "# I'm using meshes[3] for the lens because .stl gives way better resolution than .obj\n",
    "lens = meshes[3]\n",
    "\n",
    "def makeMesh(part):\n",
    "    \"\"\"\n",
    "        This function takes in an eyeball part and returns a Mesh that can\n",
    "        be added to a pythree.js scene.\n",
    "    \"\"\"\n",
    "    partGeometry = Geometry(vertices = np.asarray(part.vertices).tolist(),\n",
    "                            faces = np.asarray(part.faces).tolist())\n",
    "    \n",
    "    partGeometry.exec_three_obj_method('computeFaceNormals')\n",
    "    \n",
    "    partMesh = Mesh(geometry = partGeometry,\n",
    "                    material = MeshLambertMaterial(transparent=True,opacity=1),\n",
    "                    position = [-0.5, -0.5, -0.5])\n",
    "    \n",
    "    return partMesh\n",
    "\n",
    "parts = [blindspot, ciliary, cornea, retina, lens, iris, sclera]\n",
    "eyeball = [makeMesh(p) for p in parts]\n",
    "\n",
    "def lcTrans():\n",
    "    \"\"\" This function makes the cornea and the lens transparent. \"\"\"\n",
    "    eyeball[2].material = MeshLambertMaterial(color='#66e0ff',transparent=True,opacity=0.5)\n",
    "    eyeball[4].material = MeshLambertMaterial(color='#bf00ff',transparent=True,opacity=0.5)\n",
    "    return None\n",
    "\n",
    "lcTrans()\n",
    "\n",
    "N = len(eyeball)\n",
    "\n",
    "# Set up the scene.\n",
    "key_light = DirectionalLight(position=[60, 60, 30])\n",
    "camera = PerspectiveCamera(position=[0, 0, 120], up=[0, 1, 0], )\n",
    "controller = OrbitControls(controlling=camera)\n",
    "\n",
    "scene = Scene(children=[eyeball[0], camera, key_light, AmbientLight(color='#ffffff', intensity=0.25)], background=None)\n",
    "\n",
    "# The renderer is what contains all members of the scene. Displaying this displays the scene.\n",
    "renderer = Renderer(camera=camera, width = 540, height = 540,\n",
    "                        scene=scene, controls=[controller],\n",
    "                        alpha=True, clearOpacity=0)\n",
    "\n",
    "blindspot_info = \"The optic nerve carries electrical signals from the retina to the brain. \" \\\n",
    "                +\"At the place where the optic nerve meets the back of the retina, there are no light receptor cells. \" \\\n",
    "                +\"This means that we can't see any real images that are formed here, therefore it is called \" \\\n",
    "                +\"the blind spot. You can find your own blind spot in the next activity!\"\n",
    "\n",
    "ciliary_info = \"These muscles help to shape the lens so that we can see objects both close up and far away. \"\\\n",
    "            +  \"The process of changing the shape of the lens is called <b>accomodation</b>.\"\n",
    "\n",
    "cornea_info = \"This transparent covering protects the inside of the eye from outside damage. \" \\\n",
    "            + \"It also focuses light rays, but not as much as the lens.\"\n",
    "    \n",
    "retina_info = \"Light focuses on the retina to create a real image. Special cells in the retina convert \" \\\n",
    "            + \"the light energy to electrical signals that get sent through the optic nerve to the brain. \" \\\n",
    "            + \"At the center of the retina is the fovea. This area contains more special cells than the rest \" \\\n",
    "            + \"of the retina, and so light focused on the fovea gives the clearest vision.\"\n",
    "\n",
    "lens_info = \"The lens is double convex. As light rays pass through the cornea, they are bent by the lens \" \\\n",
    "            + \"and focused on the retina.\"\n",
    "\n",
    "iris_info = \"This is the colored part of the eye. The hole in the middle of the iris is called the <b>pupil</b>. \" \\\n",
    "          + \"The iris controls the size of the pupil to make sure the right amount of light is getting through to the \" \\\n",
    "          + \"retina.\"\n",
    "\n",
    "sclera_info = \"This is the white sheath that covers most of the outside of the eye. It is covered by the \" \\\n",
    "            + \"<b>conjuctiva</b>, a layer of mucus that lubricates the eye, keeping eye movements smooth. \" \\\n",
    "            + \"The sclera also keeps the eye together.\"\n",
    "\n",
    "all_info = \"The human eye is a fascinating machine! All of its parts work together to help us see the world around us.\"\n",
    "\n",
    "# Create the buttons for controlling which part of the eye gets highlighted.\n",
    "eye_buttons = [widgets.Button(description = 'Blind spot/optic nerve'),\n",
    "               widgets.Button(description = 'Ciliary muscles'),\n",
    "               widgets.Button(description = 'Cornea'),\n",
    "               widgets.Button(description = 'Retina'),\n",
    "               widgets.Button(description = 'Lens'),\n",
    "               widgets.Button(description = 'Iris'),\n",
    "               widgets.Button(description = 'Sclera'),\n",
    "               widgets.Button(description = 'Show all'),\n",
    "               widgets.Button(description = 'Reset all', button_style='danger')\n",
    "              ]\n",
    "\n",
    "eye_info = {'blindspot': blindspot_info,\n",
    "            'ciliary': ciliary_info,\n",
    "            'cornea': cornea_info,\n",
    "            'retina': retina_info,\n",
    "            'lens': lens_info,\n",
    "            'iris': iris_info,\n",
    "            'sclera': sclera_info,\n",
    "            'all': all_info,\n",
    "            'reset': ''\n",
    "           }\n",
    "\n",
    "# Selector function for displaying information about the parts of the eye.\n",
    "def disp_info(part):\n",
    "    info_box.value = eye_info[part]\n",
    "\n",
    "def makeGray(i):\n",
    "    \"\"\" Make all but the ith part of the eyeball gray. \"\"\"\n",
    "    for j in range(N):\n",
    "        if j != i:\n",
    "            eyeball[j].material = MeshLambertMaterial(color='#777777',transparent=True,opacity=0.3)\n",
    "    return None\n",
    "\n",
    "# I need a better way to do this, using i and the color as parameters for a single function.\n",
    "# The buttons are really touchy about passing values to functions, though.\n",
    "def showBlindSpot(b):\n",
    "    disp_info('blindspot')\n",
    "    eyeball[0].material = MeshLambertMaterial(color='#cc0000')\n",
    "    makeGray(0); return None\n",
    "            \n",
    "def showCiliary(b):\n",
    "    disp_info('ciliary')\n",
    "    eyeball[1].material = MeshLambertMaterial(color='#ff3300')\n",
    "    makeGray(1); return None\n",
    "    \n",
    "def showCornea(b):\n",
    "    disp_info('cornea')\n",
    "    eyeball[2].material = MeshLambertMaterial(color='#66e0ff',transparent=True,opacity=0.5)\n",
    "    makeGray(2); return None\n",
    "\n",
    "# TODO: map texture onto retina\n",
    "def showRetina(b):\n",
    "    disp_info('retina')\n",
    "    eyeball[3].material = MeshLambertMaterial(color='#ff0000')\n",
    "    makeGray(3); return None\n",
    "    \n",
    "def showLens(b):\n",
    "    disp_info('lens')\n",
    "    eyeball[4].material = MeshLambertMaterial(color='#bf00ff',transparent=True,opacity=0.5)\n",
    "    makeGray(4); return None\n",
    "\n",
    "# TODO: map texture onto iris\n",
    "def showIris(b):\n",
    "    disp_info('iris')\n",
    "    eyeball[5].material = MeshLambertMaterial(color='#3333ff')\n",
    "    makeGray(5); return None\n",
    "    \n",
    "def showSclera(b):\n",
    "    disp_info('sclera')\n",
    "    eyeball[6].material = MeshLambertMaterial(color='#ffffff')\n",
    "    makeGray(6); return None\n",
    "\n",
    "def showAll(b):\n",
    "    disp_info('all')\n",
    "    # Color the parts of the eyeball.\n",
    "    colors = ['#cc0000', '#ff3300', '#66e0ff', '#ff0000', '#bf00ff', '#3333ff', '#ffffff']\n",
    "    for i in range(N):\n",
    "        eyeball[i].material = MeshLambertMaterial(color=colors[i])\n",
    "    lcTrans(); return None\n",
    "    \n",
    "def resetAll(b):\n",
    "    disp_info('reset')\n",
    "    \n",
    "    # Reset the camera view.\n",
    "    controller.exec_three_obj_method('reset')\n",
    "    makeGray(N+1); return None\n",
    "\n",
    "# Control statements for each button.\n",
    "eye_buttons[0].on_click(showBlindSpot)\n",
    "eye_buttons[1].on_click(showCiliary)\n",
    "eye_buttons[2].on_click(showCornea)\n",
    "eye_buttons[3].on_click(showRetina)\n",
    "eye_buttons[4].on_click(showLens)\n",
    "eye_buttons[5].on_click(showIris)\n",
    "eye_buttons[6].on_click(showSclera)\n",
    "eye_buttons[7].on_click(showAll)\n",
    "eye_buttons[8].on_click(resetAll)\n",
    "\n",
    "# For some reason it won't let me add the entire eyeball to the scene, so I add it one part at a time.\n",
    "scene.children += tuple([eyeball[i] for i in range(1,len(eyeball))])\n",
    "\n",
    "instruction_text = widgets.HTML(\"<h2 style='text-align: center'>Select a part of the eye to find out what it does.<br><br>Click and drag your mouse to move the eye around, or scroll to zoom in and out.</h2>\", \n",
    "                                layout = widgets.Layout(width='550px', align_content='center'))\n",
    "\n",
    "control_buttons = widgets.VBox(children=eye_buttons,\n",
    "                               layout = widgets.Layout(width='200px'))\n",
    "\n",
    "button_layout = widgets.Layout(flex_direction = 'column',\n",
    "                              align_items = 'stretch',\n",
    "                              height = '100%')\n",
    "\n",
    "# Start the display with all parts gray.\n",
    "makeGray(N+1)\n",
    "info_box = widgets.HTML(layout = widgets.Layout(width='200px'))\n",
    "info_text = ''\n",
    "\n",
    "info_box.value = info_text\n",
    "\n",
    "# Display the instructions, renderer, control buttons, and information text.\n",
    "display(widgets.HBox(children=[widgets.VBox(children=[instruction_text,renderer]),\n",
    "                               widgets.VBox([control_buttons,info_box])]))"
   ]
  },
  {
   "cell_type": "markdown",
   "metadata": {},
   "source": [
    "## Vision Problems\n",
    "\n",
    "Not every person's vision is the same. Some people can't see far away things, and some people can't see things close up. These conditions are called **myopia** (near-sightedness) and **hyperopia** (far-sightedness). These conditions are the result of the cornea and lens not properly focusing light rays on the retina, usually because the eye is either too short (myopia) or too long (hyperopia).\n",
    "\n",
    "In myopia, light rays are focused before they reach the retina. In hyperopia, light is focused at a point past the retina.\n",
    "\n",
    "## Corrective Lenses\n",
    "\n",
    "Myopia is corrected with **concave** lenses. Remember, a *convex* lens curves outwards. A *concave* lens curves inwards. Glasses or contact lenses made using concave lenses help to focus light rays further than the lens in the eye. Therefore, light rays are properly focused on the retina.\n",
    "\n",
    "Hyperopia is corrected with convex lenses. Glasses and contact lenses made with convex lenses help to focus light closer than the lens in the eye, so that light can be focused onto the retina.\n",
    "\n",
    "<div id =\"vision_problems\">\n",
    "<table>\n",
    "  <tr>\n",
    "      <td><h3>Myopia and a Corrective Concave Lens</h3></td>\n",
    "      <td><h3>Hyperopia and a Corrective Convex Lens</h3></td>\n",
    "  </tr>\n",
    "  <tr>\n",
    "    <td><img src='https://upload.wikimedia.org/wikipedia/commons/e/e0/Myopia_and_lens_correction.svg'></td>\n",
    "    <td><img src='https://upload.wikimedia.org/wikipedia/commons/a/a7/Hypermetropia_color.svg'></td>\n",
    "  </tr>\n",
    "  <tr>\n",
    "      <td> By Gumenyuk I.S. [<a href=\"https://creativecommons.org/licenses/by-sa/4.0\">CC BY-SA 4.0 </a>], <a href=\"https://commons.wikimedia.org/wiki/File:Myopia_and_lens_correction.svg\">from Wikimedia Commons</a>  </td>\n",
    "      <td> By Гуменюк И.С. [<a href=\"https://creativecommons.org/licenses/by-sa/4.0\">CC BY-SA 4.0 </a>], <a href=\"https://commons.wikimedia.org/wiki/File:Hypermetropia_color.svg\">from Wikimedia Commons</a> </td>\n",
    "  </tr>\n",
    "</table>\n",
    "</div>"
   ]
  },
  {
   "cell_type": "markdown",
   "metadata": {},
   "source": [
    "Lots of people wear glasses or contact lenses. Since the early 1990s, laser eye surgery has also been available for correcting vision problems. This specialized surgery uses a laser to reshape layers of the cornea to better focus light.\n",
    "\n",
    "Here's a video of how the surgery works."
   ]
  },
  {
   "cell_type": "code",
   "execution_count": 9,
   "metadata": {},
   "outputs": [
    {
     "data": {
      "text/html": [
       "<iframe width=\"672\" height=\"378\" src=\"https://www.youtube.com/embed/gQ_qMuP5itw?rel=0\" frameborder=\"0\" allow=\"autoplay; encrypted-media\" allowfullscreen></iframe>"
      ],
      "text/plain": [
       "<IPython.core.display.HTML object>"
      ]
     },
     "execution_count": 9,
     "metadata": {},
     "output_type": "execute_result"
    }
   ],
   "source": [
    "HTML('<iframe width=\"672\" height=\"378\" src=\"https://www.youtube.com/embed/gQ_qMuP5itw?rel=0\" frameborder=\"0\" allow=\"autoplay; encrypted-media\" allowfullscreen></iframe>')"
   ]
  },
  {
   "cell_type": "markdown",
   "metadata": {},
   "source": [
    "### How do Human Eyes Compare with Other Species?\n",
    "\n",
    "We talk about people with good eyesight having 'eagle eyes', or a camera having a 'fish-eye' lens. Also, if you've ever caught a fly and looked really close at its head, you've probably noticed that its eyes look very different from ours. So what's the difference between an animal's eyes and ours? Is anything the same?\n",
    "\n",
    "The biggest differences between human eyes and animal eyes are in the numbers and kinds of receptor cells in the retina. These receptor cells are called **photoreceptors** (*photo* means light).\n",
    "\n",
    "Some very cool comparisons of human eyes and other animals are made in this [MorgansLists blog post](http://morgana249.blogspot.com/2014/07/10-examples-of-how-animals-see-images.html). The author explains things clearly and has images of the comparisons that might surprise you.\n",
    "\n",
    "### Night Vision\n",
    "\n",
    "Here's a video that shows another interesting difference between our night vision and the night vision of animals."
   ]
  },
  {
   "cell_type": "code",
   "execution_count": 10,
   "metadata": {},
   "outputs": [
    {
     "data": {
      "text/html": [
       "<iframe width=\"672\" height=\"378\" src=\"https://www.youtube.com/embed/t3CjTU7TaNA?rel=0\" frameborder=\"0\" allow=\"autoplay; encrypted-media\" allowfullscreen></iframe>"
      ],
      "text/plain": [
       "<IPython.core.display.HTML object>"
      ]
     },
     "execution_count": 10,
     "metadata": {},
     "output_type": "execute_result"
    }
   ],
   "source": [
    "HTML('<iframe width=\"672\" height=\"378\" src=\"https://www.youtube.com/embed/t3CjTU7TaNA?rel=0\" frameborder=\"0\" allow=\"autoplay; encrypted-media\" allowfullscreen></iframe>')"
   ]
  },
  {
   "cell_type": "code",
   "execution_count": 11,
   "metadata": {},
   "outputs": [],
   "source": [
    "# frogmesh = trimesh.load('frogeye.stl')\n",
    "\n",
    "# frogmeshes = frogmesh.split()\n",
    "\n",
    "# frog_colors = ['#bf00ff', '#ff0000', '#ffffff', '#cccc00', '#66e0ff', '#ff0000', '#ffffff', '#cc0000']\n",
    "# frog = [makeMesh(f) for f in frogmeshes]\n",
    "\n",
    "# # Color the parts of the eye.\n",
    "# for i in range(len(frog)):\n",
    "#     frog[i].material = MeshLambertMaterial(color=frog_colors[i])\n",
    "\n",
    "# # Make the lens and cornea transparent.\n",
    "# frog[0].material = MeshLambertMaterial(color=frog_colors[0], transparent=True, opacity=0.5)\n",
    "# frog[4].material = MeshLambertMaterial(color=frog_colors[4], transparent=True, opacity=0.5)\n",
    "    \n",
    "# # Set up the scene.\n",
    "# key_light = DirectionalLight(position=[-60, 120, 30])\n",
    "# camera = PerspectiveCamera(position=[-150, 0, 120], up=[0, 1, 0], )\n",
    "# controller = OrbitControls(controlling=camera)\n",
    "\n",
    "# scene = Scene(children=[frog[0], camera, key_light, AmbientLight(color='#ffffff', intensity=0.25)], background=None)\n",
    "\n",
    "# # The renderer is what contains all members of the scene. Displaying this displays the scene.\n",
    "# renderer = Renderer(camera=camera, width = 540, height = 540,\n",
    "#                         scene=scene, controls=[controller],\n",
    "#                         alpha=True, clearOpacity=0)\n",
    "\n",
    "# scene.children += tuple([frog[i] for i in range(1,len(frog))])\n",
    "\n",
    "# frog_title = widgets.HTML(value = \"<h2 style='text-align: center'> Model of a Frog's Eye </h2>\", layout = widgets.Layout(width='550px'))\n",
    "\n",
    "# display(widgets.VBox(children=[frog_title, renderer]))"
   ]
  },
  {
   "cell_type": "markdown",
   "metadata": {},
   "source": [
    "## Questions"
   ]
  },
  {
   "cell_type": "code",
   "execution_count": 14,
   "metadata": {
    "scrolled": true
   },
   "outputs": [
    {
     "data": {
      "text/html": [
       "\n",
       "<style>\n",
       "body{\n",
       "    font-size: 20px;\n",
       "    font-family: sans-serif;\n",
       "    color: #333;\n",
       "}\n",
       "\n",
       ".question{\n",
       "    font-weight: 600;\n",
       "}\n",
       "\n",
       ".answers {\n",
       "  margin-bottom: 20px;\n",
       "}\n",
       "\n",
       ".answers label{\n",
       "  display: block;\n",
       "}\n",
       "\n",
       "#submit{\n",
       "    font-family: sans-serif;\n",
       "    font-size: 20px;\n",
       "    background-color: #279;\n",
       "    color: #fff;\n",
       "    border: 0px;\n",
       "    border-radius: 3px;\n",
       "    padding: 20px;\n",
       "    cursor: pointer;\n",
       "    margin-bottom: 20px;\n",
       "}\n",
       "\n",
       "#submit:hover{\n",
       "    background-color: #38a;\n",
       "}\n",
       "</style>\n",
       "\n",
       "<script src=\"scripts/questions.js\">\n",
       "</script>\n",
       "\n",
       "<div id=\"quiz\"></div>\n",
       "<button id=\"submit\">Submit Quiz</button>\n",
       "<div id=\"results\"></div>"
      ],
      "text/plain": [
       "<IPython.core.display.HTML object>"
      ]
     },
     "metadata": {},
     "output_type": "display_data"
    }
   ],
   "source": [
    "%%html\n",
    "\n",
    "<style>\n",
    "body{\n",
    "    font-size: 20px;\n",
    "    font-family: sans-serif;\n",
    "    color: #333;\n",
    "}\n",
    "\n",
    ".question{\n",
    "    font-weight: 600;\n",
    "}\n",
    "\n",
    ".answers {\n",
    "  margin-bottom: 20px;\n",
    "}\n",
    "\n",
    ".answers label{\n",
    "  display: block;\n",
    "}\n",
    "\n",
    "#submit{\n",
    "    font-family: sans-serif;\n",
    "    font-size: 20px;\n",
    "    background-color: #279;\n",
    "    color: #fff;\n",
    "    border: 0px;\n",
    "    border-radius: 3px;\n",
    "    padding: 20px;\n",
    "    cursor: pointer;\n",
    "    margin-bottom: 20px;\n",
    "}\n",
    "\n",
    "#submit:hover{\n",
    "    background-color: #38a;\n",
    "}\n",
    "</style>\n",
    "\n",
    "<script src=\"scripts/questions.js\">\n",
    "</script>\n",
    "\n",
    "<div id=\"quiz\"></div>\n",
    "<button id=\"submit\">Submit Quiz</button>\n",
    "<div id=\"results\"></div>"
   ]
  },
  {
   "cell_type": "markdown",
   "metadata": {},
   "source": [
    "<img src='images/callysto-bottom-banner.jpg'>"
   ]
  }
 ],
 "metadata": {
  "kernelspec": {
   "display_name": "Python 3",
   "language": "python",
   "name": "python3"
  },
  "language_info": {
   "codemirror_mode": {
    "name": "ipython",
    "version": 3
   },
   "file_extension": ".py",
   "mimetype": "text/x-python",
   "name": "python",
   "nbconvert_exporter": "python",
   "pygments_lexer": "ipython3",
   "version": "3.6.5"
  }
 },
 "nbformat": 4,
 "nbformat_minor": 2
}
