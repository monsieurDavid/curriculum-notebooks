{
 "cells": [
  {
   "cell_type": "markdown",
   "metadata": {},
   "source": [
    "<img src=\"https://callysto.ca/wp-content/uploads/2018/06/Callysto_Notebook-Banner_Top_06.06.18.jpg\" alt=\"Drawing\" style=\"width: 1800px;\"/>"
   ]
  },
  {
   "cell_type": "code",
   "execution_count": 15,
   "metadata": {},
   "outputs": [
    {
     "data": {
      "text/html": [
       "<script>requirejs.config({paths: { 'plotly': ['https://cdn.plot.ly/plotly-latest.min']},});if(!window.Plotly) {{require(['plotly'],function(plotly) {window.Plotly=plotly;});}}</script>"
      ],
      "text/vnd.plotly.v1+html": [
       "<script>requirejs.config({paths: { 'plotly': ['https://cdn.plot.ly/plotly-latest.min']},});if(!window.Plotly) {{require(['plotly'],function(plotly) {window.Plotly=plotly;});}}</script>"
      ]
     },
     "metadata": {},
     "output_type": "display_data"
    },
    {
     "data": {
      "text/html": [
       "<script>\n",
       "  function code_toggle() {\n",
       "    if (code_shown){\n",
       "      $('div.input').hide('500');\n",
       "      $('#toggleButton').val('Show Code')\n",
       "    } else {\n",
       "      $('div.input').show('500');\n",
       "      $('#toggleButton').val('Hide Code')\n",
       "    }\n",
       "    code_shown = !code_shown\n",
       "  }\n",
       "  \n",
       "  $( document ).ready(function(){\n",
       "    code_shown=false;\n",
       "    $('div.input').hide()\n",
       "  });\n",
       "</script>\n",
       "<form action=\"javascript:code_toggle()\"><input type=\"submit\" id=\"toggleButton\" value=\"Show Code\"></form>"
      ],
      "text/plain": [
       "<IPython.core.display.HTML object>"
      ]
     },
     "execution_count": 15,
     "metadata": {},
     "output_type": "execute_result"
    }
   ],
   "source": [
    "import matplotlib.pyplot as plt\n",
    "import plotly as py\n",
    "import plotly.graph_objs as go\n",
    "import numpy as np\n",
    "import math\n",
    "import ipywidgets as widgets\n",
    "from IPython.display import display, Math, Latex, HTML, IFrame\n",
    "from astropy.table import Table, Column\n",
    "from ipywidgets import interact, interactive\n",
    "\n",
    "py.offline.init_notebook_mode(connected=True)\n",
    "%matplotlib inline\n",
    "\n",
    "font = {'family' : 'sans-serif',\n",
    "        'weight' : 'normal',\n",
    "        'size'   : 14}\n",
    "\n",
    "plt.rc('font', **font)\n",
    "\n",
    "'''Above, we are importing all the necessary modules in order to run the notebook. \n",
    "Numpy allows us to define arrays of values for our variables to plot them\n",
    "matplotlib is what we use to create the figures\n",
    "the display and widgets are to make the notebook look neat\n",
    "'''\n",
    "\n",
    "HTML('''<script>\n",
    "  function code_toggle() {\n",
    "    if (code_shown){\n",
    "      $('div.input').hide('500');\n",
    "      $('#toggleButton').val('Show Code')\n",
    "    } else {\n",
    "      $('div.input').show('500');\n",
    "      $('#toggleButton').val('Hide Code')\n",
    "    }\n",
    "    code_shown = !code_shown\n",
    "  }\n",
    "  \n",
    "  $( document ).ready(function(){\n",
    "    code_shown=false;\n",
    "    $('div.input').hide()\n",
    "  });\n",
    "</script>\n",
    "<form action=\"javascript:code_toggle()\"><input type=\"submit\" id=\"toggleButton\" value=\"Show Code\"></form>''')\n",
    "        \n",
    "    "
   ]
  },
  {
   "cell_type": "markdown",
   "metadata": {},
   "source": [
    "***\n",
    "<h1><center>  ** The Nature of Alpha, Beta, and Gamma Radiation** </center></h1> \n",
    "***\n",
    "\n",
    "<img src=\"https://www.nasa.gov/sites/default/files/thumbnails/image/grb_shell_final.jpg\" alt=\"Drawing\" style=\"width: 750px;\"/>"
   ]
  },
  {
   "cell_type": "markdown",
   "metadata": {},
   "source": [
    "<center>*Image taken from https://www.nasa.gov/feature/goddard/nasas-swift-spots-its-thousandth-gamma-ray-burst, June 20th, 2018.*</center>\n",
    "<center> Figure 1: Understanding how certain types of radiation are created and how they affect their surroundings allows us to gather important information on objects in the universe. This image from NASA shows how a black hole can generate a wide variety of electromagnetic radiation.</center> \n",
    "***"
   ]
  },
  {
   "cell_type": "markdown",
   "metadata": {},
   "source": [
    "> # Introduction\n"
   ]
  },
  {
   "cell_type": "markdown",
   "metadata": {},
   "source": [
    "The term \"radiation\" can be used to describe a broad spectrum of physical phenomena. Generally speaking, **radiation** refers to the emission of energy from a source in the form of either a wave, or a particle, and the ways in which these emissions are generated can vary significantly. \n",
    "\n",
    "In our daily lives, we interact with many forms of **electromagnetic radiation** (EMR) without a second thought, whether it be radio, microwave, infrared or visible light. However, there are other forms of radiation that may be less noticeable to the average person. \n",
    "\n",
    "In this notebook we will talk about three types of **nuclear radiation**: **alpha radiation, beta radiation, and gamma radiation**. We will talk about how these types of radiation are generated, how they interact with nature and their surroundings, and some of their useful applications. The analysis of various types of radiation can provide scientists with new ways to understand how the universe operates, and can result in previously unknown applications that make our lives easier.\n",
    "***"
   ]
  },
  {
   "cell_type": "markdown",
   "metadata": {},
   "source": [
    "> # Background\n",
    "\n",
    "Let's begin by outlining the general difference between wave radiation and particle radiation.\n",
    "\n",
    "### Wave Radiation\n",
    "\n",
    "All wave type radiation is classified as EMR. Electromagnetic radiation can be described as an interplay between electric and magnetic fields, with each oscillating along planes that are perpendicular to one another. Take a look at the gif below for a better visualization of this phenomenon:\n",
    "\n",
    "<img src=\"http://www.ariel.ac.il/sites/cezar/ariel/ANIMATIONS/images/wave_movie.gif\" alt=\"Drawing\" style=\"width: 500px;\"/>\n",
    "<center>*Image taken from http://www.ariel.ac.il/sites/cezar/ariel/ANIMATIONS/physics3.html, June 20th, 2018.*</center>\n",
    "<center> Figure 2: As the name suggests, electromagnetic waves consist of both electric and magnetic fields that propagate perpendicularly to one another. </center>\n",
    "\n",
    "The **electromagnetic spectrum**, seen below, encompasses the frequency/wavelength range of all EMR, with higher energy waves on the left, and low energy waves on the right. \n",
    "\n",
    "<img src=\"https://sites.google.com/site/chempendix/_/rsrc/1472843490283/em-spectrum/SL_EMspectrum.jpg\" alt=\"Drawing\" style=\"width: 750px;\"/>\n",
    "<center>*Image taken from https://sites.google.com/site/chempendix/em-spectrum, June 20th, 2018.*</center>\n",
    "<center> Figure 3: The electromagnetic spectrum displays the full range of frequencies and wavelengths for all EMR. The spectrum is split into subsections to classify the individual types of EMR according to their frequency and wavelength.  </center>\n",
    "\n",
    "These waves are usually generated through interactions between subatomic particles within an atom. For example, visible light can be created when an electron changes energy levels within an atom. When an electron moves from a higher energy orbital to a lower energy orbital, the difference in energy is released as electromagnetic radiation. Take a look at the image below of the various energy levels within the hydrogen atom, and how these translate to specific forms of EMR.\n",
    "\n",
    "\n",
    "![Hydro_Energ](http://www.kcvs.ca/martin/astro/au/unit2/61/chp6_1_files/hydr1.gif)\n",
    "<center>*Image taken from http://www.kcvs.ca/martin/astro/au/unit2/61/chp6_1.html, June 20th, 2018.*</center>\n",
    "<center> Figure 4: This is a visual representation of the different energy transitions that an electron may undergo within a hydrogen atom. Each transition results in the emission or absorption of a specific wavelength of EMR.</center>\n",
    "\n",
    "Other high energy interactions within an atom will create waves with higher energy, and vice-versa. Later on, we will talk about some of the high energy processes that create gamma rays.\n",
    "\n",
    "### Particle Radiation\n",
    "\n",
    "On the other hand, particle radiation consists of one or more solid particles being ejected from an atom. These ejections can arise from the **radioactive decay** of an unstable nuclei, or from a reaction between two separate nuclei, such as a particle collision, or a fission/fusion reaction. \n",
    "\n",
    "The term **radioactive decay** refers to the process whereby a large atomic nucleus breaks down into a smaller, more stable nucleus. Radioactive decay occurs when the forces holding the nucleus together (the strong and weak nuclear forces) become overwhelmed by the forces pulling it apart. When this happens, the nucleus will eject one or many particles in order to become smaller, and more stable.\n",
    "\n",
    "Reactions such as **nuclear fission** and **nuclear fusion** can also create particle radiation. **Nuclear fission** is a type of nuclear reaction wherein the nucleus of an atom is forcibly split into two smaller nuclei, and **nuclear fusion** is the reverse: two smaller nuclei combine to form one larger nucleus. These processes require extreme conditions, vast amounts of energy, and can produce many different types of partical and wave radiation as a byproduct.  We won't go into much more detail about these processes, but here is a link to information on fission and fusion if you are interested: https://nuclear.duke-energy.com/2013/01/30/fission-vs-fusion-whats-the-difference.\n",
    "\n",
    "In either case, whether it be a nuclear reaction or radioactive decay, one or many subatomic particles (protons, neutrons, electrons, neutrinos etc.) may be sent flying away from an atom at a high velocity. By recognizing the particles that have been ejected, and by measuring the energy that they carry, scientists are able to determine the source of the radiation and the processes that caused it. \n",
    "\n",
    "\n",
    "<img src=\"http://static.messynessychic.com/wp-content/uploads/2017/01/neil-degrasse-tyson-super-k-.jpg\" alt=\"Drawing\" style=\"width: 750px;\"/>\n",
    "<center>*Image taken from http://www.messynessychic.com/2017/01/13/journey-to-the-centre-of-the-earth-in-a-rubber-dingy/, June 20th, 2018.*</center>\n",
    "<center> Figure 5: Here we see Dr. Neil deGrasse Tyson inside the Super-Kamiokande Neutrino Detector in Japan. This incredibly sensitive device recognizes neutrino radiation coming from across the universe, and measures their energy and trajectory to provide information on the objects that have sent them to us. </center>\n",
    "\n",
    "\n",
    "## Dangers of Radiation\n",
    "\n",
    "Whether it be from sci-fi movies or real life threats of nuclear war, you are probably familiar with the potential devastation that comes from certain forms of radiation. With all of this information, you may be wondering: how are invisible waves and tiny particles so dangerous? Well, the danger arises from the potential for radiation to ionize other atoms that they come into contact with. \n",
    "\n",
    "When atoms within a biological cell are ionized, the functionality of the cell can be disrupted. The cell may repair itself improperly, or die altogether. When this happens on an acute level, many health issues can arise, including cancer. Both particle and wave radiation have the potential to ionize atoms, but some forms of radiation are more dangerous than others, as we will see in the sections below.\n",
    "\n",
    "\n",
    "Now that you are more familiar with the differences between particle and wave radiation, let's get into the details of alpha, beta, and gamma radiation.\n",
    "    \n",
    "    "
   ]
  },
  {
   "cell_type": "markdown",
   "metadata": {},
   "source": [
    "## Alpha ($\\alpha$) Radiation\n",
    "\n",
    "**Alpha radiation**, also known as **alpha decay**, occurs when a large unstable atomic nucleus radioactively decays and ejects an **alpha particle**. An alpha particle consists of two neutrons and two protons, and is identical to the nucleus of a helium-4 atom."
   ]
  },
  {
   "cell_type": "markdown",
   "metadata": {},
   "source": [
    "### Creation\n",
    "The nucleus of an atom consists of protons and neutrons, which are bound together by the **strong nuclear force**. This force is very strong over small distances, but it is constantly in competition with the electromagnetic repulsion between the positively charged protons within the nucleus. \n",
    "\n",
    "In a large nucleus, the strong nuclear force can become overwhelmed by these electromagnetic repulsions, leading to the ejection of an alpha particle. By ejecting two protons and two neutrons, the nucleus loses two units of charge and the electromagnetic repulsions decrease in strength, lending more stability to the nucleus.\n",
    "\n",
    "After the nucleus ejects the alpha particle, it becomes an element with an atomic number two less, and an atomic mass four less than the original atom."
   ]
  },
  {
   "cell_type": "code",
   "execution_count": 16,
   "metadata": {
    "scrolled": false
   },
   "outputs": [
    {
     "data": {
      "text/html": [
       "\n",
       "        <iframe\n",
       "            width=\"850\"\n",
       "            height=\"250\"\n",
       "            src=\"CC-33-Radiation_Animations/Alpha_ani.html\"\n",
       "            frameborder=\"0\"\n",
       "            allowfullscreen\n",
       "        ></iframe>\n",
       "        "
      ],
      "text/plain": [
       "<IPython.lib.display.IFrame at 0x7f5190d93780>"
      ]
     },
     "execution_count": 16,
     "metadata": {},
     "output_type": "execute_result"
    }
   ],
   "source": [
    "IFrame('CC-33-Radiation_Animations/Alpha_ani.html',width=850,height=250)"
   ]
  },
  {
   "cell_type": "markdown",
   "metadata": {},
   "source": [
    "### Physical Properties\n",
    "\n",
    "The energy the alpha particle carries depends on the atom from which it came, with larger nuclei producing higher energy radiation. Due to the relatively large size of the alpha particle, and its positive charge, it usually does not travel very far before it interacts with some other form of matter. Therefore, we say that alpha radiation has a **low penetration**. In fact, alpha radiation can be blocked by only a few sheets of paper.\n",
    "If it is carrying a sufficient amount of energy, an alpha particle can ionize another atom upon contact. This is the inherent danger of radiation. \n",
    "\n",
    "### Biological Effects\n",
    "\n",
    "Due to its low penetration, alpha radiation has very little effect on biological matter when it originates from an external source. Most alpha particles will be stopped by thin clothing, or even dead skin cells. However, alpha radiation can become dangerous when it is contained within the body. The most common example of this is radon decay. \n",
    "The radioactive decay of heavy elements is a natural process that is constantly occuring in the Earth's crust. In the decay of uranium, a chain of elements are produced that eventually result in the formation of lead.\n",
    "\n",
    "<img src=\"http://nuclearsafety.gc.ca/images/fact-sheet-images/20120727-fs-fi-uranium-238-f1-eng.gif\" alt=\"Drawing\" style=\"width: 750px;\"/>\n",
    "<center>*Image taken from http://nuclearsafety.gc.ca/eng/resources/fact-sheets/polonium-210.cfm, June 20th, 2018.*</center>\n",
    "<center> Figure 6: This is the radioactive decay chain of Uranium-238, the most common isotope of uranium found in nature. As the element decays towards lead, different forms of radiation are produced. The rate at which this radiation is produced is determined by the half-life of each element. </center>\n",
    "\n",
    "During this process, a colorless, odourless gas called radon-222 is produced. Radon-222 has a relatively short half-life, meaning it is constantly decaying into polonium-218, and releasing alpha particles. When radon-222 is inhaled in high doses, the interaction between alpha particles and atoms of your body can lead to increased risk of lung cancer.\n",
    "\n",
    "\n",
    "## Beta ($\\beta$) Radiation\n",
    "\n",
    "**Beta radiation**, or **beta decay**, is another type of radioactive decay that results in the emission of a **beta particle** from the nucleus of an atom. A beta particle can be one of two things: an electron or a positron (a positively charged electron). \n",
    "Like alpha decay, beta decay is also the result of an unstable nucleus breaking down. However, unlike alpha decay, beta decay is a product of the **weak nuclear force**. \n",
    "\n",
    "The weak nuclear force acts on a subatomic level, between the quarks that compose protons and neutrons. We will not be discussing the weak nuclear force in detail here, but check out this link for more information: https://en.wikipedia.org/wiki/Weak_interaction#Interaction_types.\n",
    "\n",
    "### Creation\n",
    "There are two types of beta decay, known as $\\beta^-$ (beta minus) and $\\beta^+$ (beta plus) decay.\n",
    "\n",
    "### $\\beta^-$ Decay\n",
    "\n",
    "$\\beta^-$ decay typically occurs in a nucleus with a disproportionately high number of neutrons. In order to increase the stability of the nucleus, a neutron will change into a proton via the weak nuclear force, releasing an electron and an antineutrino in the process."
   ]
  },
  {
   "cell_type": "code",
   "execution_count": 9,
   "metadata": {},
   "outputs": [
    {
     "data": {
      "text/html": [
       "\n",
       "        <iframe\n",
       "            width=\"650\"\n",
       "            height=\"250\"\n",
       "            src=\"CC-33-Radiation_Animations/beta_m.html\"\n",
       "            frameborder=\"0\"\n",
       "            allowfullscreen\n",
       "        ></iframe>\n",
       "        "
      ],
      "text/plain": [
       "<IPython.lib.display.IFrame at 0x7f5190e59550>"
      ]
     },
     "execution_count": 9,
     "metadata": {},
     "output_type": "execute_result"
    }
   ],
   "source": [
    "IFrame('CC-33-Radiation_Animations/beta_m.html',width=650,height=250)"
   ]
  },
  {
   "cell_type": "markdown",
   "metadata": {},
   "source": [
    "### $\\beta^+$ Decay\n",
    "\n",
    "$\\beta^+$ decay will occur in a nucleus with a high number of protons. In contrast to $\\beta^-$ decay, a proton will change into a neutron, releasing a positron and a neutrino."
   ]
  },
  {
   "cell_type": "code",
   "execution_count": 10,
   "metadata": {},
   "outputs": [
    {
     "data": {
      "text/html": [
       "\n",
       "        <iframe\n",
       "            width=\"650\"\n",
       "            height=\"250\"\n",
       "            src=\"CC-33-Radiation_Animations/beta_plus.html\"\n",
       "            frameborder=\"0\"\n",
       "            allowfullscreen\n",
       "        ></iframe>\n",
       "        "
      ],
      "text/plain": [
       "<IPython.lib.display.IFrame at 0x7f5190d71b38>"
      ]
     },
     "execution_count": 10,
     "metadata": {},
     "output_type": "execute_result"
    }
   ],
   "source": [
    "IFrame('CC-33-Radiation_Animations/beta_plus.html',width=650,height=250)"
   ]
  },
  {
   "cell_type": "markdown",
   "metadata": {},
   "source": [
    "### Physical Properties\n",
    "\n",
    "A beta particle is significantly less massive than an alpha particle, and only carries 1 unit of charge. To compare, the mass of a beta particle is approximately 1/8000 the mass of an alpha particle. Their low mass enables them to travel at ultrarelativistic speeds (speeds nearing the speed of light). With a small size and low charge, they are able to travel longer distances before interacting with matter, lending them a higher penetrating power than alpha particles. Beta particles are able to travel into soft tissue from external sources, although they will be blocked by material such as plastic or aluminum.\n",
    "\n",
    "### Biological Effects\n",
    "\n",
    "Like alpha particles, beta radiation has the potential to ionize the atoms they contact. Due to its penetrative power, beta radiation can cause external burns, tissue damage, and acute radiation poisoning. Some of the most common beta emitters are carbon-14, and yttrium-90. \n",
    "\n",
    "You may be familiar with the process known as radiocarbon dating: the method through which we can determine the age of organic matter. Radiocarbon dating measures the amount of carbon-14 in a dead organic sample, and compares this amount to the expected amount present while the sample was still alive. Carbon-14 is constantly decaying and emitting beta particles at a rate governed by it's half-life of 5,730 years, so the difference between the original amount present in a living sample and the measured amount tells us exactly how long it has been since the sample died."
   ]
  },
  {
   "cell_type": "markdown",
   "metadata": {},
   "source": [
    "<img src=\"http://1.bp.blogspot.com/-q1KfOPVR0r8/VgHUXZrQ4bI/AAAAAAAACCc/O8N0eel3MsY/s1600/c14_3.jpg\" alt=\"Drawing\" style=\"width: 500px;\"/>\n",
    "<center>*Image taken from http://geologylearn.blogspot.com/2015/09/carbon-dating.html, July 4th, 2018.*</center>\n",
    "<center> Figure 7: Radiocardbon dating is the method that allows us to determine the age of fossils. </center>"
   ]
  },
  {
   "cell_type": "markdown",
   "metadata": {},
   "source": [
    "Yttrium-90 is another example of a useful beta emitter. Yttrium-90 is used to treat cancer patients via radiation therapy. This procedure involves bombarding acute areas of cancerous tumors with beta radiation, in hopes that the destructive nature of the radiation will eradicate the tumor. The side effects of this therapy are congruent with the symptoms of radiation poisoning, but it is often effective in improving the patients quality of life. \n",
    "\n",
    "## Gamma ($\\gamma$) Radiation\n",
    "\n",
    "**Gamma radiation** differs from both alpha and beta radiation in that it does not take the form of a particle, but is rather a type of high energy EMR. There are a few different processes that can produce gamma rays, but each requires an event that releases a large amount of energy.\n",
    "\n",
    "### Creation\n",
    "\n",
    "#### Particle Collisions\n",
    "\n",
    "When two particles carrying sufficient energy collide, they may create a gamma ray. The conditions creating such a collision are quite rare in the universe, and can only be created on Earth within particle accelerators or nuclear reactors.\n",
    "Out in the universe, there are objects that are capable of producing gamma rays due to the extreme nature of their conditions. Black holes, neutron stars, supernova and quasars are a few examples of objects that regularly emit gamma radiation. The unique conditions required to produce gamma radiation enable us to gather information on these objects by analyzing the radiation they send to us.\n",
    "\n",
    "#### Annihilation Reactions\n",
    "\n",
    "When a particle collides with its antiparticle, an **annihilation** reaction can occur. For example, if an electron collides with a positron, they transform into pure energy in the form of a gamma ray."
   ]
  },
  {
   "cell_type": "code",
   "execution_count": 11,
   "metadata": {},
   "outputs": [
    {
     "data": {
      "text/html": [
       "\n",
       "        <iframe\n",
       "            width=\"650\"\n",
       "            height=\"250\"\n",
       "            src=\"CC-33-Radiation_Animations/annihilation.html\"\n",
       "            frameborder=\"0\"\n",
       "            allowfullscreen\n",
       "        ></iframe>\n",
       "        "
      ],
      "text/plain": [
       "<IPython.lib.display.IFrame at 0x7f514e73c400>"
      ]
     },
     "execution_count": 11,
     "metadata": {},
     "output_type": "execute_result"
    }
   ],
   "source": [
    "IFrame('CC-33-Radiation_Animations/annihilation.html',width=650,height=250)"
   ]
  },
  {
   "cell_type": "markdown",
   "metadata": {},
   "source": [
    "Antimatter is not typically found on Earth under natural circumstances. It is often the byproduct of different nuclear reactions or particle collisions, and will not survive very long before undergoing an annihilation reaction.\n",
    "\n",
    "\n",
    "#### Particle Acceleration\n",
    "\n",
    "When a fast moving charged particle decelerates rapidly, this change in energy can be released in the form of a gamma ray. This phenomenon is also known as **bremsstrahlung** radiation. Bremsstrahlung will occur when a charged particle passes through an external electric or magnetic field at high velocity. The pull of the external field causes the particle to decelerate rapidly, and the kinetic energy that is lost is converted into radiation. When this energy differnce is large enough, gamma rays may be emitted."
   ]
  },
  {
   "cell_type": "code",
   "execution_count": 14,
   "metadata": {},
   "outputs": [
    {
     "data": {
      "text/html": [
       "\n",
       "        <iframe\n",
       "            width=\"650\"\n",
       "            height=\"550\"\n",
       "            src=\"CC-33-Radiation_Animations/bremsstra.html\"\n",
       "            frameborder=\"0\"\n",
       "            allowfullscreen\n",
       "        ></iframe>\n",
       "        "
      ],
      "text/plain": [
       "<IPython.lib.display.IFrame at 0x7f5190d71f98>"
      ]
     },
     "execution_count": 14,
     "metadata": {},
     "output_type": "execute_result"
    }
   ],
   "source": [
    "IFrame('CC-33-Radiation_Animations/bremsstra.html',width=650,height=550)"
   ]
  },
  {
   "cell_type": "markdown",
   "metadata": {},
   "source": [
    "### Physical Properties\n",
    "\n",
    "Gamma rays carry the most energy out of all types of EMR. Any photon carrying approximately 100 keV of energy or more is considered to be a gamma ray. As gamma rays carry no mass or charge, they have a penetrating power significantly higher than alpha or beta particles. Take a look at the image below to see a comparison between the three.\n",
    "\n",
    "<img src=\"http://www.frankswebspace.org.uk/ScienceAndMaths/physics/physicsGCE/images/penetration.jpg\" alt=\"Drawing\" style=\"width: 750px;\"/>\n",
    "<center>*Image taken from http://www.frankswebspace.org.uk/ScienceAndMaths/physics/physicsGCE/D1-3.htm, June 20th, 2018.*</center>\n",
    "<center> Figure 8: Gamma rays have a very high penetrative power, althouhg the liklihood of it being blocked increases with both the thickness and density of the material. </center>\n",
    "\n",
    "\n",
    "### Biological Effects\n",
    "\n",
    "The penetrative strength of gamma rays make them very dangerous to the human body. However, due to the rarity of their occurence, gamma rays should not be a major concern during your everyday life. Most gamma rays are blocked by the many layers of our atmosphere, and any gamma rays formed on Earth are usually held within the containers in which they were formed (nuclear reactors, particle accelerators etc.).  \n",
    " \n",
    "\n",
    "***\n",
    "\n",
    "\n",
    "## Conclusion\n",
    "\n",
    "Different forms of radiation can be both a useful tool, and a potential hazard. In any case, analyzing the properties of radiation allows us to determine the circumstances of its creation, and we use this information to learn about the objects that form it. There are fields of astronomy that are tailored to the analysis of specific forms of radiation, such as gamma, infrared, and radio, that unveil entirely new perspectives on various objects in the universe.\n",
    "\n",
    "\n",
    "<img src=\"http://cdn.eso.org/images/screen/eso1205d.jpg\" alt=\"Drawing\" style=\"width: 750px;\"/>\n",
    "<center>*Image taken from https://www.eso.org/public/images/eso1205d/, June 29th, 2018.*</center>\n",
    "<center> Figure 9: Above are two images of the Helix Nebula. The one on the left is an image captured using infrared light, while the one on the right is captured in visible light. </center>\n",
    "\n",
    "On the other hand, radiation can be used to cause widespread devastation. There are many areas in the world that are still unsafe due to the residual radiation caused by nuclear weapons, or nuclear waste. Therefore, it is important that the world becomes aware of the dangers associated with radiation."
   ]
  },
  {
   "cell_type": "markdown",
   "metadata": {},
   "source": [
    "<img src=\"https://callysto.ca/wp-content/uploads/2018/06/Callysto_Notebook-Banners_Bottom_06.06.18.jpg\" alt=\"Drawing\" style=\"width: 1800px;\"/>"
   ]
  }
 ],
 "metadata": {
  "kernelspec": {
   "display_name": "Python 3",
   "language": "python",
   "name": "python3"
  },
  "language_info": {
   "codemirror_mode": {
    "name": "ipython",
    "version": 3
   },
   "file_extension": ".py",
   "mimetype": "text/x-python",
   "name": "python",
   "nbconvert_exporter": "python",
   "pygments_lexer": "ipython3",
   "version": "3.6.5"
  }
 },
 "nbformat": 4,
 "nbformat_minor": 2
}
