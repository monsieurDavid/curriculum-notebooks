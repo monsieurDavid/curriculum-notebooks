{
 "cells": [
  {
   "cell_type": "code",
   "execution_count": null,
   "metadata": {},
   "outputs": [],
   "source": [
    "import matplotlib.pyplot as plt\n",
    "import plotly as py\n",
    "import plotly.graph_objs as go\n",
    "import numpy as np\n",
    "import math\n",
    "import ipywidgets as widgets\n",
    "from IPython.display import display, Math, Latex, HTML\n",
    "from astropy.table import Table, Column\n",
    "from ipywidgets import interact, interactive\n",
    "\n",
    "py.offline.init_notebook_mode(connected=True)\n",
    "%matplotlib inline\n",
    "\n",
    "font = {'family' : 'sans-serif',\n",
    "        'weight' : 'normal',\n",
    "        'size'   : 14}\n",
    "\n",
    "plt.rc('font', **font)\n",
    "\n"
   ]
  },
  {
   "cell_type": "markdown",
   "metadata": {},
   "source": [
    "***\n",
    "<h1><center>  ** The Nature of Alpha, Beta, and Gamma Radiation** </center></h1> \n",
    "***\n",
    "\n",
    "<img src=\"https://www.nasa.gov/sites/default/files/thumbnails/image/grb_shell_final.jpg\" alt=\"Drawing\" style=\"width: 750px;\"/>"
   ]
  },
  {
   "cell_type": "markdown",
   "metadata": {},
   "source": [
    "<center> Figure 1: Understanding how certain types of radiation are created and how they affect their surroundings can teach us many things about objects in the universe. This image from NASA shows how a black hole can generate a wide variety of electromagnetic radiation.</center> \n",
    "***"
   ]
  },
  {
   "cell_type": "markdown",
   "metadata": {},
   "source": [
    "> # Introduction\n"
   ]
  },
  {
   "cell_type": "markdown",
   "metadata": {},
   "source": [
    "The term \"radiation\" can be used to describe a broad spectrum of physical phenomena. Generally speaking, **radiation** refers to the emission of energy from a source in the form of either a wave, or a particle. The ways in which these emissions are generated vary significantly. In our daily lives, we interact with many forms of **electromagnetic radiation** (EMR) without a second thought: radio, microwave, infrared and visible light. However, there are other forms of radiation that may be less noticeable. \n",
    "In this notebook we will talk about three types of **nuclear radiation**: **alpha radiation, beta radiation, and gamma radiation**. We will talk about how these types of radiation are generated, how they interact with nature and their surroundings, and some of their useful applications. The analysis of various types of radiation can provide scientists with new ways to understand how the universe operates, and can result in previously unknown applications that make our lives easier.\n",
    "***"
   ]
  },
  {
   "cell_type": "markdown",
   "metadata": {},
   "source": [
    "> # Background\n",
    "\n",
    "Let's begin by outlining the general difference between wave radiation and particle radiation.\n",
    "\n",
    "### Wave Radiation\n",
    "\n",
    "All wave type radiation is classified as EMR. Electromagnetic radiation can be described as an interplay between electric and magnetic fields, with each oscillating along planes that are perpendicular to one another. Take a look at the gif below for a better visualization of this phenomenon:\n",
    "\n",
    "<img src=\"http://www.ariel.ac.il/sites/cezar/ariel/ANIMATIONS/images/wave_movie.gif\" alt=\"Drawing\" style=\"width: 500px;\"/>\n",
    "\n",
    "<center> Figure 2: As the name suggests, electromagnetic waves consist of both electric and magnetic waves that propagate perpendicularly to one another. </center>\n",
    "\n",
    "The **electromagnetic spectrum** encompasses the frequency/wavelength range of all EMR, with higher energy waves on the left, and low energy waves on the right. \n",
    "\n",
    "<img src=\"https://sites.google.com/site/chempendix/_/rsrc/1472843490283/em-spectrum/SL_EMspectrum.jpg\" alt=\"Drawing\" style=\"width: 750px;\"/>\n",
    "\n",
    "<center> Figure 3: The electromagnetic spectrum displays the full range of frequencies and wavelengths for all EMR. The spectrum is split into subsections to classify the individual types of EMR according to their frequency and wavelength.  </center>\n",
    "\n",
    "These waves are usually generated through interactions between subatomic particles within an atom. For example, visible light is created when an electron changes energy levels within an atom. When an electron moves from a higher energy orbital to a lower energy orbital, the difference in energy is released as electromagnetic radiation. Take a look at the image below of the various energy levels within the hydrogen atom, and how these translate to specific forms of EMR.\n",
    "\n",
    "\n",
    "![Hydro_Energ](http://www.kcvs.ca/martin/astro/au/unit2/61/chp6_1_files/hydr1.gif)\n",
    "<center> Figure 4: This is a visual representation of the different energy transitions that an electron may undergo within a hydrogen atom. Each transition results in the emission or absorption of a specific wavelength of EMR.</center>\n",
    "\n",
    "Other high energy interactions within an atom will create waves with higher energy, and vice-versa. Later on, we will talk about the high energy process that creates a gamma wave.\n",
    "\n",
    "### Particle Radiation\n",
    "\n",
    "On the other hand, particle radiation consists of one or more solid particles being ejected from an atom. These ejections can arise from the **radioactive decay** of an unstable nuclei, or from a reaction between two separate nuclei, such as a fission or fusion reaction. \n",
    "\n",
    "The term **radioactive decay** refers to the process whereby a large atomic nucleus breaks down into a smaller, more stable nucleus. Radioactive decay occurs when the forces holding a nucleus together (the strong and weak nuclear forces) are overwhelmed by the electromagnetic forces pulling it apart.\n",
    "ALSO TALK ABOUT WEAK INTERACTIONS\n",
    "\n",
    "Additionally, other nuclear reactions such as **fission** and **fusion** can create particle radiation. **Nuclear fission** is a type of nuclear reaction wherein the nucleus of an atom is forcibly split into two smaller nuclei, and **nuclear fusion** is the reverse: two smaller nuclei combine to form one larger nucleus. These processes require extreme conditions, vast amounts of energy, and can produce many different types of radiation.  We won't go into much more detail about these processes here, but here is a link to for information on fission and fusion if you are interested: https://nuclear.duke-energy.com/2013/01/30/fission-vs-fusion-whats-the-difference.\n",
    "\n",
    "In either case, whether it be a nuclear reaction or radioactive decay, one or many subatomic particles (protons, neutrons, electrons, neutrinos etc.) may be sent flying away from an atom at a high velocity. By recognizing the particles that have been ejected, and by measuring the energy that they carry, scientists are able to determine the source of the radiation and the processes that caused it. \n",
    "\n",
    "\n",
    "<img src=\"http://static.messynessychic.com/wp-content/uploads/2017/01/neil-degrasse-tyson-super-k-.jpg\" alt=\"Drawing\" style=\"width: 750px;\"/>\n",
    "\n",
    "<center> Figure 5: Here we see Dr. Neil deGrasse Tyson inside the Super-Kamiokande Neutrino Detector in Japan. This incredibly sensitive device recognizes neutrino radiation coming from across the universe, and measures their energy and trajectroy to provide information on the objects that have sent them to us. </center>\n",
    "\n",
    "Now that you are more familiar with the differences between particle and wave radiation, let's get into the details of alpha, beta, and gamma radiation.\n",
    "\n",
    "**Maybe mention wave-particle duality as an aside??????**\n",
    "    \n",
    "    "
   ]
  },
  {
   "cell_type": "markdown",
   "metadata": {},
   "source": [
    "\n",
    "\n",
    "## Alpha Radiation\n",
    "\n",
    "**Alpha radiation**, also known as **alpha decay**, occurs when a large unstable atomic nucleus radioactively decays and ejects an **alpha particle**. An alpha particle consists of two neutrons and two protons, and is identical to the nucleus of a helium-4 atom.  \n",
    "The nucleus of an atom consists of protons and neutrons, which are bound together by the **strong nuclear force**. This force is very strong over small distances, but it is constantly in competition with the electromagnetic repulsion between positively charged protons within the nucleus. In a large nucleus, the strong nuclear force can become overwhelmed by these electromagnetic repulsions, and thus, the nucleus may eject an alpha particle in order to increase stability.\n",
    "After the nucleus ejects the alpha particle, it becomes an element with an atomic number two less, and an atomic mass four less than the original atom.\n",
    "\n",
    "\n",
    "\n",
    "The energy the alpha particle carries depends on the atom from which it came. Larger nuclei will generally produce higher energy alpha radiation, but the typical range is between 3 and 7 MeV (for reference, an electron moving across a potential difference of 1.0 volt carries only 1.0 eV of energy). Due to the relatively large size of the alpha particle, and its positive charge, it usually does not travel very far before it interacts with some other form of matter. Therefore, we say that alpha radiation has a **low penetration**. In fact, alpha radiation can be blocked by only a few sheets of paper.\n",
    "\n",
    "\n",
    "## Beta Radiation\n",
    "\n",
    "**Beta radiation**, or **beta decay**, is another type of radioactive decay that results in the emission of a **beta particle** from the nucleus of an atom. A beta particle can be one of two things: an electron or a positron (a positively charged electron). Like alpha decay, beta decay is also the result of an unstable nucleus breaking down. However, unlike alpha decay, beta decay is a product of the **weak nuclear force**. **Talk about weak nuclear force????**\n",
    "\n",
    "There are two types of beta decay, known as $\\beta^-$ (beta minus) and $\\beta^+$ (beta plus) decay.\n",
    "\n",
    "### $\\beta^-$ Decay\n",
    "\n",
    "$\\beta^-$ decay typically occurs in a nucleus with a disproportionately high number of neutrons. In order to decrease this number, a neutron will change into proton, releasing an electron and an antineutrino in the process\n",
    "\n",
    "\n",
    "A beta particle is significantly less massive than an alpha particle, and only carries 1 unit of charge, so it has a higher penetrating power. However, a beta particle can still be blocked by material such as plastic.\n",
    "\n",
    "## Gamma Radiation\n",
    "\n",
    "**Gamma radiation** differs from both alpha and beta radiation in that it does not take the form of a particle, but is rather a type of high energy EMR. \n",
    "\n"
   ]
  },
  {
   "cell_type": "code",
   "execution_count": null,
   "metadata": {},
   "outputs": [],
   "source": []
  }
 ],
 "metadata": {
  "kernelspec": {
   "display_name": "Python 3",
   "language": "python",
   "name": "python3"
  },
  "language_info": {
   "codemirror_mode": {
    "name": "ipython",
    "version": 3
   },
   "file_extension": ".py",
   "mimetype": "text/x-python",
   "name": "python",
   "nbconvert_exporter": "python",
   "pygments_lexer": "ipython3",
   "version": "3.6.5"
  }
 },
 "nbformat": 4,
 "nbformat_minor": 2
}
